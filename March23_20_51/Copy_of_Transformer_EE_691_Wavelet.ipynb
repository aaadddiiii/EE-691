{
  "cells": [
    {
      "cell_type": "markdown",
      "metadata": {
        "id": "SoFPr16YTLRr"
      },
      "source": [
        "#Data Import\n"
      ],
      "id": "SoFPr16YTLRr"
    },
    {
      "cell_type": "code",
      "execution_count": null,
      "metadata": {
        "id": "83645d8b-566f-4056-89f7-e388a59e577a"
      },
      "outputs": [],
      "source": [
        "!pip install -q import_ipynb\n",
        "!pip install -q tensorflow_addons\n",
        "from google.colab import drive\n",
        "import sys\n",
        "import tensorflow as tf\n",
        "import tensorflow_addons as tfa\n",
        "from keras.models import Model\n",
        "from keras.layers import Input\n",
        "from tensorflow.keras.layers import Input, Conv1D, ReLU, BatchNormalization,\\\n",
        "                                    Add, AveragePooling2D, Flatten, Dense\n",
        "from tensorflow.keras.models import Model\n",
        "from keras.layers import Dense\n",
        "from keras.layers import Flatten\n",
        "import matplotlib.pyplot as plt\n",
        "plt.rcParams['font.size'] = '14'\n",
        "\n",
        "import import_ipynb\n",
        "from Analysis_branch import AnalysisBranch1D\n",
        "from Synthesis_Branch import SynthesisBranch1D\n",
        "from Summing_unit_for_synthesis import Add1D\n",
        "from Pywavelets import ImpulseRespones2BPRFB\n",
        "#from Trainable_1D_Conv import Conv1DBNMish"
      ],
      "id": "83645d8b-566f-4056-89f7-e388a59e577a"
    },
    {
      "cell_type": "code",
      "source": [
        "import keras\n",
        "from keras.layers import Activation\n",
        "from keras.applications.efficientnet import EfficientNetB3\n",
        "\n",
        "from keras.models import Model\n",
        "from keras.layers import Input, Dense, Flatten, Dropout\n",
        "from keras.callbacks import History \n",
        "\n",
        "import tensorflow as tf\n",
        "from tensorflow import keras\n",
        "from tensorflow.keras import layers\n"
      ],
      "metadata": {
        "id": "ak_uoksKuxDn"
      },
      "id": "ak_uoksKuxDn",
      "execution_count": null,
      "outputs": []
    },
    {
      "cell_type": "code",
      "execution_count": null,
      "metadata": {
        "id": "W6Ax5zdXMklu"
      },
      "outputs": [],
      "source": [
        "import torch\n",
        "import torchvision\n",
        "import torchvision.transforms as transforms\n",
        "import numpy as np\n",
        "import torch.nn as nn\n",
        "import torch.nn.functional as F\n",
        "import torchvision\n",
        "import torchvision.transforms as transforms\n",
        "from torchvision import datasets, transforms\n",
        "from torch.utils.data import Dataset, DataLoader\n",
        "\n",
        "import numpy as np\n",
        "import pandas as pd\n",
        "import matplotlib.pyplot as plt"
      ],
      "id": "W6Ax5zdXMklu"
    },
    {
      "cell_type": "code",
      "execution_count": null,
      "metadata": {
        "id": "U-dk5R_QTQJd"
      },
      "outputs": [],
      "source": [
        "\n",
        "training_data = pd.read_csv (r'training.csv')\n",
        "testing_data = pd.read_csv(r'testing.csv')\n"
      ],
      "id": "U-dk5R_QTQJd"
    },
    {
      "cell_type": "markdown",
      "metadata": {
        "id": "fbjdIYmFMZYf"
      },
      "source": [
        "# Data Preprocessing"
      ],
      "id": "fbjdIYmFMZYf"
    },
    {
      "cell_type": "code",
      "execution_count": null,
      "metadata": {
        "id": "ebwDaBY0lG72"
      },
      "outputs": [],
      "source": [
        "\n",
        "training_data = pd.read_csv (r'training.csv')\n",
        "testing_data = pd.read_csv(r'testing.csv')\n",
        "\n",
        "training_data = training_data[training_data[\"Temp\"].str.contains(\"  NaN\") == False]\n",
        "\n",
        "testing_data = testing_data[testing_data[\"Temp\"].str.contains(\"  NaN\") == False]\n",
        "testing_data = testing_data[testing_data[\"RH\"].str.contains(\"  NaN\") == False]\n",
        "\n",
        "# removing the date column\n",
        "training_data = training_data.iloc[: , 1:]\n",
        "training_data = training_data.dropna()\n",
        "\n",
        "testing_data = testing_data.iloc[: , 1:]\n",
        "testing_data = testing_data.dropna()\n",
        "\n",
        "# keeping the height and channels in x_train \n",
        "x_train = training_data.iloc[: , :23]\n",
        "x_train = x_train.reset_index()\n",
        "x_train = x_train.drop(columns=['index'])\n",
        "\n",
        "# keeping the weather parameters in y_train\n",
        "y_train = training_data.iloc[: , 23:]\n",
        "y_train = y_train.reset_index()\n",
        "y_train = y_train.drop(columns=['index'])\n",
        "\n",
        "\n",
        "# repeating same steps for test data\n",
        "x_test = testing_data.iloc[: , :23]\n",
        "x_test = x_test.reset_index()\n",
        "x_test = x_test.drop(columns=['index'])\n",
        "\n",
        "\n",
        "y_test = testing_data.iloc[: , 23:]\n",
        "y_test = y_test.reset_index()\n",
        "y_test = y_test.drop(columns=['index'])\n",
        "\n"
      ],
      "id": "ebwDaBY0lG72"
    },
    {
      "cell_type": "code",
      "execution_count": null,
      "metadata": {
        "id": "Tlw4Fnvf61yN"
      },
      "outputs": [],
      "source": [
        "\n",
        "# changing from pandas to numpy and dropping columns with NaN values\n",
        "x_train = x_train.to_numpy()\n",
        "y_train = y_train.to_numpy()\n",
        "indexList = [np.any(i) for i in np.isnan(x_train)]\n",
        "x_train = np.delete(x_train, indexList, axis=0)\n",
        "\n",
        "x_test = x_test.to_numpy()\n",
        "y_test = y_test.to_numpy()\n",
        "indexList = [np.any(i) for i in np.isnan(x_test)]\n",
        "x_test = np.delete(x_test, indexList, axis=0)"
      ],
      "id": "Tlw4Fnvf61yN"
    },
    {
      "cell_type": "code",
      "execution_count": null,
      "metadata": {
        "id": "K5_8iwwIlVHN"
      },
      "outputs": [],
      "source": [
        "# converting all values in array to float\n",
        "x_train = x_train.astype('float32')\n",
        "y_train = y_train.astype('float32')\n",
        "x_test = x_test.astype('float32')\n",
        "y_test = y_test.astype('float32')\n",
        "\n"
      ],
      "id": "K5_8iwwIlVHN"
    },
    {
      "cell_type": "code",
      "execution_count": null,
      "metadata": {
        "colab": {
          "base_uri": "https://localhost:8080/"
        },
        "id": "RippOHN-lc9y",
        "outputId": "51451d55-0023-445e-ee00-e5c890c295bd"
      },
      "outputs": [
        {
          "output_type": "stream",
          "name": "stdout",
          "text": [
            "(9389, 23)\n",
            "(9389, 3)\n",
            "(4258, 23)\n",
            "(4258, 3)\n"
          ]
        }
      ],
      "source": [
        "# the shape of all arrays can be now visualised\n",
        "print(x_train.shape)\n",
        "print(y_train.shape)\n",
        "print(x_test.shape)\n",
        "print(y_test.shape)"
      ],
      "id": "RippOHN-lc9y"
    },
    {
      "cell_type": "markdown",
      "metadata": {
        "id": "f7fc2dI62df7"
      },
      "source": [
        "# Model Creation"
      ],
      "id": "f7fc2dI62df7"
    },
    {
      "cell_type": "code",
      "execution_count": null,
      "metadata": {
        "id": "bD0KKoRfZXSX"
      },
      "outputs": [],
      "source": [
        "err = lambda xn, xn_hat:np.round(np.sum(abs((xn-xn_hat.T)[0]/xn))/len(xn) * 100,5)\n",
        "global h0n, h1n, g0n, g1n\n",
        "\n",
        "\n",
        "mother_wavelet = 'coif1'  # <<----\n",
        "\n",
        "w = ImpulseRespones2BPRFB(mother_wavelet)\n",
        "h0n, h1n = w.analysis()\n",
        "g0n, g1n = w.synthesis()\n",
        "\n",
        "filt_len = len(h0n)\n",
        "del w"
      ],
      "id": "bD0KKoRfZXSX"
    },
    {
      "cell_type": "code",
      "source": [
        "# define system parameters\n",
        "lr = 10e-4\n",
        "input_shape = 23,1\n",
        "bs = 300\n",
        "num_epochs = 1000\n",
        "val_split = 0.10\n"
      ],
      "metadata": {
        "id": "GFb9ZeRIvBFz"
      },
      "id": "GFb9ZeRIvBFz",
      "execution_count": null,
      "outputs": []
    },
    {
      "cell_type": "code",
      "source": [
        "\n",
        "\n",
        "# Define the input layer\n",
        "inputs = Input(input_shape)\n",
        "\n",
        "# Define the encoder layers\n",
        "encoder_block1 = layers.MultiHeadAttention(num_heads=18, key_dim=64, dropout=0.1)\n",
        "encoder_block2 = layers.MultiHeadAttention(num_heads=8, key_dim=64, dropout=0.3)\n",
        "encoder_block3 = layers.MultiHeadAttention(num_heads=8, key_dim=64, dropout=0.3)\n",
        "encoder_dense = layers.Dense(32, activation=lambda x: tfa.activations.mish(x))\n",
        "\n",
        "# Define the decoder layers\n",
        "decoder_block1 = layers.MultiHeadAttention(num_heads=18, key_dim=64, dropout=0.1)\n",
        "decoder_block2 = layers.MultiHeadAttention(num_heads=8, key_dim=64, dropout=0.2)\n",
        "decoder_block3 = layers.MultiHeadAttention(num_heads=8, key_dim=64, dropout=0.3)\n",
        "decoder_dense = layers.Dense(1, activation=lambda x: tfa.activations.mish(x))\n",
        "\n",
        "# Encode the input sequence\n",
        "encoded = encoder_block1(inputs, inputs)\n",
        "encoded = encoder_block2(encoded, encoded)\n",
        "encoded = encoder_block3(encoded, encoded)\n",
        "encoded = encoder_dense(encoded)\n",
        "\n",
        "# Decode the hidden representation\n",
        "decoded = decoder_block1(encoded, encoded)\n",
        "decoded = decoder_block2(decoded, encoded)\n",
        "decoded = decoder_block3(decoded, encoded)\n",
        "decoded = decoder_dense(decoded)\n",
        "# output=Flatten()(decoded)\n",
        "# output=Dense(1)(output)\n",
        "\n",
        "# Define the model\n",
        "model = keras.Model(inputs=inputs, outputs=decoded)\n",
        "\n",
        "# Compile the model\n",
        "model.compile(optimizer=keras.optimizers.Adam(learning_rate=lr), loss=\"MeanSquaredError\", metrics=[\"accuracy\"])\n",
        "model.summary()"
      ],
      "metadata": {
        "id": "ajUPJOLbZww0",
        "colab": {
          "base_uri": "https://localhost:8080/"
        },
        "outputId": "38fc9b59-40d3-46aa-8ef0-ef383764fe9a"
      },
      "id": "ajUPJOLbZww0",
      "execution_count": null,
      "outputs": [
        {
          "output_type": "stream",
          "name": "stdout",
          "text": [
            "Model: \"model_7\"\n",
            "__________________________________________________________________________________________________\n",
            " Layer (type)                   Output Shape         Param #     Connected to                     \n",
            "==================================================================================================\n",
            " input_12 (InputLayer)          [(None, 23, 1)]      0           []                               \n",
            "                                                                                                  \n",
            " multi_head_attention_26 (Multi  (None, 23, 1)       8065        ['input_12[0][0]',               \n",
            " HeadAttention)                                                   'input_12[0][0]']               \n",
            "                                                                                                  \n",
            " multi_head_attention_27 (Multi  (None, 23, 1)       3585        ['multi_head_attention_26[0][0]',\n",
            " HeadAttention)                                                   'multi_head_attention_26[0][0]']\n",
            "                                                                                                  \n",
            " multi_head_attention_28 (Multi  (None, 23, 1)       3585        ['multi_head_attention_27[0][0]',\n",
            " HeadAttention)                                                   'multi_head_attention_27[0][0]']\n",
            "                                                                                                  \n",
            " dense_10 (Dense)               (None, 23, 32)       64          ['multi_head_attention_28[0][0]']\n",
            "                                                                                                  \n",
            " multi_head_attention_29 (Multi  (None, 23, 32)      150944      ['dense_10[0][0]',               \n",
            " HeadAttention)                                                   'dense_10[0][0]']               \n",
            "                                                                                                  \n",
            " multi_head_attention_30 (Multi  (None, 23, 32)      67104       ['multi_head_attention_29[0][0]',\n",
            " HeadAttention)                                                   'dense_10[0][0]']               \n",
            "                                                                                                  \n",
            " multi_head_attention_31 (Multi  (None, 23, 32)      67104       ['multi_head_attention_30[0][0]',\n",
            " HeadAttention)                                                   'dense_10[0][0]']               \n",
            "                                                                                                  \n",
            " dense_11 (Dense)               (None, 23, 1)        33          ['multi_head_attention_31[0][0]']\n",
            "                                                                                                  \n",
            "==================================================================================================\n",
            "Total params: 300,484\n",
            "Trainable params: 300,484\n",
            "Non-trainable params: 0\n",
            "__________________________________________________________________________________________________\n"
          ]
        }
      ]
    },
    {
      "cell_type": "code",
      "execution_count": null,
      "metadata": {
        "id": "q-J0kvt35Dn8"
      },
      "outputs": [],
      "source": [
        "encoder_block1 = layers.MultiHeadAttention(num_heads=18, key_dim=64, dropout=0.1)\n",
        "decoder_block1 = layers.MultiHeadAttention(num_heads=18, key_dim=64, dropout=0.1)\n",
        "\n",
        "\n",
        "lstm1 = tf.keras.layers.LSTM(50,return_sequences=True)\n",
        "lstm2 = tf.keras.layers.LSTM(50,return_sequences=True)\n",
        "gru = tf.keras.layers.GRU(50,return_sequences=True)\n",
        "\n",
        "\n",
        "def Conv1Duser(inputs:tf) -> tf:\n",
        "    cnn_layer = tf.keras.layers.Conv1D(filters=1,kernel_size=30,padding='same')\n",
        "    inputs = cnn_layer(inputs)\n",
        "    x = BatchNormalization()(inputs)\n",
        "    return tfa.activations.mish(x)\n",
        "\n",
        "def Conv1Duser_2(inputs:tf) -> tf:\n",
        "    cnn_layer = tf.keras.layers.Conv1D(filters=1,kernel_size=25,padding='same')\n",
        "    inputs = cnn_layer(inputs)\n",
        "    x = BatchNormalization()(inputs)\n",
        "    return tfa.activations.mish(x)\n",
        "\n",
        "def dwt_2BPRFB(input_shape:tuple):\n",
        "    \n",
        "    global h0n, h1n, g0n, g1n\n",
        "\n",
        "    inputs = Input(input_shape)\n",
        "    inputs = encoder_block1(inputs, inputs)\n",
        "\n",
        "    ##Analysis FB\n",
        "    Ψ1 = AnalysisBranch1D(h1n)(inputs)\n",
        "    ϕ1 = AnalysisBranch1D(h0n)(inputs)\n",
        "    \n",
        "    T1 = lstm1(ϕ1)\n",
        "    \n",
        "    #T1=Conv1Duser(ϕ1)\n",
        "    T1 = gru(T1)\n",
        "    T1 = lstm1(ϕ1)\n",
        "    Temp=tf.concat([T1,Ψ1],2)\n",
        "  \n",
        "    #T2=Conv1Duser(Temp)\n",
        "    T2 = lstm2(Temp)\n",
        "    T2 = lstm2(Temp)\n",
        "\n",
        "\n",
        "    #T2=Conv1Duser(Ψ1)\n",
        "    Temp2=tf.concat([T1,T2],2)\n",
        "\n",
        "    output=Conv1Duser_2(Temp2)\n",
        "    output = decoder_block1(output,output)\n",
        "    output=Flatten()(output)\n",
        "    output=Dense(1)(output)\n",
        "\n",
        "    ##Synthesis FB\n",
        "    #p_part1 = SynthesisBranch1D(g1n)(T2)\n",
        "    #p_part2 = SynthesisBranch1D(g0n)(T1)\n",
        "    #output = Add1D(g0n)([p_part1, p_part2])\n",
        "\n",
        "    model = Model(inputs=inputs, outputs=output)\n",
        "    model.summary()\n",
        "    \n",
        "    return model"
      ],
      "id": "q-J0kvt35Dn8"
    },
    {
      "cell_type": "code",
      "execution_count": null,
      "metadata": {
        "colab": {
          "base_uri": "https://localhost:8080/"
        },
        "id": "CvCS7kUR1nUr",
        "outputId": "7d83ed52-ba81-4b7e-99de-ca8536622bd9"
      },
      "outputs": [
        {
          "output_type": "stream",
          "name": "stdout",
          "text": [
            "Model: \"model_12\"\n",
            "__________________________________________________________________________________________________\n",
            " Layer (type)                   Output Shape         Param #     Connected to                     \n",
            "==================================================================================================\n",
            " input_22 (InputLayer)          [(None, 23, 1)]      0           []                               \n",
            "                                                                                                  \n",
            " analysis_branch1d_17 (Analysis  (None, 14, 1)       7           ['input_22[0][0]']               \n",
            " Branch1D)                                                                                        \n",
            "                                                                                                  \n",
            " lstm_16 (LSTM)                 (None, 14, 50)       10400       ['analysis_branch1d_17[1][0]']   \n",
            "                                                                                                  \n",
            " analysis_branch1d_16 (Analysis  (None, 14, 1)       7           ['input_22[0][0]']               \n",
            " Branch1D)                                                                                        \n",
            "                                                                                                  \n",
            " tf.concat_16 (TFOpLambda)      (None, 14, 51)       0           ['lstm_16[2][0]',                \n",
            "                                                                  'analysis_branch1d_16[1][0]']   \n",
            "                                                                                                  \n",
            " lstm_17 (LSTM)                 (None, 14, 50)       20400       ['tf.concat_16[1][0]']           \n",
            "                                                                                                  \n",
            " tf.concat_17 (TFOpLambda)      (None, 14, 100)      0           ['lstm_16[2][0]',                \n",
            "                                                                  'lstm_17[2][0]']                \n",
            "                                                                                                  \n",
            " conv1d_8 (Conv1D)              (None, 14, 1)        2501        ['tf.concat_17[1][0]']           \n",
            "                                                                                                  \n",
            " batch_normalization_8 (BatchNo  (None, 14, 1)       4           ['conv1d_8[1][0]']               \n",
            " rmalization)                                                                                     \n",
            "                                                                                                  \n",
            " tf.convert_to_tensor_8 (TFOpLa  (None, 14, 1)       0           ['batch_normalization_8[1][0]']  \n",
            " mbda)                                                                                            \n",
            "                                                                                                  \n",
            " tf.math.softplus_8 (TFOpLambda  (None, 14, 1)       0           ['tf.convert_to_tensor_8[1][0]'] \n",
            " )                                                                                                \n",
            "                                                                                                  \n",
            " tf.math.tanh_8 (TFOpLambda)    (None, 14, 1)        0           ['tf.math.softplus_8[1][0]']     \n",
            "                                                                                                  \n",
            " tf.math.multiply_8 (TFOpLambda  (None, 14, 1)       0           ['tf.convert_to_tensor_8[1][0]', \n",
            " )                                                                'tf.math.tanh_8[1][0]']         \n",
            "                                                                                                  \n",
            " multi_head_attention_39 (Multi  (None, 14, 1)       8065        ['tf.math.multiply_8[1][0]',     \n",
            " HeadAttention)                                                   'tf.math.multiply_8[1][0]']     \n",
            "                                                                                                  \n",
            " flatten_8 (Flatten)            (None, 14)           0           ['multi_head_attention_39[1][0]']\n",
            "                                                                                                  \n",
            " dense_16 (Dense)               (None, 1)            15          ['flatten_8[1][0]']              \n",
            "                                                                                                  \n",
            "==================================================================================================\n",
            "Total params: 41,399\n",
            "Trainable params: 41,383\n",
            "Non-trainable params: 16\n",
            "__________________________________________________________________________________________________\n"
          ]
        }
      ],
      "source": [
        "model = dwt_2BPRFB(input_shape)\n",
        "\n",
        "model.compile(optimizer=keras.optimizers.Adam(learning_rate=lr), loss='MeanSquaredError', metrics=['accuracy'])\n"
      ],
      "id": "CvCS7kUR1nUr"
    },
    {
      "cell_type": "code",
      "execution_count": null,
      "metadata": {
        "colab": {
          "base_uri": "https://localhost:8080/"
        },
        "id": "_cSynwTz4OPI",
        "outputId": "f1eb9068-81ad-4280-ebdf-bdec19eb2505"
      },
      "outputs": [
        {
          "output_type": "stream",
          "name": "stdout",
          "text": [
            "(9389, 23, 1)\n",
            "(9389, 1)\n"
          ]
        }
      ],
      "source": [
        "'''\n",
        "k_band = RH         First 8 features + height\n",
        "v_band = Temp       Last 14 features + height\n",
        "'''\n",
        "\n",
        "x_fit = tf.constant(x_train, dtype=tf.float32, name='x_train')\n",
        "x_fit = tf.reshape(x_fit, [len(x_fit),len(x_fit[0]), 1])\n",
        "\n",
        "y_fit = tf.constant(y_train[:,2], dtype=tf.float32, name='y_train')\n",
        "y_fit.shape[0]\n",
        "y_fit = tf.reshape(y_fit, [9389,1])\n",
        "\n",
        "print(x_fit.shape)\n",
        "print(y_fit.shape)\n"
      ],
      "id": "_cSynwTz4OPI"
    },
    {
      "cell_type": "markdown",
      "metadata": {
        "id": "ruk-3EumbkfD"
      },
      "source": [
        "# Training"
      ],
      "id": "ruk-3EumbkfD"
    },
    {
      "cell_type": "code",
      "execution_count": null,
      "metadata": {
        "id": "pzIPqYMQ4oW0",
        "colab": {
          "base_uri": "https://localhost:8080/"
        },
        "outputId": "2d6189b7-6532-4512-e8fb-3e4d76e93ecd"
      },
      "outputs": [
        {
          "output_type": "stream",
          "name": "stdout",
          "text": [
            "Epoch 1/1000\n",
            "29/29 [==============================] - 9s 79ms/step - loss: 4186.8267 - accuracy: 0.0000e+00 - val_loss: 2358.1128 - val_accuracy: 0.0000e+00\n",
            "Epoch 2/1000\n",
            "29/29 [==============================] - 1s 21ms/step - loss: 3348.3342 - accuracy: 1.1834e-04 - val_loss: 1853.0459 - val_accuracy: 0.0000e+00\n",
            "Epoch 3/1000\n",
            "29/29 [==============================] - 1s 23ms/step - loss: 893.2360 - accuracy: 1.1834e-04 - val_loss: 360.0301 - val_accuracy: 0.0000e+00\n",
            "Epoch 4/1000\n",
            "29/29 [==============================] - 1s 23ms/step - loss: 288.3271 - accuracy: 1.1834e-04 - val_loss: 336.6565 - val_accuracy: 0.0000e+00\n",
            "Epoch 5/1000\n",
            "29/29 [==============================] - 1s 23ms/step - loss: 263.4538 - accuracy: 1.1834e-04 - val_loss: 337.6046 - val_accuracy: 0.0000e+00\n",
            "Epoch 6/1000\n",
            "29/29 [==============================] - 1s 23ms/step - loss: 257.9835 - accuracy: 1.1834e-04 - val_loss: 307.6566 - val_accuracy: 0.0000e+00\n",
            "Epoch 7/1000\n",
            "29/29 [==============================] - 1s 21ms/step - loss: 255.2203 - accuracy: 1.1834e-04 - val_loss: 384.9073 - val_accuracy: 0.0000e+00\n",
            "Epoch 8/1000\n",
            "29/29 [==============================] - 1s 21ms/step - loss: 250.5610 - accuracy: 1.1834e-04 - val_loss: 308.0318 - val_accuracy: 0.0000e+00\n",
            "Epoch 9/1000\n",
            "29/29 [==============================] - 1s 20ms/step - loss: 249.0439 - accuracy: 1.1834e-04 - val_loss: 311.6591 - val_accuracy: 0.0000e+00\n",
            "Epoch 10/1000\n",
            "29/29 [==============================] - 1s 19ms/step - loss: 246.7065 - accuracy: 1.1834e-04 - val_loss: 296.2566 - val_accuracy: 0.0000e+00\n",
            "Epoch 11/1000\n",
            "29/29 [==============================] - 1s 22ms/step - loss: 244.7479 - accuracy: 1.1834e-04 - val_loss: 351.8495 - val_accuracy: 0.0000e+00\n",
            "Epoch 12/1000\n",
            "29/29 [==============================] - 1s 20ms/step - loss: 241.5763 - accuracy: 1.1834e-04 - val_loss: 318.3493 - val_accuracy: 0.0000e+00\n",
            "Epoch 13/1000\n",
            "29/29 [==============================] - 1s 19ms/step - loss: 241.9629 - accuracy: 1.1834e-04 - val_loss: 515.7620 - val_accuracy: 0.0000e+00\n",
            "Epoch 14/1000\n",
            "29/29 [==============================] - 1s 20ms/step - loss: 242.4441 - accuracy: 1.1834e-04 - val_loss: 320.7867 - val_accuracy: 0.0000e+00\n",
            "Epoch 15/1000\n",
            "29/29 [==============================] - 1s 19ms/step - loss: 240.7697 - accuracy: 1.1834e-04 - val_loss: 785.8701 - val_accuracy: 0.0000e+00\n",
            "Epoch 16/1000\n",
            "29/29 [==============================] - 1s 21ms/step - loss: 238.6829 - accuracy: 1.1834e-04 - val_loss: 282.2524 - val_accuracy: 0.0000e+00\n",
            "Epoch 17/1000\n",
            "29/29 [==============================] - 1s 21ms/step - loss: 240.5815 - accuracy: 1.1834e-04 - val_loss: 307.9359 - val_accuracy: 0.0000e+00\n",
            "Epoch 18/1000\n",
            "29/29 [==============================] - 1s 19ms/step - loss: 236.9501 - accuracy: 1.1834e-04 - val_loss: 278.9523 - val_accuracy: 0.0000e+00\n",
            "Epoch 19/1000\n",
            "29/29 [==============================] - 1s 20ms/step - loss: 237.7758 - accuracy: 1.1834e-04 - val_loss: 304.3122 - val_accuracy: 0.0000e+00\n",
            "Epoch 20/1000\n",
            "29/29 [==============================] - 1s 20ms/step - loss: 244.0574 - accuracy: 1.1834e-04 - val_loss: 1218.3322 - val_accuracy: 0.0000e+00\n",
            "Epoch 21/1000\n",
            "29/29 [==============================] - 1s 20ms/step - loss: 237.4530 - accuracy: 1.1834e-04 - val_loss: 531.8677 - val_accuracy: 0.0000e+00\n",
            "Epoch 22/1000\n",
            "29/29 [==============================] - 1s 19ms/step - loss: 232.7029 - accuracy: 1.1834e-04 - val_loss: 285.9233 - val_accuracy: 0.0000e+00\n",
            "Epoch 23/1000\n",
            "29/29 [==============================] - 1s 21ms/step - loss: 228.9035 - accuracy: 1.1834e-04 - val_loss: 303.6150 - val_accuracy: 0.0000e+00\n",
            "Epoch 24/1000\n",
            "29/29 [==============================] - 1s 22ms/step - loss: 229.5631 - accuracy: 1.1834e-04 - val_loss: 317.0873 - val_accuracy: 0.0000e+00\n",
            "Epoch 25/1000\n",
            "29/29 [==============================] - 1s 23ms/step - loss: 227.5214 - accuracy: 1.1834e-04 - val_loss: 610.3753 - val_accuracy: 0.0000e+00\n",
            "Epoch 26/1000\n",
            "29/29 [==============================] - 1s 24ms/step - loss: 227.4570 - accuracy: 1.1834e-04 - val_loss: 281.1292 - val_accuracy: 0.0000e+00\n",
            "Epoch 27/1000\n",
            "29/29 [==============================] - 1s 22ms/step - loss: 223.0049 - accuracy: 1.1834e-04 - val_loss: 448.9237 - val_accuracy: 0.0000e+00\n",
            "Epoch 28/1000\n",
            "29/29 [==============================] - 1s 21ms/step - loss: 221.2453 - accuracy: 1.1834e-04 - val_loss: 1273.7717 - val_accuracy: 0.0000e+00\n",
            "Epoch 29/1000\n",
            "29/29 [==============================] - 1s 20ms/step - loss: 227.6387 - accuracy: 1.1834e-04 - val_loss: 1293.2223 - val_accuracy: 0.0000e+00\n",
            "Epoch 30/1000\n",
            "29/29 [==============================] - 1s 21ms/step - loss: 221.0961 - accuracy: 1.1834e-04 - val_loss: 1123.4749 - val_accuracy: 0.0000e+00\n",
            "Epoch 31/1000\n",
            "29/29 [==============================] - 1s 20ms/step - loss: 218.6788 - accuracy: 1.1834e-04 - val_loss: 653.4130 - val_accuracy: 0.0000e+00\n",
            "Epoch 32/1000\n",
            "29/29 [==============================] - 1s 21ms/step - loss: 214.2031 - accuracy: 1.1834e-04 - val_loss: 277.9282 - val_accuracy: 0.0000e+00\n",
            "Epoch 33/1000\n",
            "29/29 [==============================] - 1s 20ms/step - loss: 215.2455 - accuracy: 1.1834e-04 - val_loss: 262.7850 - val_accuracy: 0.0000e+00\n",
            "Epoch 34/1000\n",
            "29/29 [==============================] - 1s 20ms/step - loss: 218.5338 - accuracy: 1.1834e-04 - val_loss: 1134.3365 - val_accuracy: 0.0000e+00\n",
            "Epoch 35/1000\n",
            "29/29 [==============================] - 1s 20ms/step - loss: 216.3799 - accuracy: 1.1834e-04 - val_loss: 488.1425 - val_accuracy: 0.0000e+00\n",
            "Epoch 36/1000\n",
            "29/29 [==============================] - 1s 22ms/step - loss: 208.9739 - accuracy: 1.1834e-04 - val_loss: 770.6091 - val_accuracy: 0.0000e+00\n",
            "Epoch 37/1000\n",
            "29/29 [==============================] - 1s 22ms/step - loss: 207.2583 - accuracy: 1.1834e-04 - val_loss: 1626.1528 - val_accuracy: 0.0000e+00\n",
            "Epoch 38/1000\n",
            "29/29 [==============================] - 1s 22ms/step - loss: 212.9956 - accuracy: 1.1834e-04 - val_loss: 266.1643 - val_accuracy: 0.0000e+00\n",
            "Epoch 39/1000\n",
            "29/29 [==============================] - 1s 21ms/step - loss: 208.9446 - accuracy: 1.1834e-04 - val_loss: 1974.9203 - val_accuracy: 0.0000e+00\n",
            "Epoch 40/1000\n",
            "29/29 [==============================] - 1s 22ms/step - loss: 204.4283 - accuracy: 1.1834e-04 - val_loss: 262.3876 - val_accuracy: 0.0000e+00\n",
            "Epoch 41/1000\n",
            "29/29 [==============================] - 1s 21ms/step - loss: 211.0354 - accuracy: 1.1834e-04 - val_loss: 348.5642 - val_accuracy: 0.0000e+00\n",
            "Epoch 42/1000\n",
            "29/29 [==============================] - 1s 22ms/step - loss: 202.7659 - accuracy: 1.1834e-04 - val_loss: 253.2223 - val_accuracy: 0.0000e+00\n",
            "Epoch 43/1000\n",
            "29/29 [==============================] - 1s 21ms/step - loss: 201.8845 - accuracy: 1.1834e-04 - val_loss: 356.6396 - val_accuracy: 0.0000e+00\n",
            "Epoch 44/1000\n",
            "29/29 [==============================] - 1s 24ms/step - loss: 201.6979 - accuracy: 1.1834e-04 - val_loss: 293.8073 - val_accuracy: 0.0000e+00\n",
            "Epoch 45/1000\n",
            "29/29 [==============================] - 1s 24ms/step - loss: 198.4037 - accuracy: 1.1834e-04 - val_loss: 337.4641 - val_accuracy: 0.0000e+00\n",
            "Epoch 46/1000\n",
            "29/29 [==============================] - 1s 24ms/step - loss: 196.5858 - accuracy: 1.1834e-04 - val_loss: 538.6036 - val_accuracy: 0.0000e+00\n",
            "Epoch 47/1000\n",
            "29/29 [==============================] - 1s 26ms/step - loss: 197.8975 - accuracy: 1.1834e-04 - val_loss: 460.8646 - val_accuracy: 0.0000e+00\n",
            "Epoch 48/1000\n",
            "29/29 [==============================] - 1s 23ms/step - loss: 194.6833 - accuracy: 1.1834e-04 - val_loss: 210.4941 - val_accuracy: 0.0000e+00\n",
            "Epoch 49/1000\n",
            "29/29 [==============================] - 1s 20ms/step - loss: 194.5554 - accuracy: 1.1834e-04 - val_loss: 263.3890 - val_accuracy: 0.0000e+00\n",
            "Epoch 50/1000\n",
            "29/29 [==============================] - 1s 21ms/step - loss: 202.1156 - accuracy: 1.1834e-04 - val_loss: 336.1271 - val_accuracy: 0.0000e+00\n",
            "Epoch 51/1000\n",
            "29/29 [==============================] - 1s 20ms/step - loss: 191.7231 - accuracy: 1.1834e-04 - val_loss: 234.3968 - val_accuracy: 0.0000e+00\n",
            "Epoch 52/1000\n",
            "29/29 [==============================] - 1s 19ms/step - loss: 190.6875 - accuracy: 1.1834e-04 - val_loss: 476.6215 - val_accuracy: 0.0000e+00\n",
            "Epoch 53/1000\n",
            "29/29 [==============================] - 1s 21ms/step - loss: 197.0101 - accuracy: 1.1834e-04 - val_loss: 667.0048 - val_accuracy: 0.0000e+00\n",
            "Epoch 54/1000\n",
            "29/29 [==============================] - 1s 20ms/step - loss: 193.0648 - accuracy: 1.1834e-04 - val_loss: 276.2790 - val_accuracy: 0.0000e+00\n",
            "Epoch 55/1000\n",
            "29/29 [==============================] - 1s 21ms/step - loss: 195.6660 - accuracy: 1.1834e-04 - val_loss: 249.9208 - val_accuracy: 0.0000e+00\n",
            "Epoch 56/1000\n",
            "29/29 [==============================] - 1s 23ms/step - loss: 194.6042 - accuracy: 1.1834e-04 - val_loss: 608.5115 - val_accuracy: 0.0000e+00\n",
            "Epoch 57/1000\n",
            "29/29 [==============================] - 1s 21ms/step - loss: 190.8981 - accuracy: 1.1834e-04 - val_loss: 744.2860 - val_accuracy: 0.0000e+00\n",
            "Epoch 58/1000\n",
            "29/29 [==============================] - 1s 22ms/step - loss: 190.1475 - accuracy: 1.1834e-04 - val_loss: 261.3302 - val_accuracy: 0.0000e+00\n",
            "Epoch 59/1000\n",
            "29/29 [==============================] - 1s 22ms/step - loss: 188.3670 - accuracy: 1.1834e-04 - val_loss: 230.9743 - val_accuracy: 0.0000e+00\n",
            "Epoch 60/1000\n",
            "29/29 [==============================] - 1s 22ms/step - loss: 189.2238 - accuracy: 1.1834e-04 - val_loss: 282.2515 - val_accuracy: 0.0000e+00\n",
            "Epoch 61/1000\n",
            "29/29 [==============================] - 1s 21ms/step - loss: 188.7721 - accuracy: 1.1834e-04 - val_loss: 326.3316 - val_accuracy: 0.0000e+00\n",
            "Epoch 62/1000\n",
            "29/29 [==============================] - 1s 22ms/step - loss: 189.2456 - accuracy: 1.1834e-04 - val_loss: 278.5281 - val_accuracy: 0.0000e+00\n",
            "Epoch 63/1000\n",
            "29/29 [==============================] - 1s 21ms/step - loss: 185.0197 - accuracy: 1.1834e-04 - val_loss: 277.0559 - val_accuracy: 0.0000e+00\n",
            "Epoch 64/1000\n",
            "29/29 [==============================] - 1s 23ms/step - loss: 185.6387 - accuracy: 1.1834e-04 - val_loss: 248.3385 - val_accuracy: 0.0000e+00\n",
            "Epoch 65/1000\n",
            "29/29 [==============================] - 1s 26ms/step - loss: 187.3097 - accuracy: 1.1834e-04 - val_loss: 464.7104 - val_accuracy: 0.0000e+00\n",
            "Epoch 66/1000\n",
            "29/29 [==============================] - 1s 24ms/step - loss: 184.0773 - accuracy: 1.1834e-04 - val_loss: 310.6453 - val_accuracy: 0.0000e+00\n",
            "Epoch 67/1000\n",
            "29/29 [==============================] - 1s 25ms/step - loss: 189.7749 - accuracy: 1.1834e-04 - val_loss: 309.1326 - val_accuracy: 0.0000e+00\n",
            "Epoch 68/1000\n",
            "29/29 [==============================] - 1s 23ms/step - loss: 186.8050 - accuracy: 1.1834e-04 - val_loss: 211.4601 - val_accuracy: 0.0000e+00\n",
            "Epoch 69/1000\n",
            "29/29 [==============================] - 1s 21ms/step - loss: 183.4405 - accuracy: 1.1834e-04 - val_loss: 267.6358 - val_accuracy: 0.0000e+00\n",
            "Epoch 70/1000\n",
            "29/29 [==============================] - 1s 22ms/step - loss: 181.7501 - accuracy: 1.1834e-04 - val_loss: 341.0750 - val_accuracy: 0.0000e+00\n",
            "Epoch 71/1000\n",
            "29/29 [==============================] - 1s 22ms/step - loss: 179.9453 - accuracy: 1.1834e-04 - val_loss: 434.0962 - val_accuracy: 0.0000e+00\n",
            "Epoch 72/1000\n",
            "29/29 [==============================] - 1s 21ms/step - loss: 183.0215 - accuracy: 1.1834e-04 - val_loss: 242.3663 - val_accuracy: 0.0000e+00\n",
            "Epoch 73/1000\n",
            "29/29 [==============================] - 1s 23ms/step - loss: 184.2107 - accuracy: 1.1834e-04 - val_loss: 351.9922 - val_accuracy: 0.0000e+00\n",
            "Epoch 74/1000\n",
            "29/29 [==============================] - 1s 22ms/step - loss: 184.1961 - accuracy: 1.1834e-04 - val_loss: 357.1225 - val_accuracy: 0.0000e+00\n",
            "Epoch 75/1000\n",
            "29/29 [==============================] - 1s 22ms/step - loss: 184.8600 - accuracy: 1.1834e-04 - val_loss: 493.6013 - val_accuracy: 0.0000e+00\n",
            "Epoch 76/1000\n",
            "29/29 [==============================] - 1s 22ms/step - loss: 184.2916 - accuracy: 1.1834e-04 - val_loss: 622.5446 - val_accuracy: 0.0000e+00\n",
            "Epoch 77/1000\n",
            "29/29 [==============================] - 1s 21ms/step - loss: 181.9946 - accuracy: 1.1834e-04 - val_loss: 396.7978 - val_accuracy: 0.0000e+00\n",
            "Epoch 78/1000\n",
            "29/29 [==============================] - 1s 22ms/step - loss: 179.6384 - accuracy: 1.1834e-04 - val_loss: 282.7307 - val_accuracy: 0.0000e+00\n",
            "Epoch 79/1000\n",
            "29/29 [==============================] - 1s 23ms/step - loss: 176.8221 - accuracy: 1.1834e-04 - val_loss: 458.7794 - val_accuracy: 0.0000e+00\n",
            "Epoch 80/1000\n",
            "29/29 [==============================] - 1s 22ms/step - loss: 181.3449 - accuracy: 1.1834e-04 - val_loss: 245.2937 - val_accuracy: 0.0000e+00\n",
            "Epoch 81/1000\n",
            "29/29 [==============================] - 1s 21ms/step - loss: 176.8147 - accuracy: 1.1834e-04 - val_loss: 490.1325 - val_accuracy: 0.0000e+00\n",
            "Epoch 82/1000\n",
            "29/29 [==============================] - 1s 22ms/step - loss: 178.7258 - accuracy: 1.1834e-04 - val_loss: 267.9936 - val_accuracy: 0.0000e+00\n",
            "Epoch 83/1000\n",
            "29/29 [==============================] - 1s 23ms/step - loss: 178.7495 - accuracy: 1.1834e-04 - val_loss: 331.9431 - val_accuracy: 0.0000e+00\n",
            "Epoch 84/1000\n",
            "29/29 [==============================] - 1s 25ms/step - loss: 173.8341 - accuracy: 1.1834e-04 - val_loss: 830.5414 - val_accuracy: 0.0000e+00\n",
            "Epoch 85/1000\n",
            "29/29 [==============================] - 1s 25ms/step - loss: 171.8394 - accuracy: 1.1834e-04 - val_loss: 435.8405 - val_accuracy: 0.0000e+00\n",
            "Epoch 86/1000\n",
            "29/29 [==============================] - 1s 25ms/step - loss: 172.7174 - accuracy: 1.1834e-04 - val_loss: 431.6748 - val_accuracy: 0.0000e+00\n",
            "Epoch 87/1000\n",
            "29/29 [==============================] - 1s 31ms/step - loss: 179.2666 - accuracy: 1.1834e-04 - val_loss: 520.3142 - val_accuracy: 0.0000e+00\n",
            "Epoch 88/1000\n",
            "29/29 [==============================] - 1s 32ms/step - loss: 182.8954 - accuracy: 1.1834e-04 - val_loss: 391.6510 - val_accuracy: 0.0000e+00\n",
            "Epoch 89/1000\n",
            "29/29 [==============================] - 1s 22ms/step - loss: 172.1970 - accuracy: 1.1834e-04 - val_loss: 470.5667 - val_accuracy: 0.0000e+00\n",
            "Epoch 90/1000\n",
            "29/29 [==============================] - 1s 23ms/step - loss: 175.0224 - accuracy: 1.1834e-04 - val_loss: 345.0789 - val_accuracy: 0.0000e+00\n",
            "Epoch 91/1000\n",
            "29/29 [==============================] - 1s 22ms/step - loss: 173.1105 - accuracy: 1.1834e-04 - val_loss: 410.0757 - val_accuracy: 0.0000e+00\n",
            "Epoch 92/1000\n",
            "29/29 [==============================] - 1s 21ms/step - loss: 173.2260 - accuracy: 1.1834e-04 - val_loss: 677.9741 - val_accuracy: 0.0000e+00\n",
            "Epoch 93/1000\n",
            "29/29 [==============================] - 1s 22ms/step - loss: 177.7717 - accuracy: 1.1834e-04 - val_loss: 324.5151 - val_accuracy: 0.0000e+00\n",
            "Epoch 94/1000\n",
            "29/29 [==============================] - 1s 23ms/step - loss: 172.9008 - accuracy: 1.1834e-04 - val_loss: 243.6387 - val_accuracy: 0.0000e+00\n",
            "Epoch 95/1000\n",
            "29/29 [==============================] - 1s 23ms/step - loss: 179.2537 - accuracy: 1.1834e-04 - val_loss: 296.6573 - val_accuracy: 0.0000e+00\n",
            "Epoch 96/1000\n",
            "29/29 [==============================] - 1s 22ms/step - loss: 173.1349 - accuracy: 1.1834e-04 - val_loss: 293.5790 - val_accuracy: 0.0000e+00\n",
            "Epoch 97/1000\n",
            "29/29 [==============================] - 1s 22ms/step - loss: 168.2010 - accuracy: 1.1834e-04 - val_loss: 482.9809 - val_accuracy: 0.0000e+00\n",
            "Epoch 98/1000\n",
            "29/29 [==============================] - 1s 23ms/step - loss: 168.4618 - accuracy: 1.1834e-04 - val_loss: 470.3492 - val_accuracy: 0.0000e+00\n",
            "Epoch 99/1000\n",
            "29/29 [==============================] - 1s 21ms/step - loss: 167.6400 - accuracy: 1.1834e-04 - val_loss: 1052.6946 - val_accuracy: 0.0000e+00\n",
            "Epoch 100/1000\n",
            "29/29 [==============================] - 1s 21ms/step - loss: 175.3165 - accuracy: 1.1834e-04 - val_loss: 312.0254 - val_accuracy: 0.0000e+00\n",
            "Epoch 101/1000\n",
            "29/29 [==============================] - 1s 23ms/step - loss: 165.5928 - accuracy: 1.1834e-04 - val_loss: 538.3162 - val_accuracy: 0.0000e+00\n",
            "Epoch 102/1000\n",
            "29/29 [==============================] - 1s 24ms/step - loss: 183.0527 - accuracy: 1.1834e-04 - val_loss: 555.3256 - val_accuracy: 0.0000e+00\n",
            "Epoch 103/1000\n",
            "29/29 [==============================] - 1s 25ms/step - loss: 165.1044 - accuracy: 1.1834e-04 - val_loss: 584.2504 - val_accuracy: 0.0000e+00\n",
            "Epoch 104/1000\n",
            "29/29 [==============================] - 1s 24ms/step - loss: 164.9056 - accuracy: 1.1834e-04 - val_loss: 441.9957 - val_accuracy: 0.0000e+00\n",
            "Epoch 105/1000\n",
            "29/29 [==============================] - 1s 25ms/step - loss: 162.9966 - accuracy: 1.1834e-04 - val_loss: 661.4434 - val_accuracy: 0.0000e+00\n",
            "Epoch 106/1000\n",
            "29/29 [==============================] - 1s 22ms/step - loss: 164.4609 - accuracy: 1.1834e-04 - val_loss: 645.8486 - val_accuracy: 0.0000e+00\n",
            "Epoch 107/1000\n",
            "29/29 [==============================] - 1s 23ms/step - loss: 169.1763 - accuracy: 1.1834e-04 - val_loss: 369.0327 - val_accuracy: 0.0000e+00\n",
            "Epoch 108/1000\n",
            "29/29 [==============================] - 1s 22ms/step - loss: 161.2112 - accuracy: 1.1834e-04 - val_loss: 847.3101 - val_accuracy: 0.0000e+00\n",
            "Epoch 109/1000\n",
            "29/29 [==============================] - 1s 22ms/step - loss: 165.6353 - accuracy: 1.1834e-04 - val_loss: 389.5143 - val_accuracy: 0.0000e+00\n",
            "Epoch 110/1000\n",
            "29/29 [==============================] - 1s 21ms/step - loss: 166.3680 - accuracy: 1.1834e-04 - val_loss: 232.3789 - val_accuracy: 0.0000e+00\n",
            "Epoch 111/1000\n",
            "29/29 [==============================] - 1s 22ms/step - loss: 159.5630 - accuracy: 1.1834e-04 - val_loss: 1635.6158 - val_accuracy: 0.0000e+00\n",
            "Epoch 112/1000\n",
            "29/29 [==============================] - 1s 21ms/step - loss: 160.0731 - accuracy: 1.1834e-04 - val_loss: 352.1544 - val_accuracy: 0.0000e+00\n",
            "Epoch 113/1000\n",
            "29/29 [==============================] - 1s 21ms/step - loss: 160.8821 - accuracy: 1.1834e-04 - val_loss: 2003.8024 - val_accuracy: 0.0000e+00\n",
            "Epoch 114/1000\n",
            "29/29 [==============================] - 1s 23ms/step - loss: 163.8887 - accuracy: 1.1834e-04 - val_loss: 263.0166 - val_accuracy: 0.0000e+00\n",
            "Epoch 115/1000\n",
            "29/29 [==============================] - 1s 22ms/step - loss: 157.7607 - accuracy: 1.1834e-04 - val_loss: 342.2866 - val_accuracy: 0.0000e+00\n",
            "Epoch 116/1000\n",
            "29/29 [==============================] - 1s 21ms/step - loss: 155.3037 - accuracy: 1.1834e-04 - val_loss: 845.7628 - val_accuracy: 0.0000e+00\n",
            "Epoch 117/1000\n",
            "29/29 [==============================] - 1s 23ms/step - loss: 153.5332 - accuracy: 1.1834e-04 - val_loss: 230.7481 - val_accuracy: 0.0000e+00\n",
            "Epoch 118/1000\n",
            "29/29 [==============================] - 1s 22ms/step - loss: 156.7207 - accuracy: 1.1834e-04 - val_loss: 367.6394 - val_accuracy: 0.0000e+00\n",
            "Epoch 119/1000\n",
            "29/29 [==============================] - 1s 23ms/step - loss: 156.2919 - accuracy: 1.1834e-04 - val_loss: 324.9485 - val_accuracy: 0.0000e+00\n",
            "Epoch 120/1000\n",
            "29/29 [==============================] - 1s 22ms/step - loss: 154.6258 - accuracy: 1.1834e-04 - val_loss: 567.4451 - val_accuracy: 0.0000e+00\n",
            "Epoch 121/1000\n",
            "29/29 [==============================] - 1s 22ms/step - loss: 153.9635 - accuracy: 1.1834e-04 - val_loss: 523.5709 - val_accuracy: 0.0000e+00\n",
            "Epoch 122/1000\n",
            "29/29 [==============================] - 1s 25ms/step - loss: 153.6646 - accuracy: 1.1834e-04 - val_loss: 478.8812 - val_accuracy: 0.0000e+00\n",
            "Epoch 123/1000\n",
            "29/29 [==============================] - 1s 26ms/step - loss: 149.4507 - accuracy: 1.1834e-04 - val_loss: 312.4937 - val_accuracy: 0.0000e+00\n",
            "Epoch 124/1000\n",
            "29/29 [==============================] - 1s 25ms/step - loss: 148.0446 - accuracy: 1.1834e-04 - val_loss: 331.3478 - val_accuracy: 0.0000e+00\n",
            "Epoch 125/1000\n",
            "29/29 [==============================] - 1s 25ms/step - loss: 148.6296 - accuracy: 1.1834e-04 - val_loss: 345.4051 - val_accuracy: 0.0000e+00\n",
            "Epoch 126/1000\n",
            "29/29 [==============================] - 1s 21ms/step - loss: 144.0216 - accuracy: 1.1834e-04 - val_loss: 2029.1239 - val_accuracy: 0.0000e+00\n",
            "Epoch 127/1000\n",
            "29/29 [==============================] - 1s 22ms/step - loss: 147.0184 - accuracy: 1.1834e-04 - val_loss: 261.7752 - val_accuracy: 0.0000e+00\n",
            "Epoch 128/1000\n",
            "29/29 [==============================] - 1s 22ms/step - loss: 146.4320 - accuracy: 1.1834e-04 - val_loss: 337.2314 - val_accuracy: 0.0000e+00\n",
            "Epoch 129/1000\n",
            "29/29 [==============================] - 1s 22ms/step - loss: 148.0885 - accuracy: 1.1834e-04 - val_loss: 417.8522 - val_accuracy: 0.0000e+00\n",
            "Epoch 130/1000\n",
            "29/29 [==============================] - 1s 21ms/step - loss: 152.2695 - accuracy: 1.1834e-04 - val_loss: 609.2520 - val_accuracy: 0.0000e+00\n",
            "Epoch 131/1000\n",
            "29/29 [==============================] - 1s 23ms/step - loss: 149.0026 - accuracy: 1.1834e-04 - val_loss: 359.8308 - val_accuracy: 0.0000e+00\n",
            "Epoch 132/1000\n",
            "29/29 [==============================] - 1s 22ms/step - loss: 148.2207 - accuracy: 1.1834e-04 - val_loss: 304.4760 - val_accuracy: 0.0000e+00\n",
            "Epoch 133/1000\n",
            "29/29 [==============================] - 1s 23ms/step - loss: 156.9157 - accuracy: 1.1834e-04 - val_loss: 337.3609 - val_accuracy: 0.0000e+00\n",
            "Epoch 134/1000\n",
            "29/29 [==============================] - 1s 22ms/step - loss: 147.0573 - accuracy: 1.1834e-04 - val_loss: 451.0891 - val_accuracy: 0.0000e+00\n",
            "Epoch 135/1000\n",
            "29/29 [==============================] - 1s 22ms/step - loss: 155.7226 - accuracy: 1.1834e-04 - val_loss: 648.9695 - val_accuracy: 0.0000e+00\n",
            "Epoch 136/1000\n",
            "29/29 [==============================] - 1s 22ms/step - loss: 154.0313 - accuracy: 1.1834e-04 - val_loss: 1148.2236 - val_accuracy: 0.0000e+00\n",
            "Epoch 137/1000\n",
            "29/29 [==============================] - 1s 22ms/step - loss: 143.1818 - accuracy: 1.1834e-04 - val_loss: 495.3828 - val_accuracy: 0.0000e+00\n",
            "Epoch 138/1000\n",
            "29/29 [==============================] - 1s 22ms/step - loss: 152.9095 - accuracy: 1.1834e-04 - val_loss: 296.1736 - val_accuracy: 0.0000e+00\n",
            "Epoch 139/1000\n",
            "29/29 [==============================] - 1s 22ms/step - loss: 146.8163 - accuracy: 1.1834e-04 - val_loss: 417.7885 - val_accuracy: 0.0000e+00\n",
            "Epoch 140/1000\n",
            "29/29 [==============================] - 1s 23ms/step - loss: 141.0691 - accuracy: 1.1834e-04 - val_loss: 885.7050 - val_accuracy: 0.0000e+00\n",
            "Epoch 141/1000\n",
            "29/29 [==============================] - 1s 25ms/step - loss: 141.5798 - accuracy: 1.1834e-04 - val_loss: 320.4561 - val_accuracy: 0.0000e+00\n",
            "Epoch 142/1000\n",
            "29/29 [==============================] - 1s 25ms/step - loss: 136.4900 - accuracy: 1.1834e-04 - val_loss: 551.0306 - val_accuracy: 0.0000e+00\n",
            "Epoch 143/1000\n",
            "29/29 [==============================] - 1s 25ms/step - loss: 134.8633 - accuracy: 1.1834e-04 - val_loss: 492.7911 - val_accuracy: 0.0000e+00\n",
            "Epoch 144/1000\n",
            "29/29 [==============================] - 1s 25ms/step - loss: 144.6345 - accuracy: 1.1834e-04 - val_loss: 534.1558 - val_accuracy: 0.0000e+00\n",
            "Epoch 145/1000\n",
            "29/29 [==============================] - 1s 22ms/step - loss: 139.5839 - accuracy: 1.1834e-04 - val_loss: 375.8853 - val_accuracy: 0.0000e+00\n",
            "Epoch 146/1000\n",
            "29/29 [==============================] - 1s 22ms/step - loss: 138.8224 - accuracy: 1.1834e-04 - val_loss: 255.6419 - val_accuracy: 0.0000e+00\n",
            "Epoch 147/1000\n",
            "29/29 [==============================] - 1s 23ms/step - loss: 138.7653 - accuracy: 1.1834e-04 - val_loss: 604.3685 - val_accuracy: 0.0000e+00\n",
            "Epoch 148/1000\n",
            "29/29 [==============================] - 1s 23ms/step - loss: 140.5561 - accuracy: 1.1834e-04 - val_loss: 341.7819 - val_accuracy: 0.0000e+00\n",
            "Epoch 149/1000\n",
            "29/29 [==============================] - 1s 22ms/step - loss: 139.6514 - accuracy: 1.1834e-04 - val_loss: 834.1496 - val_accuracy: 0.0000e+00\n",
            "Epoch 150/1000\n",
            "29/29 [==============================] - 1s 32ms/step - loss: 136.1591 - accuracy: 1.1834e-04 - val_loss: 301.5354 - val_accuracy: 0.0000e+00\n",
            "Epoch 151/1000\n",
            "29/29 [==============================] - 1s 28ms/step - loss: 140.6556 - accuracy: 1.1834e-04 - val_loss: 770.2344 - val_accuracy: 0.0000e+00\n",
            "Epoch 152/1000\n",
            "29/29 [==============================] - 1s 22ms/step - loss: 137.1612 - accuracy: 1.1834e-04 - val_loss: 750.3429 - val_accuracy: 0.0000e+00\n",
            "Epoch 153/1000\n",
            "29/29 [==============================] - 1s 22ms/step - loss: 144.1723 - accuracy: 1.1834e-04 - val_loss: 287.7271 - val_accuracy: 0.0000e+00\n",
            "Epoch 154/1000\n",
            "29/29 [==============================] - 1s 22ms/step - loss: 133.4660 - accuracy: 1.1834e-04 - val_loss: 377.6913 - val_accuracy: 0.0000e+00\n",
            "Epoch 155/1000\n",
            "29/29 [==============================] - 1s 23ms/step - loss: 134.5418 - accuracy: 1.1834e-04 - val_loss: 790.3790 - val_accuracy: 0.0000e+00\n",
            "Epoch 156/1000\n",
            "29/29 [==============================] - 1s 22ms/step - loss: 137.1995 - accuracy: 1.1834e-04 - val_loss: 751.0801 - val_accuracy: 0.0000e+00\n",
            "Epoch 157/1000\n",
            "29/29 [==============================] - 1s 22ms/step - loss: 150.9011 - accuracy: 1.1834e-04 - val_loss: 992.8943 - val_accuracy: 0.0000e+00\n",
            "Epoch 158/1000\n",
            "29/29 [==============================] - 1s 21ms/step - loss: 138.9019 - accuracy: 1.1834e-04 - val_loss: 437.8404 - val_accuracy: 0.0000e+00\n",
            "Epoch 159/1000\n",
            "29/29 [==============================] - 1s 25ms/step - loss: 141.3790 - accuracy: 1.1834e-04 - val_loss: 800.4373 - val_accuracy: 0.0000e+00\n",
            "Epoch 160/1000\n",
            "29/29 [==============================] - 1s 26ms/step - loss: 134.3099 - accuracy: 1.1834e-04 - val_loss: 307.0843 - val_accuracy: 0.0000e+00\n",
            "Epoch 161/1000\n",
            "29/29 [==============================] - 1s 27ms/step - loss: 134.8302 - accuracy: 1.1834e-04 - val_loss: 374.9745 - val_accuracy: 0.0000e+00\n",
            "Epoch 162/1000\n",
            "29/29 [==============================] - 1s 27ms/step - loss: 145.1442 - accuracy: 1.1834e-04 - val_loss: 1108.1560 - val_accuracy: 0.0000e+00\n",
            "Epoch 163/1000\n",
            "29/29 [==============================] - 1s 21ms/step - loss: 138.3921 - accuracy: 1.1834e-04 - val_loss: 1172.4519 - val_accuracy: 0.0000e+00\n",
            "Epoch 164/1000\n",
            "29/29 [==============================] - 1s 23ms/step - loss: 135.0521 - accuracy: 1.1834e-04 - val_loss: 269.8539 - val_accuracy: 0.0000e+00\n",
            "Epoch 165/1000\n",
            "29/29 [==============================] - 1s 22ms/step - loss: 137.1374 - accuracy: 1.1834e-04 - val_loss: 332.9201 - val_accuracy: 0.0000e+00\n",
            "Epoch 166/1000\n",
            "29/29 [==============================] - 1s 22ms/step - loss: 132.5879 - accuracy: 1.1834e-04 - val_loss: 333.3932 - val_accuracy: 0.0000e+00\n",
            "Epoch 167/1000\n",
            "29/29 [==============================] - 1s 21ms/step - loss: 130.0854 - accuracy: 1.1834e-04 - val_loss: 386.3068 - val_accuracy: 0.0000e+00\n",
            "Epoch 168/1000\n",
            "29/29 [==============================] - 1s 22ms/step - loss: 132.5283 - accuracy: 1.1834e-04 - val_loss: 303.1303 - val_accuracy: 0.0000e+00\n",
            "Epoch 169/1000\n",
            "29/29 [==============================] - 1s 20ms/step - loss: 126.8520 - accuracy: 1.1834e-04 - val_loss: 473.1802 - val_accuracy: 0.0000e+00\n",
            "Epoch 170/1000\n",
            "29/29 [==============================] - 1s 21ms/step - loss: 135.8810 - accuracy: 1.1834e-04 - val_loss: 305.6497 - val_accuracy: 0.0000e+00\n",
            "Epoch 171/1000\n",
            "29/29 [==============================] - 1s 21ms/step - loss: 134.7949 - accuracy: 1.1834e-04 - val_loss: 555.3663 - val_accuracy: 0.0000e+00\n",
            "Epoch 172/1000\n",
            "29/29 [==============================] - 1s 21ms/step - loss: 130.1133 - accuracy: 1.1834e-04 - val_loss: 332.3029 - val_accuracy: 0.0000e+00\n",
            "Epoch 173/1000\n",
            "29/29 [==============================] - 1s 23ms/step - loss: 128.6733 - accuracy: 1.1834e-04 - val_loss: 268.0161 - val_accuracy: 0.0000e+00\n",
            "Epoch 174/1000\n",
            "29/29 [==============================] - 1s 22ms/step - loss: 124.0994 - accuracy: 1.1834e-04 - val_loss: 354.3312 - val_accuracy: 0.0000e+00\n",
            "Epoch 175/1000\n",
            "29/29 [==============================] - 1s 22ms/step - loss: 128.2455 - accuracy: 1.1834e-04 - val_loss: 254.4695 - val_accuracy: 0.0000e+00\n",
            "Epoch 176/1000\n",
            "29/29 [==============================] - 1s 22ms/step - loss: 130.5378 - accuracy: 1.1834e-04 - val_loss: 256.0761 - val_accuracy: 0.0000e+00\n",
            "Epoch 177/1000\n",
            "29/29 [==============================] - 1s 21ms/step - loss: 132.1279 - accuracy: 1.1834e-04 - val_loss: 212.3611 - val_accuracy: 0.0000e+00\n",
            "Epoch 178/1000\n",
            "29/29 [==============================] - 1s 22ms/step - loss: 132.2097 - accuracy: 1.1834e-04 - val_loss: 276.8828 - val_accuracy: 0.0000e+00\n",
            "Epoch 179/1000\n",
            "29/29 [==============================] - 1s 24ms/step - loss: 123.3129 - accuracy: 1.1834e-04 - val_loss: 359.1136 - val_accuracy: 0.0000e+00\n",
            "Epoch 180/1000\n",
            "29/29 [==============================] - 1s 23ms/step - loss: 128.5997 - accuracy: 1.1834e-04 - val_loss: 470.6847 - val_accuracy: 0.0000e+00\n",
            "Epoch 181/1000\n",
            "29/29 [==============================] - 1s 24ms/step - loss: 124.9026 - accuracy: 1.1834e-04 - val_loss: 383.1675 - val_accuracy: 0.0000e+00\n",
            "Epoch 182/1000\n",
            "29/29 [==============================] - 1s 23ms/step - loss: 123.6235 - accuracy: 1.1834e-04 - val_loss: 301.7785 - val_accuracy: 0.0000e+00\n",
            "Epoch 183/1000\n",
            "29/29 [==============================] - 1s 22ms/step - loss: 129.8179 - accuracy: 1.1834e-04 - val_loss: 372.4609 - val_accuracy: 0.0000e+00\n",
            "Epoch 184/1000\n",
            "29/29 [==============================] - 1s 22ms/step - loss: 126.1568 - accuracy: 1.1834e-04 - val_loss: 360.2322 - val_accuracy: 0.0000e+00\n",
            "Epoch 185/1000\n",
            "29/29 [==============================] - 1s 22ms/step - loss: 123.2706 - accuracy: 1.1834e-04 - val_loss: 545.7012 - val_accuracy: 0.0000e+00\n",
            "Epoch 186/1000\n",
            "29/29 [==============================] - 1s 21ms/step - loss: 126.6509 - accuracy: 1.1834e-04 - val_loss: 293.7408 - val_accuracy: 0.0000e+00\n",
            "Epoch 187/1000\n",
            "29/29 [==============================] - 1s 22ms/step - loss: 122.6344 - accuracy: 1.1834e-04 - val_loss: 278.8493 - val_accuracy: 0.0000e+00\n",
            "Epoch 188/1000\n",
            "29/29 [==============================] - 1s 21ms/step - loss: 129.6109 - accuracy: 1.1834e-04 - val_loss: 250.8234 - val_accuracy: 0.0000e+00\n",
            "Epoch 189/1000\n",
            "29/29 [==============================] - 1s 21ms/step - loss: 125.3574 - accuracy: 1.1834e-04 - val_loss: 351.2683 - val_accuracy: 0.0000e+00\n",
            "Epoch 190/1000\n",
            "29/29 [==============================] - 1s 20ms/step - loss: 126.1156 - accuracy: 1.1834e-04 - val_loss: 370.0026 - val_accuracy: 0.0000e+00\n",
            "Epoch 191/1000\n",
            "29/29 [==============================] - 1s 21ms/step - loss: 118.0882 - accuracy: 1.1834e-04 - val_loss: 256.7146 - val_accuracy: 0.0000e+00\n",
            "Epoch 192/1000\n",
            "29/29 [==============================] - 1s 23ms/step - loss: 123.2783 - accuracy: 1.1834e-04 - val_loss: 841.9058 - val_accuracy: 0.0000e+00\n",
            "Epoch 193/1000\n",
            "29/29 [==============================] - 1s 22ms/step - loss: 123.0143 - accuracy: 1.1834e-04 - val_loss: 278.8699 - val_accuracy: 0.0000e+00\n",
            "Epoch 194/1000\n",
            "29/29 [==============================] - 1s 22ms/step - loss: 122.4753 - accuracy: 1.1834e-04 - val_loss: 319.0456 - val_accuracy: 0.0000e+00\n",
            "Epoch 195/1000\n",
            "29/29 [==============================] - 1s 23ms/step - loss: 129.5988 - accuracy: 1.1834e-04 - val_loss: 279.3274 - val_accuracy: 0.0000e+00\n",
            "Epoch 196/1000\n",
            "29/29 [==============================] - 1s 23ms/step - loss: 126.8325 - accuracy: 1.1834e-04 - val_loss: 290.4818 - val_accuracy: 0.0000e+00\n",
            "Epoch 197/1000\n",
            "29/29 [==============================] - 1s 23ms/step - loss: 118.9819 - accuracy: 1.1834e-04 - val_loss: 371.3363 - val_accuracy: 0.0000e+00\n",
            "Epoch 198/1000\n",
            "29/29 [==============================] - 1s 25ms/step - loss: 115.5261 - accuracy: 1.1834e-04 - val_loss: 359.4535 - val_accuracy: 0.0000e+00\n",
            "Epoch 199/1000\n",
            "29/29 [==============================] - 1s 26ms/step - loss: 120.3478 - accuracy: 1.1834e-04 - val_loss: 277.6431 - val_accuracy: 0.0000e+00\n",
            "Epoch 200/1000\n",
            "29/29 [==============================] - 1s 25ms/step - loss: 133.0788 - accuracy: 1.1834e-04 - val_loss: 240.8743 - val_accuracy: 0.0000e+00\n",
            "Epoch 201/1000\n",
            "29/29 [==============================] - 1s 26ms/step - loss: 118.0462 - accuracy: 1.1834e-04 - val_loss: 262.7359 - val_accuracy: 0.0000e+00\n",
            "Epoch 202/1000\n",
            "29/29 [==============================] - 1s 24ms/step - loss: 120.7539 - accuracy: 1.1834e-04 - val_loss: 348.6940 - val_accuracy: 0.0000e+00\n",
            "Epoch 203/1000\n",
            "29/29 [==============================] - 1s 22ms/step - loss: 117.5338 - accuracy: 1.1834e-04 - val_loss: 264.4665 - val_accuracy: 0.0000e+00\n",
            "Epoch 204/1000\n",
            "29/29 [==============================] - 1s 23ms/step - loss: 114.3775 - accuracy: 1.1834e-04 - val_loss: 231.3635 - val_accuracy: 0.0000e+00\n",
            "Epoch 205/1000\n",
            "29/29 [==============================] - 1s 23ms/step - loss: 116.6487 - accuracy: 1.1834e-04 - val_loss: 240.9412 - val_accuracy: 0.0000e+00\n",
            "Epoch 206/1000\n",
            "29/29 [==============================] - 1s 23ms/step - loss: 116.8276 - accuracy: 1.1834e-04 - val_loss: 288.2244 - val_accuracy: 0.0000e+00\n",
            "Epoch 207/1000\n",
            "29/29 [==============================] - 1s 23ms/step - loss: 119.9259 - accuracy: 1.1834e-04 - val_loss: 464.5305 - val_accuracy: 0.0000e+00\n",
            "Epoch 208/1000\n",
            "29/29 [==============================] - 1s 22ms/step - loss: 126.9796 - accuracy: 1.1834e-04 - val_loss: 282.1286 - val_accuracy: 0.0000e+00\n",
            "Epoch 209/1000\n",
            "29/29 [==============================] - 1s 22ms/step - loss: 114.0766 - accuracy: 1.1834e-04 - val_loss: 240.7599 - val_accuracy: 0.0000e+00\n",
            "Epoch 210/1000\n",
            "29/29 [==============================] - 1s 23ms/step - loss: 109.4010 - accuracy: 1.1834e-04 - val_loss: 286.4619 - val_accuracy: 0.0000e+00\n",
            "Epoch 211/1000\n",
            "29/29 [==============================] - 1s 24ms/step - loss: 114.3937 - accuracy: 1.1834e-04 - val_loss: 299.7084 - val_accuracy: 0.0000e+00\n",
            "Epoch 212/1000\n",
            "29/29 [==============================] - 1s 23ms/step - loss: 109.6183 - accuracy: 1.1834e-04 - val_loss: 230.4570 - val_accuracy: 0.0000e+00\n",
            "Epoch 213/1000\n",
            "29/29 [==============================] - 1s 22ms/step - loss: 117.2296 - accuracy: 1.1834e-04 - val_loss: 333.0478 - val_accuracy: 0.0000e+00\n",
            "Epoch 214/1000\n",
            "29/29 [==============================] - 1s 24ms/step - loss: 110.2425 - accuracy: 1.1834e-04 - val_loss: 304.5045 - val_accuracy: 0.0000e+00\n",
            "Epoch 215/1000\n",
            "29/29 [==============================] - 1s 22ms/step - loss: 105.7253 - accuracy: 1.1834e-04 - val_loss: 314.2438 - val_accuracy: 0.0000e+00\n",
            "Epoch 216/1000\n",
            "29/29 [==============================] - 1s 22ms/step - loss: 114.0394 - accuracy: 1.1834e-04 - val_loss: 361.9059 - val_accuracy: 0.0000e+00\n",
            "Epoch 217/1000\n",
            "29/29 [==============================] - 1s 25ms/step - loss: 115.2838 - accuracy: 1.1834e-04 - val_loss: 345.0668 - val_accuracy: 0.0000e+00\n",
            "Epoch 218/1000\n",
            "29/29 [==============================] - 1s 25ms/step - loss: 118.6136 - accuracy: 1.1834e-04 - val_loss: 281.1744 - val_accuracy: 0.0000e+00\n",
            "Epoch 219/1000\n",
            "29/29 [==============================] - 1s 27ms/step - loss: 112.4958 - accuracy: 1.1834e-04 - val_loss: 367.1331 - val_accuracy: 0.0000e+00\n",
            "Epoch 220/1000\n",
            "29/29 [==============================] - 1s 27ms/step - loss: 111.9954 - accuracy: 1.1834e-04 - val_loss: 583.2089 - val_accuracy: 0.0000e+00\n",
            "Epoch 221/1000\n",
            "29/29 [==============================] - 1s 23ms/step - loss: 117.1968 - accuracy: 1.1834e-04 - val_loss: 422.8325 - val_accuracy: 0.0000e+00\n",
            "Epoch 222/1000\n",
            "29/29 [==============================] - 1s 23ms/step - loss: 111.3473 - accuracy: 1.1834e-04 - val_loss: 210.3948 - val_accuracy: 0.0000e+00\n",
            "Epoch 223/1000\n",
            "29/29 [==============================] - 1s 34ms/step - loss: 109.1026 - accuracy: 1.1834e-04 - val_loss: 266.4536 - val_accuracy: 0.0000e+00\n",
            "Epoch 224/1000\n",
            "29/29 [==============================] - 1s 33ms/step - loss: 110.7299 - accuracy: 1.1834e-04 - val_loss: 233.2131 - val_accuracy: 0.0000e+00\n",
            "Epoch 225/1000\n",
            "29/29 [==============================] - 1s 32ms/step - loss: 118.8621 - accuracy: 1.1834e-04 - val_loss: 272.1454 - val_accuracy: 0.0000e+00\n",
            "Epoch 226/1000\n",
            "29/29 [==============================] - 1s 35ms/step - loss: 108.5109 - accuracy: 1.1834e-04 - val_loss: 336.7618 - val_accuracy: 0.0000e+00\n",
            "Epoch 227/1000\n",
            "29/29 [==============================] - 1s 33ms/step - loss: 104.7016 - accuracy: 1.1834e-04 - val_loss: 287.1893 - val_accuracy: 0.0000e+00\n",
            "Epoch 228/1000\n",
            "29/29 [==============================] - 1s 37ms/step - loss: 103.9021 - accuracy: 1.1834e-04 - val_loss: 308.7848 - val_accuracy: 0.0000e+00\n",
            "Epoch 229/1000\n",
            "29/29 [==============================] - 1s 24ms/step - loss: 107.1937 - accuracy: 1.1834e-04 - val_loss: 250.9518 - val_accuracy: 0.0000e+00\n",
            "Epoch 230/1000\n",
            "29/29 [==============================] - 1s 22ms/step - loss: 104.6249 - accuracy: 1.1834e-04 - val_loss: 341.1455 - val_accuracy: 0.0000e+00\n",
            "Epoch 231/1000\n",
            "29/29 [==============================] - 1s 22ms/step - loss: 110.6020 - accuracy: 1.1834e-04 - val_loss: 272.4249 - val_accuracy: 0.0000e+00\n",
            "Epoch 232/1000\n",
            "29/29 [==============================] - 1s 23ms/step - loss: 106.5226 - accuracy: 1.1834e-04 - val_loss: 303.5236 - val_accuracy: 0.0000e+00\n",
            "Epoch 233/1000\n",
            "29/29 [==============================] - 1s 27ms/step - loss: 105.3495 - accuracy: 1.1834e-04 - val_loss: 349.5718 - val_accuracy: 0.0000e+00\n",
            "Epoch 234/1000\n",
            "29/29 [==============================] - 1s 26ms/step - loss: 104.8859 - accuracy: 1.1834e-04 - val_loss: 276.5279 - val_accuracy: 0.0000e+00\n",
            "Epoch 235/1000\n",
            "29/29 [==============================] - 1s 26ms/step - loss: 101.7128 - accuracy: 1.1834e-04 - val_loss: 250.0678 - val_accuracy: 0.0000e+00\n",
            "Epoch 236/1000\n",
            "29/29 [==============================] - 1s 25ms/step - loss: 103.3245 - accuracy: 1.1834e-04 - val_loss: 311.9491 - val_accuracy: 0.0000e+00\n",
            "Epoch 237/1000\n",
            "29/29 [==============================] - 1s 23ms/step - loss: 102.9568 - accuracy: 1.1834e-04 - val_loss: 293.2177 - val_accuracy: 0.0000e+00\n",
            "Epoch 238/1000\n",
            "29/29 [==============================] - 1s 23ms/step - loss: 102.6389 - accuracy: 1.1834e-04 - val_loss: 345.1229 - val_accuracy: 0.0000e+00\n",
            "Epoch 239/1000\n",
            "29/29 [==============================] - 1s 22ms/step - loss: 104.6441 - accuracy: 1.1834e-04 - val_loss: 358.7764 - val_accuracy: 0.0000e+00\n",
            "Epoch 240/1000\n",
            "29/29 [==============================] - 1s 23ms/step - loss: 101.5339 - accuracy: 1.1834e-04 - val_loss: 264.7244 - val_accuracy: 0.0000e+00\n",
            "Epoch 241/1000\n",
            "29/29 [==============================] - 1s 24ms/step - loss: 101.2889 - accuracy: 1.1834e-04 - val_loss: 422.6219 - val_accuracy: 0.0000e+00\n",
            "Epoch 242/1000\n",
            "29/29 [==============================] - 1s 22ms/step - loss: 105.2751 - accuracy: 1.1834e-04 - val_loss: 268.8124 - val_accuracy: 0.0000e+00\n",
            "Epoch 243/1000\n",
            "29/29 [==============================] - 1s 22ms/step - loss: 100.6309 - accuracy: 1.1834e-04 - val_loss: 291.7212 - val_accuracy: 0.0000e+00\n",
            "Epoch 244/1000\n",
            "29/29 [==============================] - 1s 22ms/step - loss: 99.5820 - accuracy: 1.1834e-04 - val_loss: 272.8572 - val_accuracy: 0.0000e+00\n",
            "Epoch 245/1000\n",
            "29/29 [==============================] - 1s 22ms/step - loss: 98.7793 - accuracy: 1.1834e-04 - val_loss: 230.4624 - val_accuracy: 0.0000e+00\n",
            "Epoch 246/1000\n",
            "29/29 [==============================] - 1s 23ms/step - loss: 96.7602 - accuracy: 1.1834e-04 - val_loss: 353.1523 - val_accuracy: 0.0000e+00\n",
            "Epoch 247/1000\n",
            "29/29 [==============================] - 1s 22ms/step - loss: 95.9829 - accuracy: 1.1834e-04 - val_loss: 299.5954 - val_accuracy: 0.0000e+00\n",
            "Epoch 248/1000\n",
            "29/29 [==============================] - 1s 23ms/step - loss: 103.3536 - accuracy: 1.1834e-04 - val_loss: 303.5841 - val_accuracy: 0.0000e+00\n",
            "Epoch 249/1000\n",
            "29/29 [==============================] - 1s 22ms/step - loss: 96.6465 - accuracy: 1.1834e-04 - val_loss: 356.5261 - val_accuracy: 0.0000e+00\n",
            "Epoch 250/1000\n",
            "29/29 [==============================] - 1s 22ms/step - loss: 98.0954 - accuracy: 1.1834e-04 - val_loss: 372.2657 - val_accuracy: 0.0000e+00\n",
            "Epoch 251/1000\n",
            "29/29 [==============================] - 1s 24ms/step - loss: 98.1265 - accuracy: 1.1834e-04 - val_loss: 382.2437 - val_accuracy: 0.0000e+00\n",
            "Epoch 252/1000\n",
            "29/29 [==============================] - 1s 25ms/step - loss: 106.8980 - accuracy: 1.1834e-04 - val_loss: 261.8935 - val_accuracy: 0.0000e+00\n",
            "Epoch 253/1000\n",
            "29/29 [==============================] - 1s 26ms/step - loss: 95.4812 - accuracy: 1.1834e-04 - val_loss: 471.9583 - val_accuracy: 0.0000e+00\n",
            "Epoch 254/1000\n",
            "29/29 [==============================] - 1s 27ms/step - loss: 98.5208 - accuracy: 1.1834e-04 - val_loss: 389.4071 - val_accuracy: 0.0000e+00\n",
            "Epoch 255/1000\n",
            "29/29 [==============================] - 1s 24ms/step - loss: 99.1998 - accuracy: 1.1834e-04 - val_loss: 342.5837 - val_accuracy: 0.0000e+00\n",
            "Epoch 256/1000\n",
            "29/29 [==============================] - 1s 22ms/step - loss: 106.1852 - accuracy: 1.1834e-04 - val_loss: 302.2520 - val_accuracy: 0.0000e+00\n",
            "Epoch 257/1000\n",
            "29/29 [==============================] - 1s 24ms/step - loss: 97.1810 - accuracy: 1.1834e-04 - val_loss: 329.6581 - val_accuracy: 0.0000e+00\n",
            "Epoch 258/1000\n",
            "29/29 [==============================] - 1s 23ms/step - loss: 98.9946 - accuracy: 1.1834e-04 - val_loss: 318.8618 - val_accuracy: 0.0000e+00\n",
            "Epoch 259/1000\n",
            "29/29 [==============================] - 1s 23ms/step - loss: 95.6944 - accuracy: 1.1834e-04 - val_loss: 387.7321 - val_accuracy: 0.0000e+00\n",
            "Epoch 260/1000\n",
            "29/29 [==============================] - 1s 24ms/step - loss: 97.9565 - accuracy: 1.1834e-04 - val_loss: 444.4358 - val_accuracy: 0.0000e+00\n",
            "Epoch 261/1000\n",
            "29/29 [==============================] - 1s 23ms/step - loss: 97.6355 - accuracy: 1.1834e-04 - val_loss: 315.6099 - val_accuracy: 0.0000e+00\n",
            "Epoch 262/1000\n",
            "29/29 [==============================] - 1s 22ms/step - loss: 94.4365 - accuracy: 1.1834e-04 - val_loss: 355.2309 - val_accuracy: 0.0000e+00\n",
            "Epoch 263/1000\n",
            "29/29 [==============================] - 1s 23ms/step - loss: 95.6624 - accuracy: 1.1834e-04 - val_loss: 445.7344 - val_accuracy: 0.0000e+00\n",
            "Epoch 264/1000\n",
            "29/29 [==============================] - 1s 23ms/step - loss: 99.0862 - accuracy: 1.1834e-04 - val_loss: 322.5168 - val_accuracy: 0.0000e+00\n",
            "Epoch 265/1000\n",
            "29/29 [==============================] - 1s 22ms/step - loss: 91.8859 - accuracy: 1.1834e-04 - val_loss: 492.1780 - val_accuracy: 0.0000e+00\n",
            "Epoch 266/1000\n",
            "29/29 [==============================] - 1s 23ms/step - loss: 92.5601 - accuracy: 1.1834e-04 - val_loss: 338.2812 - val_accuracy: 0.0000e+00\n",
            "Epoch 267/1000\n",
            "29/29 [==============================] - 1s 23ms/step - loss: 94.4242 - accuracy: 1.1834e-04 - val_loss: 324.3866 - val_accuracy: 0.0000e+00\n",
            "Epoch 268/1000\n",
            "29/29 [==============================] - 1s 23ms/step - loss: 94.4242 - accuracy: 1.1834e-04 - val_loss: 268.6589 - val_accuracy: 0.0000e+00\n",
            "Epoch 269/1000\n",
            "29/29 [==============================] - 1s 24ms/step - loss: 93.7370 - accuracy: 1.1834e-04 - val_loss: 336.5619 - val_accuracy: 0.0000e+00\n",
            "Epoch 270/1000\n",
            "29/29 [==============================] - 1s 25ms/step - loss: 94.9334 - accuracy: 1.1834e-04 - val_loss: 331.1185 - val_accuracy: 0.0000e+00\n",
            "Epoch 271/1000\n",
            "29/29 [==============================] - 1s 26ms/step - loss: 89.8717 - accuracy: 1.1834e-04 - val_loss: 328.6289 - val_accuracy: 0.0000e+00\n",
            "Epoch 272/1000\n",
            "29/29 [==============================] - 1s 25ms/step - loss: 89.0337 - accuracy: 1.1834e-04 - val_loss: 354.1122 - val_accuracy: 0.0000e+00\n",
            "Epoch 273/1000\n",
            "29/29 [==============================] - 1s 26ms/step - loss: 88.3560 - accuracy: 1.1834e-04 - val_loss: 379.7800 - val_accuracy: 0.0000e+00\n",
            "Epoch 274/1000\n",
            "29/29 [==============================] - 1s 26ms/step - loss: 86.3862 - accuracy: 1.1834e-04 - val_loss: 298.4977 - val_accuracy: 0.0000e+00\n",
            "Epoch 275/1000\n",
            "29/29 [==============================] - 1s 23ms/step - loss: 98.9319 - accuracy: 1.1834e-04 - val_loss: 256.3356 - val_accuracy: 0.0000e+00\n",
            "Epoch 276/1000\n",
            "29/29 [==============================] - 1s 23ms/step - loss: 92.2552 - accuracy: 1.1834e-04 - val_loss: 399.6368 - val_accuracy: 0.0000e+00\n",
            "Epoch 277/1000\n",
            "29/29 [==============================] - 1s 23ms/step - loss: 94.1999 - accuracy: 1.1834e-04 - val_loss: 453.8936 - val_accuracy: 0.0000e+00\n",
            "Epoch 278/1000\n",
            "29/29 [==============================] - 1s 23ms/step - loss: 89.1004 - accuracy: 1.1834e-04 - val_loss: 330.0987 - val_accuracy: 0.0000e+00\n",
            "Epoch 279/1000\n",
            "29/29 [==============================] - 1s 24ms/step - loss: 84.5548 - accuracy: 1.1834e-04 - val_loss: 370.9536 - val_accuracy: 0.0000e+00\n",
            "Epoch 280/1000\n",
            "29/29 [==============================] - 1s 23ms/step - loss: 91.0731 - accuracy: 1.1834e-04 - val_loss: 335.6870 - val_accuracy: 0.0000e+00\n",
            "Epoch 281/1000\n",
            "29/29 [==============================] - 1s 23ms/step - loss: 89.4136 - accuracy: 1.1834e-04 - val_loss: 321.9012 - val_accuracy: 0.0000e+00\n",
            "Epoch 282/1000\n",
            "29/29 [==============================] - 1s 23ms/step - loss: 88.1650 - accuracy: 1.1834e-04 - val_loss: 483.2149 - val_accuracy: 0.0000e+00\n",
            "Epoch 283/1000\n",
            "29/29 [==============================] - 1s 22ms/step - loss: 98.5225 - accuracy: 1.1834e-04 - val_loss: 361.3803 - val_accuracy: 0.0000e+00\n",
            "Epoch 284/1000\n",
            "29/29 [==============================] - 1s 23ms/step - loss: 90.3112 - accuracy: 1.1834e-04 - val_loss: 430.6895 - val_accuracy: 0.0000e+00\n",
            "Epoch 285/1000\n",
            "29/29 [==============================] - 1s 23ms/step - loss: 87.2605 - accuracy: 1.1834e-04 - val_loss: 362.9324 - val_accuracy: 0.0000e+00\n",
            "Epoch 286/1000\n",
            "29/29 [==============================] - 1s 23ms/step - loss: 83.0939 - accuracy: 1.1834e-04 - val_loss: 395.4956 - val_accuracy: 0.0000e+00\n",
            "Epoch 287/1000\n",
            "29/29 [==============================] - 1s 24ms/step - loss: 85.1651 - accuracy: 1.1834e-04 - val_loss: 377.3586 - val_accuracy: 0.0000e+00\n",
            "Epoch 288/1000\n",
            "29/29 [==============================] - 1s 23ms/step - loss: 94.8042 - accuracy: 1.1834e-04 - val_loss: 371.9576 - val_accuracy: 0.0000e+00\n",
            "Epoch 289/1000\n",
            "29/29 [==============================] - 1s 24ms/step - loss: 88.3119 - accuracy: 1.1834e-04 - val_loss: 491.0346 - val_accuracy: 0.0000e+00\n",
            "Epoch 290/1000\n",
            "29/29 [==============================] - 1s 25ms/step - loss: 84.3382 - accuracy: 1.1834e-04 - val_loss: 357.9080 - val_accuracy: 0.0000e+00\n",
            "Epoch 291/1000\n",
            "29/29 [==============================] - 1s 26ms/step - loss: 98.8034 - accuracy: 1.1834e-04 - val_loss: 323.3874 - val_accuracy: 0.0000e+00\n",
            "Epoch 292/1000\n",
            "29/29 [==============================] - 1s 26ms/step - loss: 88.9361 - accuracy: 1.1834e-04 - val_loss: 367.4063 - val_accuracy: 0.0000e+00\n",
            "Epoch 293/1000\n",
            "29/29 [==============================] - 1s 24ms/step - loss: 83.9501 - accuracy: 1.1834e-04 - val_loss: 301.9490 - val_accuracy: 0.0000e+00\n",
            "Epoch 294/1000\n",
            "29/29 [==============================] - 1s 24ms/step - loss: 80.6456 - accuracy: 1.1834e-04 - val_loss: 390.2235 - val_accuracy: 0.0000e+00\n",
            "Epoch 295/1000\n",
            "29/29 [==============================] - 1s 23ms/step - loss: 84.6947 - accuracy: 1.1834e-04 - val_loss: 361.7640 - val_accuracy: 0.0000e+00\n",
            "Epoch 296/1000\n",
            "29/29 [==============================] - 1s 22ms/step - loss: 85.4781 - accuracy: 1.1834e-04 - val_loss: 445.7527 - val_accuracy: 0.0000e+00\n",
            "Epoch 297/1000\n",
            "29/29 [==============================] - 1s 23ms/step - loss: 89.5786 - accuracy: 1.1834e-04 - val_loss: 497.8386 - val_accuracy: 0.0000e+00\n",
            "Epoch 298/1000\n",
            "29/29 [==============================] - 1s 23ms/step - loss: 82.6560 - accuracy: 1.1834e-04 - val_loss: 442.4368 - val_accuracy: 0.0000e+00\n",
            "Epoch 299/1000\n",
            "29/29 [==============================] - 1s 23ms/step - loss: 86.9622 - accuracy: 1.1834e-04 - val_loss: 358.6103 - val_accuracy: 0.0000e+00\n",
            "Epoch 300/1000\n",
            "29/29 [==============================] - 1s 22ms/step - loss: 81.9764 - accuracy: 1.1834e-04 - val_loss: 374.3105 - val_accuracy: 0.0000e+00\n",
            "Epoch 301/1000\n",
            "29/29 [==============================] - 1s 24ms/step - loss: 85.3570 - accuracy: 1.1834e-04 - val_loss: 313.6257 - val_accuracy: 0.0000e+00\n",
            "Epoch 302/1000\n",
            "29/29 [==============================] - 1s 23ms/step - loss: 81.7300 - accuracy: 1.1834e-04 - val_loss: 537.0366 - val_accuracy: 0.0000e+00\n",
            "Epoch 303/1000\n",
            "29/29 [==============================] - 1s 23ms/step - loss: 84.1998 - accuracy: 1.1834e-04 - val_loss: 441.1563 - val_accuracy: 0.0000e+00\n",
            "Epoch 304/1000\n",
            "29/29 [==============================] - 1s 24ms/step - loss: 82.9801 - accuracy: 1.1834e-04 - val_loss: 436.9796 - val_accuracy: 0.0000e+00\n",
            "Epoch 305/1000\n",
            "29/29 [==============================] - 1s 24ms/step - loss: 83.0844 - accuracy: 1.1834e-04 - val_loss: 381.9145 - val_accuracy: 0.0000e+00\n",
            "Epoch 306/1000\n",
            "29/29 [==============================] - 1s 23ms/step - loss: 78.6735 - accuracy: 1.1834e-04 - val_loss: 350.0150 - val_accuracy: 0.0000e+00\n",
            "Epoch 307/1000\n",
            "29/29 [==============================] - 1s 22ms/step - loss: 82.9757 - accuracy: 1.1834e-04 - val_loss: 558.0088 - val_accuracy: 0.0000e+00\n",
            "Epoch 308/1000\n",
            "29/29 [==============================] - 1s 25ms/step - loss: 103.7914 - accuracy: 1.1834e-04 - val_loss: 633.8807 - val_accuracy: 0.0000e+00\n",
            "Epoch 309/1000\n",
            "29/29 [==============================] - 1s 27ms/step - loss: 92.9158 - accuracy: 1.1834e-04 - val_loss: 374.9809 - val_accuracy: 0.0000e+00\n",
            "Epoch 310/1000\n",
            "29/29 [==============================] - 1s 26ms/step - loss: 84.5093 - accuracy: 1.1834e-04 - val_loss: 287.3823 - val_accuracy: 0.0000e+00\n",
            "Epoch 311/1000\n",
            "29/29 [==============================] - 1s 27ms/step - loss: 82.6502 - accuracy: 1.1834e-04 - val_loss: 377.4121 - val_accuracy: 0.0000e+00\n",
            "Epoch 312/1000\n",
            "29/29 [==============================] - 1s 23ms/step - loss: 82.1846 - accuracy: 1.1834e-04 - val_loss: 434.7801 - val_accuracy: 0.0000e+00\n",
            "Epoch 313/1000\n",
            "29/29 [==============================] - 1s 23ms/step - loss: 84.5916 - accuracy: 1.1834e-04 - val_loss: 352.3418 - val_accuracy: 0.0000e+00\n",
            "Epoch 314/1000\n",
            "29/29 [==============================] - 1s 22ms/step - loss: 83.9449 - accuracy: 1.1834e-04 - val_loss: 373.7233 - val_accuracy: 0.0000e+00\n",
            "Epoch 315/1000\n",
            "29/29 [==============================] - 1s 23ms/step - loss: 77.2126 - accuracy: 1.1834e-04 - val_loss: 323.4408 - val_accuracy: 0.0000e+00\n",
            "Epoch 316/1000\n",
            "29/29 [==============================] - 1s 23ms/step - loss: 80.1872 - accuracy: 1.1834e-04 - val_loss: 342.6145 - val_accuracy: 0.0000e+00\n",
            "Epoch 317/1000\n",
            "29/29 [==============================] - 1s 23ms/step - loss: 79.4487 - accuracy: 1.1834e-04 - val_loss: 398.7773 - val_accuracy: 0.0000e+00\n",
            "Epoch 318/1000\n",
            "29/29 [==============================] - 1s 23ms/step - loss: 73.8358 - accuracy: 1.1834e-04 - val_loss: 428.9602 - val_accuracy: 0.0000e+00\n",
            "Epoch 319/1000\n",
            "29/29 [==============================] - 1s 22ms/step - loss: 86.7699 - accuracy: 1.1834e-04 - val_loss: 373.2229 - val_accuracy: 0.0000e+00\n",
            "Epoch 320/1000\n",
            "29/29 [==============================] - 1s 24ms/step - loss: 77.7442 - accuracy: 1.1834e-04 - val_loss: 290.8701 - val_accuracy: 0.0000e+00\n",
            "Epoch 321/1000\n",
            "29/29 [==============================] - 1s 23ms/step - loss: 77.1627 - accuracy: 1.1834e-04 - val_loss: 297.7864 - val_accuracy: 0.0000e+00\n",
            "Epoch 322/1000\n",
            "29/29 [==============================] - 1s 24ms/step - loss: 77.3042 - accuracy: 1.1834e-04 - val_loss: 424.0948 - val_accuracy: 0.0000e+00\n",
            "Epoch 323/1000\n",
            "29/29 [==============================] - 1s 23ms/step - loss: 78.5618 - accuracy: 1.1834e-04 - val_loss: 289.4281 - val_accuracy: 0.0000e+00\n",
            "Epoch 324/1000\n",
            "29/29 [==============================] - 1s 24ms/step - loss: 75.0884 - accuracy: 1.1834e-04 - val_loss: 320.8070 - val_accuracy: 0.0000e+00\n",
            "Epoch 325/1000\n",
            "29/29 [==============================] - 1s 22ms/step - loss: 73.5799 - accuracy: 1.1834e-04 - val_loss: 300.9233 - val_accuracy: 0.0000e+00\n",
            "Epoch 326/1000\n",
            "29/29 [==============================] - 1s 24ms/step - loss: 75.7117 - accuracy: 1.1834e-04 - val_loss: 324.8379 - val_accuracy: 0.0000e+00\n",
            "Epoch 327/1000\n",
            "29/29 [==============================] - 1s 27ms/step - loss: 80.1875 - accuracy: 1.1834e-04 - val_loss: 328.1159 - val_accuracy: 0.0000e+00\n",
            "Epoch 328/1000\n",
            "29/29 [==============================] - 1s 26ms/step - loss: 79.3469 - accuracy: 1.1834e-04 - val_loss: 368.3461 - val_accuracy: 0.0000e+00\n",
            "Epoch 329/1000\n",
            "29/29 [==============================] - 1s 26ms/step - loss: 73.5725 - accuracy: 1.1834e-04 - val_loss: 305.5454 - val_accuracy: 0.0000e+00\n",
            "Epoch 330/1000\n",
            "29/29 [==============================] - 1s 27ms/step - loss: 77.0465 - accuracy: 1.1834e-04 - val_loss: 348.6793 - val_accuracy: 0.0000e+00\n",
            "Epoch 331/1000\n",
            "29/29 [==============================] - 1s 22ms/step - loss: 72.3315 - accuracy: 1.1834e-04 - val_loss: 393.8389 - val_accuracy: 0.0000e+00\n",
            "Epoch 332/1000\n",
            "29/29 [==============================] - 1s 22ms/step - loss: 72.7656 - accuracy: 1.1834e-04 - val_loss: 382.7038 - val_accuracy: 0.0000e+00\n",
            "Epoch 333/1000\n",
            "29/29 [==============================] - 1s 23ms/step - loss: 74.3733 - accuracy: 1.1834e-04 - val_loss: 353.8185 - val_accuracy: 0.0000e+00\n",
            "Epoch 334/1000\n",
            "29/29 [==============================] - 1s 24ms/step - loss: 74.6924 - accuracy: 1.1834e-04 - val_loss: 261.2178 - val_accuracy: 0.0000e+00\n",
            "Epoch 335/1000\n",
            "29/29 [==============================] - 1s 23ms/step - loss: 74.3021 - accuracy: 1.1834e-04 - val_loss: 294.4813 - val_accuracy: 0.0000e+00\n",
            "Epoch 336/1000\n",
            "29/29 [==============================] - 1s 22ms/step - loss: 73.2963 - accuracy: 1.1834e-04 - val_loss: 376.8150 - val_accuracy: 0.0000e+00\n",
            "Epoch 337/1000\n",
            "29/29 [==============================] - 1s 23ms/step - loss: 73.6418 - accuracy: 1.1834e-04 - val_loss: 406.7710 - val_accuracy: 0.0000e+00\n",
            "Epoch 338/1000\n",
            "29/29 [==============================] - 1s 23ms/step - loss: 71.3290 - accuracy: 1.1834e-04 - val_loss: 419.0827 - val_accuracy: 0.0000e+00\n",
            "Epoch 339/1000\n",
            "29/29 [==============================] - 1s 22ms/step - loss: 73.8484 - accuracy: 1.1834e-04 - val_loss: 344.6653 - val_accuracy: 0.0000e+00\n",
            "Epoch 340/1000\n",
            "29/29 [==============================] - 1s 23ms/step - loss: 73.8170 - accuracy: 1.1834e-04 - val_loss: 342.7955 - val_accuracy: 0.0000e+00\n",
            "Epoch 341/1000\n",
            "29/29 [==============================] - 1s 22ms/step - loss: 74.3384 - accuracy: 1.1834e-04 - val_loss: 347.9650 - val_accuracy: 0.0000e+00\n",
            "Epoch 342/1000\n",
            "29/29 [==============================] - 1s 22ms/step - loss: 69.8934 - accuracy: 1.1834e-04 - val_loss: 361.4015 - val_accuracy: 0.0000e+00\n",
            "Epoch 343/1000\n",
            "29/29 [==============================] - 1s 24ms/step - loss: 69.8368 - accuracy: 1.1834e-04 - val_loss: 349.7698 - val_accuracy: 0.0000e+00\n",
            "Epoch 344/1000\n",
            "29/29 [==============================] - 1s 23ms/step - loss: 81.7383 - accuracy: 1.1834e-04 - val_loss: 330.5904 - val_accuracy: 0.0000e+00\n",
            "Epoch 345/1000\n",
            "29/29 [==============================] - 1s 24ms/step - loss: 71.7542 - accuracy: 1.1834e-04 - val_loss: 352.1098 - val_accuracy: 0.0000e+00\n",
            "Epoch 346/1000\n",
            "29/29 [==============================] - 1s 24ms/step - loss: 71.3989 - accuracy: 1.1834e-04 - val_loss: 275.5542 - val_accuracy: 0.0000e+00\n",
            "Epoch 347/1000\n",
            "29/29 [==============================] - 1s 25ms/step - loss: 74.5473 - accuracy: 1.1834e-04 - val_loss: 359.9037 - val_accuracy: 0.0000e+00\n",
            "Epoch 348/1000\n",
            "29/29 [==============================] - 1s 26ms/step - loss: 71.7862 - accuracy: 1.1834e-04 - val_loss: 343.2368 - val_accuracy: 0.0000e+00\n",
            "Epoch 349/1000\n",
            "29/29 [==============================] - 1s 29ms/step - loss: 71.8291 - accuracy: 1.1834e-04 - val_loss: 322.9657 - val_accuracy: 0.0000e+00\n",
            "Epoch 350/1000\n",
            "29/29 [==============================] - 1s 23ms/step - loss: 68.8648 - accuracy: 1.1834e-04 - val_loss: 315.7146 - val_accuracy: 0.0000e+00\n",
            "Epoch 351/1000\n",
            "29/29 [==============================] - 1s 23ms/step - loss: 69.4828 - accuracy: 1.1834e-04 - val_loss: 399.2654 - val_accuracy: 0.0000e+00\n",
            "Epoch 352/1000\n",
            "29/29 [==============================] - 1s 22ms/step - loss: 70.3555 - accuracy: 1.1834e-04 - val_loss: 422.9220 - val_accuracy: 0.0000e+00\n",
            "Epoch 353/1000\n",
            "29/29 [==============================] - 1s 22ms/step - loss: 74.9060 - accuracy: 1.1834e-04 - val_loss: 382.7230 - val_accuracy: 0.0000e+00\n",
            "Epoch 354/1000\n",
            "29/29 [==============================] - 1s 23ms/step - loss: 72.0437 - accuracy: 1.1834e-04 - val_loss: 314.8703 - val_accuracy: 0.0000e+00\n",
            "Epoch 355/1000\n",
            "29/29 [==============================] - 1s 22ms/step - loss: 70.7397 - accuracy: 1.1834e-04 - val_loss: 270.5336 - val_accuracy: 0.0000e+00\n",
            "Epoch 356/1000\n",
            "29/29 [==============================] - 1s 22ms/step - loss: 77.9044 - accuracy: 1.1834e-04 - val_loss: 353.5704 - val_accuracy: 0.0000e+00\n",
            "Epoch 357/1000\n",
            "29/29 [==============================] - 1s 22ms/step - loss: 66.4327 - accuracy: 1.1834e-04 - val_loss: 333.6771 - val_accuracy: 0.0000e+00\n",
            "Epoch 358/1000\n",
            "29/29 [==============================] - 1s 22ms/step - loss: 65.2777 - accuracy: 1.1834e-04 - val_loss: 339.1154 - val_accuracy: 0.0000e+00\n",
            "Epoch 359/1000\n",
            "29/29 [==============================] - 1s 24ms/step - loss: 66.8850 - accuracy: 1.1834e-04 - val_loss: 453.7333 - val_accuracy: 0.0000e+00\n",
            "Epoch 360/1000\n",
            "29/29 [==============================] - 1s 24ms/step - loss: 77.8164 - accuracy: 1.1834e-04 - val_loss: 367.6691 - val_accuracy: 0.0000e+00\n",
            "Epoch 361/1000\n",
            "29/29 [==============================] - 1s 23ms/step - loss: 73.1099 - accuracy: 1.1834e-04 - val_loss: 412.0486 - val_accuracy: 0.0000e+00\n",
            "Epoch 362/1000\n",
            "29/29 [==============================] - 1s 23ms/step - loss: 67.0456 - accuracy: 1.1834e-04 - val_loss: 450.9821 - val_accuracy: 0.0000e+00\n",
            "Epoch 363/1000\n",
            "29/29 [==============================] - 1s 23ms/step - loss: 67.0027 - accuracy: 1.1834e-04 - val_loss: 331.2408 - val_accuracy: 0.0000e+00\n",
            "Epoch 364/1000\n",
            "29/29 [==============================] - 1s 23ms/step - loss: 67.3907 - accuracy: 1.1834e-04 - val_loss: 323.0454 - val_accuracy: 0.0000e+00\n",
            "Epoch 365/1000\n",
            "29/29 [==============================] - 1s 27ms/step - loss: 70.1497 - accuracy: 1.1834e-04 - val_loss: 317.1668 - val_accuracy: 0.0000e+00\n",
            "Epoch 366/1000\n",
            "29/29 [==============================] - 1s 25ms/step - loss: 74.9922 - accuracy: 1.1834e-04 - val_loss: 389.0093 - val_accuracy: 0.0000e+00\n",
            "Epoch 367/1000\n",
            "29/29 [==============================] - 1s 27ms/step - loss: 75.2176 - accuracy: 1.1834e-04 - val_loss: 511.0987 - val_accuracy: 0.0000e+00\n",
            "Epoch 368/1000\n",
            "29/29 [==============================] - 1s 26ms/step - loss: 70.0299 - accuracy: 1.1834e-04 - val_loss: 320.1562 - val_accuracy: 0.0000e+00\n",
            "Epoch 369/1000\n",
            "29/29 [==============================] - 1s 23ms/step - loss: 68.0237 - accuracy: 1.1834e-04 - val_loss: 335.8201 - val_accuracy: 0.0000e+00\n",
            "Epoch 370/1000\n",
            "29/29 [==============================] - 1s 23ms/step - loss: 65.4427 - accuracy: 1.1834e-04 - val_loss: 309.2533 - val_accuracy: 0.0000e+00\n",
            "Epoch 371/1000\n",
            "29/29 [==============================] - 1s 22ms/step - loss: 62.0246 - accuracy: 1.1834e-04 - val_loss: 353.9618 - val_accuracy: 0.0000e+00\n",
            "Epoch 372/1000\n",
            "29/29 [==============================] - 1s 23ms/step - loss: 64.2464 - accuracy: 1.1834e-04 - val_loss: 397.9100 - val_accuracy: 0.0000e+00\n",
            "Epoch 373/1000\n",
            "29/29 [==============================] - 1s 22ms/step - loss: 70.4401 - accuracy: 1.1834e-04 - val_loss: 343.8049 - val_accuracy: 0.0000e+00\n",
            "Epoch 374/1000\n",
            "29/29 [==============================] - 1s 22ms/step - loss: 61.4090 - accuracy: 1.1834e-04 - val_loss: 338.1221 - val_accuracy: 0.0000e+00\n",
            "Epoch 375/1000\n",
            "29/29 [==============================] - 1s 23ms/step - loss: 64.4249 - accuracy: 1.1834e-04 - val_loss: 351.5294 - val_accuracy: 0.0000e+00\n",
            "Epoch 376/1000\n",
            "29/29 [==============================] - 1s 24ms/step - loss: 67.5348 - accuracy: 1.1834e-04 - val_loss: 383.0372 - val_accuracy: 0.0000e+00\n",
            "Epoch 377/1000\n",
            "29/29 [==============================] - 1s 22ms/step - loss: 62.6779 - accuracy: 1.1834e-04 - val_loss: 326.7541 - val_accuracy: 0.0000e+00\n",
            "Epoch 378/1000\n",
            "29/29 [==============================] - 1s 24ms/step - loss: 62.3946 - accuracy: 1.1834e-04 - val_loss: 325.1661 - val_accuracy: 0.0000e+00\n",
            "Epoch 379/1000\n",
            "29/29 [==============================] - 1s 23ms/step - loss: 64.7457 - accuracy: 1.1834e-04 - val_loss: 396.5886 - val_accuracy: 0.0000e+00\n",
            "Epoch 380/1000\n",
            "29/29 [==============================] - 1s 24ms/step - loss: 68.4717 - accuracy: 1.1834e-04 - val_loss: 313.4709 - val_accuracy: 0.0000e+00\n",
            "Epoch 381/1000\n",
            "29/29 [==============================] - 1s 23ms/step - loss: 62.0817 - accuracy: 1.1834e-04 - val_loss: 353.1527 - val_accuracy: 0.0000e+00\n",
            "Epoch 382/1000\n",
            "29/29 [==============================] - 1s 23ms/step - loss: 61.7983 - accuracy: 1.1834e-04 - val_loss: 444.7328 - val_accuracy: 0.0000e+00\n",
            "Epoch 383/1000\n",
            "29/29 [==============================] - 1s 24ms/step - loss: 60.3849 - accuracy: 1.1834e-04 - val_loss: 268.4387 - val_accuracy: 0.0000e+00\n",
            "Epoch 384/1000\n",
            "29/29 [==============================] - 1s 27ms/step - loss: 62.0140 - accuracy: 1.1834e-04 - val_loss: 417.2658 - val_accuracy: 0.0000e+00\n",
            "Epoch 385/1000\n",
            "29/29 [==============================] - 1s 26ms/step - loss: 62.1694 - accuracy: 1.1834e-04 - val_loss: 296.3822 - val_accuracy: 0.0000e+00\n",
            "Epoch 386/1000\n",
            "29/29 [==============================] - 1s 27ms/step - loss: 64.5416 - accuracy: 1.1834e-04 - val_loss: 297.0047 - val_accuracy: 0.0000e+00\n",
            "Epoch 387/1000\n",
            "29/29 [==============================] - 1s 26ms/step - loss: 60.3465 - accuracy: 1.1834e-04 - val_loss: 329.5848 - val_accuracy: 0.0000e+00\n",
            "Epoch 388/1000\n",
            "29/29 [==============================] - 1s 23ms/step - loss: 61.5657 - accuracy: 1.1834e-04 - val_loss: 385.8067 - val_accuracy: 0.0000e+00\n",
            "Epoch 389/1000\n",
            "29/29 [==============================] - 1s 22ms/step - loss: 63.6531 - accuracy: 1.1834e-04 - val_loss: 612.3505 - val_accuracy: 0.0000e+00\n",
            "Epoch 390/1000\n",
            "29/29 [==============================] - 1s 22ms/step - loss: 63.2699 - accuracy: 1.1834e-04 - val_loss: 396.2858 - val_accuracy: 0.0000e+00\n",
            "Epoch 391/1000\n",
            "29/29 [==============================] - 1s 23ms/step - loss: 61.9394 - accuracy: 1.1834e-04 - val_loss: 338.6125 - val_accuracy: 0.0000e+00\n",
            "Epoch 392/1000\n",
            "29/29 [==============================] - 1s 23ms/step - loss: 62.8840 - accuracy: 1.1834e-04 - val_loss: 326.2296 - val_accuracy: 0.0000e+00\n",
            "Epoch 393/1000\n",
            "29/29 [==============================] - 1s 24ms/step - loss: 59.8720 - accuracy: 1.1834e-04 - val_loss: 347.1953 - val_accuracy: 0.0000e+00\n",
            "Epoch 394/1000\n",
            "29/29 [==============================] - 1s 23ms/step - loss: 61.8975 - accuracy: 1.1834e-04 - val_loss: 339.6119 - val_accuracy: 0.0000e+00\n",
            "Epoch 395/1000\n",
            "29/29 [==============================] - 1s 23ms/step - loss: 64.9110 - accuracy: 1.1834e-04 - val_loss: 344.1852 - val_accuracy: 0.0000e+00\n",
            "Epoch 396/1000\n",
            "29/29 [==============================] - 1s 22ms/step - loss: 60.4601 - accuracy: 1.1834e-04 - val_loss: 371.8969 - val_accuracy: 0.0000e+00\n",
            "Epoch 397/1000\n",
            "29/29 [==============================] - 1s 23ms/step - loss: 71.8797 - accuracy: 1.1834e-04 - val_loss: 288.0865 - val_accuracy: 0.0000e+00\n",
            "Epoch 398/1000\n",
            "29/29 [==============================] - 1s 24ms/step - loss: 64.1455 - accuracy: 1.1834e-04 - val_loss: 308.0941 - val_accuracy: 0.0000e+00\n",
            "Epoch 399/1000\n",
            "29/29 [==============================] - 1s 23ms/step - loss: 58.8872 - accuracy: 1.1834e-04 - val_loss: 343.8668 - val_accuracy: 0.0000e+00\n",
            "Epoch 400/1000\n",
            "29/29 [==============================] - 1s 23ms/step - loss: 63.7529 - accuracy: 1.1834e-04 - val_loss: 391.5801 - val_accuracy: 0.0000e+00\n",
            "Epoch 401/1000\n",
            "29/29 [==============================] - 1s 23ms/step - loss: 63.5327 - accuracy: 1.1834e-04 - val_loss: 319.1697 - val_accuracy: 0.0000e+00\n",
            "Epoch 402/1000\n",
            "29/29 [==============================] - 1s 24ms/step - loss: 62.5338 - accuracy: 1.1834e-04 - val_loss: 416.4156 - val_accuracy: 0.0000e+00\n",
            "Epoch 403/1000\n",
            "29/29 [==============================] - 1s 25ms/step - loss: 56.6723 - accuracy: 1.1834e-04 - val_loss: 375.9732 - val_accuracy: 0.0000e+00\n",
            "Epoch 404/1000\n",
            "29/29 [==============================] - 1s 24ms/step - loss: 63.9590 - accuracy: 1.1834e-04 - val_loss: 352.6815 - val_accuracy: 0.0000e+00\n",
            "Epoch 405/1000\n",
            "29/29 [==============================] - 1s 26ms/step - loss: 55.9571 - accuracy: 1.1834e-04 - val_loss: 302.8217 - val_accuracy: 0.0000e+00\n",
            "Epoch 406/1000\n",
            "29/29 [==============================] - 1s 26ms/step - loss: 57.9032 - accuracy: 1.1834e-04 - val_loss: 364.2532 - val_accuracy: 0.0000e+00\n",
            "Epoch 407/1000\n",
            "29/29 [==============================] - 1s 22ms/step - loss: 58.8617 - accuracy: 1.1834e-04 - val_loss: 339.1872 - val_accuracy: 0.0000e+00\n",
            "Epoch 408/1000\n",
            "29/29 [==============================] - 1s 24ms/step - loss: 57.7734 - accuracy: 1.1834e-04 - val_loss: 345.8407 - val_accuracy: 0.0000e+00\n",
            "Epoch 409/1000\n",
            "29/29 [==============================] - 1s 24ms/step - loss: 57.9763 - accuracy: 1.1834e-04 - val_loss: 391.0213 - val_accuracy: 0.0000e+00\n",
            "Epoch 410/1000\n",
            "29/29 [==============================] - 1s 23ms/step - loss: 64.0075 - accuracy: 1.1834e-04 - val_loss: 413.7356 - val_accuracy: 0.0000e+00\n",
            "Epoch 411/1000\n",
            "29/29 [==============================] - 1s 24ms/step - loss: 57.1033 - accuracy: 1.1834e-04 - val_loss: 337.0672 - val_accuracy: 0.0000e+00\n",
            "Epoch 412/1000\n",
            "29/29 [==============================] - 1s 23ms/step - loss: 58.7524 - accuracy: 1.1834e-04 - val_loss: 420.8222 - val_accuracy: 0.0000e+00\n",
            "Epoch 413/1000\n",
            "29/29 [==============================] - 1s 23ms/step - loss: 57.5344 - accuracy: 1.1834e-04 - val_loss: 374.7680 - val_accuracy: 0.0000e+00\n",
            "Epoch 414/1000\n",
            "29/29 [==============================] - 1s 24ms/step - loss: 56.0383 - accuracy: 1.1834e-04 - val_loss: 314.0789 - val_accuracy: 0.0000e+00\n",
            "Epoch 415/1000\n",
            "29/29 [==============================] - 1s 23ms/step - loss: 57.1326 - accuracy: 1.1834e-04 - val_loss: 374.7125 - val_accuracy: 0.0000e+00\n",
            "Epoch 416/1000\n",
            "29/29 [==============================] - 1s 22ms/step - loss: 53.1204 - accuracy: 1.1834e-04 - val_loss: 388.2324 - val_accuracy: 0.0000e+00\n",
            "Epoch 417/1000\n",
            "29/29 [==============================] - 1s 23ms/step - loss: 56.6181 - accuracy: 1.1834e-04 - val_loss: 322.9158 - val_accuracy: 0.0000e+00\n",
            "Epoch 418/1000\n",
            "29/29 [==============================] - 1s 22ms/step - loss: 61.3122 - accuracy: 1.1834e-04 - val_loss: 287.1080 - val_accuracy: 0.0000e+00\n",
            "Epoch 419/1000\n",
            "29/29 [==============================] - 1s 24ms/step - loss: 57.1183 - accuracy: 1.1834e-04 - val_loss: 349.9989 - val_accuracy: 0.0000e+00\n",
            "Epoch 420/1000\n",
            "29/29 [==============================] - 1s 23ms/step - loss: 57.9106 - accuracy: 1.1834e-04 - val_loss: 373.1473 - val_accuracy: 0.0000e+00\n",
            "Epoch 421/1000\n",
            "29/29 [==============================] - 1s 25ms/step - loss: 55.1392 - accuracy: 1.1834e-04 - val_loss: 337.1603 - val_accuracy: 0.0000e+00\n",
            "Epoch 422/1000\n",
            "29/29 [==============================] - 1s 27ms/step - loss: 58.3370 - accuracy: 1.1834e-04 - val_loss: 391.8030 - val_accuracy: 0.0000e+00\n",
            "Epoch 423/1000\n",
            "29/29 [==============================] - 1s 27ms/step - loss: 57.0565 - accuracy: 1.1834e-04 - val_loss: 339.7236 - val_accuracy: 0.0000e+00\n",
            "Epoch 424/1000\n",
            "29/29 [==============================] - 1s 25ms/step - loss: 54.5134 - accuracy: 1.1834e-04 - val_loss: 362.8149 - val_accuracy: 0.0000e+00\n",
            "Epoch 425/1000\n",
            "29/29 [==============================] - 1s 26ms/step - loss: 60.1988 - accuracy: 1.1834e-04 - val_loss: 356.3837 - val_accuracy: 0.0000e+00\n",
            "Epoch 426/1000\n",
            "29/29 [==============================] - 1s 24ms/step - loss: 60.1323 - accuracy: 1.1834e-04 - val_loss: 331.2515 - val_accuracy: 0.0000e+00\n",
            "Epoch 427/1000\n",
            "29/29 [==============================] - 1s 22ms/step - loss: 52.6915 - accuracy: 1.1834e-04 - val_loss: 316.9284 - val_accuracy: 0.0000e+00\n",
            "Epoch 428/1000\n",
            "29/29 [==============================] - 1s 25ms/step - loss: 55.9292 - accuracy: 1.1834e-04 - val_loss: 348.6115 - val_accuracy: 0.0000e+00\n",
            "Epoch 429/1000\n",
            "29/29 [==============================] - 1s 22ms/step - loss: 55.0869 - accuracy: 1.1834e-04 - val_loss: 368.7562 - val_accuracy: 0.0000e+00\n",
            "Epoch 430/1000\n",
            "29/29 [==============================] - 1s 23ms/step - loss: 54.4514 - accuracy: 1.1834e-04 - val_loss: 393.3177 - val_accuracy: 0.0000e+00\n",
            "Epoch 431/1000\n",
            "29/29 [==============================] - 1s 23ms/step - loss: 56.2425 - accuracy: 1.1834e-04 - val_loss: 291.7337 - val_accuracy: 0.0000e+00\n",
            "Epoch 432/1000\n",
            "29/29 [==============================] - 1s 23ms/step - loss: 52.4529 - accuracy: 1.1834e-04 - val_loss: 365.6027 - val_accuracy: 0.0000e+00\n",
            "Epoch 433/1000\n",
            "29/29 [==============================] - 1s 23ms/step - loss: 53.0990 - accuracy: 1.1834e-04 - val_loss: 302.3530 - val_accuracy: 0.0000e+00\n",
            "Epoch 434/1000\n",
            "29/29 [==============================] - 1s 23ms/step - loss: 53.5079 - accuracy: 1.1834e-04 - val_loss: 345.8423 - val_accuracy: 0.0000e+00\n",
            "Epoch 435/1000\n",
            "29/29 [==============================] - 1s 23ms/step - loss: 54.0960 - accuracy: 1.1834e-04 - val_loss: 354.6397 - val_accuracy: 0.0000e+00\n",
            "Epoch 436/1000\n",
            "29/29 [==============================] - 1s 23ms/step - loss: 54.3518 - accuracy: 1.1834e-04 - val_loss: 328.0026 - val_accuracy: 0.0000e+00\n",
            "Epoch 437/1000\n",
            "29/29 [==============================] - 1s 22ms/step - loss: 59.5498 - accuracy: 1.1834e-04 - val_loss: 416.6052 - val_accuracy: 0.0000e+00\n",
            "Epoch 438/1000\n",
            "29/29 [==============================] - 1s 24ms/step - loss: 51.4627 - accuracy: 1.1834e-04 - val_loss: 326.7535 - val_accuracy: 0.0000e+00\n",
            "Epoch 439/1000\n",
            "29/29 [==============================] - 1s 22ms/step - loss: 50.7478 - accuracy: 1.1834e-04 - val_loss: 330.0632 - val_accuracy: 0.0000e+00\n",
            "Epoch 440/1000\n",
            "29/29 [==============================] - 1s 26ms/step - loss: 51.3835 - accuracy: 1.1834e-04 - val_loss: 351.6464 - val_accuracy: 0.0000e+00\n",
            "Epoch 441/1000\n",
            "29/29 [==============================] - 1s 25ms/step - loss: 54.9829 - accuracy: 1.1834e-04 - val_loss: 356.7028 - val_accuracy: 0.0000e+00\n",
            "Epoch 442/1000\n",
            "29/29 [==============================] - 1s 25ms/step - loss: 53.7533 - accuracy: 1.1834e-04 - val_loss: 390.7374 - val_accuracy: 0.0000e+00\n",
            "Epoch 443/1000\n",
            "29/29 [==============================] - 1s 24ms/step - loss: 54.3331 - accuracy: 1.1834e-04 - val_loss: 318.0582 - val_accuracy: 0.0000e+00\n",
            "Epoch 444/1000\n",
            "29/29 [==============================] - 1s 26ms/step - loss: 55.8489 - accuracy: 1.1834e-04 - val_loss: 424.0736 - val_accuracy: 0.0000e+00\n",
            "Epoch 445/1000\n",
            "29/29 [==============================] - 1s 23ms/step - loss: 59.5682 - accuracy: 1.1834e-04 - val_loss: 317.7941 - val_accuracy: 0.0000e+00\n",
            "Epoch 446/1000\n",
            "29/29 [==============================] - 1s 24ms/step - loss: 50.8629 - accuracy: 1.1834e-04 - val_loss: 422.5363 - val_accuracy: 0.0000e+00\n",
            "Epoch 447/1000\n",
            "29/29 [==============================] - 1s 23ms/step - loss: 50.5738 - accuracy: 1.1834e-04 - val_loss: 339.5049 - val_accuracy: 0.0000e+00\n",
            "Epoch 448/1000\n",
            "29/29 [==============================] - 1s 24ms/step - loss: 49.4603 - accuracy: 1.1834e-04 - val_loss: 310.8056 - val_accuracy: 0.0000e+00\n",
            "Epoch 449/1000\n",
            "29/29 [==============================] - 1s 22ms/step - loss: 55.5030 - accuracy: 1.1834e-04 - val_loss: 350.4191 - val_accuracy: 0.0000e+00\n",
            "Epoch 450/1000\n",
            "29/29 [==============================] - 1s 23ms/step - loss: 51.1344 - accuracy: 1.1834e-04 - val_loss: 323.9892 - val_accuracy: 0.0000e+00\n",
            "Epoch 451/1000\n",
            "29/29 [==============================] - 1s 22ms/step - loss: 50.5377 - accuracy: 1.1834e-04 - val_loss: 330.6856 - val_accuracy: 0.0000e+00\n",
            "Epoch 452/1000\n",
            "29/29 [==============================] - 1s 23ms/step - loss: 54.7141 - accuracy: 1.1834e-04 - val_loss: 352.5245 - val_accuracy: 0.0000e+00\n",
            "Epoch 453/1000\n",
            "29/29 [==============================] - 1s 24ms/step - loss: 51.1662 - accuracy: 1.1834e-04 - val_loss: 380.4031 - val_accuracy: 0.0000e+00\n",
            "Epoch 454/1000\n",
            "29/29 [==============================] - 1s 23ms/step - loss: 54.5386 - accuracy: 1.1834e-04 - val_loss: 399.5609 - val_accuracy: 0.0000e+00\n",
            "Epoch 455/1000\n",
            "29/29 [==============================] - 1s 23ms/step - loss: 49.7006 - accuracy: 1.1834e-04 - val_loss: 341.2499 - val_accuracy: 0.0000e+00\n",
            "Epoch 456/1000\n",
            "29/29 [==============================] - 1s 23ms/step - loss: 50.4974 - accuracy: 1.1834e-04 - val_loss: 311.9054 - val_accuracy: 0.0000e+00\n",
            "Epoch 457/1000\n",
            "29/29 [==============================] - 1s 24ms/step - loss: 49.0612 - accuracy: 1.1834e-04 - val_loss: 393.2482 - val_accuracy: 0.0000e+00\n",
            "Epoch 458/1000\n",
            "29/29 [==============================] - 1s 24ms/step - loss: 56.4955 - accuracy: 1.1834e-04 - val_loss: 379.6155 - val_accuracy: 0.0000e+00\n",
            "Epoch 459/1000\n",
            "29/29 [==============================] - 1s 25ms/step - loss: 47.3635 - accuracy: 1.1834e-04 - val_loss: 403.1102 - val_accuracy: 0.0000e+00\n",
            "Epoch 460/1000\n",
            "29/29 [==============================] - 1s 27ms/step - loss: 56.6797 - accuracy: 1.1834e-04 - val_loss: 391.0646 - val_accuracy: 0.0000e+00\n",
            "Epoch 461/1000\n",
            "29/29 [==============================] - 1s 25ms/step - loss: 47.7985 - accuracy: 1.1834e-04 - val_loss: 361.1213 - val_accuracy: 0.0000e+00\n",
            "Epoch 462/1000\n",
            "29/29 [==============================] - 1s 27ms/step - loss: 52.6635 - accuracy: 1.1834e-04 - val_loss: 472.0864 - val_accuracy: 0.0000e+00\n",
            "Epoch 463/1000\n",
            "29/29 [==============================] - 1s 25ms/step - loss: 60.0608 - accuracy: 1.1834e-04 - val_loss: 361.9400 - val_accuracy: 0.0000e+00\n",
            "Epoch 464/1000\n",
            "29/29 [==============================] - 1s 24ms/step - loss: 52.7500 - accuracy: 1.1834e-04 - val_loss: 374.5842 - val_accuracy: 0.0000e+00\n",
            "Epoch 465/1000\n",
            "29/29 [==============================] - 1s 24ms/step - loss: 50.3919 - accuracy: 1.1834e-04 - val_loss: 339.0505 - val_accuracy: 0.0000e+00\n",
            "Epoch 466/1000\n",
            "29/29 [==============================] - 1s 23ms/step - loss: 51.1407 - accuracy: 1.1834e-04 - val_loss: 364.5341 - val_accuracy: 0.0000e+00\n",
            "Epoch 467/1000\n",
            "29/29 [==============================] - 1s 24ms/step - loss: 55.8135 - accuracy: 1.1834e-04 - val_loss: 403.2800 - val_accuracy: 0.0000e+00\n",
            "Epoch 468/1000\n",
            "29/29 [==============================] - 1s 24ms/step - loss: 50.6311 - accuracy: 1.1834e-04 - val_loss: 393.0555 - val_accuracy: 0.0000e+00\n",
            "Epoch 469/1000\n",
            "29/29 [==============================] - 1s 23ms/step - loss: 47.0754 - accuracy: 1.1834e-04 - val_loss: 362.0463 - val_accuracy: 0.0000e+00\n",
            "Epoch 470/1000\n",
            "29/29 [==============================] - 1s 24ms/step - loss: 51.0221 - accuracy: 1.1834e-04 - val_loss: 372.6489 - val_accuracy: 0.0000e+00\n",
            "Epoch 471/1000\n",
            "29/29 [==============================] - 1s 24ms/step - loss: 50.7243 - accuracy: 1.1834e-04 - val_loss: 338.7419 - val_accuracy: 0.0000e+00\n",
            "Epoch 472/1000\n",
            "29/29 [==============================] - 1s 23ms/step - loss: 45.3881 - accuracy: 1.1834e-04 - val_loss: 428.6436 - val_accuracy: 0.0000e+00\n",
            "Epoch 473/1000\n",
            "29/29 [==============================] - 1s 23ms/step - loss: 51.3628 - accuracy: 1.1834e-04 - val_loss: 355.0284 - val_accuracy: 0.0000e+00\n",
            "Epoch 474/1000\n",
            "29/29 [==============================] - 1s 23ms/step - loss: 45.7535 - accuracy: 1.1834e-04 - val_loss: 372.4677 - val_accuracy: 0.0000e+00\n",
            "Epoch 475/1000\n",
            "29/29 [==============================] - 1s 23ms/step - loss: 45.8698 - accuracy: 1.1834e-04 - val_loss: 340.7236 - val_accuracy: 0.0000e+00\n",
            "Epoch 476/1000\n",
            "29/29 [==============================] - 1s 23ms/step - loss: 46.8933 - accuracy: 1.1834e-04 - val_loss: 356.0407 - val_accuracy: 0.0000e+00\n",
            "Epoch 477/1000\n",
            "29/29 [==============================] - 1s 22ms/step - loss: 47.2753 - accuracy: 1.1834e-04 - val_loss: 434.3846 - val_accuracy: 0.0000e+00\n",
            "Epoch 478/1000\n",
            "29/29 [==============================] - 1s 27ms/step - loss: 47.1484 - accuracy: 1.1834e-04 - val_loss: 451.0231 - val_accuracy: 0.0000e+00\n",
            "Epoch 479/1000\n",
            "29/29 [==============================] - 1s 27ms/step - loss: 49.6269 - accuracy: 1.1834e-04 - val_loss: 338.5341 - val_accuracy: 0.0000e+00\n",
            "Epoch 480/1000\n",
            "29/29 [==============================] - 1s 26ms/step - loss: 53.7707 - accuracy: 1.1834e-04 - val_loss: 360.9799 - val_accuracy: 0.0000e+00\n",
            "Epoch 481/1000\n",
            "29/29 [==============================] - 1s 27ms/step - loss: 47.1221 - accuracy: 1.1834e-04 - val_loss: 388.3335 - val_accuracy: 0.0000e+00\n",
            "Epoch 482/1000\n",
            "29/29 [==============================] - 1s 25ms/step - loss: 56.0685 - accuracy: 1.1834e-04 - val_loss: 334.7888 - val_accuracy: 0.0000e+00\n",
            "Epoch 483/1000\n",
            "29/29 [==============================] - 1s 24ms/step - loss: 50.2441 - accuracy: 1.1834e-04 - val_loss: 339.4679 - val_accuracy: 0.0000e+00\n",
            "Epoch 484/1000\n",
            "29/29 [==============================] - 1s 23ms/step - loss: 48.6726 - accuracy: 1.1834e-04 - val_loss: 423.3282 - val_accuracy: 0.0000e+00\n",
            "Epoch 485/1000\n",
            "29/29 [==============================] - 1s 23ms/step - loss: 46.5014 - accuracy: 1.1834e-04 - val_loss: 354.1583 - val_accuracy: 0.0000e+00\n",
            "Epoch 486/1000\n",
            "29/29 [==============================] - 1s 23ms/step - loss: 47.4407 - accuracy: 1.1834e-04 - val_loss: 333.2873 - val_accuracy: 0.0000e+00\n",
            "Epoch 487/1000\n",
            "29/29 [==============================] - 1s 22ms/step - loss: 47.8071 - accuracy: 1.1834e-04 - val_loss: 328.7582 - val_accuracy: 0.0000e+00\n",
            "Epoch 488/1000\n",
            "29/29 [==============================] - 1s 23ms/step - loss: 48.9453 - accuracy: 1.1834e-04 - val_loss: 335.6194 - val_accuracy: 0.0000e+00\n",
            "Epoch 489/1000\n",
            "29/29 [==============================] - 1s 22ms/step - loss: 45.7422 - accuracy: 1.1834e-04 - val_loss: 323.1684 - val_accuracy: 0.0000e+00\n",
            "Epoch 490/1000\n",
            "29/29 [==============================] - 1s 22ms/step - loss: 46.8252 - accuracy: 1.1834e-04 - val_loss: 368.2217 - val_accuracy: 0.0000e+00\n",
            "Epoch 491/1000\n",
            "29/29 [==============================] - 1s 23ms/step - loss: 44.0265 - accuracy: 1.1834e-04 - val_loss: 332.8439 - val_accuracy: 0.0000e+00\n",
            "Epoch 492/1000\n",
            "29/29 [==============================] - 1s 23ms/step - loss: 46.6924 - accuracy: 1.1834e-04 - val_loss: 372.2871 - val_accuracy: 0.0000e+00\n",
            "Epoch 493/1000\n",
            "29/29 [==============================] - 1s 23ms/step - loss: 49.4309 - accuracy: 1.1834e-04 - val_loss: 429.6289 - val_accuracy: 0.0000e+00\n",
            "Epoch 494/1000\n",
            "29/29 [==============================] - 1s 23ms/step - loss: 48.7751 - accuracy: 1.1834e-04 - val_loss: 365.6713 - val_accuracy: 0.0000e+00\n",
            "Epoch 495/1000\n",
            "29/29 [==============================] - 1s 24ms/step - loss: 45.6844 - accuracy: 1.1834e-04 - val_loss: 422.8818 - val_accuracy: 0.0000e+00\n",
            "Epoch 496/1000\n",
            "29/29 [==============================] - 1s 23ms/step - loss: 46.3281 - accuracy: 1.1834e-04 - val_loss: 349.4211 - val_accuracy: 0.0000e+00\n",
            "Epoch 497/1000\n",
            "29/29 [==============================] - 1s 26ms/step - loss: 45.2261 - accuracy: 1.1834e-04 - val_loss: 397.6957 - val_accuracy: 0.0000e+00\n",
            "Epoch 498/1000\n",
            "29/29 [==============================] - 1s 25ms/step - loss: 46.3422 - accuracy: 1.1834e-04 - val_loss: 359.5409 - val_accuracy: 0.0000e+00\n",
            "Epoch 499/1000\n",
            "29/29 [==============================] - 1s 28ms/step - loss: 42.3153 - accuracy: 1.1834e-04 - val_loss: 366.5103 - val_accuracy: 0.0000e+00\n",
            "Epoch 500/1000\n",
            "29/29 [==============================] - 1s 26ms/step - loss: 46.3230 - accuracy: 1.1834e-04 - val_loss: 349.8464 - val_accuracy: 0.0000e+00\n",
            "Epoch 501/1000\n",
            "29/29 [==============================] - 1s 26ms/step - loss: 46.3473 - accuracy: 1.1834e-04 - val_loss: 381.8677 - val_accuracy: 0.0000e+00\n",
            "Epoch 502/1000\n",
            "29/29 [==============================] - 1s 22ms/step - loss: 44.3603 - accuracy: 1.1834e-04 - val_loss: 364.0533 - val_accuracy: 0.0000e+00\n",
            "Epoch 503/1000\n",
            "29/29 [==============================] - 1s 23ms/step - loss: 45.1959 - accuracy: 1.1834e-04 - val_loss: 370.5538 - val_accuracy: 0.0000e+00\n",
            "Epoch 504/1000\n",
            "29/29 [==============================] - 1s 22ms/step - loss: 43.5266 - accuracy: 1.1834e-04 - val_loss: 391.4979 - val_accuracy: 0.0000e+00\n",
            "Epoch 505/1000\n",
            "29/29 [==============================] - 1s 24ms/step - loss: 46.6371 - accuracy: 1.1834e-04 - val_loss: 358.9833 - val_accuracy: 0.0000e+00\n",
            "Epoch 506/1000\n",
            "29/29 [==============================] - 1s 23ms/step - loss: 43.9981 - accuracy: 1.1834e-04 - val_loss: 383.1124 - val_accuracy: 0.0000e+00\n",
            "Epoch 507/1000\n",
            "29/29 [==============================] - 1s 23ms/step - loss: 42.6543 - accuracy: 1.1834e-04 - val_loss: 395.9758 - val_accuracy: 0.0000e+00\n",
            "Epoch 508/1000\n",
            "29/29 [==============================] - 1s 23ms/step - loss: 49.3560 - accuracy: 1.1834e-04 - val_loss: 351.8254 - val_accuracy: 0.0000e+00\n",
            "Epoch 509/1000\n",
            "29/29 [==============================] - 1s 23ms/step - loss: 52.9171 - accuracy: 1.1834e-04 - val_loss: 437.1342 - val_accuracy: 0.0000e+00\n",
            "Epoch 510/1000\n",
            "29/29 [==============================] - 1s 23ms/step - loss: 45.7386 - accuracy: 1.1834e-04 - val_loss: 362.6361 - val_accuracy: 0.0000e+00\n",
            "Epoch 511/1000\n",
            "29/29 [==============================] - 1s 23ms/step - loss: 42.1266 - accuracy: 1.1834e-04 - val_loss: 398.8834 - val_accuracy: 0.0000e+00\n",
            "Epoch 512/1000\n",
            "29/29 [==============================] - 1s 23ms/step - loss: 43.6331 - accuracy: 1.1834e-04 - val_loss: 411.8635 - val_accuracy: 0.0000e+00\n",
            "Epoch 513/1000\n",
            "29/29 [==============================] - 1s 24ms/step - loss: 41.4023 - accuracy: 1.1834e-04 - val_loss: 433.3405 - val_accuracy: 0.0000e+00\n",
            "Epoch 514/1000\n",
            "29/29 [==============================] - 1s 23ms/step - loss: 44.2572 - accuracy: 1.1834e-04 - val_loss: 393.8534 - val_accuracy: 0.0000e+00\n",
            "Epoch 515/1000\n",
            "29/29 [==============================] - 1s 23ms/step - loss: 42.5539 - accuracy: 1.1834e-04 - val_loss: 410.6772 - val_accuracy: 0.0000e+00\n",
            "Epoch 516/1000\n",
            "29/29 [==============================] - 1s 25ms/step - loss: 44.0957 - accuracy: 1.1834e-04 - val_loss: 408.8532 - val_accuracy: 0.0000e+00\n",
            "Epoch 517/1000\n",
            "29/29 [==============================] - 1s 27ms/step - loss: 44.8228 - accuracy: 1.1834e-04 - val_loss: 406.5596 - val_accuracy: 0.0000e+00\n",
            "Epoch 518/1000\n",
            "29/29 [==============================] - 1s 28ms/step - loss: 53.5555 - accuracy: 1.1834e-04 - val_loss: 449.8993 - val_accuracy: 0.0000e+00\n",
            "Epoch 519/1000\n",
            "29/29 [==============================] - 1s 26ms/step - loss: 50.5227 - accuracy: 1.1834e-04 - val_loss: 438.4166 - val_accuracy: 0.0000e+00\n",
            "Epoch 520/1000\n",
            "29/29 [==============================] - 1s 24ms/step - loss: 48.9500 - accuracy: 1.1834e-04 - val_loss: 405.7968 - val_accuracy: 0.0000e+00\n",
            "Epoch 521/1000\n",
            "29/29 [==============================] - 1s 24ms/step - loss: 43.5551 - accuracy: 1.1834e-04 - val_loss: 353.1799 - val_accuracy: 0.0000e+00\n",
            "Epoch 522/1000\n",
            "29/29 [==============================] - 1s 23ms/step - loss: 43.0546 - accuracy: 1.1834e-04 - val_loss: 453.4794 - val_accuracy: 0.0000e+00\n",
            "Epoch 523/1000\n",
            "29/29 [==============================] - 1s 23ms/step - loss: 45.3278 - accuracy: 1.1834e-04 - val_loss: 373.7544 - val_accuracy: 0.0000e+00\n",
            "Epoch 524/1000\n",
            "29/29 [==============================] - 1s 22ms/step - loss: 44.9756 - accuracy: 1.1834e-04 - val_loss: 364.8465 - val_accuracy: 0.0000e+00\n",
            "Epoch 525/1000\n",
            "29/29 [==============================] - 1s 23ms/step - loss: 51.3062 - accuracy: 1.1834e-04 - val_loss: 356.1504 - val_accuracy: 0.0000e+00\n",
            "Epoch 526/1000\n",
            "29/29 [==============================] - 1s 23ms/step - loss: 43.8502 - accuracy: 1.1834e-04 - val_loss: 459.1563 - val_accuracy: 0.0000e+00\n",
            "Epoch 527/1000\n",
            "29/29 [==============================] - 1s 24ms/step - loss: 44.4276 - accuracy: 1.1834e-04 - val_loss: 350.8826 - val_accuracy: 0.0000e+00\n",
            "Epoch 528/1000\n",
            "29/29 [==============================] - 1s 24ms/step - loss: 43.7960 - accuracy: 1.1834e-04 - val_loss: 426.9451 - val_accuracy: 0.0000e+00\n",
            "Epoch 529/1000\n",
            "29/29 [==============================] - 1s 23ms/step - loss: 52.9747 - accuracy: 1.1834e-04 - val_loss: 395.3990 - val_accuracy: 0.0000e+00\n",
            "Epoch 530/1000\n",
            "29/29 [==============================] - 1s 23ms/step - loss: 41.5154 - accuracy: 1.1834e-04 - val_loss: 433.7549 - val_accuracy: 0.0000e+00\n",
            "Epoch 531/1000\n",
            "29/29 [==============================] - 1s 23ms/step - loss: 47.7139 - accuracy: 1.1834e-04 - val_loss: 359.2194 - val_accuracy: 0.0000e+00\n",
            "Epoch 532/1000\n",
            "29/29 [==============================] - 1s 24ms/step - loss: 41.9288 - accuracy: 1.1834e-04 - val_loss: 419.4444 - val_accuracy: 0.0000e+00\n",
            "Epoch 533/1000\n",
            "29/29 [==============================] - 1s 23ms/step - loss: 40.2278 - accuracy: 1.1834e-04 - val_loss: 395.5042 - val_accuracy: 0.0000e+00\n",
            "Epoch 534/1000\n",
            "29/29 [==============================] - 1s 23ms/step - loss: 40.7087 - accuracy: 1.1834e-04 - val_loss: 383.2081 - val_accuracy: 0.0000e+00\n",
            "Epoch 535/1000\n",
            "29/29 [==============================] - 1s 26ms/step - loss: 41.3854 - accuracy: 1.1834e-04 - val_loss: 379.7909 - val_accuracy: 0.0000e+00\n",
            "Epoch 536/1000\n",
            "29/29 [==============================] - 1s 25ms/step - loss: 41.6450 - accuracy: 1.1834e-04 - val_loss: 422.8490 - val_accuracy: 0.0000e+00\n",
            "Epoch 537/1000\n",
            "29/29 [==============================] - 1s 22ms/step - loss: 40.9450 - accuracy: 1.1834e-04 - val_loss: 447.0005 - val_accuracy: 0.0000e+00\n",
            "Epoch 538/1000\n",
            "29/29 [==============================] - 1s 22ms/step - loss: 41.3801 - accuracy: 1.1834e-04 - val_loss: 391.6044 - val_accuracy: 0.0000e+00\n",
            "Epoch 539/1000\n",
            "29/29 [==============================] - 1s 23ms/step - loss: 42.9546 - accuracy: 1.1834e-04 - val_loss: 370.5407 - val_accuracy: 0.0000e+00\n",
            "Epoch 540/1000\n",
            "29/29 [==============================] - 1s 22ms/step - loss: 40.6168 - accuracy: 1.1834e-04 - val_loss: 443.6239 - val_accuracy: 0.0000e+00\n",
            "Epoch 541/1000\n",
            "29/29 [==============================] - 1s 22ms/step - loss: 41.2306 - accuracy: 1.1834e-04 - val_loss: 391.8569 - val_accuracy: 0.0000e+00\n",
            "Epoch 542/1000\n",
            "29/29 [==============================] - 1s 21ms/step - loss: 43.4363 - accuracy: 1.1834e-04 - val_loss: 399.6986 - val_accuracy: 0.0000e+00\n",
            "Epoch 543/1000\n",
            "29/29 [==============================] - 1s 20ms/step - loss: 38.8134 - accuracy: 1.1834e-04 - val_loss: 378.0206 - val_accuracy: 0.0000e+00\n",
            "Epoch 544/1000\n",
            "29/29 [==============================] - 1s 21ms/step - loss: 41.1482 - accuracy: 1.1834e-04 - val_loss: 423.5551 - val_accuracy: 0.0000e+00\n",
            "Epoch 545/1000\n",
            "29/29 [==============================] - 1s 22ms/step - loss: 40.1357 - accuracy: 1.1834e-04 - val_loss: 420.8881 - val_accuracy: 0.0000e+00\n",
            "Epoch 546/1000\n",
            "29/29 [==============================] - 1s 22ms/step - loss: 43.3412 - accuracy: 1.1834e-04 - val_loss: 396.6104 - val_accuracy: 0.0000e+00\n",
            "Epoch 547/1000\n",
            "29/29 [==============================] - 1s 20ms/step - loss: 40.4290 - accuracy: 1.1834e-04 - val_loss: 381.9291 - val_accuracy: 0.0000e+00\n",
            "Epoch 548/1000\n",
            "29/29 [==============================] - 1s 20ms/step - loss: 39.0643 - accuracy: 1.1834e-04 - val_loss: 441.9280 - val_accuracy: 0.0000e+00\n",
            "Epoch 549/1000\n",
            "29/29 [==============================] - 1s 22ms/step - loss: 40.7915 - accuracy: 1.1834e-04 - val_loss: 441.5938 - val_accuracy: 0.0000e+00\n",
            "Epoch 550/1000\n",
            "29/29 [==============================] - 1s 21ms/step - loss: 41.1776 - accuracy: 1.1834e-04 - val_loss: 422.3216 - val_accuracy: 0.0000e+00\n",
            "Epoch 551/1000\n",
            "29/29 [==============================] - 1s 20ms/step - loss: 42.9926 - accuracy: 1.1834e-04 - val_loss: 433.9710 - val_accuracy: 0.0000e+00\n",
            "Epoch 552/1000\n",
            "29/29 [==============================] - 1s 21ms/step - loss: 41.1559 - accuracy: 1.1834e-04 - val_loss: 344.1616 - val_accuracy: 0.0000e+00\n",
            "Epoch 553/1000\n",
            "29/29 [==============================] - 1s 22ms/step - loss: 40.9184 - accuracy: 1.1834e-04 - val_loss: 418.8651 - val_accuracy: 0.0000e+00\n",
            "Epoch 554/1000\n",
            "29/29 [==============================] - 1s 21ms/step - loss: 42.1027 - accuracy: 1.1834e-04 - val_loss: 370.4838 - val_accuracy: 0.0000e+00\n",
            "Epoch 555/1000\n",
            "29/29 [==============================] - 1s 22ms/step - loss: 46.7144 - accuracy: 1.1834e-04 - val_loss: 449.2447 - val_accuracy: 0.0000e+00\n",
            "Epoch 556/1000\n",
            "29/29 [==============================] - 1s 24ms/step - loss: 41.1339 - accuracy: 1.1834e-04 - val_loss: 396.9566 - val_accuracy: 0.0000e+00\n",
            "Epoch 557/1000\n",
            "29/29 [==============================] - 1s 23ms/step - loss: 38.5120 - accuracy: 1.1834e-04 - val_loss: 438.6620 - val_accuracy: 0.0000e+00\n",
            "Epoch 558/1000\n",
            "29/29 [==============================] - 1s 25ms/step - loss: 42.1545 - accuracy: 1.1834e-04 - val_loss: 419.6723 - val_accuracy: 0.0000e+00\n",
            "Epoch 559/1000\n",
            "29/29 [==============================] - 1s 24ms/step - loss: 37.9671 - accuracy: 1.1834e-04 - val_loss: 381.9086 - val_accuracy: 0.0000e+00\n",
            "Epoch 560/1000\n",
            "29/29 [==============================] - 1s 22ms/step - loss: 40.6025 - accuracy: 1.1834e-04 - val_loss: 376.6644 - val_accuracy: 0.0000e+00\n",
            "Epoch 561/1000\n",
            "29/29 [==============================] - 1s 22ms/step - loss: 45.9462 - accuracy: 1.1834e-04 - val_loss: 384.7749 - val_accuracy: 0.0000e+00\n",
            "Epoch 562/1000\n",
            "29/29 [==============================] - 1s 21ms/step - loss: 36.4286 - accuracy: 1.1834e-04 - val_loss: 368.5143 - val_accuracy: 0.0000e+00\n",
            "Epoch 563/1000\n",
            "29/29 [==============================] - 1s 21ms/step - loss: 40.1205 - accuracy: 1.1834e-04 - val_loss: 386.7267 - val_accuracy: 0.0000e+00\n",
            "Epoch 564/1000\n",
            "29/29 [==============================] - 1s 22ms/step - loss: 39.6146 - accuracy: 1.1834e-04 - val_loss: 391.0525 - val_accuracy: 0.0000e+00\n",
            "Epoch 565/1000\n",
            "29/29 [==============================] - 1s 31ms/step - loss: 39.6252 - accuracy: 1.1834e-04 - val_loss: 401.4747 - val_accuracy: 0.0000e+00\n",
            "Epoch 566/1000\n",
            "29/29 [==============================] - 1s 31ms/step - loss: 41.5458 - accuracy: 1.1834e-04 - val_loss: 530.2379 - val_accuracy: 0.0000e+00\n",
            "Epoch 567/1000\n",
            "29/29 [==============================] - 1s 33ms/step - loss: 40.9690 - accuracy: 1.1834e-04 - val_loss: 346.5921 - val_accuracy: 0.0000e+00\n",
            "Epoch 568/1000\n",
            "29/29 [==============================] - 1s 40ms/step - loss: 39.5317 - accuracy: 1.1834e-04 - val_loss: 414.1231 - val_accuracy: 0.0000e+00\n",
            "Epoch 569/1000\n",
            "29/29 [==============================] - 1s 25ms/step - loss: 42.1501 - accuracy: 1.1834e-04 - val_loss: 345.5653 - val_accuracy: 0.0000e+00\n",
            "Epoch 570/1000\n",
            "29/29 [==============================] - 1s 22ms/step - loss: 41.2294 - accuracy: 1.1834e-04 - val_loss: 431.3618 - val_accuracy: 0.0000e+00\n",
            "Epoch 571/1000\n",
            "29/29 [==============================] - 1s 23ms/step - loss: 38.1167 - accuracy: 1.1834e-04 - val_loss: 458.1314 - val_accuracy: 0.0000e+00\n",
            "Epoch 572/1000\n",
            "29/29 [==============================] - 1s 23ms/step - loss: 40.6894 - accuracy: 1.1834e-04 - val_loss: 406.6731 - val_accuracy: 0.0000e+00\n",
            "Epoch 573/1000\n",
            "29/29 [==============================] - 1s 24ms/step - loss: 38.2255 - accuracy: 1.1834e-04 - val_loss: 421.9722 - val_accuracy: 0.0000e+00\n",
            "Epoch 574/1000\n",
            "29/29 [==============================] - 1s 24ms/step - loss: 40.7109 - accuracy: 1.1834e-04 - val_loss: 426.4733 - val_accuracy: 0.0000e+00\n",
            "Epoch 575/1000\n",
            "29/29 [==============================] - 1s 23ms/step - loss: 42.4841 - accuracy: 1.1834e-04 - val_loss: 430.6086 - val_accuracy: 0.0000e+00\n",
            "Epoch 576/1000\n",
            "29/29 [==============================] - 1s 24ms/step - loss: 42.3476 - accuracy: 1.1834e-04 - val_loss: 387.9120 - val_accuracy: 0.0000e+00\n",
            "Epoch 577/1000\n",
            "29/29 [==============================] - 1s 23ms/step - loss: 42.3429 - accuracy: 1.1834e-04 - val_loss: 433.7849 - val_accuracy: 0.0000e+00\n",
            "Epoch 578/1000\n",
            "29/29 [==============================] - 1s 22ms/step - loss: 47.9854 - accuracy: 1.1834e-04 - val_loss: 472.1542 - val_accuracy: 0.0000e+00\n",
            "Epoch 579/1000\n",
            "29/29 [==============================] - 1s 21ms/step - loss: 39.0105 - accuracy: 1.1834e-04 - val_loss: 414.9460 - val_accuracy: 0.0000e+00\n",
            "Epoch 580/1000\n",
            "29/29 [==============================] - 1s 21ms/step - loss: 38.5049 - accuracy: 1.1834e-04 - val_loss: 398.3348 - val_accuracy: 0.0000e+00\n",
            "Epoch 581/1000\n",
            "29/29 [==============================] - 1s 21ms/step - loss: 44.8394 - accuracy: 1.1834e-04 - val_loss: 463.7366 - val_accuracy: 0.0000e+00\n",
            "Epoch 582/1000\n",
            "29/29 [==============================] - 1s 21ms/step - loss: 40.4794 - accuracy: 1.1834e-04 - val_loss: 444.3429 - val_accuracy: 0.0000e+00\n",
            "Epoch 583/1000\n",
            "29/29 [==============================] - 1s 21ms/step - loss: 37.2392 - accuracy: 1.1834e-04 - val_loss: 426.8250 - val_accuracy: 0.0000e+00\n",
            "Epoch 584/1000\n",
            "29/29 [==============================] - 1s 22ms/step - loss: 38.0135 - accuracy: 1.1834e-04 - val_loss: 366.3340 - val_accuracy: 0.0000e+00\n",
            "Epoch 585/1000\n",
            "29/29 [==============================] - 1s 23ms/step - loss: 38.9388 - accuracy: 1.1834e-04 - val_loss: 416.9013 - val_accuracy: 0.0000e+00\n",
            "Epoch 586/1000\n",
            "29/29 [==============================] - 1s 23ms/step - loss: 39.8726 - accuracy: 1.1834e-04 - val_loss: 409.1196 - val_accuracy: 0.0000e+00\n",
            "Epoch 587/1000\n",
            "29/29 [==============================] - 1s 21ms/step - loss: 36.2026 - accuracy: 1.1834e-04 - val_loss: 410.2372 - val_accuracy: 0.0000e+00\n",
            "Epoch 588/1000\n",
            "29/29 [==============================] - 1s 22ms/step - loss: 42.2648 - accuracy: 1.1834e-04 - val_loss: 463.4199 - val_accuracy: 0.0000e+00\n",
            "Epoch 589/1000\n",
            "29/29 [==============================] - 1s 20ms/step - loss: 42.8326 - accuracy: 1.1834e-04 - val_loss: 487.7738 - val_accuracy: 0.0000e+00\n",
            "Epoch 590/1000\n",
            "29/29 [==============================] - 1s 21ms/step - loss: 41.0219 - accuracy: 1.1834e-04 - val_loss: 412.4236 - val_accuracy: 0.0000e+00\n",
            "Epoch 591/1000\n",
            "29/29 [==============================] - 1s 22ms/step - loss: 36.4640 - accuracy: 1.1834e-04 - val_loss: 436.6237 - val_accuracy: 0.0000e+00\n",
            "Epoch 592/1000\n",
            "29/29 [==============================] - 1s 22ms/step - loss: 36.0103 - accuracy: 1.1834e-04 - val_loss: 400.2611 - val_accuracy: 0.0000e+00\n",
            "Epoch 593/1000\n",
            "29/29 [==============================] - 1s 23ms/step - loss: 36.7520 - accuracy: 1.1834e-04 - val_loss: 406.4773 - val_accuracy: 0.0000e+00\n",
            "Epoch 594/1000\n",
            "29/29 [==============================] - 1s 23ms/step - loss: 35.8120 - accuracy: 1.1834e-04 - val_loss: 412.6291 - val_accuracy: 0.0000e+00\n",
            "Epoch 595/1000\n",
            "29/29 [==============================] - 1s 22ms/step - loss: 35.9747 - accuracy: 1.1834e-04 - val_loss: 443.6678 - val_accuracy: 0.0000e+00\n",
            "Epoch 596/1000\n",
            "29/29 [==============================] - 1s 24ms/step - loss: 39.8145 - accuracy: 1.1834e-04 - val_loss: 435.7207 - val_accuracy: 0.0000e+00\n",
            "Epoch 597/1000\n",
            "29/29 [==============================] - 1s 23ms/step - loss: 36.6191 - accuracy: 1.1834e-04 - val_loss: 418.3055 - val_accuracy: 0.0000e+00\n",
            "Epoch 598/1000\n",
            "29/29 [==============================] - 1s 22ms/step - loss: 39.7317 - accuracy: 1.1834e-04 - val_loss: 419.3813 - val_accuracy: 0.0000e+00\n",
            "Epoch 599/1000\n",
            "29/29 [==============================] - 1s 21ms/step - loss: 44.6635 - accuracy: 1.1834e-04 - val_loss: 417.0208 - val_accuracy: 0.0000e+00\n",
            "Epoch 600/1000\n",
            "29/29 [==============================] - 1s 22ms/step - loss: 36.8365 - accuracy: 1.1834e-04 - val_loss: 412.4193 - val_accuracy: 0.0000e+00\n",
            "Epoch 601/1000\n",
            "29/29 [==============================] - 1s 21ms/step - loss: 37.6962 - accuracy: 1.1834e-04 - val_loss: 447.3203 - val_accuracy: 0.0000e+00\n",
            "Epoch 602/1000\n",
            "29/29 [==============================] - 1s 21ms/step - loss: 39.7066 - accuracy: 1.1834e-04 - val_loss: 434.4650 - val_accuracy: 0.0000e+00\n",
            "Epoch 603/1000\n",
            "29/29 [==============================] - 1s 22ms/step - loss: 42.9430 - accuracy: 1.1834e-04 - val_loss: 412.2079 - val_accuracy: 0.0000e+00\n",
            "Epoch 604/1000\n",
            "29/29 [==============================] - 1s 22ms/step - loss: 35.8822 - accuracy: 1.1834e-04 - val_loss: 399.2662 - val_accuracy: 0.0000e+00\n",
            "Epoch 605/1000\n",
            "29/29 [==============================] - 1s 22ms/step - loss: 37.9532 - accuracy: 1.1834e-04 - val_loss: 459.1473 - val_accuracy: 0.0000e+00\n",
            "Epoch 606/1000\n",
            "29/29 [==============================] - 1s 22ms/step - loss: 42.8057 - accuracy: 1.1834e-04 - val_loss: 371.8653 - val_accuracy: 0.0000e+00\n",
            "Epoch 607/1000\n",
            "29/29 [==============================] - 1s 22ms/step - loss: 36.4983 - accuracy: 1.1834e-04 - val_loss: 424.6502 - val_accuracy: 0.0000e+00\n",
            "Epoch 608/1000\n",
            "29/29 [==============================] - 1s 23ms/step - loss: 38.0715 - accuracy: 1.1834e-04 - val_loss: 444.4981 - val_accuracy: 0.0000e+00\n",
            "Epoch 609/1000\n",
            "29/29 [==============================] - 1s 21ms/step - loss: 37.1503 - accuracy: 1.1834e-04 - val_loss: 407.1198 - val_accuracy: 0.0000e+00\n",
            "Epoch 610/1000\n",
            "29/29 [==============================] - 1s 21ms/step - loss: 40.7555 - accuracy: 1.1834e-04 - val_loss: 448.6201 - val_accuracy: 0.0000e+00\n",
            "Epoch 611/1000\n",
            "29/29 [==============================] - 1s 22ms/step - loss: 41.8058 - accuracy: 1.1834e-04 - val_loss: 402.6753 - val_accuracy: 0.0000e+00\n",
            "Epoch 612/1000\n",
            "29/29 [==============================] - 1s 23ms/step - loss: 38.7522 - accuracy: 1.1834e-04 - val_loss: 415.3782 - val_accuracy: 0.0000e+00\n",
            "Epoch 613/1000\n",
            "29/29 [==============================] - 1s 24ms/step - loss: 36.7680 - accuracy: 1.1834e-04 - val_loss: 421.9309 - val_accuracy: 0.0000e+00\n",
            "Epoch 614/1000\n",
            "29/29 [==============================] - 1s 23ms/step - loss: 35.6034 - accuracy: 1.1834e-04 - val_loss: 403.4255 - val_accuracy: 0.0000e+00\n",
            "Epoch 615/1000\n",
            "29/29 [==============================] - 1s 24ms/step - loss: 35.6269 - accuracy: 1.1834e-04 - val_loss: 433.2107 - val_accuracy: 0.0000e+00\n",
            "Epoch 616/1000\n",
            "29/29 [==============================] - 1s 23ms/step - loss: 40.4791 - accuracy: 1.1834e-04 - val_loss: 366.7155 - val_accuracy: 0.0000e+00\n",
            "Epoch 617/1000\n",
            "29/29 [==============================] - 1s 22ms/step - loss: 35.0113 - accuracy: 1.1834e-04 - val_loss: 427.4064 - val_accuracy: 0.0000e+00\n",
            "Epoch 618/1000\n",
            "29/29 [==============================] - 1s 22ms/step - loss: 37.9247 - accuracy: 1.1834e-04 - val_loss: 461.1422 - val_accuracy: 0.0000e+00\n",
            "Epoch 619/1000\n",
            "29/29 [==============================] - 1s 21ms/step - loss: 37.7819 - accuracy: 1.1834e-04 - val_loss: 441.1504 - val_accuracy: 0.0000e+00\n",
            "Epoch 620/1000\n",
            "29/29 [==============================] - 1s 22ms/step - loss: 37.4897 - accuracy: 1.1834e-04 - val_loss: 464.6091 - val_accuracy: 0.0000e+00\n",
            "Epoch 621/1000\n",
            "29/29 [==============================] - 1s 22ms/step - loss: 38.2161 - accuracy: 1.1834e-04 - val_loss: 401.4262 - val_accuracy: 0.0000e+00\n",
            "Epoch 622/1000\n",
            "29/29 [==============================] - 1s 22ms/step - loss: 40.5358 - accuracy: 1.1834e-04 - val_loss: 419.1466 - val_accuracy: 0.0000e+00\n",
            "Epoch 623/1000\n",
            "29/29 [==============================] - 1s 22ms/step - loss: 38.5587 - accuracy: 1.1834e-04 - val_loss: 406.4531 - val_accuracy: 0.0000e+00\n",
            "Epoch 624/1000\n",
            "29/29 [==============================] - 1s 21ms/step - loss: 43.9044 - accuracy: 1.1834e-04 - val_loss: 398.1583 - val_accuracy: 0.0000e+00\n",
            "Epoch 625/1000\n",
            "29/29 [==============================] - 1s 23ms/step - loss: 38.9875 - accuracy: 1.1834e-04 - val_loss: 523.7507 - val_accuracy: 0.0000e+00\n",
            "Epoch 626/1000\n",
            "29/29 [==============================] - 1s 23ms/step - loss: 35.0794 - accuracy: 1.1834e-04 - val_loss: 467.4140 - val_accuracy: 0.0000e+00\n",
            "Epoch 627/1000\n",
            "29/29 [==============================] - 1s 22ms/step - loss: 34.1958 - accuracy: 1.1834e-04 - val_loss: 447.5348 - val_accuracy: 0.0000e+00\n",
            "Epoch 628/1000\n",
            "29/29 [==============================] - 1s 21ms/step - loss: 35.8123 - accuracy: 1.1834e-04 - val_loss: 408.9874 - val_accuracy: 0.0000e+00\n",
            "Epoch 629/1000\n",
            "29/29 [==============================] - 1s 21ms/step - loss: 38.8182 - accuracy: 1.1834e-04 - val_loss: 385.8784 - val_accuracy: 0.0000e+00\n",
            "Epoch 630/1000\n",
            "29/29 [==============================] - 1s 21ms/step - loss: 38.8439 - accuracy: 1.1834e-04 - val_loss: 483.2550 - val_accuracy: 0.0000e+00\n",
            "Epoch 631/1000\n",
            "29/29 [==============================] - 1s 21ms/step - loss: 39.1844 - accuracy: 1.1834e-04 - val_loss: 401.1239 - val_accuracy: 0.0000e+00\n",
            "Epoch 632/1000\n",
            "29/29 [==============================] - 1s 21ms/step - loss: 37.7626 - accuracy: 1.1834e-04 - val_loss: 447.4123 - val_accuracy: 0.0000e+00\n",
            "Epoch 633/1000\n",
            "29/29 [==============================] - 1s 24ms/step - loss: 41.0788 - accuracy: 1.1834e-04 - val_loss: 457.4745 - val_accuracy: 0.0000e+00\n",
            "Epoch 634/1000\n",
            "29/29 [==============================] - 1s 23ms/step - loss: 35.2170 - accuracy: 1.1834e-04 - val_loss: 429.2833 - val_accuracy: 0.0000e+00\n",
            "Epoch 635/1000\n",
            "29/29 [==============================] - 1s 22ms/step - loss: 34.0456 - accuracy: 1.1834e-04 - val_loss: 399.1356 - val_accuracy: 0.0000e+00\n",
            "Epoch 636/1000\n",
            "29/29 [==============================] - 1s 23ms/step - loss: 38.9311 - accuracy: 1.1834e-04 - val_loss: 428.1931 - val_accuracy: 0.0000e+00\n",
            "Epoch 637/1000\n",
            "29/29 [==============================] - 1s 21ms/step - loss: 37.7228 - accuracy: 1.1834e-04 - val_loss: 384.1944 - val_accuracy: 0.0000e+00\n",
            "Epoch 638/1000\n",
            "29/29 [==============================] - 1s 21ms/step - loss: 39.1891 - accuracy: 1.1834e-04 - val_loss: 396.0091 - val_accuracy: 0.0000e+00\n",
            "Epoch 639/1000\n",
            "29/29 [==============================] - 1s 21ms/step - loss: 36.2518 - accuracy: 1.1834e-04 - val_loss: 434.9734 - val_accuracy: 0.0000e+00\n",
            "Epoch 640/1000\n",
            "29/29 [==============================] - 1s 21ms/step - loss: 39.1344 - accuracy: 1.1834e-04 - val_loss: 463.5608 - val_accuracy: 0.0000e+00\n",
            "Epoch 641/1000\n",
            "29/29 [==============================] - 1s 21ms/step - loss: 35.5207 - accuracy: 1.1834e-04 - val_loss: 466.4266 - val_accuracy: 0.0000e+00\n",
            "Epoch 642/1000\n",
            "29/29 [==============================] - 1s 22ms/step - loss: 40.8826 - accuracy: 1.1834e-04 - val_loss: 434.6056 - val_accuracy: 0.0000e+00\n",
            "Epoch 643/1000\n",
            "29/29 [==============================] - 1s 22ms/step - loss: 36.2600 - accuracy: 1.1834e-04 - val_loss: 408.5317 - val_accuracy: 0.0000e+00\n",
            "Epoch 644/1000\n",
            "29/29 [==============================] - 1s 21ms/step - loss: 34.6782 - accuracy: 1.1834e-04 - val_loss: 442.2326 - val_accuracy: 0.0000e+00\n",
            "Epoch 645/1000\n",
            "29/29 [==============================] - 1s 22ms/step - loss: 34.3644 - accuracy: 1.1834e-04 - val_loss: 449.2172 - val_accuracy: 0.0000e+00\n",
            "Epoch 646/1000\n",
            "29/29 [==============================] - 1s 22ms/step - loss: 40.3376 - accuracy: 1.1834e-04 - val_loss: 435.2561 - val_accuracy: 0.0000e+00\n",
            "Epoch 647/1000\n",
            "29/29 [==============================] - 1s 22ms/step - loss: 40.3156 - accuracy: 1.1834e-04 - val_loss: 434.9490 - val_accuracy: 0.0000e+00\n",
            "Epoch 648/1000\n",
            "29/29 [==============================] - 1s 21ms/step - loss: 34.1656 - accuracy: 1.1834e-04 - val_loss: 453.8756 - val_accuracy: 0.0000e+00\n",
            "Epoch 649/1000\n",
            "29/29 [==============================] - 1s 22ms/step - loss: 34.3447 - accuracy: 1.1834e-04 - val_loss: 412.5273 - val_accuracy: 0.0000e+00\n",
            "Epoch 650/1000\n",
            "29/29 [==============================] - 1s 20ms/step - loss: 40.8342 - accuracy: 1.1834e-04 - val_loss: 429.1507 - val_accuracy: 0.0000e+00\n",
            "Epoch 651/1000\n",
            "29/29 [==============================] - 1s 22ms/step - loss: 35.5030 - accuracy: 1.1834e-04 - val_loss: 427.2582 - val_accuracy: 0.0000e+00\n",
            "Epoch 652/1000\n",
            "29/29 [==============================] - 1s 22ms/step - loss: 33.9332 - accuracy: 1.1834e-04 - val_loss: 414.5493 - val_accuracy: 0.0000e+00\n",
            "Epoch 653/1000\n",
            "29/29 [==============================] - 1s 23ms/step - loss: 34.9137 - accuracy: 1.1834e-04 - val_loss: 446.0855 - val_accuracy: 0.0000e+00\n",
            "Epoch 654/1000\n",
            "29/29 [==============================] - 1s 22ms/step - loss: 37.9870 - accuracy: 1.1834e-04 - val_loss: 438.6822 - val_accuracy: 0.0000e+00\n",
            "Epoch 655/1000\n",
            "29/29 [==============================] - 1s 24ms/step - loss: 38.6323 - accuracy: 1.1834e-04 - val_loss: 396.3801 - val_accuracy: 0.0000e+00\n",
            "Epoch 656/1000\n",
            "29/29 [==============================] - 1s 23ms/step - loss: 36.0992 - accuracy: 1.1834e-04 - val_loss: 398.3253 - val_accuracy: 0.0000e+00\n",
            "Epoch 657/1000\n",
            "29/29 [==============================] - 1s 23ms/step - loss: 37.1127 - accuracy: 1.1834e-04 - val_loss: 375.9973 - val_accuracy: 0.0000e+00\n",
            "Epoch 658/1000\n",
            "29/29 [==============================] - 1s 21ms/step - loss: 41.5219 - accuracy: 1.1834e-04 - val_loss: 414.5609 - val_accuracy: 0.0000e+00\n",
            "Epoch 659/1000\n",
            "29/29 [==============================] - 1s 21ms/step - loss: 40.1742 - accuracy: 1.1834e-04 - val_loss: 390.2398 - val_accuracy: 0.0000e+00\n",
            "Epoch 660/1000\n",
            "29/29 [==============================] - 1s 21ms/step - loss: 31.6039 - accuracy: 1.1834e-04 - val_loss: 412.2723 - val_accuracy: 0.0000e+00\n",
            "Epoch 661/1000\n",
            "29/29 [==============================] - 1s 22ms/step - loss: 33.9988 - accuracy: 1.1834e-04 - val_loss: 412.3021 - val_accuracy: 0.0000e+00\n",
            "Epoch 662/1000\n",
            "29/29 [==============================] - 1s 21ms/step - loss: 33.2290 - accuracy: 1.1834e-04 - val_loss: 405.3288 - val_accuracy: 0.0000e+00\n",
            "Epoch 663/1000\n",
            "29/29 [==============================] - 1s 22ms/step - loss: 34.5888 - accuracy: 1.1834e-04 - val_loss: 376.0147 - val_accuracy: 0.0000e+00\n",
            "Epoch 664/1000\n",
            "29/29 [==============================] - 1s 23ms/step - loss: 41.0512 - accuracy: 1.1834e-04 - val_loss: 474.6136 - val_accuracy: 0.0000e+00\n",
            "Epoch 665/1000\n",
            "29/29 [==============================] - 1s 21ms/step - loss: 36.5892 - accuracy: 1.1834e-04 - val_loss: 453.6404 - val_accuracy: 0.0000e+00\n",
            "Epoch 666/1000\n",
            "29/29 [==============================] - 1s 22ms/step - loss: 33.1941 - accuracy: 1.1834e-04 - val_loss: 417.9901 - val_accuracy: 0.0000e+00\n",
            "Epoch 667/1000\n",
            "29/29 [==============================] - 1s 22ms/step - loss: 37.4010 - accuracy: 1.1834e-04 - val_loss: 409.7837 - val_accuracy: 0.0000e+00\n",
            "Epoch 668/1000\n",
            "29/29 [==============================] - 1s 21ms/step - loss: 32.8961 - accuracy: 1.1834e-04 - val_loss: 405.1750 - val_accuracy: 0.0000e+00\n",
            "Epoch 669/1000\n",
            "29/29 [==============================] - 1s 22ms/step - loss: 34.1067 - accuracy: 1.1834e-04 - val_loss: 432.5635 - val_accuracy: 0.0000e+00\n",
            "Epoch 670/1000\n",
            "29/29 [==============================] - 1s 21ms/step - loss: 32.9810 - accuracy: 1.1834e-04 - val_loss: 429.8172 - val_accuracy: 0.0000e+00\n",
            "Epoch 671/1000\n",
            "29/29 [==============================] - 1s 22ms/step - loss: 32.5337 - accuracy: 1.1834e-04 - val_loss: 398.6271 - val_accuracy: 0.0000e+00\n",
            "Epoch 672/1000\n",
            "29/29 [==============================] - 1s 23ms/step - loss: 34.5887 - accuracy: 1.1834e-04 - val_loss: 400.1889 - val_accuracy: 0.0000e+00\n",
            "Epoch 673/1000\n",
            "29/29 [==============================] - 1s 23ms/step - loss: 32.3259 - accuracy: 1.1834e-04 - val_loss: 430.9213 - val_accuracy: 0.0000e+00\n",
            "Epoch 674/1000\n",
            "29/29 [==============================] - 1s 25ms/step - loss: 38.0962 - accuracy: 1.1834e-04 - val_loss: 425.8931 - val_accuracy: 0.0000e+00\n",
            "Epoch 675/1000\n",
            "29/29 [==============================] - 1s 24ms/step - loss: 33.3194 - accuracy: 1.1834e-04 - val_loss: 435.6867 - val_accuracy: 0.0000e+00\n",
            "Epoch 676/1000\n",
            "29/29 [==============================] - 1s 25ms/step - loss: 34.7486 - accuracy: 1.1834e-04 - val_loss: 410.6416 - val_accuracy: 0.0000e+00\n",
            "Epoch 677/1000\n",
            "29/29 [==============================] - 1s 25ms/step - loss: 31.4100 - accuracy: 1.1834e-04 - val_loss: 429.7439 - val_accuracy: 0.0000e+00\n",
            "Epoch 678/1000\n",
            "29/29 [==============================] - 1s 22ms/step - loss: 30.7361 - accuracy: 1.1834e-04 - val_loss: 391.9874 - val_accuracy: 0.0000e+00\n",
            "Epoch 679/1000\n",
            "29/29 [==============================] - 1s 22ms/step - loss: 32.8765 - accuracy: 1.1834e-04 - val_loss: 399.3827 - val_accuracy: 0.0000e+00\n",
            "Epoch 680/1000\n",
            "29/29 [==============================] - 1s 22ms/step - loss: 32.1456 - accuracy: 1.1834e-04 - val_loss: 389.4762 - val_accuracy: 0.0000e+00\n",
            "Epoch 681/1000\n",
            "29/29 [==============================] - 1s 23ms/step - loss: 31.4726 - accuracy: 1.1834e-04 - val_loss: 412.2940 - val_accuracy: 0.0000e+00\n",
            "Epoch 682/1000\n",
            "29/29 [==============================] - 1s 21ms/step - loss: 32.0636 - accuracy: 1.1834e-04 - val_loss: 420.3839 - val_accuracy: 0.0000e+00\n",
            "Epoch 683/1000\n",
            "29/29 [==============================] - 1s 21ms/step - loss: 30.7780 - accuracy: 1.1834e-04 - val_loss: 417.0290 - val_accuracy: 0.0000e+00\n",
            "Epoch 684/1000\n",
            "29/29 [==============================] - 1s 22ms/step - loss: 36.2032 - accuracy: 1.1834e-04 - val_loss: 413.2729 - val_accuracy: 0.0000e+00\n",
            "Epoch 685/1000\n",
            "29/29 [==============================] - 1s 21ms/step - loss: 36.7389 - accuracy: 1.1834e-04 - val_loss: 381.5535 - val_accuracy: 0.0000e+00\n",
            "Epoch 686/1000\n",
            "29/29 [==============================] - 1s 22ms/step - loss: 36.2149 - accuracy: 1.1834e-04 - val_loss: 415.4488 - val_accuracy: 0.0000e+00\n",
            "Epoch 687/1000\n",
            "29/29 [==============================] - 1s 20ms/step - loss: 33.4797 - accuracy: 1.1834e-04 - val_loss: 397.2243 - val_accuracy: 0.0000e+00\n",
            "Epoch 688/1000\n",
            "29/29 [==============================] - 1s 21ms/step - loss: 40.4876 - accuracy: 1.1834e-04 - val_loss: 478.5330 - val_accuracy: 0.0000e+00\n",
            "Epoch 689/1000\n",
            "29/29 [==============================] - 1s 22ms/step - loss: 37.6282 - accuracy: 1.1834e-04 - val_loss: 435.9236 - val_accuracy: 0.0000e+00\n",
            "Epoch 690/1000\n",
            "29/29 [==============================] - 1s 21ms/step - loss: 37.0754 - accuracy: 1.1834e-04 - val_loss: 404.9789 - val_accuracy: 0.0000e+00\n",
            "Epoch 691/1000\n",
            "29/29 [==============================] - 1s 21ms/step - loss: 34.8887 - accuracy: 1.1834e-04 - val_loss: 448.1080 - val_accuracy: 0.0000e+00\n",
            "Epoch 692/1000\n",
            "29/29 [==============================] - 1s 22ms/step - loss: 33.8056 - accuracy: 1.1834e-04 - val_loss: 430.1159 - val_accuracy: 0.0000e+00\n",
            "Epoch 693/1000\n",
            "29/29 [==============================] - 1s 22ms/step - loss: 30.4433 - accuracy: 1.1834e-04 - val_loss: 453.9859 - val_accuracy: 0.0000e+00\n",
            "Epoch 694/1000\n",
            "29/29 [==============================] - 1s 22ms/step - loss: 30.3182 - accuracy: 1.1834e-04 - val_loss: 410.5598 - val_accuracy: 0.0000e+00\n",
            "Epoch 695/1000\n",
            "29/29 [==============================] - 1s 21ms/step - loss: 31.9716 - accuracy: 1.1834e-04 - val_loss: 442.5401 - val_accuracy: 0.0000e+00\n",
            "Epoch 696/1000\n",
            "29/29 [==============================] - 1s 22ms/step - loss: 34.8225 - accuracy: 1.1834e-04 - val_loss: 406.3756 - val_accuracy: 0.0000e+00\n",
            "Epoch 697/1000\n",
            "29/29 [==============================] - 1s 23ms/step - loss: 35.1527 - accuracy: 1.1834e-04 - val_loss: 429.3253 - val_accuracy: 0.0000e+00\n",
            "Epoch 698/1000\n",
            "29/29 [==============================] - 1s 21ms/step - loss: 33.8118 - accuracy: 1.1834e-04 - val_loss: 406.0888 - val_accuracy: 0.0000e+00\n",
            "Epoch 699/1000\n",
            "29/29 [==============================] - 1s 20ms/step - loss: 33.5097 - accuracy: 1.1834e-04 - val_loss: 390.1115 - val_accuracy: 0.0000e+00\n",
            "Epoch 700/1000\n",
            "29/29 [==============================] - 1s 22ms/step - loss: 33.4931 - accuracy: 1.1834e-04 - val_loss: 480.3680 - val_accuracy: 0.0000e+00\n",
            "Epoch 701/1000\n",
            "29/29 [==============================] - 1s 21ms/step - loss: 34.1587 - accuracy: 1.1834e-04 - val_loss: 439.9215 - val_accuracy: 0.0000e+00\n",
            "Epoch 702/1000\n",
            "29/29 [==============================] - 1s 21ms/step - loss: 33.0245 - accuracy: 1.1834e-04 - val_loss: 386.9476 - val_accuracy: 0.0000e+00\n",
            "Epoch 703/1000\n",
            "29/29 [==============================] - 1s 21ms/step - loss: 35.5115 - accuracy: 1.1834e-04 - val_loss: 438.4672 - val_accuracy: 0.0000e+00\n",
            "Epoch 704/1000\n",
            "29/29 [==============================] - 1s 21ms/step - loss: 35.9859 - accuracy: 1.1834e-04 - val_loss: 413.2323 - val_accuracy: 0.0000e+00\n",
            "Epoch 705/1000\n",
            "29/29 [==============================] - 1s 21ms/step - loss: 39.0879 - accuracy: 1.1834e-04 - val_loss: 359.1048 - val_accuracy: 0.0000e+00\n",
            "Epoch 706/1000\n",
            "29/29 [==============================] - 1s 21ms/step - loss: 33.7829 - accuracy: 1.1834e-04 - val_loss: 409.5975 - val_accuracy: 0.0000e+00\n",
            "Epoch 707/1000\n",
            "29/29 [==============================] - 1s 21ms/step - loss: 33.0423 - accuracy: 1.1834e-04 - val_loss: 461.0685 - val_accuracy: 0.0000e+00\n",
            "Epoch 708/1000\n",
            "29/29 [==============================] - 1s 21ms/step - loss: 31.9949 - accuracy: 1.1834e-04 - val_loss: 412.5059 - val_accuracy: 0.0000e+00\n",
            "Epoch 709/1000\n",
            "29/29 [==============================] - 1s 22ms/step - loss: 31.1654 - accuracy: 1.1834e-04 - val_loss: 425.3281 - val_accuracy: 0.0000e+00\n",
            "Epoch 710/1000\n",
            "29/29 [==============================] - 1s 22ms/step - loss: 38.6827 - accuracy: 1.1834e-04 - val_loss: 392.8432 - val_accuracy: 0.0000e+00\n",
            "Epoch 711/1000\n",
            "29/29 [==============================] - 1s 21ms/step - loss: 35.3711 - accuracy: 1.1834e-04 - val_loss: 406.1496 - val_accuracy: 0.0000e+00\n",
            "Epoch 712/1000\n",
            "29/29 [==============================] - 1s 21ms/step - loss: 35.2264 - accuracy: 1.1834e-04 - val_loss: 422.9088 - val_accuracy: 0.0000e+00\n",
            "Epoch 713/1000\n",
            "29/29 [==============================] - 1s 20ms/step - loss: 34.5858 - accuracy: 1.1834e-04 - val_loss: 448.2302 - val_accuracy: 0.0000e+00\n",
            "Epoch 714/1000\n",
            "29/29 [==============================] - 1s 22ms/step - loss: 31.6168 - accuracy: 1.1834e-04 - val_loss: 438.5499 - val_accuracy: 0.0000e+00\n",
            "Epoch 715/1000\n",
            "29/29 [==============================] - 1s 22ms/step - loss: 35.1539 - accuracy: 1.1834e-04 - val_loss: 421.1955 - val_accuracy: 0.0000e+00\n",
            "Epoch 716/1000\n",
            "29/29 [==============================] - 1s 24ms/step - loss: 32.3779 - accuracy: 1.1834e-04 - val_loss: 481.2408 - val_accuracy: 0.0000e+00\n",
            "Epoch 717/1000\n",
            "29/29 [==============================] - 1s 23ms/step - loss: 32.3751 - accuracy: 1.1834e-04 - val_loss: 395.9795 - val_accuracy: 0.0000e+00\n",
            "Epoch 718/1000\n",
            "29/29 [==============================] - 1s 23ms/step - loss: 32.5022 - accuracy: 1.1834e-04 - val_loss: 417.9991 - val_accuracy: 0.0000e+00\n",
            "Epoch 719/1000\n",
            "29/29 [==============================] - 1s 22ms/step - loss: 32.5019 - accuracy: 1.1834e-04 - val_loss: 450.1135 - val_accuracy: 0.0000e+00\n",
            "Epoch 720/1000\n",
            "29/29 [==============================] - 1s 22ms/step - loss: 31.2407 - accuracy: 1.1834e-04 - val_loss: 420.5898 - val_accuracy: 0.0000e+00\n",
            "Epoch 721/1000\n",
            "29/29 [==============================] - 1s 21ms/step - loss: 31.8350 - accuracy: 1.1834e-04 - val_loss: 443.1576 - val_accuracy: 0.0000e+00\n",
            "Epoch 722/1000\n",
            "29/29 [==============================] - 1s 21ms/step - loss: 31.7712 - accuracy: 1.1834e-04 - val_loss: 432.3382 - val_accuracy: 0.0000e+00\n",
            "Epoch 723/1000\n",
            "29/29 [==============================] - 1s 21ms/step - loss: 31.5007 - accuracy: 1.1834e-04 - val_loss: 429.6739 - val_accuracy: 0.0000e+00\n",
            "Epoch 724/1000\n",
            "29/29 [==============================] - 1s 22ms/step - loss: 36.3303 - accuracy: 1.1834e-04 - val_loss: 457.7083 - val_accuracy: 0.0000e+00\n",
            "Epoch 725/1000\n",
            "29/29 [==============================] - 1s 22ms/step - loss: 33.0884 - accuracy: 1.1834e-04 - val_loss: 491.4957 - val_accuracy: 0.0000e+00\n",
            "Epoch 726/1000\n",
            "29/29 [==============================] - 1s 22ms/step - loss: 34.3919 - accuracy: 1.1834e-04 - val_loss: 442.3264 - val_accuracy: 0.0000e+00\n",
            "Epoch 727/1000\n",
            "29/29 [==============================] - 1s 22ms/step - loss: 34.8849 - accuracy: 1.1834e-04 - val_loss: 457.5070 - val_accuracy: 0.0000e+00\n",
            "Epoch 728/1000\n",
            "29/29 [==============================] - 1s 22ms/step - loss: 33.8713 - accuracy: 1.1834e-04 - val_loss: 416.7435 - val_accuracy: 0.0000e+00\n",
            "Epoch 729/1000\n",
            "29/29 [==============================] - 1s 22ms/step - loss: 33.6756 - accuracy: 1.1834e-04 - val_loss: 448.4231 - val_accuracy: 0.0000e+00\n",
            "Epoch 730/1000\n",
            "29/29 [==============================] - 1s 22ms/step - loss: 35.8341 - accuracy: 1.1834e-04 - val_loss: 449.9227 - val_accuracy: 0.0000e+00\n",
            "Epoch 731/1000\n",
            "29/29 [==============================] - 1s 25ms/step - loss: 34.9602 - accuracy: 1.1834e-04 - val_loss: 402.3425 - val_accuracy: 0.0000e+00\n",
            "Epoch 732/1000\n",
            "29/29 [==============================] - 1s 24ms/step - loss: 37.2294 - accuracy: 1.1834e-04 - val_loss: 466.0853 - val_accuracy: 0.0000e+00\n",
            "Epoch 733/1000\n",
            "29/29 [==============================] - 1s 23ms/step - loss: 35.2281 - accuracy: 1.1834e-04 - val_loss: 453.3055 - val_accuracy: 0.0000e+00\n",
            "Epoch 734/1000\n",
            "29/29 [==============================] - 1s 24ms/step - loss: 32.1855 - accuracy: 1.1834e-04 - val_loss: 430.7729 - val_accuracy: 0.0000e+00\n",
            "Epoch 735/1000\n",
            "29/29 [==============================] - 1s 23ms/step - loss: 31.3966 - accuracy: 1.1834e-04 - val_loss: 455.6118 - val_accuracy: 0.0000e+00\n",
            "Epoch 736/1000\n",
            "29/29 [==============================] - 1s 24ms/step - loss: 32.9313 - accuracy: 1.1834e-04 - val_loss: 423.1146 - val_accuracy: 0.0000e+00\n",
            "Epoch 737/1000\n",
            "29/29 [==============================] - 1s 23ms/step - loss: 34.7798 - accuracy: 1.1834e-04 - val_loss: 446.3093 - val_accuracy: 0.0000e+00\n",
            "Epoch 738/1000\n",
            "29/29 [==============================] - 1s 24ms/step - loss: 31.3065 - accuracy: 1.1834e-04 - val_loss: 480.3612 - val_accuracy: 0.0000e+00\n",
            "Epoch 739/1000\n",
            "29/29 [==============================] - 1s 21ms/step - loss: 43.1679 - accuracy: 1.1834e-04 - val_loss: 422.8138 - val_accuracy: 0.0000e+00\n",
            "Epoch 740/1000\n",
            "29/29 [==============================] - 1s 22ms/step - loss: 32.0755 - accuracy: 1.1834e-04 - val_loss: 463.2192 - val_accuracy: 0.0000e+00\n",
            "Epoch 741/1000\n",
            "29/29 [==============================] - 1s 22ms/step - loss: 32.1028 - accuracy: 1.1834e-04 - val_loss: 412.7705 - val_accuracy: 0.0000e+00\n",
            "Epoch 742/1000\n",
            "29/29 [==============================] - 1s 22ms/step - loss: 33.8583 - accuracy: 1.1834e-04 - val_loss: 425.5041 - val_accuracy: 0.0000e+00\n",
            "Epoch 743/1000\n",
            "29/29 [==============================] - 1s 21ms/step - loss: 33.6321 - accuracy: 1.1834e-04 - val_loss: 425.3297 - val_accuracy: 0.0000e+00\n",
            "Epoch 744/1000\n",
            "29/29 [==============================] - 1s 22ms/step - loss: 29.5421 - accuracy: 1.1834e-04 - val_loss: 435.4504 - val_accuracy: 0.0000e+00\n",
            "Epoch 745/1000\n",
            "29/29 [==============================] - 1s 21ms/step - loss: 31.2744 - accuracy: 1.1834e-04 - val_loss: 400.4803 - val_accuracy: 0.0000e+00\n",
            "Epoch 746/1000\n",
            "29/29 [==============================] - 1s 22ms/step - loss: 30.2436 - accuracy: 1.1834e-04 - val_loss: 453.1461 - val_accuracy: 0.0000e+00\n",
            "Epoch 747/1000\n",
            "29/29 [==============================] - 1s 21ms/step - loss: 31.5116 - accuracy: 1.1834e-04 - val_loss: 413.4606 - val_accuracy: 0.0000e+00\n",
            "Epoch 748/1000\n",
            "29/29 [==============================] - 1s 21ms/step - loss: 31.3983 - accuracy: 1.1834e-04 - val_loss: 479.5238 - val_accuracy: 0.0000e+00\n",
            "Epoch 749/1000\n",
            "29/29 [==============================] - 1s 23ms/step - loss: 31.1060 - accuracy: 1.1834e-04 - val_loss: 424.4828 - val_accuracy: 0.0000e+00\n",
            "Epoch 750/1000\n",
            "29/29 [==============================] - 1s 21ms/step - loss: 35.7398 - accuracy: 1.1834e-04 - val_loss: 386.1421 - val_accuracy: 0.0000e+00\n",
            "Epoch 751/1000\n",
            "29/29 [==============================] - 1s 21ms/step - loss: 33.1552 - accuracy: 1.1834e-04 - val_loss: 403.2170 - val_accuracy: 0.0000e+00\n",
            "Epoch 752/1000\n",
            "29/29 [==============================] - 1s 21ms/step - loss: 37.4608 - accuracy: 1.1834e-04 - val_loss: 465.9289 - val_accuracy: 0.0000e+00\n",
            "Epoch 753/1000\n",
            "29/29 [==============================] - 1s 22ms/step - loss: 38.8384 - accuracy: 1.1834e-04 - val_loss: 412.4915 - val_accuracy: 0.0000e+00\n",
            "Epoch 754/1000\n",
            "29/29 [==============================] - 1s 23ms/step - loss: 30.1565 - accuracy: 1.1834e-04 - val_loss: 434.4521 - val_accuracy: 0.0000e+00\n",
            "Epoch 755/1000\n",
            "29/29 [==============================] - 1s 23ms/step - loss: 29.7762 - accuracy: 1.1834e-04 - val_loss: 412.5547 - val_accuracy: 0.0000e+00\n",
            "Epoch 756/1000\n",
            "29/29 [==============================] - 1s 23ms/step - loss: 28.1350 - accuracy: 1.1834e-04 - val_loss: 456.1356 - val_accuracy: 0.0000e+00\n",
            "Epoch 757/1000\n",
            "29/29 [==============================] - 1s 23ms/step - loss: 30.6042 - accuracy: 1.1834e-04 - val_loss: 463.1045 - val_accuracy: 0.0000e+00\n",
            "Epoch 758/1000\n",
            "29/29 [==============================] - 1s 24ms/step - loss: 33.0026 - accuracy: 1.1834e-04 - val_loss: 444.4746 - val_accuracy: 0.0000e+00\n",
            "Epoch 759/1000\n",
            "29/29 [==============================] - 1s 22ms/step - loss: 30.0572 - accuracy: 1.1834e-04 - val_loss: 412.3394 - val_accuracy: 0.0000e+00\n",
            "Epoch 760/1000\n",
            "29/29 [==============================] - 1s 22ms/step - loss: 32.5335 - accuracy: 1.1834e-04 - val_loss: 419.7808 - val_accuracy: 0.0000e+00\n",
            "Epoch 761/1000\n",
            "29/29 [==============================] - 1s 22ms/step - loss: 32.6867 - accuracy: 1.1834e-04 - val_loss: 418.3194 - val_accuracy: 0.0000e+00\n",
            "Epoch 762/1000\n",
            "29/29 [==============================] - 1s 22ms/step - loss: 29.1044 - accuracy: 1.1834e-04 - val_loss: 451.8499 - val_accuracy: 0.0000e+00\n",
            "Epoch 763/1000\n",
            "29/29 [==============================] - 1s 23ms/step - loss: 31.1050 - accuracy: 1.1834e-04 - val_loss: 446.4461 - val_accuracy: 0.0000e+00\n",
            "Epoch 764/1000\n",
            "29/29 [==============================] - 1s 22ms/step - loss: 31.6574 - accuracy: 1.1834e-04 - val_loss: 434.6757 - val_accuracy: 0.0000e+00\n",
            "Epoch 765/1000\n",
            "29/29 [==============================] - 1s 23ms/step - loss: 34.7730 - accuracy: 1.1834e-04 - val_loss: 462.9730 - val_accuracy: 0.0000e+00\n",
            "Epoch 766/1000\n",
            "29/29 [==============================] - 1s 22ms/step - loss: 30.8585 - accuracy: 1.1834e-04 - val_loss: 440.9200 - val_accuracy: 0.0000e+00\n",
            "Epoch 767/1000\n",
            "29/29 [==============================] - 1s 23ms/step - loss: 30.4800 - accuracy: 1.1834e-04 - val_loss: 439.0971 - val_accuracy: 0.0000e+00\n",
            "Epoch 768/1000\n",
            "29/29 [==============================] - 1s 22ms/step - loss: 30.2874 - accuracy: 1.1834e-04 - val_loss: 417.3333 - val_accuracy: 0.0000e+00\n",
            "Epoch 769/1000\n",
            "29/29 [==============================] - 1s 23ms/step - loss: 28.6775 - accuracy: 1.1834e-04 - val_loss: 406.3306 - val_accuracy: 0.0000e+00\n",
            "Epoch 770/1000\n",
            "29/29 [==============================] - 1s 21ms/step - loss: 31.3160 - accuracy: 1.1834e-04 - val_loss: 437.1511 - val_accuracy: 0.0000e+00\n",
            "Epoch 771/1000\n",
            "29/29 [==============================] - 1s 22ms/step - loss: 35.9375 - accuracy: 1.1834e-04 - val_loss: 408.1510 - val_accuracy: 0.0000e+00\n",
            "Epoch 772/1000\n",
            "29/29 [==============================] - 1s 22ms/step - loss: 30.9292 - accuracy: 1.1834e-04 - val_loss: 411.7731 - val_accuracy: 0.0000e+00\n",
            "Epoch 773/1000\n",
            "29/29 [==============================] - 1s 21ms/step - loss: 33.5584 - accuracy: 1.1834e-04 - val_loss: 444.2481 - val_accuracy: 0.0000e+00\n",
            "Epoch 774/1000\n",
            "29/29 [==============================] - 1s 24ms/step - loss: 33.9019 - accuracy: 1.1834e-04 - val_loss: 420.7765 - val_accuracy: 0.0000e+00\n",
            "Epoch 775/1000\n",
            "29/29 [==============================] - 1s 24ms/step - loss: 31.4576 - accuracy: 1.1834e-04 - val_loss: 494.1651 - val_accuracy: 0.0000e+00\n",
            "Epoch 776/1000\n",
            "29/29 [==============================] - 1s 23ms/step - loss: 28.9579 - accuracy: 1.1834e-04 - val_loss: 420.4893 - val_accuracy: 0.0000e+00\n",
            "Epoch 777/1000\n",
            "29/29 [==============================] - 1s 24ms/step - loss: 30.8789 - accuracy: 1.1834e-04 - val_loss: 419.0963 - val_accuracy: 0.0000e+00\n",
            "Epoch 778/1000\n",
            "29/29 [==============================] - 1s 23ms/step - loss: 31.5844 - accuracy: 1.1834e-04 - val_loss: 420.7904 - val_accuracy: 0.0000e+00\n",
            "Epoch 779/1000\n",
            "29/29 [==============================] - 1s 22ms/step - loss: 28.5398 - accuracy: 1.1834e-04 - val_loss: 451.0650 - val_accuracy: 0.0000e+00\n",
            "Epoch 780/1000\n",
            "29/29 [==============================] - 1s 22ms/step - loss: 27.9294 - accuracy: 1.1834e-04 - val_loss: 384.4670 - val_accuracy: 0.0000e+00\n",
            "Epoch 781/1000\n",
            "29/29 [==============================] - 1s 22ms/step - loss: 27.8538 - accuracy: 1.1834e-04 - val_loss: 427.2143 - val_accuracy: 0.0000e+00\n",
            "Epoch 782/1000\n",
            "29/29 [==============================] - 1s 22ms/step - loss: 29.6699 - accuracy: 1.1834e-04 - val_loss: 426.9234 - val_accuracy: 0.0000e+00\n",
            "Epoch 783/1000\n",
            "29/29 [==============================] - 1s 22ms/step - loss: 27.5861 - accuracy: 1.1834e-04 - val_loss: 433.5703 - val_accuracy: 0.0000e+00\n",
            "Epoch 784/1000\n",
            "29/29 [==============================] - 1s 23ms/step - loss: 31.6963 - accuracy: 1.1834e-04 - val_loss: 422.1390 - val_accuracy: 0.0000e+00\n",
            "Epoch 785/1000\n",
            "29/29 [==============================] - 1s 23ms/step - loss: 35.9443 - accuracy: 1.1834e-04 - val_loss: 464.9506 - val_accuracy: 0.0000e+00\n",
            "Epoch 786/1000\n",
            "29/29 [==============================] - 1s 23ms/step - loss: 39.8319 - accuracy: 1.1834e-04 - val_loss: 411.2339 - val_accuracy: 0.0000e+00\n",
            "Epoch 787/1000\n",
            "29/29 [==============================] - 1s 21ms/step - loss: 32.3819 - accuracy: 1.1834e-04 - val_loss: 405.2923 - val_accuracy: 0.0000e+00\n",
            "Epoch 788/1000\n",
            "29/29 [==============================] - 1s 23ms/step - loss: 29.7860 - accuracy: 1.1834e-04 - val_loss: 446.9162 - val_accuracy: 0.0000e+00\n",
            "Epoch 789/1000\n",
            "29/29 [==============================] - 1s 21ms/step - loss: 30.4174 - accuracy: 1.1834e-04 - val_loss: 434.8259 - val_accuracy: 0.0000e+00\n",
            "Epoch 790/1000\n",
            "29/29 [==============================] - 1s 22ms/step - loss: 30.2625 - accuracy: 1.1834e-04 - val_loss: 466.3646 - val_accuracy: 0.0000e+00\n",
            "Epoch 791/1000\n",
            "29/29 [==============================] - 1s 22ms/step - loss: 30.2969 - accuracy: 1.1834e-04 - val_loss: 402.4200 - val_accuracy: 0.0000e+00\n",
            "Epoch 792/1000\n",
            "29/29 [==============================] - 1s 21ms/step - loss: 28.3643 - accuracy: 1.1834e-04 - val_loss: 429.4924 - val_accuracy: 0.0000e+00\n",
            "Epoch 793/1000\n",
            "29/29 [==============================] - 1s 22ms/step - loss: 29.7784 - accuracy: 1.1834e-04 - val_loss: 398.8996 - val_accuracy: 0.0000e+00\n",
            "Epoch 794/1000\n",
            "29/29 [==============================] - 1s 22ms/step - loss: 29.8089 - accuracy: 1.1834e-04 - val_loss: 440.3357 - val_accuracy: 0.0000e+00\n",
            "Epoch 795/1000\n",
            "29/29 [==============================] - 1s 23ms/step - loss: 37.4892 - accuracy: 1.1834e-04 - val_loss: 417.5486 - val_accuracy: 0.0000e+00\n",
            "Epoch 796/1000\n",
            "29/29 [==============================] - 1s 23ms/step - loss: 29.8072 - accuracy: 1.1834e-04 - val_loss: 441.6298 - val_accuracy: 0.0000e+00\n",
            "Epoch 797/1000\n",
            "29/29 [==============================] - 1s 24ms/step - loss: 35.0004 - accuracy: 1.1834e-04 - val_loss: 396.6095 - val_accuracy: 0.0000e+00\n",
            "Epoch 798/1000\n",
            "29/29 [==============================] - 1s 23ms/step - loss: 28.7192 - accuracy: 1.1834e-04 - val_loss: 430.3240 - val_accuracy: 0.0000e+00\n",
            "Epoch 799/1000\n",
            "29/29 [==============================] - 1s 22ms/step - loss: 31.0625 - accuracy: 1.1834e-04 - val_loss: 395.4125 - val_accuracy: 0.0000e+00\n",
            "Epoch 800/1000\n",
            "29/29 [==============================] - 1s 21ms/step - loss: 33.6544 - accuracy: 1.1834e-04 - val_loss: 417.8672 - val_accuracy: 0.0000e+00\n",
            "Epoch 801/1000\n",
            "29/29 [==============================] - 1s 22ms/step - loss: 27.9846 - accuracy: 1.1834e-04 - val_loss: 434.7552 - val_accuracy: 0.0000e+00\n",
            "Epoch 802/1000\n",
            "29/29 [==============================] - 1s 22ms/step - loss: 31.6556 - accuracy: 1.1834e-04 - val_loss: 359.8702 - val_accuracy: 0.0000e+00\n",
            "Epoch 803/1000\n",
            "29/29 [==============================] - 1s 22ms/step - loss: 29.7480 - accuracy: 1.1834e-04 - val_loss: 440.6028 - val_accuracy: 0.0000e+00\n",
            "Epoch 804/1000\n",
            "29/29 [==============================] - 1s 22ms/step - loss: 29.5215 - accuracy: 1.1834e-04 - val_loss: 441.9338 - val_accuracy: 0.0000e+00\n",
            "Epoch 805/1000\n",
            "29/29 [==============================] - 1s 21ms/step - loss: 29.1223 - accuracy: 1.1834e-04 - val_loss: 437.4822 - val_accuracy: 0.0000e+00\n",
            "Epoch 806/1000\n",
            "29/29 [==============================] - 1s 23ms/step - loss: 29.5604 - accuracy: 1.1834e-04 - val_loss: 386.7425 - val_accuracy: 0.0000e+00\n",
            "Epoch 807/1000\n",
            "29/29 [==============================] - 1s 21ms/step - loss: 27.7850 - accuracy: 1.1834e-04 - val_loss: 438.3223 - val_accuracy: 0.0000e+00\n",
            "Epoch 808/1000\n",
            "29/29 [==============================] - 1s 21ms/step - loss: 28.5728 - accuracy: 1.1834e-04 - val_loss: 428.4991 - val_accuracy: 0.0000e+00\n",
            "Epoch 809/1000\n",
            "29/29 [==============================] - 1s 21ms/step - loss: 29.3961 - accuracy: 1.1834e-04 - val_loss: 460.7960 - val_accuracy: 0.0000e+00\n",
            "Epoch 810/1000\n",
            "29/29 [==============================] - 1s 22ms/step - loss: 28.5045 - accuracy: 1.1834e-04 - val_loss: 447.7376 - val_accuracy: 0.0000e+00\n",
            "Epoch 811/1000\n",
            "29/29 [==============================] - 1s 23ms/step - loss: 31.2332 - accuracy: 1.1834e-04 - val_loss: 409.4717 - val_accuracy: 0.0000e+00\n",
            "Epoch 812/1000\n",
            "29/29 [==============================] - 1s 21ms/step - loss: 30.9699 - accuracy: 1.1834e-04 - val_loss: 483.9703 - val_accuracy: 0.0000e+00\n",
            "Epoch 813/1000\n",
            "29/29 [==============================] - 1s 22ms/step - loss: 32.6367 - accuracy: 1.1834e-04 - val_loss: 375.9697 - val_accuracy: 0.0000e+00\n",
            "Epoch 814/1000\n",
            "29/29 [==============================] - 1s 21ms/step - loss: 30.1570 - accuracy: 1.1834e-04 - val_loss: 433.7493 - val_accuracy: 0.0000e+00\n",
            "Epoch 815/1000\n",
            "29/29 [==============================] - 1s 25ms/step - loss: 29.9455 - accuracy: 1.1834e-04 - val_loss: 483.4308 - val_accuracy: 0.0000e+00\n",
            "Epoch 816/1000\n",
            "29/29 [==============================] - 1s 24ms/step - loss: 33.0713 - accuracy: 1.1834e-04 - val_loss: 413.2352 - val_accuracy: 0.0000e+00\n",
            "Epoch 817/1000\n",
            "29/29 [==============================] - 1s 24ms/step - loss: 26.6487 - accuracy: 1.1834e-04 - val_loss: 452.8331 - val_accuracy: 0.0000e+00\n",
            "Epoch 818/1000\n",
            "29/29 [==============================] - 1s 24ms/step - loss: 25.2560 - accuracy: 1.1834e-04 - val_loss: 449.8872 - val_accuracy: 0.0000e+00\n",
            "Epoch 819/1000\n",
            "29/29 [==============================] - 1s 23ms/step - loss: 26.2253 - accuracy: 1.1834e-04 - val_loss: 413.6254 - val_accuracy: 0.0000e+00\n",
            "Epoch 820/1000\n",
            "29/29 [==============================] - 1s 22ms/step - loss: 26.0729 - accuracy: 1.1834e-04 - val_loss: 431.6983 - val_accuracy: 0.0000e+00\n",
            "Epoch 821/1000\n",
            "29/29 [==============================] - 1s 21ms/step - loss: 26.5553 - accuracy: 1.1834e-04 - val_loss: 398.1959 - val_accuracy: 0.0000e+00\n",
            "Epoch 822/1000\n",
            "29/29 [==============================] - 1s 21ms/step - loss: 28.4578 - accuracy: 1.1834e-04 - val_loss: 440.9646 - val_accuracy: 0.0000e+00\n",
            "Epoch 823/1000\n",
            "29/29 [==============================] - 1s 23ms/step - loss: 30.5767 - accuracy: 1.1834e-04 - val_loss: 404.4438 - val_accuracy: 0.0000e+00\n",
            "Epoch 824/1000\n",
            "29/29 [==============================] - 1s 21ms/step - loss: 33.1225 - accuracy: 1.1834e-04 - val_loss: 412.8367 - val_accuracy: 0.0000e+00\n",
            "Epoch 825/1000\n",
            "29/29 [==============================] - 1s 20ms/step - loss: 30.6035 - accuracy: 1.1834e-04 - val_loss: 456.0199 - val_accuracy: 0.0000e+00\n",
            "Epoch 826/1000\n",
            "29/29 [==============================] - 1s 22ms/step - loss: 33.3351 - accuracy: 1.1834e-04 - val_loss: 428.1771 - val_accuracy: 0.0000e+00\n",
            "Epoch 827/1000\n",
            "29/29 [==============================] - 1s 21ms/step - loss: 39.7597 - accuracy: 1.1834e-04 - val_loss: 434.3361 - val_accuracy: 0.0000e+00\n",
            "Epoch 828/1000\n",
            "29/29 [==============================] - 1s 21ms/step - loss: 29.3313 - accuracy: 1.1834e-04 - val_loss: 431.6587 - val_accuracy: 0.0000e+00\n",
            "Epoch 829/1000\n",
            "29/29 [==============================] - 1s 22ms/step - loss: 28.5644 - accuracy: 1.1834e-04 - val_loss: 426.5736 - val_accuracy: 0.0000e+00\n",
            "Epoch 830/1000\n",
            "29/29 [==============================] - 1s 21ms/step - loss: 37.8094 - accuracy: 1.1834e-04 - val_loss: 432.3723 - val_accuracy: 0.0000e+00\n",
            "Epoch 831/1000\n",
            "29/29 [==============================] - 1s 23ms/step - loss: 41.2057 - accuracy: 1.1834e-04 - val_loss: 411.2379 - val_accuracy: 0.0000e+00\n",
            "Epoch 832/1000\n",
            "29/29 [==============================] - 1s 20ms/step - loss: 31.3016 - accuracy: 1.1834e-04 - val_loss: 440.8314 - val_accuracy: 0.0000e+00\n",
            "Epoch 833/1000\n",
            "29/29 [==============================] - 1s 21ms/step - loss: 29.3837 - accuracy: 1.1834e-04 - val_loss: 440.6140 - val_accuracy: 0.0000e+00\n",
            "Epoch 834/1000\n",
            "29/29 [==============================] - 1s 23ms/step - loss: 26.7134 - accuracy: 1.1834e-04 - val_loss: 389.8084 - val_accuracy: 0.0000e+00\n",
            "Epoch 835/1000\n",
            "29/29 [==============================] - 1s 25ms/step - loss: 26.3819 - accuracy: 1.1834e-04 - val_loss: 428.6143 - val_accuracy: 0.0000e+00\n",
            "Epoch 836/1000\n",
            "29/29 [==============================] - 1s 23ms/step - loss: 27.3472 - accuracy: 1.1834e-04 - val_loss: 412.0387 - val_accuracy: 0.0000e+00\n",
            "Epoch 837/1000\n",
            "29/29 [==============================] - 1s 23ms/step - loss: 27.1420 - accuracy: 1.1834e-04 - val_loss: 403.5626 - val_accuracy: 0.0000e+00\n",
            "Epoch 838/1000\n",
            "29/29 [==============================] - 1s 23ms/step - loss: 27.7146 - accuracy: 1.1834e-04 - val_loss: 446.4276 - val_accuracy: 0.0000e+00\n",
            "Epoch 839/1000\n",
            "29/29 [==============================] - 1s 21ms/step - loss: 31.2754 - accuracy: 1.1834e-04 - val_loss: 443.6374 - val_accuracy: 0.0000e+00\n",
            "Epoch 840/1000\n",
            "29/29 [==============================] - 1s 22ms/step - loss: 29.0150 - accuracy: 1.1834e-04 - val_loss: 434.9279 - val_accuracy: 0.0000e+00\n",
            "Epoch 841/1000\n",
            "29/29 [==============================] - 1s 22ms/step - loss: 27.5790 - accuracy: 1.1834e-04 - val_loss: 428.4796 - val_accuracy: 0.0000e+00\n",
            "Epoch 842/1000\n",
            "29/29 [==============================] - 1s 22ms/step - loss: 28.0592 - accuracy: 1.1834e-04 - val_loss: 436.4036 - val_accuracy: 0.0000e+00\n",
            "Epoch 843/1000\n",
            "29/29 [==============================] - 1s 22ms/step - loss: 29.0301 - accuracy: 1.1834e-04 - val_loss: 395.2754 - val_accuracy: 0.0000e+00\n",
            "Epoch 844/1000\n",
            "29/29 [==============================] - 1s 22ms/step - loss: 31.0269 - accuracy: 1.1834e-04 - val_loss: 490.9809 - val_accuracy: 0.0000e+00\n",
            "Epoch 845/1000\n",
            "29/29 [==============================] - 1s 22ms/step - loss: 28.2434 - accuracy: 1.1834e-04 - val_loss: 419.2126 - val_accuracy: 0.0000e+00\n",
            "Epoch 846/1000\n",
            "29/29 [==============================] - 1s 23ms/step - loss: 26.5526 - accuracy: 1.1834e-04 - val_loss: 432.6607 - val_accuracy: 0.0000e+00\n",
            "Epoch 847/1000\n",
            "29/29 [==============================] - 1s 21ms/step - loss: 28.7194 - accuracy: 1.1834e-04 - val_loss: 398.2860 - val_accuracy: 0.0000e+00\n",
            "Epoch 848/1000\n",
            "29/29 [==============================] - 1s 22ms/step - loss: 25.4242 - accuracy: 1.1834e-04 - val_loss: 423.4003 - val_accuracy: 0.0000e+00\n",
            "Epoch 849/1000\n",
            "29/29 [==============================] - 1s 22ms/step - loss: 26.3885 - accuracy: 1.1834e-04 - val_loss: 431.8849 - val_accuracy: 0.0000e+00\n",
            "Epoch 850/1000\n",
            "29/29 [==============================] - 1s 21ms/step - loss: 29.5138 - accuracy: 1.1834e-04 - val_loss: 424.2635 - val_accuracy: 0.0000e+00\n",
            "Epoch 851/1000\n",
            "29/29 [==============================] - 1s 22ms/step - loss: 28.3461 - accuracy: 1.1834e-04 - val_loss: 448.7541 - val_accuracy: 0.0000e+00\n",
            "Epoch 852/1000\n",
            "29/29 [==============================] - 1s 21ms/step - loss: 30.6852 - accuracy: 1.1834e-04 - val_loss: 375.3876 - val_accuracy: 0.0000e+00\n",
            "Epoch 853/1000\n",
            "29/29 [==============================] - 1s 22ms/step - loss: 47.5847 - accuracy: 1.1834e-04 - val_loss: 424.1743 - val_accuracy: 0.0000e+00\n",
            "Epoch 854/1000\n",
            "29/29 [==============================] - 1s 21ms/step - loss: 28.7598 - accuracy: 1.1834e-04 - val_loss: 372.6083 - val_accuracy: 0.0000e+00\n",
            "Epoch 855/1000\n",
            "29/29 [==============================] - 1s 23ms/step - loss: 26.6407 - accuracy: 1.1834e-04 - val_loss: 408.8943 - val_accuracy: 0.0000e+00\n",
            "Epoch 856/1000\n",
            "29/29 [==============================] - 1s 23ms/step - loss: 29.1822 - accuracy: 1.1834e-04 - val_loss: 396.0856 - val_accuracy: 0.0000e+00\n",
            "Epoch 857/1000\n",
            "29/29 [==============================] - 1s 23ms/step - loss: 34.4082 - accuracy: 1.1834e-04 - val_loss: 449.1320 - val_accuracy: 0.0000e+00\n",
            "Epoch 858/1000\n",
            "29/29 [==============================] - 1s 24ms/step - loss: 32.9446 - accuracy: 1.1834e-04 - val_loss: 402.0720 - val_accuracy: 0.0000e+00\n",
            "Epoch 859/1000\n",
            "29/29 [==============================] - 1s 22ms/step - loss: 29.0675 - accuracy: 1.1834e-04 - val_loss: 417.7265 - val_accuracy: 0.0000e+00\n",
            "Epoch 860/1000\n",
            "29/29 [==============================] - 1s 21ms/step - loss: 28.0947 - accuracy: 1.1834e-04 - val_loss: 396.7302 - val_accuracy: 0.0000e+00\n",
            "Epoch 861/1000\n",
            "29/29 [==============================] - 1s 21ms/step - loss: 26.0313 - accuracy: 1.1834e-04 - val_loss: 430.6185 - val_accuracy: 0.0000e+00\n",
            "Epoch 862/1000\n",
            "29/29 [==============================] - 1s 22ms/step - loss: 25.1617 - accuracy: 1.1834e-04 - val_loss: 464.1571 - val_accuracy: 0.0000e+00\n",
            "Epoch 863/1000\n",
            "29/29 [==============================] - 1s 22ms/step - loss: 27.5391 - accuracy: 1.1834e-04 - val_loss: 381.0785 - val_accuracy: 0.0000e+00\n",
            "Epoch 864/1000\n",
            "29/29 [==============================] - 1s 21ms/step - loss: 27.5305 - accuracy: 1.1834e-04 - val_loss: 399.4852 - val_accuracy: 0.0000e+00\n",
            "Epoch 865/1000\n",
            "29/29 [==============================] - 1s 22ms/step - loss: 26.9835 - accuracy: 1.1834e-04 - val_loss: 418.4970 - val_accuracy: 0.0000e+00\n",
            "Epoch 866/1000\n",
            "29/29 [==============================] - 1s 21ms/step - loss: 26.3192 - accuracy: 1.1834e-04 - val_loss: 398.7833 - val_accuracy: 0.0000e+00\n",
            "Epoch 867/1000\n",
            "29/29 [==============================] - 1s 22ms/step - loss: 27.4407 - accuracy: 1.1834e-04 - val_loss: 430.6273 - val_accuracy: 0.0000e+00\n",
            "Epoch 868/1000\n",
            "29/29 [==============================] - 1s 23ms/step - loss: 29.9198 - accuracy: 1.1834e-04 - val_loss: 422.3228 - val_accuracy: 0.0000e+00\n",
            "Epoch 869/1000\n",
            "29/29 [==============================] - 1s 21ms/step - loss: 28.4368 - accuracy: 1.1834e-04 - val_loss: 455.7371 - val_accuracy: 0.0000e+00\n",
            "Epoch 870/1000\n",
            "29/29 [==============================] - 1s 21ms/step - loss: 29.9116 - accuracy: 1.1834e-04 - val_loss: 405.3235 - val_accuracy: 0.0000e+00\n",
            "Epoch 871/1000\n",
            "29/29 [==============================] - 1s 22ms/step - loss: 27.6822 - accuracy: 1.1834e-04 - val_loss: 432.3168 - val_accuracy: 0.0000e+00\n",
            "Epoch 872/1000\n",
            "29/29 [==============================] - 1s 22ms/step - loss: 25.8067 - accuracy: 1.1834e-04 - val_loss: 442.4482 - val_accuracy: 0.0000e+00\n",
            "Epoch 873/1000\n",
            "29/29 [==============================] - 1s 23ms/step - loss: 27.4459 - accuracy: 1.1834e-04 - val_loss: 433.7890 - val_accuracy: 0.0000e+00\n",
            "Epoch 874/1000\n",
            "29/29 [==============================] - 1s 21ms/step - loss: 28.1077 - accuracy: 1.1834e-04 - val_loss: 453.5193 - val_accuracy: 0.0000e+00\n",
            "Epoch 875/1000\n",
            "29/29 [==============================] - 1s 23ms/step - loss: 27.1981 - accuracy: 1.1834e-04 - val_loss: 402.6979 - val_accuracy: 0.0000e+00\n",
            "Epoch 876/1000\n",
            "29/29 [==============================] - 1s 24ms/step - loss: 26.2095 - accuracy: 1.1834e-04 - val_loss: 461.7221 - val_accuracy: 0.0000e+00\n",
            "Epoch 877/1000\n",
            "29/29 [==============================] - 1s 24ms/step - loss: 26.9536 - accuracy: 1.1834e-04 - val_loss: 371.1955 - val_accuracy: 0.0000e+00\n",
            "Epoch 878/1000\n",
            "29/29 [==============================] - 1s 24ms/step - loss: 28.4178 - accuracy: 1.1834e-04 - val_loss: 420.1665 - val_accuracy: 0.0000e+00\n",
            "Epoch 879/1000\n",
            "29/29 [==============================] - 1s 23ms/step - loss: 27.6857 - accuracy: 1.1834e-04 - val_loss: 386.3329 - val_accuracy: 0.0000e+00\n",
            "Epoch 880/1000\n",
            "29/29 [==============================] - 1s 21ms/step - loss: 28.1188 - accuracy: 1.1834e-04 - val_loss: 415.7812 - val_accuracy: 0.0000e+00\n",
            "Epoch 881/1000\n",
            "29/29 [==============================] - 1s 21ms/step - loss: 29.0279 - accuracy: 1.1834e-04 - val_loss: 416.6616 - val_accuracy: 0.0000e+00\n",
            "Epoch 882/1000\n",
            "29/29 [==============================] - 1s 21ms/step - loss: 26.9665 - accuracy: 1.1834e-04 - val_loss: 425.7437 - val_accuracy: 0.0000e+00\n",
            "Epoch 883/1000\n",
            "29/29 [==============================] - 1s 22ms/step - loss: 26.2858 - accuracy: 1.1834e-04 - val_loss: 414.9993 - val_accuracy: 0.0000e+00\n",
            "Epoch 884/1000\n",
            "29/29 [==============================] - 1s 23ms/step - loss: 26.8877 - accuracy: 1.1834e-04 - val_loss: 414.0847 - val_accuracy: 0.0000e+00\n",
            "Epoch 885/1000\n",
            "29/29 [==============================] - 1s 22ms/step - loss: 30.2713 - accuracy: 1.1834e-04 - val_loss: 367.9507 - val_accuracy: 0.0000e+00\n",
            "Epoch 886/1000\n",
            "29/29 [==============================] - 1s 22ms/step - loss: 27.9147 - accuracy: 1.1834e-04 - val_loss: 372.8465 - val_accuracy: 0.0000e+00\n",
            "Epoch 887/1000\n",
            "29/29 [==============================] - 1s 21ms/step - loss: 26.1048 - accuracy: 1.1834e-04 - val_loss: 396.8683 - val_accuracy: 0.0000e+00\n",
            "Epoch 888/1000\n",
            "29/29 [==============================] - 1s 21ms/step - loss: 23.8442 - accuracy: 1.1834e-04 - val_loss: 390.8683 - val_accuracy: 0.0000e+00\n",
            "Epoch 889/1000\n",
            "29/29 [==============================] - 1s 21ms/step - loss: 26.6336 - accuracy: 1.1834e-04 - val_loss: 384.7845 - val_accuracy: 0.0000e+00\n",
            "Epoch 890/1000\n",
            "29/29 [==============================] - 1s 21ms/step - loss: 26.4700 - accuracy: 1.1834e-04 - val_loss: 408.0650 - val_accuracy: 0.0000e+00\n",
            "Epoch 891/1000\n",
            "29/29 [==============================] - 1s 22ms/step - loss: 25.4281 - accuracy: 1.1834e-04 - val_loss: 433.1977 - val_accuracy: 0.0000e+00\n",
            "Epoch 892/1000\n",
            "29/29 [==============================] - 1s 22ms/step - loss: 27.0862 - accuracy: 1.1834e-04 - val_loss: 412.7069 - val_accuracy: 0.0000e+00\n",
            "Epoch 893/1000\n",
            "29/29 [==============================] - 1s 22ms/step - loss: 33.7789 - accuracy: 1.1834e-04 - val_loss: 409.9500 - val_accuracy: 0.0000e+00\n",
            "Epoch 894/1000\n",
            "29/29 [==============================] - 1s 22ms/step - loss: 31.0921 - accuracy: 1.1834e-04 - val_loss: 370.1782 - val_accuracy: 0.0000e+00\n",
            "Epoch 895/1000\n",
            "29/29 [==============================] - 1s 23ms/step - loss: 29.0963 - accuracy: 1.1834e-04 - val_loss: 404.3180 - val_accuracy: 0.0000e+00\n",
            "Epoch 896/1000\n",
            "29/29 [==============================] - 1s 24ms/step - loss: 25.7513 - accuracy: 1.1834e-04 - val_loss: 362.2047 - val_accuracy: 0.0000e+00\n",
            "Epoch 897/1000\n",
            "29/29 [==============================] - 1s 23ms/step - loss: 26.4820 - accuracy: 1.1834e-04 - val_loss: 374.0963 - val_accuracy: 0.0000e+00\n",
            "Epoch 898/1000\n",
            "29/29 [==============================] - 1s 25ms/step - loss: 26.8759 - accuracy: 1.1834e-04 - val_loss: 429.1204 - val_accuracy: 0.0000e+00\n",
            "Epoch 899/1000\n",
            "29/29 [==============================] - 1s 23ms/step - loss: 23.7652 - accuracy: 1.1834e-04 - val_loss: 392.5555 - val_accuracy: 0.0000e+00\n",
            "Epoch 900/1000\n",
            "29/29 [==============================] - 1s 22ms/step - loss: 24.4856 - accuracy: 1.1834e-04 - val_loss: 410.1242 - val_accuracy: 0.0000e+00\n",
            "Epoch 901/1000\n",
            "29/29 [==============================] - 1s 21ms/step - loss: 24.2355 - accuracy: 1.1834e-04 - val_loss: 404.1995 - val_accuracy: 0.0000e+00\n",
            "Epoch 902/1000\n",
            "29/29 [==============================] - 1s 21ms/step - loss: 28.7522 - accuracy: 1.1834e-04 - val_loss: 385.0599 - val_accuracy: 0.0000e+00\n",
            "Epoch 903/1000\n",
            "29/29 [==============================] - 1s 22ms/step - loss: 25.6057 - accuracy: 1.1834e-04 - val_loss: 374.5235 - val_accuracy: 0.0000e+00\n",
            "Epoch 904/1000\n",
            "29/29 [==============================] - 1s 21ms/step - loss: 25.6734 - accuracy: 1.1834e-04 - val_loss: 395.7573 - val_accuracy: 0.0000e+00\n",
            "Epoch 905/1000\n",
            "29/29 [==============================] - 1s 22ms/step - loss: 26.0422 - accuracy: 1.1834e-04 - val_loss: 397.0449 - val_accuracy: 0.0000e+00\n",
            "Epoch 906/1000\n",
            "29/29 [==============================] - 1s 21ms/step - loss: 33.3041 - accuracy: 1.1834e-04 - val_loss: 385.4521 - val_accuracy: 0.0000e+00\n",
            "Epoch 907/1000\n",
            "29/29 [==============================] - 1s 23ms/step - loss: 28.2642 - accuracy: 1.1834e-04 - val_loss: 446.8607 - val_accuracy: 0.0000e+00\n",
            "Epoch 908/1000\n",
            "29/29 [==============================] - 1s 22ms/step - loss: 26.1636 - accuracy: 1.1834e-04 - val_loss: 390.0327 - val_accuracy: 0.0000e+00\n",
            "Epoch 909/1000\n",
            "29/29 [==============================] - 1s 22ms/step - loss: 24.8607 - accuracy: 1.1834e-04 - val_loss: 415.4354 - val_accuracy: 0.0000e+00\n",
            "Epoch 910/1000\n",
            "29/29 [==============================] - 1s 23ms/step - loss: 31.6946 - accuracy: 1.1834e-04 - val_loss: 396.4030 - val_accuracy: 0.0000e+00\n",
            "Epoch 911/1000\n",
            "29/29 [==============================] - 1s 23ms/step - loss: 31.2006 - accuracy: 1.1834e-04 - val_loss: 398.6488 - val_accuracy: 0.0000e+00\n",
            "Epoch 912/1000\n",
            "29/29 [==============================] - 1s 23ms/step - loss: 28.8786 - accuracy: 1.1834e-04 - val_loss: 379.6798 - val_accuracy: 0.0000e+00\n",
            "Epoch 913/1000\n",
            "29/29 [==============================] - 1s 23ms/step - loss: 28.3741 - accuracy: 1.1834e-04 - val_loss: 397.1657 - val_accuracy: 0.0000e+00\n",
            "Epoch 914/1000\n",
            "29/29 [==============================] - 1s 24ms/step - loss: 26.9370 - accuracy: 1.1834e-04 - val_loss: 410.6207 - val_accuracy: 0.0000e+00\n",
            "Epoch 915/1000\n",
            "29/29 [==============================] - 1s 24ms/step - loss: 26.5059 - accuracy: 1.1834e-04 - val_loss: 384.3626 - val_accuracy: 0.0000e+00\n",
            "Epoch 916/1000\n",
            "29/29 [==============================] - 1s 24ms/step - loss: 28.6555 - accuracy: 1.1834e-04 - val_loss: 408.7762 - val_accuracy: 0.0000e+00\n",
            "Epoch 917/1000\n",
            "29/29 [==============================] - 1s 25ms/step - loss: 25.8888 - accuracy: 1.1834e-04 - val_loss: 400.3342 - val_accuracy: 0.0000e+00\n",
            "Epoch 918/1000\n",
            "29/29 [==============================] - 1s 24ms/step - loss: 23.8020 - accuracy: 1.1834e-04 - val_loss: 368.4402 - val_accuracy: 0.0000e+00\n",
            "Epoch 919/1000\n",
            "29/29 [==============================] - 1s 24ms/step - loss: 23.9584 - accuracy: 1.1834e-04 - val_loss: 390.0495 - val_accuracy: 0.0000e+00\n",
            "Epoch 920/1000\n",
            "29/29 [==============================] - 1s 23ms/step - loss: 27.1904 - accuracy: 1.1834e-04 - val_loss: 358.1119 - val_accuracy: 0.0000e+00\n",
            "Epoch 921/1000\n",
            "29/29 [==============================] - 1s 22ms/step - loss: 27.3700 - accuracy: 1.1834e-04 - val_loss: 364.5892 - val_accuracy: 0.0000e+00\n",
            "Epoch 922/1000\n",
            "29/29 [==============================] - 1s 21ms/step - loss: 29.1763 - accuracy: 1.1834e-04 - val_loss: 352.8792 - val_accuracy: 0.0000e+00\n",
            "Epoch 923/1000\n",
            "29/29 [==============================] - 1s 22ms/step - loss: 24.4550 - accuracy: 1.1834e-04 - val_loss: 431.6983 - val_accuracy: 0.0000e+00\n",
            "Epoch 924/1000\n",
            "29/29 [==============================] - 1s 23ms/step - loss: 25.5734 - accuracy: 1.1834e-04 - val_loss: 390.4617 - val_accuracy: 0.0000e+00\n",
            "Epoch 925/1000\n",
            "29/29 [==============================] - 1s 22ms/step - loss: 26.2002 - accuracy: 1.1834e-04 - val_loss: 382.2571 - val_accuracy: 0.0000e+00\n",
            "Epoch 926/1000\n",
            "29/29 [==============================] - 1s 23ms/step - loss: 32.2470 - accuracy: 1.1834e-04 - val_loss: 371.4619 - val_accuracy: 0.0000e+00\n",
            "Epoch 927/1000\n",
            "29/29 [==============================] - 1s 21ms/step - loss: 36.5994 - accuracy: 1.1834e-04 - val_loss: 363.4375 - val_accuracy: 0.0000e+00\n",
            "Epoch 928/1000\n",
            "29/29 [==============================] - 1s 23ms/step - loss: 35.1843 - accuracy: 1.1834e-04 - val_loss: 362.0199 - val_accuracy: 0.0000e+00\n",
            "Epoch 929/1000\n",
            "29/29 [==============================] - 1s 22ms/step - loss: 29.9784 - accuracy: 1.1834e-04 - val_loss: 365.8747 - val_accuracy: 0.0000e+00\n",
            "Epoch 930/1000\n",
            "29/29 [==============================] - 1s 23ms/step - loss: 31.7697 - accuracy: 1.1834e-04 - val_loss: 407.1707 - val_accuracy: 0.0000e+00\n",
            "Epoch 931/1000\n",
            "29/29 [==============================] - 1s 22ms/step - loss: 27.9944 - accuracy: 1.1834e-04 - val_loss: 376.4139 - val_accuracy: 0.0000e+00\n",
            "Epoch 932/1000\n",
            "29/29 [==============================] - 1s 22ms/step - loss: 25.9213 - accuracy: 1.1834e-04 - val_loss: 386.4839 - val_accuracy: 0.0000e+00\n",
            "Epoch 933/1000\n",
            "29/29 [==============================] - 1s 22ms/step - loss: 24.9029 - accuracy: 1.1834e-04 - val_loss: 370.3989 - val_accuracy: 0.0000e+00\n",
            "Epoch 934/1000\n",
            "29/29 [==============================] - 1s 22ms/step - loss: 24.6585 - accuracy: 1.1834e-04 - val_loss: 361.8946 - val_accuracy: 0.0000e+00\n",
            "Epoch 935/1000\n",
            "29/29 [==============================] - 1s 24ms/step - loss: 27.1757 - accuracy: 1.1834e-04 - val_loss: 376.1090 - val_accuracy: 0.0000e+00\n",
            "Epoch 936/1000\n",
            "29/29 [==============================] - 1s 24ms/step - loss: 35.0239 - accuracy: 1.1834e-04 - val_loss: 353.6259 - val_accuracy: 0.0000e+00\n",
            "Epoch 937/1000\n",
            "29/29 [==============================] - 1s 22ms/step - loss: 34.3448 - accuracy: 1.1834e-04 - val_loss: 346.1709 - val_accuracy: 0.0000e+00\n",
            "Epoch 938/1000\n",
            "29/29 [==============================] - 1s 22ms/step - loss: 23.3786 - accuracy: 1.1834e-04 - val_loss: 386.9452 - val_accuracy: 0.0000e+00\n",
            "Epoch 939/1000\n",
            "29/29 [==============================] - 1s 23ms/step - loss: 23.9536 - accuracy: 1.1834e-04 - val_loss: 385.4719 - val_accuracy: 0.0000e+00\n",
            "Epoch 940/1000\n",
            "29/29 [==============================] - 1s 21ms/step - loss: 26.4857 - accuracy: 1.1834e-04 - val_loss: 364.3138 - val_accuracy: 0.0000e+00\n",
            "Epoch 941/1000\n",
            "29/29 [==============================] - 1s 21ms/step - loss: 28.0673 - accuracy: 1.1834e-04 - val_loss: 432.2587 - val_accuracy: 0.0000e+00\n",
            "Epoch 942/1000\n",
            "29/29 [==============================] - 1s 22ms/step - loss: 23.9732 - accuracy: 1.1834e-04 - val_loss: 411.6566 - val_accuracy: 0.0000e+00\n",
            "Epoch 943/1000\n",
            "29/29 [==============================] - 1s 21ms/step - loss: 25.3362 - accuracy: 1.1834e-04 - val_loss: 372.7885 - val_accuracy: 0.0000e+00\n",
            "Epoch 944/1000\n",
            "29/29 [==============================] - 1s 21ms/step - loss: 24.8649 - accuracy: 1.1834e-04 - val_loss: 399.5897 - val_accuracy: 0.0000e+00\n",
            "Epoch 945/1000\n",
            "29/29 [==============================] - 1s 22ms/step - loss: 25.3644 - accuracy: 1.1834e-04 - val_loss: 365.6312 - val_accuracy: 0.0000e+00\n",
            "Epoch 946/1000\n",
            "29/29 [==============================] - 1s 22ms/step - loss: 27.4120 - accuracy: 1.1834e-04 - val_loss: 379.3919 - val_accuracy: 0.0000e+00\n",
            "Epoch 947/1000\n",
            "29/29 [==============================] - 1s 23ms/step - loss: 26.5864 - accuracy: 1.1834e-04 - val_loss: 366.9295 - val_accuracy: 0.0000e+00\n",
            "Epoch 948/1000\n",
            "29/29 [==============================] - 1s 23ms/step - loss: 24.2674 - accuracy: 1.1834e-04 - val_loss: 398.9146 - val_accuracy: 0.0000e+00\n",
            "Epoch 949/1000\n",
            "29/29 [==============================] - 1s 22ms/step - loss: 23.1494 - accuracy: 1.1834e-04 - val_loss: 373.5132 - val_accuracy: 0.0000e+00\n",
            "Epoch 950/1000\n",
            "29/29 [==============================] - 1s 21ms/step - loss: 26.5505 - accuracy: 1.1834e-04 - val_loss: 394.5480 - val_accuracy: 0.0000e+00\n",
            "Epoch 951/1000\n",
            "29/29 [==============================] - 1s 22ms/step - loss: 25.6842 - accuracy: 1.1834e-04 - val_loss: 365.2209 - val_accuracy: 0.0000e+00\n",
            "Epoch 952/1000\n",
            "29/29 [==============================] - 1s 22ms/step - loss: 29.9373 - accuracy: 1.1834e-04 - val_loss: 385.0884 - val_accuracy: 0.0000e+00\n",
            "Epoch 953/1000\n",
            "29/29 [==============================] - 1s 26ms/step - loss: 25.3579 - accuracy: 1.1834e-04 - val_loss: 385.4577 - val_accuracy: 0.0000e+00\n",
            "Epoch 954/1000\n",
            "29/29 [==============================] - 1s 25ms/step - loss: 24.2741 - accuracy: 1.1834e-04 - val_loss: 414.5055 - val_accuracy: 0.0000e+00\n",
            "Epoch 955/1000\n",
            "29/29 [==============================] - 1s 28ms/step - loss: 26.4426 - accuracy: 1.1834e-04 - val_loss: 363.0190 - val_accuracy: 0.0000e+00\n",
            "Epoch 956/1000\n",
            "29/29 [==============================] - 1s 30ms/step - loss: 25.9681 - accuracy: 1.1834e-04 - val_loss: 423.6816 - val_accuracy: 0.0000e+00\n",
            "Epoch 957/1000\n",
            "29/29 [==============================] - 1s 31ms/step - loss: 25.0642 - accuracy: 1.1834e-04 - val_loss: 373.3069 - val_accuracy: 0.0000e+00\n",
            "Epoch 958/1000\n",
            "29/29 [==============================] - 1s 30ms/step - loss: 24.3512 - accuracy: 1.1834e-04 - val_loss: 377.8528 - val_accuracy: 0.0000e+00\n",
            "Epoch 959/1000\n",
            "29/29 [==============================] - 1s 31ms/step - loss: 27.8836 - accuracy: 1.1834e-04 - val_loss: 414.9641 - val_accuracy: 0.0000e+00\n",
            "Epoch 960/1000\n",
            "29/29 [==============================] - 1s 25ms/step - loss: 27.2622 - accuracy: 1.1834e-04 - val_loss: 379.5193 - val_accuracy: 0.0000e+00\n",
            "Epoch 961/1000\n",
            "29/29 [==============================] - 1s 26ms/step - loss: 29.5313 - accuracy: 1.1834e-04 - val_loss: 381.5272 - val_accuracy: 0.0000e+00\n",
            "Epoch 962/1000\n",
            "29/29 [==============================] - 1s 24ms/step - loss: 27.4384 - accuracy: 1.1834e-04 - val_loss: 374.8478 - val_accuracy: 0.0000e+00\n",
            "Epoch 963/1000\n",
            "29/29 [==============================] - 1s 26ms/step - loss: 24.8732 - accuracy: 1.1834e-04 - val_loss: 372.4297 - val_accuracy: 0.0000e+00\n",
            "Epoch 964/1000\n",
            "29/29 [==============================] - 1s 25ms/step - loss: 25.2565 - accuracy: 1.1834e-04 - val_loss: 379.1053 - val_accuracy: 0.0000e+00\n",
            "Epoch 965/1000\n",
            "29/29 [==============================] - 1s 25ms/step - loss: 26.9108 - accuracy: 1.1834e-04 - val_loss: 372.3539 - val_accuracy: 0.0000e+00\n",
            "Epoch 966/1000\n",
            "29/29 [==============================] - 1s 25ms/step - loss: 26.0462 - accuracy: 1.1834e-04 - val_loss: 399.6073 - val_accuracy: 0.0000e+00\n",
            "Epoch 967/1000\n",
            "29/29 [==============================] - 1s 27ms/step - loss: 24.8206 - accuracy: 1.1834e-04 - val_loss: 373.9390 - val_accuracy: 0.0000e+00\n",
            "Epoch 968/1000\n",
            "29/29 [==============================] - 1s 25ms/step - loss: 23.6088 - accuracy: 1.1834e-04 - val_loss: 376.7501 - val_accuracy: 0.0000e+00\n",
            "Epoch 969/1000\n",
            "29/29 [==============================] - 1s 25ms/step - loss: 25.1019 - accuracy: 1.1834e-04 - val_loss: 376.6010 - val_accuracy: 0.0000e+00\n",
            "Epoch 970/1000\n",
            "29/29 [==============================] - 1s 25ms/step - loss: 25.3604 - accuracy: 1.1834e-04 - val_loss: 365.1262 - val_accuracy: 0.0000e+00\n",
            "Epoch 971/1000\n",
            "29/29 [==============================] - 1s 25ms/step - loss: 26.3751 - accuracy: 1.1834e-04 - val_loss: 381.8173 - val_accuracy: 0.0000e+00\n",
            "Epoch 972/1000\n",
            "29/29 [==============================] - 1s 25ms/step - loss: 25.4729 - accuracy: 1.1834e-04 - val_loss: 370.4784 - val_accuracy: 0.0000e+00\n",
            "Epoch 973/1000\n",
            "29/29 [==============================] - 1s 29ms/step - loss: 25.2897 - accuracy: 1.1834e-04 - val_loss: 370.6310 - val_accuracy: 0.0000e+00\n",
            "Epoch 974/1000\n",
            "29/29 [==============================] - 1s 32ms/step - loss: 29.5742 - accuracy: 1.1834e-04 - val_loss: 353.5024 - val_accuracy: 0.0000e+00\n",
            "Epoch 975/1000\n",
            "29/29 [==============================] - 1s 30ms/step - loss: 25.1479 - accuracy: 1.1834e-04 - val_loss: 398.3117 - val_accuracy: 0.0000e+00\n",
            "Epoch 976/1000\n",
            "29/29 [==============================] - 1s 31ms/step - loss: 26.5152 - accuracy: 1.1834e-04 - val_loss: 398.0604 - val_accuracy: 0.0000e+00\n",
            "Epoch 977/1000\n",
            "29/29 [==============================] - 1s 27ms/step - loss: 26.2466 - accuracy: 1.1834e-04 - val_loss: 375.4839 - val_accuracy: 0.0000e+00\n",
            "Epoch 978/1000\n",
            "29/29 [==============================] - 1s 24ms/step - loss: 25.7204 - accuracy: 1.1834e-04 - val_loss: 406.5595 - val_accuracy: 0.0000e+00\n",
            "Epoch 979/1000\n",
            "29/29 [==============================] - 1s 24ms/step - loss: 30.2833 - accuracy: 1.1834e-04 - val_loss: 420.6076 - val_accuracy: 0.0000e+00\n",
            "Epoch 980/1000\n",
            "29/29 [==============================] - 1s 25ms/step - loss: 23.4227 - accuracy: 1.1834e-04 - val_loss: 373.9354 - val_accuracy: 0.0000e+00\n",
            "Epoch 981/1000\n",
            "29/29 [==============================] - 1s 25ms/step - loss: 30.2082 - accuracy: 1.1834e-04 - val_loss: 425.8558 - val_accuracy: 0.0000e+00\n",
            "Epoch 982/1000\n",
            "29/29 [==============================] - 1s 25ms/step - loss: 33.9984 - accuracy: 1.1834e-04 - val_loss: 377.8520 - val_accuracy: 0.0000e+00\n",
            "Epoch 983/1000\n",
            "29/29 [==============================] - 1s 26ms/step - loss: 25.3023 - accuracy: 1.1834e-04 - val_loss: 376.9611 - val_accuracy: 0.0000e+00\n",
            "Epoch 984/1000\n",
            "29/29 [==============================] - 1s 25ms/step - loss: 26.6056 - accuracy: 1.1834e-04 - val_loss: 387.7281 - val_accuracy: 0.0000e+00\n",
            "Epoch 985/1000\n",
            "29/29 [==============================] - 1s 24ms/step - loss: 23.3819 - accuracy: 1.1834e-04 - val_loss: 372.8975 - val_accuracy: 0.0000e+00\n",
            "Epoch 986/1000\n",
            "29/29 [==============================] - 1s 23ms/step - loss: 23.6986 - accuracy: 1.1834e-04 - val_loss: 362.6753 - val_accuracy: 0.0000e+00\n",
            "Epoch 987/1000\n",
            "29/29 [==============================] - 1s 25ms/step - loss: 25.5982 - accuracy: 1.1834e-04 - val_loss: 382.3261 - val_accuracy: 0.0000e+00\n",
            "Epoch 988/1000\n",
            "29/29 [==============================] - 1s 24ms/step - loss: 25.4571 - accuracy: 1.1834e-04 - val_loss: 395.0313 - val_accuracy: 0.0000e+00\n",
            "Epoch 989/1000\n",
            "29/29 [==============================] - 1s 23ms/step - loss: 27.3584 - accuracy: 1.1834e-04 - val_loss: 374.8279 - val_accuracy: 0.0000e+00\n",
            "Epoch 990/1000\n",
            "29/29 [==============================] - 1s 23ms/step - loss: 26.2093 - accuracy: 1.1834e-04 - val_loss: 370.6213 - val_accuracy: 0.0000e+00\n",
            "Epoch 991/1000\n",
            "29/29 [==============================] - 1s 23ms/step - loss: 27.5603 - accuracy: 1.1834e-04 - val_loss: 364.5053 - val_accuracy: 0.0000e+00\n",
            "Epoch 992/1000\n",
            "29/29 [==============================] - 1s 27ms/step - loss: 24.4168 - accuracy: 1.1834e-04 - val_loss: 370.4510 - val_accuracy: 0.0000e+00\n",
            "Epoch 993/1000\n",
            "29/29 [==============================] - 1s 27ms/step - loss: 24.6270 - accuracy: 1.1834e-04 - val_loss: 376.0756 - val_accuracy: 0.0000e+00\n",
            "Epoch 994/1000\n",
            "29/29 [==============================] - 1s 27ms/step - loss: 23.0322 - accuracy: 1.1834e-04 - val_loss: 387.9727 - val_accuracy: 0.0000e+00\n",
            "Epoch 995/1000\n",
            "29/29 [==============================] - 1s 23ms/step - loss: 28.8655 - accuracy: 1.1834e-04 - val_loss: 335.6978 - val_accuracy: 0.0000e+00\n",
            "Epoch 996/1000\n",
            "29/29 [==============================] - 1s 24ms/step - loss: 22.9886 - accuracy: 1.1834e-04 - val_loss: 375.4376 - val_accuracy: 0.0000e+00\n",
            "Epoch 997/1000\n",
            "29/29 [==============================] - 1s 22ms/step - loss: 22.9656 - accuracy: 1.1834e-04 - val_loss: 355.4298 - val_accuracy: 0.0000e+00\n",
            "Epoch 998/1000\n",
            "29/29 [==============================] - 1s 23ms/step - loss: 22.7454 - accuracy: 1.1834e-04 - val_loss: 384.6094 - val_accuracy: 0.0000e+00\n",
            "Epoch 999/1000\n",
            "29/29 [==============================] - 1s 23ms/step - loss: 27.8450 - accuracy: 1.1834e-04 - val_loss: 390.2302 - val_accuracy: 0.0000e+00\n",
            "Epoch 1000/1000\n",
            "29/29 [==============================] - 1s 22ms/step - loss: 25.4081 - accuracy: 1.1834e-04 - val_loss: 409.3683 - val_accuracy: 0.0000e+00\n"
          ]
        }
      ],
      "source": [
        "\n",
        "history = model.fit(\n",
        "    x_fit,\n",
        "    y_fit,\n",
        "    batch_size=bs,\n",
        "    epochs=num_epochs,\n",
        "    validation_split=val_split,\n",
        ")"
      ],
      "id": "pzIPqYMQ4oW0"
    },
    {
      "cell_type": "code",
      "source": [
        "print(history.history.keys())"
      ],
      "metadata": {
        "colab": {
          "base_uri": "https://localhost:8080/"
        },
        "id": "qPjWeEf5QEHf",
        "outputId": "63161619-5ec2-4294-af5a-cdee2ccd10fe"
      },
      "id": "qPjWeEf5QEHf",
      "execution_count": null,
      "outputs": [
        {
          "output_type": "stream",
          "name": "stdout",
          "text": [
            "dict_keys(['loss', 'accuracy', 'val_loss', 'val_accuracy'])\n"
          ]
        }
      ]
    },
    {
      "cell_type": "code",
      "source": [
        "train_loss = (history.history['loss'])\n",
        "val_loss = (history.history['val_loss'])"
      ],
      "metadata": {
        "id": "eTzw2y_FQFTG"
      },
      "id": "eTzw2y_FQFTG",
      "execution_count": null,
      "outputs": []
    },
    {
      "cell_type": "code",
      "source": [
        "plt.figure(figsize=(10,7))\n",
        "plt.title(\"Loss Graph\")\n",
        "plt.xlabel(\"Epoch\")\n",
        "plt.ylabel(\"Loss\")\n",
        "plt.grid()\n",
        "plt.plot(train_loss)\n",
        "plt.plot(val_loss)\n",
        "\n",
        "plt.legend(['Train_Loss','Val_Loss'])"
      ],
      "metadata": {
        "colab": {
          "base_uri": "https://localhost:8080/",
          "height": 488
        },
        "id": "nHGfpkZP3Ipg",
        "outputId": "3d7c7d2d-ec9a-46c3-c931-8380e9bb546f"
      },
      "id": "nHGfpkZP3Ipg",
      "execution_count": null,
      "outputs": [
        {
          "output_type": "execute_result",
          "data": {
            "text/plain": [
              "<matplotlib.legend.Legend at 0x7f1248f0f1c0>"
            ]
          },
          "metadata": {},
          "execution_count": 137
        },
        {
          "output_type": "display_data",
          "data": {
            "text/plain": [
              "<Figure size 720x504 with 1 Axes>"
            ],
            "image/png": "[encoded data removed]"
          },
          "metadata": {
            "needs_background": "light"
          }
        }
      ]
    },
    {
      "cell_type": "code",
      "source": [
        "np.save('train_loss_march23_2300.npy', train_loss) # save\n",
        "np.save('val_loss_march23_2300.npy', val_loss) # save\n",
        "\n",
        "# new_arr = np.load('train_loss_march23_2300.npy') # load"
      ],
      "metadata": {
        "id": "Cr-VQDiT8bRB"
      },
      "id": "Cr-VQDiT8bRB",
      "execution_count": null,
      "outputs": []
    },
    {
      "cell_type": "markdown",
      "metadata": {
        "id": "-MSw-7bebv-x"
      },
      "source": [
        "# Evaluation"
      ],
      "id": "-MSw-7bebv-x"
    },
    {
      "cell_type": "markdown",
      "source": [],
      "metadata": {
        "id": "SKK24Ffl51LD"
      },
      "id": "SKK24Ffl51LD"
    },
    {
      "cell_type": "code",
      "source": [
        "from keras.models import load_model\n",
        "\n",
        "model.save('my_model.h5')  # creates a HDF5 file 'my_model.h5'\n",
        "# del model  # deletes the existing model\n",
        "\n",
        "# returns a compiled model\n",
        "# identical to the previous one"
      ],
      "metadata": {
        "id": "IKPOvGjw69KU"
      },
      "id": "IKPOvGjw69KU",
      "execution_count": null,
      "outputs": []
    },
    {
      "cell_type": "code",
      "source": [
        "\n",
        "new_model = load_model('my_model.h5')"
      ],
      "metadata": {
        "colab": {
          "base_uri": "https://localhost:8080/",
          "height": 407
        },
        "id": "oO8eZqUL7C77",
        "outputId": "1b476e38-db0c-48a2-c018-2f09b1abe530"
      },
      "id": "oO8eZqUL7C77",
      "execution_count": null,
      "outputs": [
        {
          "output_type": "error",
          "ename": "ValueError",
          "evalue": "ignored",
          "traceback": [
            "\u001b[0;31m---------------------------------------------------------------------------\u001b[0m",
            "\u001b[0;31mValueError\u001b[0m                                Traceback (most recent call last)",
            "\u001b[0;32m<ipython-input-40-9ade49769c1d>\u001b[0m in \u001b[0;36m<module>\u001b[0;34m\u001b[0m\n\u001b[0;32m----> 1\u001b[0;31m \u001b[0mnew_model\u001b[0m \u001b[0;34m=\u001b[0m \u001b[0mload_model\u001b[0m\u001b[0;34m(\u001b[0m\u001b[0;34m'my_model.h5'\u001b[0m\u001b[0;34m)\u001b[0m\u001b[0;34m\u001b[0m\u001b[0;34m\u001b[0m\u001b[0m\n\u001b[0m",
            "\u001b[0;32m/usr/local/lib/python3.9/dist-packages/keras/utils/traceback_utils.py\u001b[0m in \u001b[0;36merror_handler\u001b[0;34m(*args, **kwargs)\u001b[0m\n\u001b[1;32m     68\u001b[0m             \u001b[0;31m# To get the full stack trace, call:\u001b[0m\u001b[0;34m\u001b[0m\u001b[0;34m\u001b[0m\u001b[0m\n\u001b[1;32m     69\u001b[0m             \u001b[0;31m# `tf.debugging.disable_traceback_filtering()`\u001b[0m\u001b[0;34m\u001b[0m\u001b[0;34m\u001b[0m\u001b[0m\n\u001b[0;32m---> 70\u001b[0;31m             \u001b[0;32mraise\u001b[0m \u001b[0me\u001b[0m\u001b[0;34m.\u001b[0m\u001b[0mwith_traceback\u001b[0m\u001b[0;34m(\u001b[0m\u001b[0mfiltered_tb\u001b[0m\u001b[0;34m)\u001b[0m \u001b[0;32mfrom\u001b[0m \u001b[0;32mNone\u001b[0m\u001b[0;34m\u001b[0m\u001b[0;34m\u001b[0m\u001b[0m\n\u001b[0m\u001b[1;32m     71\u001b[0m         \u001b[0;32mfinally\u001b[0m\u001b[0;34m:\u001b[0m\u001b[0;34m\u001b[0m\u001b[0;34m\u001b[0m\u001b[0m\n\u001b[1;32m     72\u001b[0m             \u001b[0;32mdel\u001b[0m \u001b[0mfiltered_tb\u001b[0m\u001b[0;34m\u001b[0m\u001b[0;34m\u001b[0m\u001b[0m\n",
            "\u001b[0;32m/usr/local/lib/python3.9/dist-packages/keras/saving/legacy/serialization.py\u001b[0m in \u001b[0;36mclass_and_config_for_serialized_keras_object\u001b[0;34m(config, module_objects, custom_objects, printable_module_name)\u001b[0m\n\u001b[1;32m    383\u001b[0m     )\n\u001b[1;32m    384\u001b[0m     \u001b[0;32mif\u001b[0m \u001b[0mcls\u001b[0m \u001b[0;32mis\u001b[0m \u001b[0;32mNone\u001b[0m\u001b[0;34m:\u001b[0m\u001b[0;34m\u001b[0m\u001b[0;34m\u001b[0m\u001b[0m\n\u001b[0;32m--> 385\u001b[0;31m         raise ValueError(\n\u001b[0m\u001b[1;32m    386\u001b[0m             \u001b[0;34mf\"Unknown {printable_module_name}: '{class_name}'. \"\u001b[0m\u001b[0;34m\u001b[0m\u001b[0;34m\u001b[0m\u001b[0m\n\u001b[1;32m    387\u001b[0m             \u001b[0;34m\"Please ensure you are using a `keras.utils.custom_object_scope` \"\u001b[0m\u001b[0;34m\u001b[0m\u001b[0;34m\u001b[0m\u001b[0m\n",
            "\u001b[0;31mValueError\u001b[0m: Unknown layer: 'AnalysisBranch1D'. Please ensure you are using a `keras.utils.custom_object_scope` and that this object is included in the scope. See https://www.tensorflow.org/guide/keras/save_and_serialize#registering_the_custom_object for details."
          ]
        }
      ]
    },
    {
      "cell_type": "code",
      "source": [
        "t=x_test\n",
        "t=np.reshape(t, (len(t),len(t[0]), 1))\n",
        "y_pred = model.predict(t)\n",
        "y_pred.shape\n",
        "\n",
        "\n",
        "plt.plot(y_test[:600,2])\n",
        "plt.plot(y_pred[:600,0])\n",
        "plt.grid()\n",
        "plt.show()"
      ],
      "metadata": {
        "colab": {
          "base_uri": "https://localhost:8080/",
          "height": 287
        },
        "id": "43FtslEEdWsL",
        "outputId": "bb17c7ea-bcda-488e-c4da-58ac7f238802"
      },
      "id": "43FtslEEdWsL",
      "execution_count": null,
      "outputs": [
        {
          "output_type": "stream",
          "name": "stdout",
          "text": [
            "134/134 [==============================] - 1s 7ms/step\n"
          ]
        },
        {
          "output_type": "display_data",
          "data": {
            "text/plain": [
              "<Figure size 432x288 with 1 Axes>"
            ],
            "image/png": "[encoded data removed]"
          },
          "metadata": {
            "needs_background": "light"
          }
        }
      ]
    },
    {
      "cell_type": "code",
      "execution_count": null,
      "metadata": {
        "colab": {
          "base_uri": "https://localhost:8080/",
          "height": 577
        },
        "id": "0cQSzrv08CoY",
        "outputId": "54ee6a58-4693-451b-cbb0-85ccedae553e"
      },
      "outputs": [
        {
          "output_type": "stream",
          "name": "stdout",
          "text": [
            "134/134 [==============================] - 1s 4ms/step\n",
            "1/1 [==============================] - 0s 21ms/step\n",
            "[43.255096 43.92727  44.621647 ... 32.552036 32.57365  32.569893]\n",
            "[33.5  34.85 36.17 ... 35.8  35.51 35.12]\n",
            "0.48463441616378\n"
          ]
        },
        {
          "output_type": "display_data",
          "data": {
            "text/plain": [
              "<Figure size 720x504 with 1 Axes>"
            ],
            "image/png": "[encoded data removed]"
          },
          "metadata": {
            "needs_background": "light"
          }
        },
        {
          "output_type": "stream",
          "name": "stdout",
          "text": [
            "(4258, 1)\n"
          ]
        }
      ],
      "source": [
        "from sklearn import datasets, linear_model\n",
        "from sklearn.metrics import mean_squared_error, r2_score\n",
        "from sklearn.metrics import mean_absolute_error\n",
        "\n",
        "def percentage_error(actual,pred):\n",
        "  p_list = []\n",
        "  for i in range(len(actual)):\n",
        "    temp = (abs(actual[i]-pred[i]))/actual[i]\n",
        "    p_list.append(temp)\n",
        "  return sum(p_list)/len(p_list)\n",
        "\n",
        "# total predictions\n",
        "t=x_test\n",
        "t=np.reshape(t, (len(t),len(t[0]), 1))\n",
        "y_pred = model.predict(t)\n",
        "y_pred.shape\n",
        "\n",
        "# single prediction\n",
        "a=x_test[1,:]\n",
        "t=a\n",
        "t=np.reshape(t, (1,len(x_test[0]), 1))\n",
        "model.predict(t)\n",
        "print(y_pred[:,0])\n",
        "print(y_test[:,2])\n",
        "  \n",
        "\n",
        "# linear_mae = mean_absolute_error(y_test[:,2], y_pred[:,0])\n",
        "# print(linear_mae)  \n",
        "print(percentage_error(y_test[:,2], y_pred[:,0]))\n",
        "plt.figure(figsize=(10,7))\n",
        "plt.title(\"Pressure vs Height(in m) for a day\")\n",
        "plt.xlabel(\"Height(in m)\")\n",
        "plt.ylabel(\"Pressure\")\n",
        "\n",
        "plt.plot(y_test[:300,2])\n",
        "plt.plot(y_pred[:300,0])\n",
        "plt.legend(['Actual','Prediction'])\n",
        "plt.grid()\n",
        "plt.show()\n",
        "\n",
        "print(y_pred.shape)\n"
      ],
      "id": "0cQSzrv08CoY"
    },
    {
      "cell_type": "code",
      "source": [
        "\n",
        "def percentage_error(actual,pred):\n",
        "  p_list = []\n",
        "  for i in range(len(actual)):\n",
        "    temp = (abs(actual[i]-pred[i]))/actual[i]\n",
        "    p_list.append(temp)\n",
        "  return sum(p_list)/len(p_list)\n",
        "\n",
        "# total predictions\n",
        "t=x_fit\n",
        "t=np.reshape(t, (len(t),len(t[0]), 1))\n",
        "y_pred = model.predict(t)\n",
        "y_pred.shape\n",
        "\n",
        "# single prediction\n",
        "a=x_fit[1,:]\n",
        "t=a\n",
        "t=np.reshape(t, (1,len(x_test[0]), 1))\n",
        "model.predict(t)\n",
        "\n",
        "print(y_pred[:,0])\n",
        "print(y_fit[:,0])\n",
        "  \n",
        "from sklearn import datasets, linear_model\n",
        "from sklearn.metrics import mean_squared_error, r2_score\n",
        "from sklearn.metrics import mean_absolute_error\n",
        "\n",
        "# linear_mae = mean_absolute_error(y_fit[:,2], y_pred[:,0])\n",
        "# print(linear_mae)  \n",
        "print(percentage_error(y_fit[:], y_pred[:,0]))\n",
        "plt.figure(figsize=(10,7))\n",
        "plt.title(\"Pressure vs Height(in m) for a day\")\n",
        "plt.xlabel(\"Height(in m)\")\n",
        "plt.ylabel(\"Pressure\")\n",
        "\n",
        "plt.plot(y_fit[:600])\n",
        "plt.plot(y_pred[:600,0])\n",
        "plt.legend(['Actual','Prediction'])\n",
        "plt.grid()\n",
        "plt.show()\n",
        "\n",
        "print(y_pred.shape)\n"
      ],
      "metadata": {
        "colab": {
          "base_uri": "https://localhost:8080/",
          "height": 577
        },
        "id": "quIIMpf9p6EG",
        "outputId": "440aa0d6-5316-42bc-b5a7-f2eee628db30"
      },
      "id": "quIIMpf9p6EG",
      "execution_count": null,
      "outputs": [
        {
          "output_type": "stream",
          "name": "stdout",
          "text": [
            "294/294 [==============================] - 2s 5ms/step\n",
            "1/1 [==============================] - 0s 21ms/step\n",
            "[72.46946   73.785484  74.904076  ...  9.2152405  9.60257   10.118138 ]\n",
            "tf.Tensor([74.49 74.69 78.21 ... 13.17 12.9  12.6 ], shape=(9389,), dtype=float32)\n",
            "tf.Tensor([0.17927836], shape=(1,), dtype=float32)\n"
          ]
        },
        {
          "output_type": "display_data",
          "data": {
            "text/plain": [
              "<Figure size 720x504 with 1 Axes>"
            ],
            "image/png": "[encoded data removed]"
          },
          "metadata": {
            "needs_background": "light"
          }
        },
        {
          "output_type": "stream",
          "name": "stdout",
          "text": [
            "(9389, 1)\n"
          ]
        }
      ]
    },
    {
      "cell_type": "code",
      "execution_count": null,
      "metadata": {
        "id": "KIBZdUI09Xi8"
      },
      "outputs": [],
      "source": [
        "plt.figure(figsize=(10,7))\n",
        "plt.plot(y_test[:500,2])\n",
        "plt.grid()\n",
        "plt.xlabel(\"Index\")\n",
        "plt.ylabel(\"Relative Humidity\")\n",
        "\n",
        "plt.savefig('RH_graph.png', bbox_inches='tight')\n",
        "plt.show()"
      ],
      "id": "KIBZdUI09Xi8"
    },
    {
      "cell_type": "code",
      "execution_count": null,
      "metadata": {
        "id": "yDZAFjl7UTtL"
      },
      "outputs": [],
      "source": [
        "plt.figure(figsize=(10,7))\n",
        "plt.plot(y_test[:147,0])\n",
        "plt.grid()\n",
        "plt.xlabel(\"Height\")\n",
        "plt.ylabel(\"Pressure\")\n",
        "\n",
        "plt.savefig('Pressure_graph.png', bbox_inches='tight')\n",
        "plt.show()"
      ],
      "id": "yDZAFjl7UTtL"
    },
    {
      "cell_type": "code",
      "execution_count": null,
      "metadata": {
        "id": "OC5dMDc1oC72",
        "colab": {
          "base_uri": "https://localhost:8080/",
          "height": 481
        },
        "outputId": "f982d579-3018-44b6-82f1-12b1642de984"
      },
      "outputs": [
        {
          "output_type": "stream",
          "name": "stderr",
          "text": [
            "WARNING:absl:Found untraced functions such as _jit_compiled_convolution_op, lambda_14_layer_call_fn, lambda_14_layer_call_and_return_conditional_losses, dwt_conv1d_layer_7_layer_call_fn, dwt_conv1d_layer_7_layer_call_and_return_conditional_losses while saving (showing 5 of 31). These functions will not be directly callable after loading.\n"
          ]
        },
        {
          "output_type": "error",
          "ename": "TypeError",
          "evalue": "ignored",
          "traceback": [
            "\u001b[0;31m---------------------------------------------------------------------------\u001b[0m",
            "\u001b[0;31mTypeError\u001b[0m                                 Traceback (most recent call last)",
            "\u001b[0;32m<ipython-input-38-4a6fd4bbe00d>\u001b[0m in \u001b[0;36m<module>\u001b[0;34m\u001b[0m\n\u001b[1;32m      1\u001b[0m \u001b[0;31m#saving\u001b[0m\u001b[0;34m\u001b[0m\u001b[0;34m\u001b[0m\u001b[0m\n\u001b[1;32m      2\u001b[0m \u001b[0;32mimport\u001b[0m \u001b[0mpickle\u001b[0m\u001b[0;34m\u001b[0m\u001b[0;34m\u001b[0m\u001b[0m\n\u001b[0;32m----> 3\u001b[0;31m \u001b[0mmodel\u001b[0m\u001b[0;34m.\u001b[0m\u001b[0msave\u001b[0m\u001b[0;34m(\u001b[0m\u001b[0;34m'abc'\u001b[0m\u001b[0;34m)\u001b[0m\u001b[0;34m\u001b[0m\u001b[0;34m\u001b[0m\u001b[0m\n\u001b[0m\u001b[1;32m      4\u001b[0m \u001b[0mpickle\u001b[0m\u001b[0;34m.\u001b[0m\u001b[0mdump\u001b[0m\u001b[0;34m(\u001b[0m\u001b[0mmodel\u001b[0m\u001b[0;34m,\u001b[0m\u001b[0mopen\u001b[0m\u001b[0;34m(\u001b[0m\u001b[0;34m'saved_model_pressure.pkl'\u001b[0m\u001b[0;34m,\u001b[0m\u001b[0;34m'wb'\u001b[0m\u001b[0;34m)\u001b[0m\u001b[0;34m)\u001b[0m\u001b[0;34m\u001b[0m\u001b[0;34m\u001b[0m\u001b[0m\n\u001b[1;32m      5\u001b[0m \u001b[0;34m\u001b[0m\u001b[0m\n",
            "\u001b[0;32m/usr/local/lib/python3.9/dist-packages/keras/utils/traceback_utils.py\u001b[0m in \u001b[0;36merror_handler\u001b[0;34m(*args, **kwargs)\u001b[0m\n\u001b[1;32m     68\u001b[0m             \u001b[0;31m# To get the full stack trace, call:\u001b[0m\u001b[0;34m\u001b[0m\u001b[0;34m\u001b[0m\u001b[0m\n\u001b[1;32m     69\u001b[0m             \u001b[0;31m# `tf.debugging.disable_traceback_filtering()`\u001b[0m\u001b[0;34m\u001b[0m\u001b[0;34m\u001b[0m\u001b[0m\n\u001b[0;32m---> 70\u001b[0;31m             \u001b[0;32mraise\u001b[0m \u001b[0me\u001b[0m\u001b[0;34m.\u001b[0m\u001b[0mwith_traceback\u001b[0m\u001b[0;34m(\u001b[0m\u001b[0mfiltered_tb\u001b[0m\u001b[0;34m)\u001b[0m \u001b[0;32mfrom\u001b[0m \u001b[0;32mNone\u001b[0m\u001b[0;34m\u001b[0m\u001b[0;34m\u001b[0m\u001b[0m\n\u001b[0m\u001b[1;32m     71\u001b[0m         \u001b[0;32mfinally\u001b[0m\u001b[0;34m:\u001b[0m\u001b[0;34m\u001b[0m\u001b[0;34m\u001b[0m\u001b[0m\n\u001b[1;32m     72\u001b[0m             \u001b[0;32mdel\u001b[0m \u001b[0mfiltered_tb\u001b[0m\u001b[0;34m\u001b[0m\u001b[0;34m\u001b[0m\u001b[0m\n",
            "\u001b[0;32m/usr/lib/python3.9/json/encoder.py\u001b[0m in \u001b[0;36mencode\u001b[0;34m(self, o)\u001b[0m\n\u001b[1;32m    197\u001b[0m         \u001b[0;31m# exceptions aren't as detailed.  The list call should be roughly\u001b[0m\u001b[0;34m\u001b[0m\u001b[0;34m\u001b[0m\u001b[0m\n\u001b[1;32m    198\u001b[0m         \u001b[0;31m# equivalent to the PySequence_Fast that ''.join() would do.\u001b[0m\u001b[0;34m\u001b[0m\u001b[0;34m\u001b[0m\u001b[0m\n\u001b[0;32m--> 199\u001b[0;31m         \u001b[0mchunks\u001b[0m \u001b[0;34m=\u001b[0m \u001b[0mself\u001b[0m\u001b[0;34m.\u001b[0m\u001b[0miterencode\u001b[0m\u001b[0;34m(\u001b[0m\u001b[0mo\u001b[0m\u001b[0;34m,\u001b[0m \u001b[0m_one_shot\u001b[0m\u001b[0;34m=\u001b[0m\u001b[0;32mTrue\u001b[0m\u001b[0;34m)\u001b[0m\u001b[0;34m\u001b[0m\u001b[0;34m\u001b[0m\u001b[0m\n\u001b[0m\u001b[1;32m    200\u001b[0m         \u001b[0;32mif\u001b[0m \u001b[0;32mnot\u001b[0m \u001b[0misinstance\u001b[0m\u001b[0;34m(\u001b[0m\u001b[0mchunks\u001b[0m\u001b[0;34m,\u001b[0m \u001b[0;34m(\u001b[0m\u001b[0mlist\u001b[0m\u001b[0;34m,\u001b[0m \u001b[0mtuple\u001b[0m\u001b[0;34m)\u001b[0m\u001b[0;34m)\u001b[0m\u001b[0;34m:\u001b[0m\u001b[0;34m\u001b[0m\u001b[0;34m\u001b[0m\u001b[0m\n\u001b[1;32m    201\u001b[0m             \u001b[0mchunks\u001b[0m \u001b[0;34m=\u001b[0m \u001b[0mlist\u001b[0m\u001b[0;34m(\u001b[0m\u001b[0mchunks\u001b[0m\u001b[0;34m)\u001b[0m\u001b[0;34m\u001b[0m\u001b[0;34m\u001b[0m\u001b[0m\n",
            "\u001b[0;32m/usr/lib/python3.9/json/encoder.py\u001b[0m in \u001b[0;36miterencode\u001b[0;34m(self, o, _one_shot)\u001b[0m\n\u001b[1;32m    255\u001b[0m                 \u001b[0mself\u001b[0m\u001b[0;34m.\u001b[0m\u001b[0mkey_separator\u001b[0m\u001b[0;34m,\u001b[0m \u001b[0mself\u001b[0m\u001b[0;34m.\u001b[0m\u001b[0mitem_separator\u001b[0m\u001b[0;34m,\u001b[0m \u001b[0mself\u001b[0m\u001b[0;34m.\u001b[0m\u001b[0msort_keys\u001b[0m\u001b[0;34m,\u001b[0m\u001b[0;34m\u001b[0m\u001b[0;34m\u001b[0m\u001b[0m\n\u001b[1;32m    256\u001b[0m                 self.skipkeys, _one_shot)\n\u001b[0;32m--> 257\u001b[0;31m         \u001b[0;32mreturn\u001b[0m \u001b[0m_iterencode\u001b[0m\u001b[0;34m(\u001b[0m\u001b[0mo\u001b[0m\u001b[0;34m,\u001b[0m \u001b[0;36m0\u001b[0m\u001b[0;34m)\u001b[0m\u001b[0;34m\u001b[0m\u001b[0;34m\u001b[0m\u001b[0m\n\u001b[0m\u001b[1;32m    258\u001b[0m \u001b[0;34m\u001b[0m\u001b[0m\n\u001b[1;32m    259\u001b[0m def _make_iterencode(markers, _default, _encoder, _indent, _floatstr,\n",
            "\u001b[0;31mTypeError\u001b[0m: Unable to serialize [[0 0]\n [5 5]\n [0 0]] to JSON. Unrecognized type <class 'tensorflow.python.framework.ops.EagerTensor'>."
          ]
        }
      ],
      "source": [
        "#saving\n",
        "import pickle\n",
        "model.save('abc')\n",
        "pickle.dump(model,open('saved_model_pressure.pkl','wb'))\n",
        "\n",
        "#import\n",
        "#lmodel = pickle.load(open('saved_model_pressure.pkl','rb'))"
      ],
      "id": "OC5dMDc1oC72"
    },
    {
      "cell_type": "code",
      "execution_count": null,
      "metadata": {
        "id": "l7gyUzIx5bQz"
      },
      "outputs": [],
      "source": [
        "t=x_test_vband\n",
        "print(np.shape(t))\n",
        "t=np.reshape(t, (len(x_test),15, 1))\n",
        "y_pred = model.predict(t)\n",
        "y_pred.shape"
      ],
      "id": "l7gyUzIx5bQz"
    },
    {
      "cell_type": "markdown",
      "metadata": {
        "id": "CN2k4eqLPE7F"
      },
      "source": [
        "# New"
      ],
      "id": "CN2k4eqLPE7F"
    },
    {
      "cell_type": "code",
      "execution_count": null,
      "metadata": {
        "id": "S5mq8wGNPNrS"
      },
      "outputs": [],
      "source": [
        "from tensorflow import keras\n",
        "from tensorflow.keras import layers\n",
        "\n",
        "def transformer_encoder(inputs, head_size, num_heads, ff_dim, dropout=0):\n",
        "    # Normalization and Attention\n",
        "    x = layers.LayerNormalization(epsilon=1e-6)(inputs)\n",
        "    x = layers.MultiHeadAttention(\n",
        "        key_dim=head_size, num_heads=num_heads, dropout=dropout\n",
        "    )(x, x)\n",
        "    x = layers.Dropout(dropout)(x)\n",
        "    res = x + inputs\n",
        "\n",
        "    # Feed Forward Part\n",
        "    x = layers.LayerNormalization(epsilon=1e-6)(res)\n",
        "    x = layers.Conv1D(filters=ff_dim, kernel_size=1, activation=\"relu\")(x)\n",
        "    x = layers.Dropout(dropout)(x)\n",
        "    x = layers.Conv1D(filters=inputs.shape[-1], kernel_size=1)(x)\n",
        "    return x + res"
      ],
      "id": "S5mq8wGNPNrS"
    },
    {
      "cell_type": "code",
      "execution_count": null,
      "metadata": {
        "id": "9e6D02IGPQIm"
      },
      "outputs": [],
      "source": [
        "def build_model(\n",
        "    input_shape,\n",
        "    head_size,\n",
        "    num_heads,\n",
        "    ff_dim,\n",
        "    num_transformer_blocks,\n",
        "    mlp_units,\n",
        "    dropout=0,\n",
        "    mlp_dropout=0,\n",
        "):\n",
        "\n",
        "\n",
        "    inputs = keras.Input(shape=input_shape)\n",
        "    x = inputs\n",
        "    for _ in range(num_transformer_blocks):\n",
        "        x = transformer_encoder(x, head_size, num_heads, ff_dim, dropout)\n",
        "\n",
        "    # x = layers.GlobalAveragePooling1D(data_format=\"channels_first\")(x)\n",
        "\n",
        "    for dim in mlp_units:\n",
        "        x = tfa.activations.mish(x)\n",
        "        x = layers.Dropout(mlp_dropout)(x)\n",
        "    x=Flatten()(x)\n",
        "    outputs = layers.Dense(1)(x)\n",
        "\n",
        "    return keras.Model(inputs, outputs)"
      ],
      "id": "9e6D02IGPQIm"
    },
    {
      "cell_type": "code",
      "source": [
        "input_shape = 23,1\n",
        "print(input_shape)\n",
        "model = build_model(\n",
        "    input_shape,\n",
        "    head_size=256,\n",
        "    num_heads=12,\n",
        "    ff_dim=4,\n",
        "    num_transformer_blocks=4,\n",
        "    mlp_units=[128],\n",
        "    mlp_dropout=0.4,\n",
        "    dropout=0.25,\n",
        ")\n",
        "\n",
        "model.compile(\n",
        "    loss=\"mean_squared_error\",\n",
        "    optimizer=keras.optimizers.Adam(learning_rate=1e-4)\n",
        ")\n",
        "model.summary()\n",
        "\n",
        "callbacks = [keras.callbacks.EarlyStopping(patience=10, \\\n",
        "    restore_best_weights=True)]\n"
      ],
      "metadata": {
        "colab": {
          "base_uri": "https://localhost:8080/"
        },
        "id": "n8gktYWzcdDW",
        "outputId": "aab018c5-6bef-45d0-cdb5-a65480488c14"
      },
      "id": "n8gktYWzcdDW",
      "execution_count": null,
      "outputs": [
        {
          "output_type": "stream",
          "name": "stdout",
          "text": [
            "(23, 1)\n",
            "Model: \"model_5\"\n",
            "__________________________________________________________________________________________________\n",
            " Layer (type)                   Output Shape         Param #     Connected to                     \n",
            "==================================================================================================\n",
            " input_9 (InputLayer)           [(None, 23, 1)]      0           []                               \n",
            "                                                                                                  \n",
            " layer_normalization_56 (LayerN  (None, 23, 1)       2           ['input_9[0][0]']                \n",
            " ormalization)                                                                                    \n",
            "                                                                                                  \n",
            " multi_head_attention_28 (Multi  (None, 23, 1)       21505       ['layer_normalization_56[0][0]', \n",
            " HeadAttention)                                                   'layer_normalization_56[0][0]'] \n",
            "                                                                                                  \n",
            " dropout_63 (Dropout)           (None, 23, 1)        0           ['multi_head_attention_28[0][0]']\n",
            "                                                                                                  \n",
            " tf.__operators__.add_56 (TFOpL  (None, 23, 1)       0           ['dropout_63[0][0]',             \n",
            " ambda)                                                           'input_9[0][0]']                \n",
            "                                                                                                  \n",
            " layer_normalization_57 (LayerN  (None, 23, 1)       2           ['tf.__operators__.add_56[0][0]']\n",
            " ormalization)                                                                                    \n",
            "                                                                                                  \n",
            " conv1d_57 (Conv1D)             (None, 23, 4)        8           ['layer_normalization_57[0][0]'] \n",
            "                                                                                                  \n",
            " dropout_64 (Dropout)           (None, 23, 4)        0           ['conv1d_57[0][0]']              \n",
            "                                                                                                  \n",
            " conv1d_58 (Conv1D)             (None, 23, 1)        5           ['dropout_64[0][0]']             \n",
            "                                                                                                  \n",
            " tf.__operators__.add_57 (TFOpL  (None, 23, 1)       0           ['conv1d_58[0][0]',              \n",
            " ambda)                                                           'tf.__operators__.add_56[0][0]']\n",
            "                                                                                                  \n",
            " layer_normalization_58 (LayerN  (None, 23, 1)       2           ['tf.__operators__.add_57[0][0]']\n",
            " ormalization)                                                                                    \n",
            "                                                                                                  \n",
            " multi_head_attention_29 (Multi  (None, 23, 1)       21505       ['layer_normalization_58[0][0]', \n",
            " HeadAttention)                                                   'layer_normalization_58[0][0]'] \n",
            "                                                                                                  \n",
            " dropout_65 (Dropout)           (None, 23, 1)        0           ['multi_head_attention_29[0][0]']\n",
            "                                                                                                  \n",
            " tf.__operators__.add_58 (TFOpL  (None, 23, 1)       0           ['dropout_65[0][0]',             \n",
            " ambda)                                                           'tf.__operators__.add_57[0][0]']\n",
            "                                                                                                  \n",
            " layer_normalization_59 (LayerN  (None, 23, 1)       2           ['tf.__operators__.add_58[0][0]']\n",
            " ormalization)                                                                                    \n",
            "                                                                                                  \n",
            " conv1d_59 (Conv1D)             (None, 23, 4)        8           ['layer_normalization_59[0][0]'] \n",
            "                                                                                                  \n",
            " dropout_66 (Dropout)           (None, 23, 4)        0           ['conv1d_59[0][0]']              \n",
            "                                                                                                  \n",
            " conv1d_60 (Conv1D)             (None, 23, 1)        5           ['dropout_66[0][0]']             \n",
            "                                                                                                  \n",
            " tf.__operators__.add_59 (TFOpL  (None, 23, 1)       0           ['conv1d_60[0][0]',              \n",
            " ambda)                                                           'tf.__operators__.add_58[0][0]']\n",
            "                                                                                                  \n",
            " layer_normalization_60 (LayerN  (None, 23, 1)       2           ['tf.__operators__.add_59[0][0]']\n",
            " ormalization)                                                                                    \n",
            "                                                                                                  \n",
            " multi_head_attention_30 (Multi  (None, 23, 1)       21505       ['layer_normalization_60[0][0]', \n",
            " HeadAttention)                                                   'layer_normalization_60[0][0]'] \n",
            "                                                                                                  \n",
            " dropout_67 (Dropout)           (None, 23, 1)        0           ['multi_head_attention_30[0][0]']\n",
            "                                                                                                  \n",
            " tf.__operators__.add_60 (TFOpL  (None, 23, 1)       0           ['dropout_67[0][0]',             \n",
            " ambda)                                                           'tf.__operators__.add_59[0][0]']\n",
            "                                                                                                  \n",
            " layer_normalization_61 (LayerN  (None, 23, 1)       2           ['tf.__operators__.add_60[0][0]']\n",
            " ormalization)                                                                                    \n",
            "                                                                                                  \n",
            " conv1d_61 (Conv1D)             (None, 23, 4)        8           ['layer_normalization_61[0][0]'] \n",
            "                                                                                                  \n",
            " dropout_68 (Dropout)           (None, 23, 4)        0           ['conv1d_61[0][0]']              \n",
            "                                                                                                  \n",
            " conv1d_62 (Conv1D)             (None, 23, 1)        5           ['dropout_68[0][0]']             \n",
            "                                                                                                  \n",
            " tf.__operators__.add_61 (TFOpL  (None, 23, 1)       0           ['conv1d_62[0][0]',              \n",
            " ambda)                                                           'tf.__operators__.add_60[0][0]']\n",
            "                                                                                                  \n",
            " layer_normalization_62 (LayerN  (None, 23, 1)       2           ['tf.__operators__.add_61[0][0]']\n",
            " ormalization)                                                                                    \n",
            "                                                                                                  \n",
            " multi_head_attention_31 (Multi  (None, 23, 1)       21505       ['layer_normalization_62[0][0]', \n",
            " HeadAttention)                                                   'layer_normalization_62[0][0]'] \n",
            "                                                                                                  \n",
            " dropout_69 (Dropout)           (None, 23, 1)        0           ['multi_head_attention_31[0][0]']\n",
            "                                                                                                  \n",
            " tf.__operators__.add_62 (TFOpL  (None, 23, 1)       0           ['dropout_69[0][0]',             \n",
            " ambda)                                                           'tf.__operators__.add_61[0][0]']\n",
            "                                                                                                  \n",
            " layer_normalization_63 (LayerN  (None, 23, 1)       2           ['tf.__operators__.add_62[0][0]']\n",
            " ormalization)                                                                                    \n",
            "                                                                                                  \n",
            " conv1d_63 (Conv1D)             (None, 23, 4)        8           ['layer_normalization_63[0][0]'] \n",
            "                                                                                                  \n",
            " dropout_70 (Dropout)           (None, 23, 4)        0           ['conv1d_63[0][0]']              \n",
            "                                                                                                  \n",
            " conv1d_64 (Conv1D)             (None, 23, 1)        5           ['dropout_70[0][0]']             \n",
            "                                                                                                  \n",
            " tf.__operators__.add_63 (TFOpL  (None, 23, 1)       0           ['conv1d_64[0][0]',              \n",
            " ambda)                                                           'tf.__operators__.add_62[0][0]']\n",
            "                                                                                                  \n",
            " tf.convert_to_tensor_8 (TFOpLa  (None, 23, 1)       0           ['tf.__operators__.add_63[0][0]']\n",
            " mbda)                                                                                            \n",
            "                                                                                                  \n",
            " tf.math.softplus_8 (TFOpLambda  (None, 23, 1)       0           ['tf.convert_to_tensor_8[0][0]'] \n",
            " )                                                                                                \n",
            "                                                                                                  \n",
            " tf.math.tanh_8 (TFOpLambda)    (None, 23, 1)        0           ['tf.math.softplus_8[0][0]']     \n",
            "                                                                                                  \n",
            " tf.math.multiply_8 (TFOpLambda  (None, 23, 1)       0           ['tf.convert_to_tensor_8[0][0]', \n",
            " )                                                                'tf.math.tanh_8[0][0]']         \n",
            "                                                                                                  \n",
            " dropout_71 (Dropout)           (None, 23, 1)        0           ['tf.math.multiply_8[0][0]']     \n",
            "                                                                                                  \n",
            " flatten_4 (Flatten)            (None, 23)           0           ['dropout_71[0][0]']             \n",
            "                                                                                                  \n",
            " dense_5 (Dense)                (None, 1)            24          ['flatten_4[0][0]']              \n",
            "                                                                                                  \n",
            "==================================================================================================\n",
            "Total params: 86,112\n",
            "Trainable params: 86,112\n",
            "Non-trainable params: 0\n",
            "__________________________________________________________________________________________________\n"
          ]
        }
      ]
    },
    {
      "cell_type": "code",
      "source": [
        "model.fit(\n",
        "    x_fit,\n",
        "    y_fit,\n",
        "    validation_split=0.2,\n",
        "    epochs=50,\n",
        "    batch_size=300,\n",
        ")"
      ],
      "metadata": {
        "colab": {
          "base_uri": "https://localhost:8080/"
        },
        "id": "FVRPWu0fczSA",
        "outputId": "e58b33dd-14d5-4bcd-cc08-1b90ebe48916"
      },
      "id": "FVRPWu0fczSA",
      "execution_count": null,
      "outputs": [
        {
          "output_type": "stream",
          "name": "stdout",
          "text": [
            "Epoch 1/50\n",
            "26/26 [==============================] - 16s 159ms/step - loss: 233358.0469 - val_loss: 150980.7344\n",
            "Epoch 2/50\n",
            "26/26 [==============================] - 4s 142ms/step - loss: 225983.5938 - val_loss: 141722.1562\n",
            "Epoch 3/50\n",
            "26/26 [==============================] - 4s 143ms/step - loss: 217655.6562 - val_loss: 132538.2188\n",
            "Epoch 4/50\n",
            "26/26 [==============================] - 4s 145ms/step - loss: 206508.8906 - val_loss: 123641.9062\n",
            "Epoch 5/50\n",
            "26/26 [==============================] - 4s 146ms/step - loss: 193841.0938 - val_loss: 114980.3828\n",
            "Epoch 6/50\n",
            "26/26 [==============================] - 4s 145ms/step - loss: 184389.6094 - val_loss: 106471.3438\n",
            "Epoch 7/50\n",
            "26/26 [==============================] - 4s 158ms/step - loss: 170935.7031 - val_loss: 98594.4297\n",
            "Epoch 8/50\n",
            "26/26 [==============================] - 4s 145ms/step - loss: 163154.5781 - val_loss: 90984.0312\n",
            "Epoch 9/50\n",
            "26/26 [==============================] - 4s 143ms/step - loss: 153877.2031 - val_loss: 83865.3125\n",
            "Epoch 10/50\n",
            "26/26 [==============================] - 4s 144ms/step - loss: 149508.7344 - val_loss: 77061.0625\n",
            "Epoch 11/50\n",
            "26/26 [==============================] - 4s 143ms/step - loss: 133199.5312 - val_loss: 70704.4297\n",
            "Epoch 12/50\n",
            "26/26 [==============================] - 4s 154ms/step - loss: 131492.7500 - val_loss: 64354.4961\n",
            "Epoch 13/50\n",
            "26/26 [==============================] - 4s 142ms/step - loss: 118809.6641 - val_loss: 58511.4023\n",
            "Epoch 14/50\n",
            "26/26 [==============================] - 4s 154ms/step - loss: 112625.1484 - val_loss: 52967.2852\n",
            "Epoch 15/50\n",
            "26/26 [==============================] - 4s 143ms/step - loss: 103770.6094 - val_loss: 47815.9492\n",
            "Epoch 16/50\n",
            "26/26 [==============================] - 4s 140ms/step - loss: 96497.8047 - val_loss: 43242.2070\n",
            "Epoch 17/50\n",
            "26/26 [==============================] - 4s 142ms/step - loss: 90904.7578 - val_loss: 38874.3164\n",
            "Epoch 18/50\n",
            "26/26 [==============================] - 4s 140ms/step - loss: 83705.5469 - val_loss: 35228.8633\n",
            "Epoch 19/50\n",
            "26/26 [==============================] - 4s 140ms/step - loss: 80457.4062 - val_loss: 31950.7441\n",
            "Epoch 20/50\n",
            "26/26 [==============================] - 4s 153ms/step - loss: 72819.6719 - val_loss: 29009.4785\n",
            "Epoch 21/50\n",
            "26/26 [==============================] - 4s 141ms/step - loss: 66573.5703 - val_loss: 26290.2422\n",
            "Epoch 22/50\n",
            "26/26 [==============================] - 4s 140ms/step - loss: 62726.8008 - val_loss: 23854.4844\n",
            "Epoch 23/50\n",
            "26/26 [==============================] - 4s 152ms/step - loss: 57672.0195 - val_loss: 21709.8906\n",
            "Epoch 24/50\n",
            "26/26 [==============================] - 4s 141ms/step - loss: 53038.7070 - val_loss: 19867.0879\n",
            "Epoch 25/50\n",
            "26/26 [==============================] - 4s 153ms/step - loss: 51010.0117 - val_loss: 18133.9512\n",
            "Epoch 26/50\n",
            "26/26 [==============================] - 4s 150ms/step - loss: 47558.7812 - val_loss: 16538.7500\n",
            "Epoch 27/50\n",
            "26/26 [==============================] - 4s 142ms/step - loss: 45130.9766 - val_loss: 15139.4590\n",
            "Epoch 28/50\n",
            "26/26 [==============================] - 4s 141ms/step - loss: 41902.9336 - val_loss: 13880.1631\n",
            "Epoch 29/50\n",
            "26/26 [==============================] - 4s 141ms/step - loss: 39584.2305 - val_loss: 12635.7305\n",
            "Epoch 30/50\n",
            "26/26 [==============================] - 4s 144ms/step - loss: 36749.0820 - val_loss: 11613.9531\n",
            "Epoch 31/50\n",
            "26/26 [==============================] - 4s 153ms/step - loss: 35892.2539 - val_loss: 10710.0859\n",
            "Epoch 32/50\n",
            "26/26 [==============================] - 4s 142ms/step - loss: 32987.8828 - val_loss: 10050.7451\n",
            "Epoch 33/50\n",
            "26/26 [==============================] - 4s 154ms/step - loss: 31399.0195 - val_loss: 9650.7969\n",
            "Epoch 34/50\n",
            "26/26 [==============================] - 4s 141ms/step - loss: 29618.3887 - val_loss: 9286.2910\n",
            "Epoch 35/50\n",
            "26/26 [==============================] - 4s 152ms/step - loss: 29917.5254 - val_loss: 8941.7832\n",
            "Epoch 36/50\n",
            "26/26 [==============================] - 4s 142ms/step - loss: 27276.1465 - val_loss: 8635.1963\n",
            "Epoch 37/50\n",
            "26/26 [==============================] - 4s 141ms/step - loss: 25705.7930 - val_loss: 8382.2998\n",
            "Epoch 38/50\n",
            "26/26 [==============================] - 4s 140ms/step - loss: 24559.4980 - val_loss: 8137.6787\n",
            "Epoch 39/50\n",
            "26/26 [==============================] - 4s 140ms/step - loss: 24616.8594 - val_loss: 7920.2485\n",
            "Epoch 40/50\n",
            "26/26 [==============================] - 4s 141ms/step - loss: 23063.3379 - val_loss: 7726.0181\n",
            "Epoch 41/50\n",
            "26/26 [==============================] - 4s 140ms/step - loss: 22181.9688 - val_loss: 7554.1606\n",
            "Epoch 42/50\n",
            "26/26 [==============================] - 4s 140ms/step - loss: 21386.4688 - val_loss: 7357.4692\n",
            "Epoch 43/50\n",
            "26/26 [==============================] - 4s 154ms/step - loss: 20215.3164 - val_loss: 6997.8330\n",
            "Epoch 44/50\n",
            "26/26 [==============================] - 4s 152ms/step - loss: 19811.6406 - val_loss: 6642.7754\n",
            "Epoch 45/50\n",
            "26/26 [==============================] - 4s 140ms/step - loss: 19212.5566 - val_loss: 6309.0518\n",
            "Epoch 46/50\n",
            "26/26 [==============================] - 4s 153ms/step - loss: 18539.7441 - val_loss: 5971.7480\n",
            "Epoch 47/50\n",
            "26/26 [==============================] - 4s 140ms/step - loss: 17928.0762 - val_loss: 5714.7314\n",
            "Epoch 48/50\n",
            "26/26 [==============================] - 4s 140ms/step - loss: 17425.9395 - val_loss: 5460.2744\n",
            "Epoch 49/50\n",
            "26/26 [==============================] - 4s 140ms/step - loss: 16853.1152 - val_loss: 5192.8433\n",
            "Epoch 50/50\n",
            "26/26 [==============================] - 4s 141ms/step - loss: 16488.8848 - val_loss: 4945.9761\n"
          ]
        },
        {
          "output_type": "execute_result",
          "data": {
            "text/plain": [
              "<keras.callbacks.History at 0x7fd67040f640>"
            ]
          },
          "metadata": {},
          "execution_count": 36
        }
      ]
    },
    {
      "cell_type": "code",
      "source": [],
      "metadata": {
        "id": "J38JhhI_YVqk"
      },
      "id": "J38JhhI_YVqk",
      "execution_count": null,
      "outputs": []
    },
    {
      "cell_type": "markdown",
      "source": [
        "# New Timepass\n"
      ],
      "metadata": {
        "id": "SVoLINF2A91-"
      },
      "id": "SVoLINF2A91-"
    },
    {
      "cell_type": "code",
      "source": [
        "from numpy import nan\n",
        "from numpy import isnan\n",
        "from pandas import read_csv\n",
        "from pandas import to_numeric\n",
        " \n",
        "# fill missing values with a value at the same time one day ago\n",
        "def fill_missing(values):\n",
        " one_day = 60 * 24\n",
        " for row in range(values.shape[0]):\n",
        "  for col in range(values.shape[1]):\n",
        "    if isnan(values[row, col]):\n",
        "      values[row, col] = values[row - one_day, col]\n",
        " \n",
        "# load all data\n",
        "dataset = read_csv('household_power_consumption.txt', sep=';', header=0, low_memory=False, infer_datetime_format=True, parse_dates={'datetime':[0,1]}, index_col=['datetime'])\n",
        "# mark all missing values\n",
        "dataset.replace('?', nan, inplace=True)\n",
        "# make dataset numeric\n",
        "dataset = dataset.astype('float32')\n",
        "# fill missing\n",
        "fill_missing(dataset.values)\n",
        "# add a column for for the remainder of sub metering\n",
        "values = dataset.values\n",
        "dataset['sub_metering_4'] = (values[:,0] * 1000 / 60) - (values[:,4] + values[:,5] + values[:,6])\n",
        "# save updated dataset\n",
        "dataset.to_csv('household_power_consumption.csv')"
      ],
      "metadata": {
        "id": "nG2w7CA1BAGT"
      },
      "id": "nG2w7CA1BAGT",
      "execution_count": null,
      "outputs": []
    },
    {
      "cell_type": "code",
      "source": [
        "import pandas as pd\n",
        "import numpy as np\n",
        "from matplotlib import pyplot as plt\n",
        "import os\n",
        "import glob\n",
        "!pip install keras-tuner --upgrade --quiet\n",
        "#from CNN import CNN\n",
        "from Transformer import Transformer\n",
        "\n",
        "from utils import series_to_supervised\n"
      ],
      "metadata": {
        "id": "uENGcK-CB_ZS"
      },
      "id": "uENGcK-CB_ZS",
      "execution_count": null,
      "outputs": []
    },
    {
      "cell_type": "code",
      "source": [
        "dataset = pd.read_csv('household_power_consumption.csv', header=0, infer_datetime_format=True, parse_dates=['datetime'], index_col=['datetime'])"
      ],
      "metadata": {
        "id": "-pZ62HIfCDGQ"
      },
      "id": "-pZ62HIfCDGQ",
      "execution_count": null,
      "outputs": []
    },
    {
      "cell_type": "code",
      "source": [
        "# resample data to daily\n",
        "daily_groups = dataset.resample('D')\n",
        "daily_data = daily_groups.sum()\n",
        "\n",
        "# We choose to keep only Global_active_power\n",
        "to_drop = ['Global_reactive_power', 'Voltage',\n",
        "       'Global_intensity', 'Sub_metering_1', 'Sub_metering_2',\n",
        "       'Sub_metering_3', 'sub_metering_4']\n",
        "daily_data.drop(columns=to_drop, inplace=True)\n",
        "\n",
        "# add calendar-related features\n",
        "daily_data['day'] = pd.DatetimeIndex(daily_data.index).day\n",
        "daily_data['weekday'] = ((pd.DatetimeIndex(daily_data.index).dayofweek) // 5 == 1).astype(float)\n",
        "daily_data['season'] = [month%12 // 3 + 1 for month in pd.DatetimeIndex(daily_data.index).month]\n",
        "\n",
        "# summarize\n",
        "print(daily_data.info())"
      ],
      "metadata": {
        "colab": {
          "base_uri": "https://localhost:8080/"
        },
        "id": "C4drDUSNC2Qg",
        "outputId": "e4c025b3-a182-458b-8963-5a73d40e141a"
      },
      "id": "C4drDUSNC2Qg",
      "execution_count": null,
      "outputs": [
        {
          "output_type": "stream",
          "name": "stdout",
          "text": [
            "<class 'pandas.core.frame.DataFrame'>\n",
            "DatetimeIndex: 352 entries, 2006-12-16 to 2007-12-02\n",
            "Freq: D\n",
            "Data columns (total 4 columns):\n",
            " #   Column               Non-Null Count  Dtype  \n",
            "---  ------               --------------  -----  \n",
            " 0   Global_active_power  352 non-null    float64\n",
            " 1   day                  352 non-null    int64  \n",
            " 2   weekday              352 non-null    float64\n",
            " 3   season               352 non-null    int64  \n",
            "dtypes: float64(2), int64(2)\n",
            "memory usage: 13.8 KB\n",
            "None\n"
          ]
        }
      ]
    },
    {
      "cell_type": "code",
      "source": [
        "\n",
        "look_back = 7\n",
        "n_features = daily_data.shape[1]\n",
        "\n",
        "# Walk-forward data split to avoid data leakage\n",
        "X_train, y_train, X_test, y_test, scale_X = series_to_supervised(daily_data, train_size=0.8, n_in=look_back, n_out=7, target_column='Global_active_power', dropnan=True, scale_X=True)\n",
        "\n",
        "# reshape input to be 3D [samples, timesteps, features]\n",
        "X_train_reshaped = X_train.values.reshape((-1,look_back,n_features))\n",
        "X_test_reshaped = X_test.values.reshape((-1,look_back,n_features))\n",
        "\n",
        "y_train_reshaped = y_train.values\n",
        "y_test_reshaped = y_test.values"
      ],
      "metadata": {
        "id": "bRy2ZxGODhXy"
      },
      "id": "bRy2ZxGODhXy",
      "execution_count": null,
      "outputs": []
    },
    {
      "cell_type": "code",
      "source": [
        "## Testing the Transformer\n",
        "tr = Transformer()\n",
        "tr.train(X_train_reshaped,y_train_reshaped)\n",
        "_, rmse_result, mae_result, smape_result, r2_result = tr.evaluate(X_test_reshaped,y_test_reshaped)\n",
        "\n",
        "\n",
        "print('Result \\n RMSE = %.2f [kWh] \\n MAE = %.2f [kWh]\\n R2 = %.1f [%%]' % (rmse_result,\n",
        "                                                                            mae_result,\n",
        "                                                                            r2_result*100))"
      ],
      "metadata": {
        "colab": {
          "base_uri": "https://localhost:8080/"
        },
        "id": "yfcxaV8ZEF7F",
        "outputId": "44249201-7abf-46af-aa9c-0dcfbb5cc0a2"
      },
      "id": "yfcxaV8ZEF7F",
      "execution_count": null,
      "outputs": [
        {
          "output_type": "stream",
          "name": "stdout",
          "text": [
            "Model: \"model\"\n",
            "__________________________________________________________________________________________________\n",
            " Layer (type)                   Output Shape         Param #     Connected to                     \n",
            "==================================================================================================\n",
            " input_1 (InputLayer)           [(None, 7, 4)]       0           []                               \n",
            "                                                                                                  \n",
            " layer_normalization (LayerNorm  (None, 7, 4)        8           ['input_1[0][0]']                \n",
            " alization)                                                                                       \n",
            "                                                                                                  \n",
            " multi_head_attention (MultiHea  (None, 7, 4)        19460       ['layer_normalization[0][0]',    \n",
            " dAttention)                                                      'layer_normalization[0][0]']    \n",
            "                                                                                                  \n",
            " dropout (Dropout)              (None, 7, 4)         0           ['multi_head_attention[0][0]']   \n",
            "                                                                                                  \n",
            " tf.__operators__.add (TFOpLamb  (None, 7, 4)        0           ['dropout[0][0]',                \n",
            " da)                                                              'input_1[0][0]']                \n",
            "                                                                                                  \n",
            " layer_normalization_1 (LayerNo  (None, 7, 4)        8           ['tf.__operators__.add[0][0]']   \n",
            " rmalization)                                                                                     \n",
            "                                                                                                  \n",
            " conv1d (Conv1D)                (None, 7, 4)         20          ['layer_normalization_1[0][0]']  \n",
            "                                                                                                  \n",
            " dropout_1 (Dropout)            (None, 7, 4)         0           ['conv1d[0][0]']                 \n",
            "                                                                                                  \n",
            " conv1d_1 (Conv1D)              (None, 7, 4)         20          ['dropout_1[0][0]']              \n",
            "                                                                                                  \n",
            " tf.__operators__.add_1 (TFOpLa  (None, 7, 4)        0           ['conv1d_1[0][0]',               \n",
            " mbda)                                                            'tf.__operators__.add[0][0]']   \n",
            "                                                                                                  \n",
            " layer_normalization_2 (LayerNo  (None, 7, 4)        8           ['tf.__operators__.add_1[0][0]'] \n",
            " rmalization)                                                                                     \n",
            "                                                                                                  \n",
            " multi_head_attention_1 (MultiH  (None, 7, 4)        19460       ['layer_normalization_2[0][0]',  \n",
            " eadAttention)                                                    'layer_normalization_2[0][0]']  \n",
            "                                                                                                  \n",
            " dropout_2 (Dropout)            (None, 7, 4)         0           ['multi_head_attention_1[0][0]'] \n",
            "                                                                                                  \n",
            " tf.__operators__.add_2 (TFOpLa  (None, 7, 4)        0           ['dropout_2[0][0]',              \n",
            " mbda)                                                            'tf.__operators__.add_1[0][0]'] \n",
            "                                                                                                  \n",
            " layer_normalization_3 (LayerNo  (None, 7, 4)        8           ['tf.__operators__.add_2[0][0]'] \n",
            " rmalization)                                                                                     \n",
            "                                                                                                  \n",
            " conv1d_2 (Conv1D)              (None, 7, 4)         20          ['layer_normalization_3[0][0]']  \n",
            "                                                                                                  \n",
            " dropout_3 (Dropout)            (None, 7, 4)         0           ['conv1d_2[0][0]']               \n",
            "                                                                                                  \n",
            " conv1d_3 (Conv1D)              (None, 7, 4)         20          ['dropout_3[0][0]']              \n",
            "                                                                                                  \n",
            " tf.__operators__.add_3 (TFOpLa  (None, 7, 4)        0           ['conv1d_3[0][0]',               \n",
            " mbda)                                                            'tf.__operators__.add_2[0][0]'] \n",
            "                                                                                                  \n",
            " layer_normalization_4 (LayerNo  (None, 7, 4)        8           ['tf.__operators__.add_3[0][0]'] \n",
            " rmalization)                                                                                     \n",
            "                                                                                                  \n",
            " multi_head_attention_2 (MultiH  (None, 7, 4)        19460       ['layer_normalization_4[0][0]',  \n",
            " eadAttention)                                                    'layer_normalization_4[0][0]']  \n",
            "                                                                                                  \n",
            " dropout_4 (Dropout)            (None, 7, 4)         0           ['multi_head_attention_2[0][0]'] \n",
            "                                                                                                  \n",
            " tf.__operators__.add_4 (TFOpLa  (None, 7, 4)        0           ['dropout_4[0][0]',              \n",
            " mbda)                                                            'tf.__operators__.add_3[0][0]'] \n",
            "                                                                                                  \n",
            " layer_normalization_5 (LayerNo  (None, 7, 4)        8           ['tf.__operators__.add_4[0][0]'] \n",
            " rmalization)                                                                                     \n",
            "                                                                                                  \n",
            " conv1d_4 (Conv1D)              (None, 7, 4)         20          ['layer_normalization_5[0][0]']  \n",
            "                                                                                                  \n",
            " dropout_5 (Dropout)            (None, 7, 4)         0           ['conv1d_4[0][0]']               \n",
            "                                                                                                  \n",
            " conv1d_5 (Conv1D)              (None, 7, 4)         20          ['dropout_5[0][0]']              \n",
            "                                                                                                  \n",
            " tf.__operators__.add_5 (TFOpLa  (None, 7, 4)        0           ['conv1d_5[0][0]',               \n",
            " mbda)                                                            'tf.__operators__.add_4[0][0]'] \n",
            "                                                                                                  \n",
            " layer_normalization_6 (LayerNo  (None, 7, 4)        8           ['tf.__operators__.add_5[0][0]'] \n",
            " rmalization)                                                                                     \n",
            "                                                                                                  \n",
            " multi_head_attention_3 (MultiH  (None, 7, 4)        19460       ['layer_normalization_6[0][0]',  \n",
            " eadAttention)                                                    'layer_normalization_6[0][0]']  \n",
            "                                                                                                  \n",
            " dropout_6 (Dropout)            (None, 7, 4)         0           ['multi_head_attention_3[0][0]'] \n",
            "                                                                                                  \n",
            " tf.__operators__.add_6 (TFOpLa  (None, 7, 4)        0           ['dropout_6[0][0]',              \n",
            " mbda)                                                            'tf.__operators__.add_5[0][0]'] \n",
            "                                                                                                  \n",
            " layer_normalization_7 (LayerNo  (None, 7, 4)        8           ['tf.__operators__.add_6[0][0]'] \n",
            " rmalization)                                                                                     \n",
            "                                                                                                  \n",
            " conv1d_6 (Conv1D)              (None, 7, 4)         20          ['layer_normalization_7[0][0]']  \n",
            "                                                                                                  \n",
            " dropout_7 (Dropout)            (None, 7, 4)         0           ['conv1d_6[0][0]']               \n",
            "                                                                                                  \n",
            " conv1d_7 (Conv1D)              (None, 7, 4)         20          ['dropout_7[0][0]']              \n",
            "                                                                                                  \n",
            " tf.__operators__.add_7 (TFOpLa  (None, 7, 4)        0           ['conv1d_7[0][0]',               \n",
            " mbda)                                                            'tf.__operators__.add_6[0][0]'] \n",
            "                                                                                                  \n",
            " global_average_pooling1d (Glob  (None, 7)           0           ['tf.__operators__.add_7[0][0]'] \n",
            " alAveragePooling1D)                                                                              \n",
            "                                                                                                  \n",
            " dense (Dense)                  (None, 128)          1024        ['global_average_pooling1d[0][0]'\n",
            "                                                                 ]                                \n",
            "                                                                                                  \n",
            " dropout_8 (Dropout)            (None, 128)          0           ['dense[0][0]']                  \n",
            "                                                                                                  \n",
            " dense_1 (Dense)                (None, 7)            903         ['dropout_8[0][0]']              \n",
            "                                                                                                  \n",
            "==================================================================================================\n",
            "Total params: 79,991\n",
            "Trainable params: 79,991\n",
            "Non-trainable params: 0\n",
            "__________________________________________________________________________________________________\n",
            "None\n",
            "Epoch 1/200\n",
            "5/5 [==============================] - ETA: 0s - loss: 1151262.7500 - rmse: 1094.5461 - mae: 449.3511 - smape: 99.9984 - coeff_determination: -0.2215"
          ]
        },
        {
          "output_type": "stream",
          "name": "stderr",
          "text": [
            "WARNING:tensorflow:Early stopping conditioned on metric `val_loss` which is not available. Available metrics are: loss,rmse,mae,smape,coeff_determination\n"
          ]
        },
        {
          "output_type": "stream",
          "name": "stdout",
          "text": [
            "\n",
            "Epoch 1: loss improved from inf to 1151262.75000, saving model to checkpoint/Transformer.best20032023_08:09:13.hdf5\n",
            "5/5 [==============================] - 21s 74ms/step - loss: 1151262.7500 - rmse: 1094.5461 - mae: 449.3511 - smape: 99.9984 - coeff_determination: -0.2215\n",
            "Epoch 2/200\n",
            "4/5 [=======================>......] - ETA: 0s - loss: 1118362.7500 - rmse: 1056.7454 - mae: 435.4991 - smape: 99.9977 - coeff_determination: -0.2047"
          ]
        },
        {
          "output_type": "stream",
          "name": "stderr",
          "text": [
            "WARNING:tensorflow:Early stopping conditioned on metric `val_loss` which is not available. Available metrics are: loss,rmse,mae,smape,coeff_determination\n"
          ]
        },
        {
          "output_type": "stream",
          "name": "stdout",
          "text": [
            "\n",
            "Epoch 2: loss improved from 1151262.75000 to 1151233.12500, saving model to checkpoint/Transformer.best20032023_08:09:13.hdf5\n",
            "5/5 [==============================] - 0s 58ms/step - loss: 1151233.1250 - rmse: 1107.1001 - mae: 449.3559 - smape: 99.9976 - coeff_determination: -0.2394\n",
            "Epoch 3/200\n",
            "4/5 [=======================>......] - ETA: 0s - loss: 1163584.5000 - rmse: 1067.0029 - mae: 451.7144 - smape: 99.9977 - coeff_determination: -0.2178"
          ]
        },
        {
          "output_type": "stream",
          "name": "stderr",
          "text": [
            "WARNING:tensorflow:Early stopping conditioned on metric `val_loss` which is not available. Available metrics are: loss,rmse,mae,smape,coeff_determination\n"
          ]
        },
        {
          "output_type": "stream",
          "name": "stdout",
          "text": [
            "\n",
            "Epoch 3: loss did not improve from 1151233.12500\n",
            "5/5 [==============================] - 0s 20ms/step - loss: 1151243.1250 - rmse: 1047.5730 - mae: 449.3665 - smape: 99.9977 - coeff_determination: -0.2175\n",
            "Epoch 4/200\n",
            "4/5 [=======================>......] - ETA: 0s - loss: 1177011.5000 - rmse: 1082.7288 - mae: 459.5031 - smape: 99.9974 - coeff_determination: -0.2195"
          ]
        },
        {
          "output_type": "stream",
          "name": "stderr",
          "text": [
            "WARNING:tensorflow:Early stopping conditioned on metric `val_loss` which is not available. Available metrics are: loss,rmse,mae,smape,coeff_determination\n"
          ]
        },
        {
          "output_type": "stream",
          "name": "stdout",
          "text": [
            "\n",
            "Epoch 4: loss improved from 1151233.12500 to 1151218.87500, saving model to checkpoint/Transformer.best20032023_08:09:13.hdf5\n",
            "5/5 [==============================] - 0s 59ms/step - loss: 1151218.8750 - rmse: 1034.8275 - mae: 449.3703 - smape: 99.9975 - coeff_determination: -0.1996\n",
            "Epoch 5/200\n",
            "4/5 [=======================>......] - ETA: 0s - loss: 1172757.5000 - rmse: 1082.4252 - mae: 455.6173 - smape: 99.9968 - coeff_determination: -0.2157"
          ]
        },
        {
          "output_type": "stream",
          "name": "stderr",
          "text": [
            "WARNING:tensorflow:Early stopping conditioned on metric `val_loss` which is not available. Available metrics are: loss,rmse,mae,smape,coeff_determination\n"
          ]
        },
        {
          "output_type": "stream",
          "name": "stdout",
          "text": [
            "\n",
            "Epoch 5: loss improved from 1151218.87500 to 1151211.12500, saving model to checkpoint/Transformer.best20032023_08:09:13.hdf5\n",
            "5/5 [==============================] - 0s 61ms/step - loss: 1151211.1250 - rmse: 1042.9695 - mae: 449.3724 - smape: 99.9968 - coeff_determination: -0.2078\n",
            "Epoch 6/200\n",
            "4/5 [=======================>......] - ETA: 0s - loss: 1074032.6250 - rmse: 1032.8832 - mae: 421.1003 - smape: 99.9967 - coeff_determination: -0.1987"
          ]
        },
        {
          "output_type": "stream",
          "name": "stderr",
          "text": [
            "WARNING:tensorflow:Early stopping conditioned on metric `val_loss` which is not available. Available metrics are: loss,rmse,mae,smape,coeff_determination\n"
          ]
        },
        {
          "output_type": "stream",
          "name": "stdout",
          "text": [
            "\n",
            "Epoch 6: loss improved from 1151211.12500 to 1151180.12500, saving model to checkpoint/Transformer.best20032023_08:09:13.hdf5\n",
            "5/5 [==============================] - 0s 57ms/step - loss: 1151180.1250 - rmse: 1140.4932 - mae: 449.3835 - smape: 99.9964 - coeff_determination: -0.2676\n",
            "Epoch 7/200\n",
            "4/5 [=======================>......] - ETA: 0s - loss: 1193124.2500 - rmse: 1089.5297 - mae: 463.7543 - smape: 99.9957 - coeff_determination: -0.2207"
          ]
        },
        {
          "output_type": "stream",
          "name": "stderr",
          "text": [
            "WARNING:tensorflow:Early stopping conditioned on metric `val_loss` which is not available. Available metrics are: loss,rmse,mae,smape,coeff_determination\n"
          ]
        },
        {
          "output_type": "stream",
          "name": "stdout",
          "text": [
            "\n",
            "Epoch 7: loss improved from 1151180.12500 to 1151147.75000, saving model to checkpoint/Transformer.best20032023_08:09:13.hdf5\n",
            "5/5 [==============================] - 0s 58ms/step - loss: 1151147.7500 - rmse: 1003.4949 - mae: 449.4013 - smape: 99.9958 - coeff_determination: -0.1977\n",
            "Epoch 8/200\n",
            "4/5 [=======================>......] - ETA: 0s - loss: 1211679.1250 - rmse: 1096.1122 - mae: 472.9772 - smape: 99.9949 - coeff_determination: -0.2278"
          ]
        },
        {
          "output_type": "stream",
          "name": "stderr",
          "text": [
            "WARNING:tensorflow:Early stopping conditioned on metric `val_loss` which is not available. Available metrics are: loss,rmse,mae,smape,coeff_determination\n"
          ]
        },
        {
          "output_type": "stream",
          "name": "stdout",
          "text": [
            "\n",
            "Epoch 8: loss improved from 1151147.75000 to 1151140.25000, saving model to checkpoint/Transformer.best20032023_08:09:13.hdf5\n",
            "5/5 [==============================] - 0s 59ms/step - loss: 1151140.2500 - rmse: 945.5753 - mae: 449.4287 - smape: 99.9951 - coeff_determination: -0.1861\n",
            "Epoch 9/200\n",
            "4/5 [=======================>......] - ETA: 0s - loss: 1120349.2500 - rmse: 1057.7218 - mae: 437.5409 - smape: 99.9943 - coeff_determination: -0.2062"
          ]
        },
        {
          "output_type": "stream",
          "name": "stderr",
          "text": [
            "WARNING:tensorflow:Early stopping conditioned on metric `val_loss` which is not available. Available metrics are: loss,rmse,mae,smape,coeff_determination\n"
          ]
        },
        {
          "output_type": "stream",
          "name": "stdout",
          "text": [
            "\n",
            "Epoch 9: loss improved from 1151140.25000 to 1151106.87500, saving model to checkpoint/Transformer.best20032023_08:09:13.hdf5\n",
            "5/5 [==============================] - 0s 65ms/step - loss: 1151106.8750 - rmse: 1105.1010 - mae: 449.4479 - smape: 99.9941 - coeff_determination: -0.2329\n",
            "Epoch 10/200\n",
            "4/5 [=======================>......] - ETA: 0s - loss: 1202413.2500 - rmse: 1085.7729 - mae: 466.0733 - smape: 99.9936 - coeff_determination: -0.2231"
          ]
        },
        {
          "output_type": "stream",
          "name": "stderr",
          "text": [
            "WARNING:tensorflow:Early stopping conditioned on metric `val_loss` which is not available. Available metrics are: loss,rmse,mae,smape,coeff_determination\n"
          ]
        },
        {
          "output_type": "stream",
          "name": "stdout",
          "text": [
            "\n",
            "Epoch 10: loss improved from 1151106.87500 to 1151048.00000, saving model to checkpoint/Transformer.best20032023_08:09:13.hdf5\n",
            "5/5 [==============================] - 0s 60ms/step - loss: 1151048.0000 - rmse: 973.3874 - mae: 449.4727 - smape: 99.9937 - coeff_determination: -0.2007\n",
            "Epoch 11/200\n",
            "4/5 [=======================>......] - ETA: 0s - loss: 1155783.5000 - rmse: 1066.2142 - mae: 452.1918 - smape: 99.9922 - coeff_determination: -0.2185"
          ]
        },
        {
          "output_type": "stream",
          "name": "stderr",
          "text": [
            "WARNING:tensorflow:Early stopping conditioned on metric `val_loss` which is not available. Available metrics are: loss,rmse,mae,smape,coeff_determination\n"
          ]
        },
        {
          "output_type": "stream",
          "name": "stdout",
          "text": [
            "\n",
            "Epoch 11: loss improved from 1151048.00000 to 1150990.50000, saving model to checkpoint/Transformer.best20032023_08:09:13.hdf5\n",
            "5/5 [==============================] - 0s 62ms/step - loss: 1150990.5000 - rmse: 1059.7747 - mae: 449.5253 - smape: 99.9923 - coeff_determination: -0.2108\n",
            "Epoch 12/200\n",
            "4/5 [=======================>......] - ETA: 0s - loss: 1132057.3750 - rmse: 1060.7990 - mae: 443.3663 - smape: 99.9906 - coeff_determination: -0.2108"
          ]
        },
        {
          "output_type": "stream",
          "name": "stderr",
          "text": [
            "WARNING:tensorflow:Early stopping conditioned on metric `val_loss` which is not available. Available metrics are: loss,rmse,mae,smape,coeff_determination\n"
          ]
        },
        {
          "output_type": "stream",
          "name": "stdout",
          "text": [
            "\n",
            "Epoch 12: loss improved from 1150990.50000 to 1150886.62500, saving model to checkpoint/Transformer.best20032023_08:09:13.hdf5\n",
            "5/5 [==============================] - 0s 61ms/step - loss: 1150886.6250 - rmse: 1091.3109 - mae: 449.5582 - smape: 99.9902 - coeff_determination: -0.2214\n",
            "Epoch 13/200\n",
            "4/5 [=======================>......] - ETA: 0s - loss: 1188661.1250 - rmse: 1082.8884 - mae: 464.0914 - smape: 99.9887 - coeff_determination: -0.2238"
          ]
        },
        {
          "output_type": "stream",
          "name": "stderr",
          "text": [
            "WARNING:tensorflow:Early stopping conditioned on metric `val_loss` which is not available. Available metrics are: loss,rmse,mae,smape,coeff_determination\n"
          ]
        },
        {
          "output_type": "stream",
          "name": "stdout",
          "text": [
            "\n",
            "Epoch 13: loss improved from 1150886.62500 to 1150854.62500, saving model to checkpoint/Transformer.best20032023_08:09:13.hdf5\n",
            "5/5 [==============================] - 0s 59ms/step - loss: 1150854.6250 - rmse: 1008.5250 - mae: 449.6505 - smape: 99.9890 - coeff_determination: -0.1966\n",
            "Epoch 14/200\n",
            "4/5 [=======================>......] - ETA: 0s - loss: 1154196.8750 - rmse: 1072.2793 - mae: 449.1929 - smape: 99.9864 - coeff_determination: -0.2113"
          ]
        },
        {
          "output_type": "stream",
          "name": "stderr",
          "text": [
            "WARNING:tensorflow:Early stopping conditioned on metric `val_loss` which is not available. Available metrics are: loss,rmse,mae,smape,coeff_determination\n"
          ]
        },
        {
          "output_type": "stream",
          "name": "stdout",
          "text": [
            "\n",
            "Epoch 14: loss improved from 1150854.62500 to 1150741.00000, saving model to checkpoint/Transformer.best20032023_08:09:13.hdf5\n",
            "5/5 [==============================] - 0s 59ms/step - loss: 1150741.0000 - rmse: 1066.7982 - mae: 449.6843 - smape: 99.9862 - coeff_determination: -0.2163\n",
            "Epoch 15/200\n",
            "4/5 [=======================>......] - ETA: 0s - loss: 1117650.5000 - rmse: 1054.3715 - mae: 437.3603 - smape: 99.9851 - coeff_determination: -0.2059"
          ]
        },
        {
          "output_type": "stream",
          "name": "stderr",
          "text": [
            "WARNING:tensorflow:Early stopping conditioned on metric `val_loss` which is not available. Available metrics are: loss,rmse,mae,smape,coeff_determination\n"
          ]
        },
        {
          "output_type": "stream",
          "name": "stdout",
          "text": [
            "\n",
            "Epoch 15: loss improved from 1150741.00000 to 1150664.00000, saving model to checkpoint/Transformer.best20032023_08:09:13.hdf5\n",
            "5/5 [==============================] - 0s 59ms/step - loss: 1150664.0000 - rmse: 1105.3441 - mae: 449.7813 - smape: 99.9843 - coeff_determination: -0.2330\n",
            "Epoch 16/200\n",
            "4/5 [=======================>......] - ETA: 0s - loss: 1184377.3750 - rmse: 1086.4863 - mae: 464.0391 - smape: 99.9810 - coeff_determination: -0.2216"
          ]
        },
        {
          "output_type": "stream",
          "name": "stderr",
          "text": [
            "WARNING:tensorflow:Early stopping conditioned on metric `val_loss` which is not available. Available metrics are: loss,rmse,mae,smape,coeff_determination\n"
          ]
        },
        {
          "output_type": "stream",
          "name": "stdout",
          "text": [
            "\n",
            "Epoch 16: loss improved from 1150664.00000 to 1150517.00000, saving model to checkpoint/Transformer.best20032023_08:09:13.hdf5\n",
            "5/5 [==============================] - 0s 60ms/step - loss: 1150517.0000 - rmse: 1020.5342 - mae: 449.8436 - smape: 99.9814 - coeff_determination: -0.1932\n",
            "Epoch 17/200\n",
            "4/5 [=======================>......] - ETA: 0s - loss: 1149344.0000 - rmse: 1062.9199 - mae: 449.0615 - smape: 99.9800 - coeff_determination: -0.2138"
          ]
        },
        {
          "output_type": "stream",
          "name": "stderr",
          "text": [
            "WARNING:tensorflow:Early stopping conditioned on metric `val_loss` which is not available. Available metrics are: loss,rmse,mae,smape,coeff_determination\n"
          ]
        },
        {
          "output_type": "stream",
          "name": "stdout",
          "text": [
            "\n",
            "Epoch 17: loss improved from 1150517.00000 to 1150480.00000, saving model to checkpoint/Transformer.best20032023_08:09:13.hdf5\n",
            "5/5 [==============================] - 0s 59ms/step - loss: 1150480.0000 - rmse: 1066.6566 - mae: 449.9610 - smape: 99.9803 - coeff_determination: -0.2161\n",
            "Epoch 18/200\n",
            "4/5 [=======================>......] - ETA: 0s - loss: 1179090.7500 - rmse: 1085.6453 - mae: 461.6718 - smape: 99.9763 - coeff_determination: -0.2200"
          ]
        },
        {
          "output_type": "stream",
          "name": "stderr",
          "text": [
            "WARNING:tensorflow:Early stopping conditioned on metric `val_loss` which is not available. Available metrics are: loss,rmse,mae,smape,coeff_determination\n"
          ]
        },
        {
          "output_type": "stream",
          "name": "stdout",
          "text": [
            "\n",
            "Epoch 18: loss improved from 1150480.00000 to 1150284.37500, saving model to checkpoint/Transformer.best20032023_08:09:13.hdf5\n",
            "5/5 [==============================] - 0s 59ms/step - loss: 1150284.3750 - rmse: 1030.8317 - mae: 450.0419 - smape: 99.9761 - coeff_determination: -0.1969\n",
            "Epoch 19/200\n",
            "4/5 [=======================>......] - ETA: 0s - loss: 1201623.5000 - rmse: 1090.6516 - mae: 470.9981 - smape: 99.9719 - coeff_determination: -0.2276"
          ]
        },
        {
          "output_type": "stream",
          "name": "stderr",
          "text": [
            "WARNING:tensorflow:Early stopping conditioned on metric `val_loss` which is not available. Available metrics are: loss,rmse,mae,smape,coeff_determination\n"
          ]
        },
        {
          "output_type": "stream",
          "name": "stdout",
          "text": [
            "\n",
            "Epoch 19: loss improved from 1150284.37500 to 1150040.50000, saving model to checkpoint/Transformer.best20032023_08:09:13.hdf5\n",
            "5/5 [==============================] - 0s 58ms/step - loss: 1150040.5000 - rmse: 976.3849 - mae: 450.0981 - smape: 99.9726 - coeff_determination: -0.1881\n",
            "Epoch 20/200\n",
            "4/5 [=======================>......] - ETA: 0s - loss: 1142005.0000 - rmse: 1067.6603 - mae: 447.4854 - smape: 99.9688 - coeff_determination: -0.2101"
          ]
        },
        {
          "output_type": "stream",
          "name": "stderr",
          "text": [
            "WARNING:tensorflow:Early stopping conditioned on metric `val_loss` which is not available. Available metrics are: loss,rmse,mae,smape,coeff_determination\n"
          ]
        },
        {
          "output_type": "stream",
          "name": "stdout",
          "text": [
            "\n",
            "Epoch 20: loss improved from 1150040.50000 to 1149914.75000, saving model to checkpoint/Transformer.best20032023_08:09:13.hdf5\n",
            "5/5 [==============================] - 0s 60ms/step - loss: 1149914.7500 - rmse: 1080.8359 - mae: 450.2518 - smape: 99.9688 - coeff_determination: -0.2152\n",
            "Epoch 21/200\n",
            "4/5 [=======================>......] - ETA: 0s - loss: 1169214.8750 - rmse: 1081.2039 - mae: 456.9419 - smape: 99.9661 - coeff_determination: -0.2143"
          ]
        },
        {
          "output_type": "stream",
          "name": "stderr",
          "text": [
            "WARNING:tensorflow:Early stopping conditioned on metric `val_loss` which is not available. Available metrics are: loss,rmse,mae,smape,coeff_determination\n"
          ]
        },
        {
          "output_type": "stream",
          "name": "stdout",
          "text": [
            "\n",
            "Epoch 21: loss improved from 1149914.75000 to 1149849.37500, saving model to checkpoint/Transformer.best20032023_08:09:13.hdf5\n",
            "5/5 [==============================] - 0s 57ms/step - loss: 1149849.3750 - rmse: 1045.9984 - mae: 450.4138 - smape: 99.9664 - coeff_determination: -0.2034\n",
            "Epoch 22/200\n",
            "4/5 [=======================>......] - ETA: 0s - loss: 1111434.6250 - rmse: 1049.8917 - mae: 434.6292 - smape: 99.9620 - coeff_determination: -0.2022"
          ]
        },
        {
          "output_type": "stream",
          "name": "stderr",
          "text": [
            "WARNING:tensorflow:Early stopping conditioned on metric `val_loss` which is not available. Available metrics are: loss,rmse,mae,smape,coeff_determination\n"
          ]
        },
        {
          "output_type": "stream",
          "name": "stdout",
          "text": [
            "\n",
            "Epoch 22: loss improved from 1149849.37500 to 1149552.00000, saving model to checkpoint/Transformer.best20032023_08:09:13.hdf5\n",
            "5/5 [==============================] - 0s 58ms/step - loss: 1149552.0000 - rmse: 1108.2482 - mae: 450.5106 - smape: 99.9605 - coeff_determination: -0.2423\n",
            "Epoch 23/200\n",
            "4/5 [=======================>......] - ETA: 0s - loss: 1081735.3750 - rmse: 1039.6829 - mae: 428.9765 - smape: 99.9630 - coeff_determination: -0.2012"
          ]
        },
        {
          "output_type": "stream",
          "name": "stderr",
          "text": [
            "WARNING:tensorflow:Early stopping conditioned on metric `val_loss` which is not available. Available metrics are: loss,rmse,mae,smape,coeff_determination\n"
          ]
        },
        {
          "output_type": "stream",
          "name": "stdout",
          "text": [
            "\n",
            "Epoch 23: loss improved from 1149552.00000 to 1149505.25000, saving model to checkpoint/Transformer.best20032023_08:09:13.hdf5\n",
            "5/5 [==============================] - 0s 61ms/step - loss: 1149505.2500 - rmse: 1135.4641 - mae: 450.6816 - smape: 99.9602 - coeff_determination: -0.2428\n",
            "Epoch 24/200\n",
            "4/5 [=======================>......] - ETA: 0s - loss: 1151186.2500 - rmse: 1069.4523 - mae: 451.6024 - smape: 99.9522 - coeff_determination: -0.2122"
          ]
        },
        {
          "output_type": "stream",
          "name": "stderr",
          "text": [
            "WARNING:tensorflow:Early stopping conditioned on metric `val_loss` which is not available. Available metrics are: loss,rmse,mae,smape,coeff_determination\n"
          ]
        },
        {
          "output_type": "stream",
          "name": "stdout",
          "text": [
            "\n",
            "Epoch 24: loss improved from 1149505.25000 to 1149179.37500, saving model to checkpoint/Transformer.best20032023_08:09:13.hdf5\n",
            "5/5 [==============================] - 0s 61ms/step - loss: 1149179.3750 - rmse: 1066.7422 - mae: 450.8164 - smape: 99.9530 - coeff_determination: -0.2105\n",
            "Epoch 25/200\n",
            "4/5 [=======================>......] - ETA: 0s - loss: 1149034.1250 - rmse: 1064.7972 - mae: 451.7296 - smape: 99.9495 - coeff_determination: -0.2130"
          ]
        },
        {
          "output_type": "stream",
          "name": "stderr",
          "text": [
            "WARNING:tensorflow:Early stopping conditioned on metric `val_loss` which is not available. Available metrics are: loss,rmse,mae,smape,coeff_determination\n"
          ]
        },
        {
          "output_type": "stream",
          "name": "stdout",
          "text": [
            "\n",
            "Epoch 25: loss improved from 1149179.37500 to 1148956.25000, saving model to checkpoint/Transformer.best20032023_08:09:13.hdf5\n",
            "5/5 [==============================] - 0s 57ms/step - loss: 1148956.2500 - rmse: 1066.0924 - mae: 450.9960 - smape: 99.9490 - coeff_determination: -0.2095\n",
            "Epoch 26/200\n",
            "4/5 [=======================>......] - ETA: 0s - loss: 1184225.2500 - rmse: 1082.8810 - mae: 464.1799 - smape: 99.9439 - coeff_determination: -0.2190"
          ]
        },
        {
          "output_type": "stream",
          "name": "stderr",
          "text": [
            "WARNING:tensorflow:Early stopping conditioned on metric `val_loss` which is not available. Available metrics are: loss,rmse,mae,smape,coeff_determination\n"
          ]
        },
        {
          "output_type": "stream",
          "name": "stdout",
          "text": [
            "\n",
            "Epoch 26: loss improved from 1148956.25000 to 1148859.75000, saving model to checkpoint/Transformer.best20032023_08:09:13.hdf5\n",
            "5/5 [==============================] - 0s 59ms/step - loss: 1148859.7500 - rmse: 1013.9922 - mae: 451.1719 - smape: 99.9451 - coeff_determination: -0.1954\n",
            "Epoch 27/200\n",
            "4/5 [=======================>......] - ETA: 0s - loss: 1131545.1250 - rmse: 1058.9800 - mae: 447.2881 - smape: 99.9378 - coeff_determination: -0.2114"
          ]
        },
        {
          "output_type": "stream",
          "name": "stderr",
          "text": [
            "WARNING:tensorflow:Early stopping conditioned on metric `val_loss` which is not available. Available metrics are: loss,rmse,mae,smape,coeff_determination\n"
          ]
        },
        {
          "output_type": "stream",
          "name": "stdout",
          "text": [
            "\n",
            "Epoch 27: loss improved from 1148859.75000 to 1148566.62500, saving model to checkpoint/Transformer.best20032023_08:09:13.hdf5\n",
            "5/5 [==============================] - 0s 57ms/step - loss: 1148566.6250 - rmse: 1087.1063 - mae: 451.4289 - smape: 99.9384 - coeff_determination: -0.2146\n",
            "Epoch 28/200\n",
            "4/5 [=======================>......] - ETA: 0s - loss: 1102750.5000 - rmse: 1045.6869 - mae: 434.6802 - smape: 99.9308 - coeff_determination: -0.2012"
          ]
        },
        {
          "output_type": "stream",
          "name": "stderr",
          "text": [
            "WARNING:tensorflow:Early stopping conditioned on metric `val_loss` which is not available. Available metrics are: loss,rmse,mae,smape,coeff_determination\n"
          ]
        },
        {
          "output_type": "stream",
          "name": "stdout",
          "text": [
            "\n",
            "Epoch 28: loss improved from 1148566.62500 to 1148117.50000, saving model to checkpoint/Transformer.best20032023_08:09:13.hdf5\n",
            "5/5 [==============================] - 0s 61ms/step - loss: 1148117.5000 - rmse: 1113.8494 - mae: 451.5706 - smape: 99.9284 - coeff_determination: -0.2391\n",
            "Epoch 29/200\n",
            "4/5 [=======================>......] - ETA: 0s - loss: 1135138.1250 - rmse: 1055.9836 - mae: 444.7876 - smape: 99.9244 - coeff_determination: -0.2068"
          ]
        },
        {
          "output_type": "stream",
          "name": "stderr",
          "text": [
            "WARNING:tensorflow:Early stopping conditioned on metric `val_loss` which is not available. Available metrics are: loss,rmse,mae,smape,coeff_determination\n"
          ]
        },
        {
          "output_type": "stream",
          "name": "stdout",
          "text": [
            "\n",
            "Epoch 29: loss improved from 1148117.50000 to 1147710.75000, saving model to checkpoint/Transformer.best20032023_08:09:13.hdf5\n",
            "5/5 [==============================] - 0s 58ms/step - loss: 1147710.7500 - rmse: 1078.2206 - mae: 451.8367 - smape: 99.9222 - coeff_determination: -0.2269\n",
            "Epoch 30/200\n",
            "4/5 [=======================>......] - ETA: 0s - loss: 1143568.6250 - rmse: 1061.4209 - mae: 453.2629 - smape: 99.9123 - coeff_determination: -0.2156"
          ]
        },
        {
          "output_type": "stream",
          "name": "stderr",
          "text": [
            "WARNING:tensorflow:Early stopping conditioned on metric `val_loss` which is not available. Available metrics are: loss,rmse,mae,smape,coeff_determination\n"
          ]
        },
        {
          "output_type": "stream",
          "name": "stdout",
          "text": [
            "\n",
            "Epoch 30: loss improved from 1147710.75000 to 1147421.12500, saving model to checkpoint/Transformer.best20032023_08:09:13.hdf5\n",
            "5/5 [==============================] - 0s 60ms/step - loss: 1147421.1250 - rmse: 1069.4248 - mae: 452.0342 - smape: 99.9135 - coeff_determination: -0.2071\n",
            "Epoch 31/200\n",
            "4/5 [=======================>......] - ETA: 0s - loss: 1178984.6250 - rmse: 1081.6934 - mae: 462.8145 - smape: 99.9106 - coeff_determination: -0.2145"
          ]
        },
        {
          "output_type": "stream",
          "name": "stderr",
          "text": [
            "WARNING:tensorflow:Early stopping conditioned on metric `val_loss` which is not available. Available metrics are: loss,rmse,mae,smape,coeff_determination\n"
          ]
        },
        {
          "output_type": "stream",
          "name": "stdout",
          "text": [
            "\n",
            "Epoch 31: loss improved from 1147421.12500 to 1147175.50000, saving model to checkpoint/Transformer.best20032023_08:09:13.hdf5\n",
            "5/5 [==============================] - 0s 62ms/step - loss: 1147175.5000 - rmse: 1020.8283 - mae: 452.2608 - smape: 99.9108 - coeff_determination: -0.1973\n",
            "Epoch 32/200\n",
            "4/5 [=======================>......] - ETA: 0s - loss: 1146014.5000 - rmse: 1069.6973 - mae: 453.2130 - smape: 99.8991 - coeff_determination: -0.2090"
          ]
        },
        {
          "output_type": "stream",
          "name": "stderr",
          "text": [
            "WARNING:tensorflow:Early stopping conditioned on metric `val_loss` which is not available. Available metrics are: loss,rmse,mae,smape,coeff_determination\n"
          ]
        },
        {
          "output_type": "stream",
          "name": "stdout",
          "text": [
            "\n",
            "Epoch 32: loss improved from 1147175.50000 to 1146677.87500, saving model to checkpoint/Transformer.best20032023_08:09:13.hdf5\n",
            "5/5 [==============================] - 0s 58ms/step - loss: 1146677.8750 - rmse: 1070.9785 - mae: 452.7189 - smape: 99.8988 - coeff_determination: -0.2063\n",
            "Epoch 33/200\n",
            "4/5 [=======================>......] - ETA: 0s - loss: 1186285.0000 - rmse: 1085.8163 - mae: 467.3130 - smape: 99.8931 - coeff_determination: -0.2168"
          ]
        },
        {
          "output_type": "stream",
          "name": "stderr",
          "text": [
            "WARNING:tensorflow:Early stopping conditioned on metric `val_loss` which is not available. Available metrics are: loss,rmse,mae,smape,coeff_determination\n"
          ]
        },
        {
          "output_type": "stream",
          "name": "stdout",
          "text": [
            "\n",
            "Epoch 33: loss improved from 1146677.87500 to 1146528.12500, saving model to checkpoint/Transformer.best20032023_08:09:13.hdf5\n",
            "5/5 [==============================] - 0s 58ms/step - loss: 1146528.1250 - rmse: 1005.4758 - mae: 452.8896 - smape: 99.8960 - coeff_determination: -0.1914\n",
            "Epoch 34/200\n",
            "4/5 [=======================>......] - ETA: 0s - loss: 1157275.6250 - rmse: 1074.5387 - mae: 455.9365 - smape: 99.8834 - coeff_determination: -0.2081"
          ]
        },
        {
          "output_type": "stream",
          "name": "stderr",
          "text": [
            "WARNING:tensorflow:Early stopping conditioned on metric `val_loss` which is not available. Available metrics are: loss,rmse,mae,smape,coeff_determination\n"
          ]
        },
        {
          "output_type": "stream",
          "name": "stdout",
          "text": [
            "\n",
            "Epoch 34: loss improved from 1146528.12500 to 1146007.50000, saving model to checkpoint/Transformer.best20032023_08:09:13.hdf5\n",
            "5/5 [==============================] - 0s 57ms/step - loss: 1146007.5000 - rmse: 1054.9459 - mae: 453.2773 - smape: 99.8829 - coeff_determination: -0.2065\n",
            "Epoch 35/200\n",
            "4/5 [=======================>......] - ETA: 0s - loss: 1147845.3750 - rmse: 1065.6917 - mae: 455.3333 - smape: 99.8777 - coeff_determination: -0.2114"
          ]
        },
        {
          "output_type": "stream",
          "name": "stderr",
          "text": [
            "WARNING:tensorflow:Early stopping conditioned on metric `val_loss` which is not available. Available metrics are: loss,rmse,mae,smape,coeff_determination\n"
          ]
        },
        {
          "output_type": "stream",
          "name": "stdout",
          "text": [
            "\n",
            "Epoch 35: loss improved from 1146007.50000 to 1145737.37500, saving model to checkpoint/Transformer.best20032023_08:09:13.hdf5\n",
            "5/5 [==============================] - 0s 61ms/step - loss: 1145737.3750 - rmse: 1063.2437 - mae: 453.5612 - smape: 99.8789 - coeff_determination: -0.2053\n",
            "Epoch 36/200\n",
            "4/5 [=======================>......] - ETA: 0s - loss: 1140403.7500 - rmse: 1060.9600 - mae: 450.4342 - smape: 99.8752 - coeff_determination: -0.2063"
          ]
        },
        {
          "output_type": "stream",
          "name": "stderr",
          "text": [
            "WARNING:tensorflow:Early stopping conditioned on metric `val_loss` which is not available. Available metrics are: loss,rmse,mae,smape,coeff_determination\n"
          ]
        },
        {
          "output_type": "stream",
          "name": "stdout",
          "text": [
            "\n",
            "Epoch 36: loss improved from 1145737.37500 to 1145564.50000, saving model to checkpoint/Transformer.best20032023_08:09:13.hdf5\n",
            "5/5 [==============================] - 0s 60ms/step - loss: 1145564.5000 - rmse: 1070.9067 - mae: 453.8782 - smape: 99.8747 - coeff_determination: -0.2162\n",
            "Epoch 37/200\n",
            "4/5 [=======================>......] - ETA: 0s - loss: 1129729.0000 - rmse: 1062.5439 - mae: 448.6680 - smape: 99.8570 - coeff_determination: -0.2030"
          ]
        },
        {
          "output_type": "stream",
          "name": "stderr",
          "text": [
            "WARNING:tensorflow:Early stopping conditioned on metric `val_loss` which is not available. Available metrics are: loss,rmse,mae,smape,coeff_determination\n"
          ]
        },
        {
          "output_type": "stream",
          "name": "stdout",
          "text": [
            "\n",
            "Epoch 37: loss improved from 1145564.50000 to 1144777.62500, saving model to checkpoint/Transformer.best20032023_08:09:13.hdf5\n",
            "5/5 [==============================] - 0s 61ms/step - loss: 1144777.6250 - rmse: 1086.8141 - mae: 454.3673 - smape: 99.8556 - coeff_determination: -0.2148\n",
            "Epoch 38/200\n",
            "5/5 [==============================] - ETA: 0s - loss: 1143753.7500 - rmse: 1009.8128 - mae: 454.5258 - smape: 99.8377 - coeff_determination: -0.1929"
          ]
        },
        {
          "output_type": "stream",
          "name": "stderr",
          "text": [
            "WARNING:tensorflow:Early stopping conditioned on metric `val_loss` which is not available. Available metrics are: loss,rmse,mae,smape,coeff_determination\n"
          ]
        },
        {
          "output_type": "stream",
          "name": "stdout",
          "text": [
            "\n",
            "Epoch 38: loss improved from 1144777.62500 to 1143753.75000, saving model to checkpoint/Transformer.best20032023_08:09:13.hdf5\n",
            "5/5 [==============================] - 0s 84ms/step - loss: 1143753.7500 - rmse: 1009.8128 - mae: 454.5258 - smape: 99.8377 - coeff_determination: -0.1929\n",
            "Epoch 39/200\n",
            "5/5 [==============================] - ETA: 0s - loss: 1143820.5000 - rmse: 1080.7258 - mae: 455.1514 - smape: 99.8368 - coeff_determination: -0.2147"
          ]
        },
        {
          "output_type": "stream",
          "name": "stderr",
          "text": [
            "WARNING:tensorflow:Early stopping conditioned on metric `val_loss` which is not available. Available metrics are: loss,rmse,mae,smape,coeff_determination\n"
          ]
        },
        {
          "output_type": "stream",
          "name": "stdout",
          "text": [
            "\n",
            "Epoch 39: loss did not improve from 1143753.75000\n",
            "5/5 [==============================] - 0s 34ms/step - loss: 1143820.5000 - rmse: 1080.7258 - mae: 455.1514 - smape: 99.8368 - coeff_determination: -0.2147\n",
            "Epoch 40/200\n",
            "3/5 [=================>............] - ETA: 0s - loss: 1162871.6250 - rmse: 1073.3429 - mae: 458.9216 - smape: 99.8244 - coeff_determination: -0.2049"
          ]
        },
        {
          "output_type": "stream",
          "name": "stderr",
          "text": [
            "WARNING:tensorflow:Early stopping conditioned on metric `val_loss` which is not available. Available metrics are: loss,rmse,mae,smape,coeff_determination\n"
          ]
        },
        {
          "output_type": "stream",
          "name": "stdout",
          "text": [
            "\n",
            "Epoch 40: loss improved from 1143753.75000 to 1142896.37500, saving model to checkpoint/Transformer.best20032023_08:09:13.hdf5\n",
            "5/5 [==============================] - 0s 79ms/step - loss: 1142896.3750 - rmse: 1082.3711 - mae: 455.4313 - smape: 99.8213 - coeff_determination: -0.2143\n",
            "Epoch 41/200\n",
            "5/5 [==============================] - ETA: 0s - loss: 1142480.0000 - rmse: 1062.2634 - mae: 455.8884 - smape: 99.8129 - coeff_determination: -0.2229"
          ]
        },
        {
          "output_type": "stream",
          "name": "stderr",
          "text": [
            "WARNING:tensorflow:Early stopping conditioned on metric `val_loss` which is not available. Available metrics are: loss,rmse,mae,smape,coeff_determination\n"
          ]
        },
        {
          "output_type": "stream",
          "name": "stdout",
          "text": [
            "\n",
            "Epoch 41: loss improved from 1142896.37500 to 1142480.00000, saving model to checkpoint/Transformer.best20032023_08:09:13.hdf5\n",
            "5/5 [==============================] - 0s 82ms/step - loss: 1142480.0000 - rmse: 1062.2634 - mae: 455.8884 - smape: 99.8129 - coeff_determination: -0.2229\n",
            "Epoch 42/200\n",
            "4/5 [=======================>......] - ETA: 0s - loss: 1152844.1250 - rmse: 1065.4523 - mae: 458.9720 - smape: 99.7912 - coeff_determination: -0.2063"
          ]
        },
        {
          "output_type": "stream",
          "name": "stderr",
          "text": [
            "WARNING:tensorflow:Early stopping conditioned on metric `val_loss` which is not available. Available metrics are: loss,rmse,mae,smape,coeff_determination\n"
          ]
        },
        {
          "output_type": "stream",
          "name": "stdout",
          "text": [
            "\n",
            "Epoch 42: loss improved from 1142480.00000 to 1141329.87500, saving model to checkpoint/Transformer.best20032023_08:09:13.hdf5\n",
            "5/5 [==============================] - 0s 82ms/step - loss: 1141329.8750 - rmse: 1046.7655 - mae: 456.3174 - smape: 99.7895 - coeff_determination: -0.2040\n",
            "Epoch 43/200\n",
            "5/5 [==============================] - ETA: 0s - loss: 1140927.2500 - rmse: 1074.7484 - mae: 457.0924 - smape: 99.7734 - coeff_determination: -0.2060"
          ]
        },
        {
          "output_type": "stream",
          "name": "stderr",
          "text": [
            "WARNING:tensorflow:Early stopping conditioned on metric `val_loss` which is not available. Available metrics are: loss,rmse,mae,smape,coeff_determination\n"
          ]
        },
        {
          "output_type": "stream",
          "name": "stdout",
          "text": [
            "\n",
            "Epoch 43: loss improved from 1141329.87500 to 1140927.25000, saving model to checkpoint/Transformer.best20032023_08:09:13.hdf5\n",
            "5/5 [==============================] - 0s 89ms/step - loss: 1140927.2500 - rmse: 1074.7484 - mae: 457.0924 - smape: 99.7734 - coeff_determination: -0.2060\n",
            "Epoch 44/200\n",
            "5/5 [==============================] - ETA: 0s - loss: 1140155.1250 - rmse: 1067.1399 - mae: 457.5773 - smape: 99.7622 - coeff_determination: -0.2132"
          ]
        },
        {
          "output_type": "stream",
          "name": "stderr",
          "text": [
            "WARNING:tensorflow:Early stopping conditioned on metric `val_loss` which is not available. Available metrics are: loss,rmse,mae,smape,coeff_determination\n"
          ]
        },
        {
          "output_type": "stream",
          "name": "stdout",
          "text": [
            "\n",
            "Epoch 44: loss improved from 1140927.25000 to 1140155.12500, saving model to checkpoint/Transformer.best20032023_08:09:13.hdf5\n",
            "5/5 [==============================] - 0s 83ms/step - loss: 1140155.1250 - rmse: 1067.1399 - mae: 457.5773 - smape: 99.7622 - coeff_determination: -0.2132\n",
            "Epoch 45/200\n",
            "4/5 [=======================>......] - ETA: 0s - loss: 1127561.1250 - rmse: 1057.5883 - mae: 452.0034 - smape: 99.7491 - coeff_determination: -0.1968"
          ]
        },
        {
          "output_type": "stream",
          "name": "stderr",
          "text": [
            "WARNING:tensorflow:Early stopping conditioned on metric `val_loss` which is not available. Available metrics are: loss,rmse,mae,smape,coeff_determination\n"
          ]
        },
        {
          "output_type": "stream",
          "name": "stdout",
          "text": [
            "\n",
            "Epoch 45: loss improved from 1140155.12500 to 1139021.00000, saving model to checkpoint/Transformer.best20032023_08:09:13.hdf5\n",
            "5/5 [==============================] - 0s 60ms/step - loss: 1139021.0000 - rmse: 1077.1205 - mae: 458.4286 - smape: 99.7417 - coeff_determination: -0.2141\n",
            "Epoch 46/200\n",
            "4/5 [=======================>......] - ETA: 0s - loss: 1047358.3750 - rmse: 1012.7776 - mae: 421.3968 - smape: 99.7529 - coeff_determination: -0.1790"
          ]
        },
        {
          "output_type": "stream",
          "name": "stderr",
          "text": [
            "WARNING:tensorflow:Early stopping conditioned on metric `val_loss` which is not available. Available metrics are: loss,rmse,mae,smape,coeff_determination\n"
          ]
        },
        {
          "output_type": "stream",
          "name": "stdout",
          "text": [
            "\n",
            "Epoch 46: loss improved from 1139021.00000 to 1138297.62500, saving model to checkpoint/Transformer.best20032023_08:09:13.hdf5\n",
            "5/5 [==============================] - 0s 58ms/step - loss: 1138297.6250 - rmse: 1138.2664 - mae: 458.7746 - smape: 99.7205 - coeff_determination: -0.2969\n",
            "Epoch 47/200\n",
            "4/5 [=======================>......] - ETA: 0s - loss: 1181523.3750 - rmse: 1074.8362 - mae: 475.8809 - smape: 99.6848 - coeff_determination: -0.2099"
          ]
        },
        {
          "output_type": "stream",
          "name": "stderr",
          "text": [
            "WARNING:tensorflow:Early stopping conditioned on metric `val_loss` which is not available. Available metrics are: loss,rmse,mae,smape,coeff_determination\n"
          ]
        },
        {
          "output_type": "stream",
          "name": "stdout",
          "text": [
            "\n",
            "Epoch 47: loss improved from 1138297.62500 to 1136681.37500, saving model to checkpoint/Transformer.best20032023_08:09:13.hdf5\n",
            "5/5 [==============================] - 0s 60ms/step - loss: 1136681.3750 - rmse: 981.7505 - mae: 459.5104 - smape: 99.6904 - coeff_determination: -0.1794\n",
            "Epoch 48/200\n",
            "4/5 [=======================>......] - ETA: 0s - loss: 1133523.1250 - rmse: 1061.2952 - mae: 458.2327 - smape: 99.6798 - coeff_determination: -0.1961"
          ]
        },
        {
          "output_type": "stream",
          "name": "stderr",
          "text": [
            "WARNING:tensorflow:Early stopping conditioned on metric `val_loss` which is not available. Available metrics are: loss,rmse,mae,smape,coeff_determination\n"
          ]
        },
        {
          "output_type": "stream",
          "name": "stdout",
          "text": [
            "\n",
            "Epoch 48: loss improved from 1136681.37500 to 1136155.87500, saving model to checkpoint/Transformer.best20032023_08:09:13.hdf5\n",
            "5/5 [==============================] - 0s 60ms/step - loss: 1136155.8750 - rmse: 1066.3918 - mae: 460.4373 - smape: 99.6764 - coeff_determination: -0.2024\n",
            "Epoch 49/200\n",
            "3/5 [=================>............] - ETA: 0s - loss: 1060966.0000 - rmse: 1027.8800 - mae: 430.4877 - smape: 99.6976 - coeff_determination: -0.1794"
          ]
        },
        {
          "output_type": "stream",
          "name": "stderr",
          "text": [
            "WARNING:tensorflow:Early stopping conditioned on metric `val_loss` which is not available. Available metrics are: loss,rmse,mae,smape,coeff_determination\n"
          ]
        },
        {
          "output_type": "stream",
          "name": "stdout",
          "text": [
            "\n",
            "Epoch 49: loss improved from 1136155.87500 to 1136010.12500, saving model to checkpoint/Transformer.best20032023_08:09:13.hdf5\n",
            "5/5 [==============================] - 0s 65ms/step - loss: 1136010.1250 - rmse: 1023.3889 - mae: 461.2082 - smape: 99.6700 - coeff_determination: -0.1864\n",
            "Epoch 50/200\n",
            "4/5 [=======================>......] - ETA: 0s - loss: 1128789.2500 - rmse: 1061.8513 - mae: 462.1632 - smape: 99.6283 - coeff_determination: -0.1964"
          ]
        },
        {
          "output_type": "stream",
          "name": "stderr",
          "text": [
            "WARNING:tensorflow:Early stopping conditioned on metric `val_loss` which is not available. Available metrics are: loss,rmse,mae,smape,coeff_determination\n"
          ]
        },
        {
          "output_type": "stream",
          "name": "stdout",
          "text": [
            "\n",
            "Epoch 50: loss improved from 1136010.12500 to 1134268.25000, saving model to checkpoint/Transformer.best20032023_08:09:13.hdf5\n",
            "5/5 [==============================] - 0s 61ms/step - loss: 1134268.2500 - rmse: 1071.0912 - mae: 461.9453 - smape: 99.6333 - coeff_determination: -0.1921\n",
            "Epoch 51/200\n",
            "4/5 [=======================>......] - ETA: 0s - loss: 1097766.5000 - rmse: 1044.4590 - mae: 446.7689 - smape: 99.6395 - coeff_determination: -0.1858"
          ]
        },
        {
          "output_type": "stream",
          "name": "stderr",
          "text": [
            "WARNING:tensorflow:Early stopping conditioned on metric `val_loss` which is not available. Available metrics are: loss,rmse,mae,smape,coeff_determination\n"
          ]
        },
        {
          "output_type": "stream",
          "name": "stdout",
          "text": [
            "\n",
            "Epoch 51: loss improved from 1134268.25000 to 1133970.87500, saving model to checkpoint/Transformer.best20032023_08:09:13.hdf5\n",
            "5/5 [==============================] - 0s 60ms/step - loss: 1133970.8750 - rmse: 1100.2830 - mae: 462.5005 - smape: 99.6279 - coeff_determination: -0.2262\n",
            "Epoch 52/200\n",
            "4/5 [=======================>......] - ETA: 0s - loss: 1136841.5000 - rmse: 1061.3656 - mae: 468.0669 - smape: 99.5778 - coeff_determination: -0.1975"
          ]
        },
        {
          "output_type": "stream",
          "name": "stderr",
          "text": [
            "WARNING:tensorflow:Early stopping conditioned on metric `val_loss` which is not available. Available metrics are: loss,rmse,mae,smape,coeff_determination\n"
          ]
        },
        {
          "output_type": "stream",
          "name": "stdout",
          "text": [
            "\n",
            "Epoch 52: loss improved from 1133970.87500 to 1132118.37500, saving model to checkpoint/Transformer.best20032023_08:09:13.hdf5\n",
            "5/5 [==============================] - 0s 61ms/step - loss: 1132118.3750 - rmse: 1054.1790 - mae: 463.7242 - smape: 99.5872 - coeff_determination: -0.1841\n",
            "Epoch 53/200\n",
            "4/5 [=======================>......] - ETA: 0s - loss: 1103058.1250 - rmse: 1049.1538 - mae: 451.3907 - smape: 99.5636 - coeff_determination: -0.1824"
          ]
        },
        {
          "output_type": "stream",
          "name": "stderr",
          "text": [
            "WARNING:tensorflow:Early stopping conditioned on metric `val_loss` which is not available. Available metrics are: loss,rmse,mae,smape,coeff_determination\n"
          ]
        },
        {
          "output_type": "stream",
          "name": "stdout",
          "text": [
            "\n",
            "Epoch 53: loss improved from 1132118.37500 to 1130190.87500, saving model to checkpoint/Transformer.best20032023_08:09:13.hdf5\n",
            "5/5 [==============================] - 0s 60ms/step - loss: 1130190.8750 - rmse: 1091.7716 - mae: 464.1446 - smape: 99.5485 - coeff_determination: -0.2178\n",
            "Epoch 54/200\n",
            "4/5 [=======================>......] - ETA: 0s - loss: 1068815.6250 - rmse: 1031.6830 - mae: 443.6214 - smape: 99.5563 - coeff_determination: -0.1801"
          ]
        },
        {
          "output_type": "stream",
          "name": "stderr",
          "text": [
            "WARNING:tensorflow:Early stopping conditioned on metric `val_loss` which is not available. Available metrics are: loss,rmse,mae,smape,coeff_determination\n"
          ]
        },
        {
          "output_type": "stream",
          "name": "stdout",
          "text": [
            "\n",
            "Epoch 54: loss improved from 1130190.87500 to 1130068.62500, saving model to checkpoint/Transformer.best20032023_08:09:13.hdf5\n",
            "5/5 [==============================] - 0s 61ms/step - loss: 1130068.6250 - rmse: 1120.3347 - mae: 465.4017 - smape: 99.5408 - coeff_determination: -0.2289\n",
            "Epoch 55/200\n",
            "4/5 [=======================>......] - ETA: 0s - loss: 1114851.1250 - rmse: 1054.8470 - mae: 464.4314 - smape: 99.4997 - coeff_determination: -0.1907"
          ]
        },
        {
          "output_type": "stream",
          "name": "stderr",
          "text": [
            "WARNING:tensorflow:Early stopping conditioned on metric `val_loss` which is not available. Available metrics are: loss,rmse,mae,smape,coeff_determination\n"
          ]
        },
        {
          "output_type": "stream",
          "name": "stdout",
          "text": [
            "\n",
            "Epoch 55: loss improved from 1130068.62500 to 1128747.87500, saving model to checkpoint/Transformer.best20032023_08:09:13.hdf5\n",
            "5/5 [==============================] - 0s 58ms/step - loss: 1128747.8750 - rmse: 1077.6228 - mae: 466.4726 - smape: 99.5060 - coeff_determination: -0.1887\n",
            "Epoch 56/200\n",
            "4/5 [=======================>......] - ETA: 0s - loss: 1123682.8750 - rmse: 1057.2607 - mae: 462.7872 - smape: 99.4647 - coeff_determination: -0.1816"
          ]
        },
        {
          "output_type": "stream",
          "name": "stderr",
          "text": [
            "WARNING:tensorflow:Early stopping conditioned on metric `val_loss` which is not available. Available metrics are: loss,rmse,mae,smape,coeff_determination\n"
          ]
        },
        {
          "output_type": "stream",
          "name": "stdout",
          "text": [
            "\n",
            "Epoch 56: loss improved from 1128747.87500 to 1126302.75000, saving model to checkpoint/Transformer.best20032023_08:09:13.hdf5\n",
            "5/5 [==============================] - 0s 60ms/step - loss: 1126302.7500 - rmse: 1062.2356 - mae: 467.8424 - smape: 99.4479 - coeff_determination: -0.2031\n",
            "Epoch 57/200\n",
            "4/5 [=======================>......] - ETA: 0s - loss: 1121023.7500 - rmse: 1052.9355 - mae: 465.4011 - smape: 99.4547 - coeff_determination: -0.1851"
          ]
        },
        {
          "output_type": "stream",
          "name": "stderr",
          "text": [
            "WARNING:tensorflow:Early stopping conditioned on metric `val_loss` which is not available. Available metrics are: loss,rmse,mae,smape,coeff_determination\n"
          ]
        },
        {
          "output_type": "stream",
          "name": "stdout",
          "text": [
            "\n",
            "Epoch 57: loss improved from 1126302.75000 to 1125883.75000, saving model to checkpoint/Transformer.best20032023_08:09:13.hdf5\n",
            "5/5 [==============================] - 0s 58ms/step - loss: 1125883.7500 - rmse: 1062.2419 - mae: 468.7134 - smape: 99.4468 - coeff_determination: -0.1947\n",
            "Epoch 58/200\n",
            "4/5 [=======================>......] - ETA: 0s - loss: 1151042.1250 - rmse: 1067.3485 - mae: 479.4982 - smape: 99.4110 - coeff_determination: -0.1917"
          ]
        },
        {
          "output_type": "stream",
          "name": "stderr",
          "text": [
            "WARNING:tensorflow:Early stopping conditioned on metric `val_loss` which is not available. Available metrics are: loss,rmse,mae,smape,coeff_determination\n"
          ]
        },
        {
          "output_type": "stream",
          "name": "stdout",
          "text": [
            "\n",
            "Epoch 58: loss improved from 1125883.75000 to 1124213.37500, saving model to checkpoint/Transformer.best20032023_08:09:13.hdf5\n",
            "5/5 [==============================] - 0s 60ms/step - loss: 1124213.3750 - rmse: 1017.1377 - mae: 470.0149 - smape: 99.4146 - coeff_determination: -0.1740\n",
            "Epoch 59/200\n",
            "4/5 [=======================>......] - ETA: 0s - loss: 1062903.8750 - rmse: 1023.8417 - mae: 449.9590 - smape: 99.3874 - coeff_determination: -0.1711"
          ]
        },
        {
          "output_type": "stream",
          "name": "stderr",
          "text": [
            "WARNING:tensorflow:Early stopping conditioned on metric `val_loss` which is not available. Available metrics are: loss,rmse,mae,smape,coeff_determination\n"
          ]
        },
        {
          "output_type": "stream",
          "name": "stdout",
          "text": [
            "\n",
            "Epoch 59: loss improved from 1124213.37500 to 1121379.37500, saving model to checkpoint/Transformer.best20032023_08:09:13.hdf5\n",
            "5/5 [==============================] - 0s 58ms/step - loss: 1121379.3750 - rmse: 1110.2340 - mae: 471.1700 - smape: 99.3640 - coeff_determination: -0.2193\n",
            "Epoch 60/200\n",
            "4/5 [=======================>......] - ETA: 0s - loss: 1138410.2500 - rmse: 1062.7661 - mae: 478.1334 - smape: 99.3410 - coeff_determination: -0.1849"
          ]
        },
        {
          "output_type": "stream",
          "name": "stderr",
          "text": [
            "WARNING:tensorflow:Early stopping conditioned on metric `val_loss` which is not available. Available metrics are: loss,rmse,mae,smape,coeff_determination\n"
          ]
        },
        {
          "output_type": "stream",
          "name": "stdout",
          "text": [
            "\n",
            "Epoch 60: loss improved from 1121379.37500 to 1120902.62500, saving model to checkpoint/Transformer.best20032023_08:09:13.hdf5\n",
            "5/5 [==============================] - 0s 62ms/step - loss: 1120902.6250 - rmse: 1031.5529 - mae: 472.7272 - smape: 99.3376 - coeff_determination: -0.1748\n",
            "Epoch 61/200\n",
            "4/5 [=======================>......] - ETA: 0s - loss: 1149786.7500 - rmse: 1067.5824 - mae: 483.9591 - smape: 99.2870 - coeff_determination: -0.1855"
          ]
        },
        {
          "output_type": "stream",
          "name": "stderr",
          "text": [
            "WARNING:tensorflow:Early stopping conditioned on metric `val_loss` which is not available. Available metrics are: loss,rmse,mae,smape,coeff_determination\n"
          ]
        },
        {
          "output_type": "stream",
          "name": "stdout",
          "text": [
            "\n",
            "Epoch 61: loss improved from 1120902.62500 to 1119202.00000, saving model to checkpoint/Transformer.best20032023_08:09:13.hdf5\n",
            "5/5 [==============================] - 0s 59ms/step - loss: 1119202.0000 - rmse: 1008.6261 - mae: 473.9027 - smape: 99.2850 - coeff_determination: -0.1671\n",
            "Epoch 62/200\n",
            "4/5 [=======================>......] - ETA: 0s - loss: 1121085.0000 - rmse: 1057.3257 - mae: 478.5402 - smape: 99.2292 - coeff_determination: -0.1806"
          ]
        },
        {
          "output_type": "stream",
          "name": "stderr",
          "text": [
            "WARNING:tensorflow:Early stopping conditioned on metric `val_loss` which is not available. Available metrics are: loss,rmse,mae,smape,coeff_determination\n"
          ]
        },
        {
          "output_type": "stream",
          "name": "stdout",
          "text": [
            "\n",
            "Epoch 62: loss improved from 1119202.00000 to 1116601.50000, saving model to checkpoint/Transformer.best20032023_08:09:13.hdf5\n",
            "5/5 [==============================] - 0s 60ms/step - loss: 1116601.5000 - rmse: 1049.8295 - mae: 474.9720 - smape: 99.2445 - coeff_determination: -0.1690\n",
            "Epoch 63/200\n",
            "4/5 [=======================>......] - ETA: 0s - loss: 1139499.7500 - rmse: 1063.3628 - mae: 484.9454 - smape: 99.1692 - coeff_determination: -0.1786"
          ]
        },
        {
          "output_type": "stream",
          "name": "stderr",
          "text": [
            "WARNING:tensorflow:Early stopping conditioned on metric `val_loss` which is not available. Available metrics are: loss,rmse,mae,smape,coeff_determination\n"
          ]
        },
        {
          "output_type": "stream",
          "name": "stdout",
          "text": [
            "\n",
            "Epoch 63: loss improved from 1116601.50000 to 1113740.62500, saving model to checkpoint/Transformer.best20032023_08:09:13.hdf5\n",
            "5/5 [==============================] - 0s 60ms/step - loss: 1113740.6250 - rmse: 1014.8998 - mae: 476.4123 - smape: 99.1715 - coeff_determination: -0.1632\n",
            "Epoch 64/200\n",
            "4/5 [=======================>......] - ETA: 0s - loss: 1109906.3750 - rmse: 1048.9099 - mae: 475.7443 - smape: 99.1438 - coeff_determination: -0.1696"
          ]
        },
        {
          "output_type": "stream",
          "name": "stderr",
          "text": [
            "WARNING:tensorflow:Early stopping conditioned on metric `val_loss` which is not available. Available metrics are: loss,rmse,mae,smape,coeff_determination\n"
          ]
        },
        {
          "output_type": "stream",
          "name": "stdout",
          "text": [
            "\n",
            "Epoch 64: loss improved from 1113740.62500 to 1110953.62500, saving model to checkpoint/Transformer.best20032023_08:09:13.hdf5\n",
            "5/5 [==============================] - 0s 61ms/step - loss: 1110953.6250 - rmse: 1051.6204 - mae: 477.9792 - smape: 99.1182 - coeff_determination: -0.1766\n",
            "Epoch 65/200\n",
            "4/5 [=======================>......] - ETA: 0s - loss: 1145852.7500 - rmse: 1068.6044 - mae: 495.9664 - smape: 99.0290 - coeff_determination: -0.1797"
          ]
        },
        {
          "output_type": "stream",
          "name": "stderr",
          "text": [
            "WARNING:tensorflow:Early stopping conditioned on metric `val_loss` which is not available. Available metrics are: loss,rmse,mae,smape,coeff_determination\n"
          ]
        },
        {
          "output_type": "stream",
          "name": "stdout",
          "text": [
            "\n",
            "Epoch 65: loss improved from 1110953.62500 to 1109175.37500, saving model to checkpoint/Transformer.best20032023_08:09:13.hdf5\n",
            "5/5 [==============================] - 0s 60ms/step - loss: 1109175.3750 - rmse: 993.9108 - mae: 480.3593 - smape: 99.0637 - coeff_determination: -0.1485\n",
            "Epoch 66/200\n",
            "4/5 [=======================>......] - ETA: 0s - loss: 1125258.3750 - rmse: 1053.2207 - mae: 489.6190 - smape: 99.0333 - coeff_determination: -0.1757"
          ]
        },
        {
          "output_type": "stream",
          "name": "stderr",
          "text": [
            "WARNING:tensorflow:Early stopping conditioned on metric `val_loss` which is not available. Available metrics are: loss,rmse,mae,smape,coeff_determination\n"
          ]
        },
        {
          "output_type": "stream",
          "name": "stdout",
          "text": [
            "\n",
            "Epoch 66: loss improved from 1109175.37500 to 1107918.87500, saving model to checkpoint/Transformer.best20032023_08:09:13.hdf5\n",
            "5/5 [==============================] - 0s 58ms/step - loss: 1107918.8750 - rmse: 1022.7977 - mae: 482.1830 - smape: 99.0513 - coeff_determination: -0.1609\n",
            "Epoch 67/200\n",
            "4/5 [=======================>......] - ETA: 0s - loss: 1098663.0000 - rmse: 1044.2460 - mae: 483.9237 - smape: 99.0019 - coeff_determination: -0.1667"
          ]
        },
        {
          "output_type": "stream",
          "name": "stderr",
          "text": [
            "WARNING:tensorflow:Early stopping conditioned on metric `val_loss` which is not available. Available metrics are: loss,rmse,mae,smape,coeff_determination\n"
          ]
        },
        {
          "output_type": "stream",
          "name": "stdout",
          "text": [
            "\n",
            "Epoch 67: loss improved from 1107918.87500 to 1105524.75000, saving model to checkpoint/Transformer.best20032023_08:09:13.hdf5\n",
            "5/5 [==============================] - 0s 57ms/step - loss: 1105524.7500 - rmse: 1056.5422 - mae: 484.1586 - smape: 99.0135 - coeff_determination: -0.1628\n",
            "Epoch 68/200\n",
            "4/5 [=======================>......] - ETA: 0s - loss: 1109872.7500 - rmse: 1050.4679 - mae: 487.1613 - smape: 99.0004 - coeff_determination: -0.1664"
          ]
        },
        {
          "output_type": "stream",
          "name": "stderr",
          "text": [
            "WARNING:tensorflow:Early stopping conditioned on metric `val_loss` which is not available. Available metrics are: loss,rmse,mae,smape,coeff_determination\n"
          ]
        },
        {
          "output_type": "stream",
          "name": "stdout",
          "text": [
            "\n",
            "Epoch 68: loss improved from 1105524.75000 to 1104894.75000, saving model to checkpoint/Transformer.best20032023_08:09:13.hdf5\n",
            "5/5 [==============================] - 0s 58ms/step - loss: 1104894.7500 - rmse: 1042.3582 - mae: 485.5456 - smape: 98.9934 - coeff_determination: -0.1611\n",
            "Epoch 69/200\n",
            "4/5 [=======================>......] - ETA: 0s - loss: 1123765.5000 - rmse: 1058.4076 - mae: 495.7991 - smape: 98.8920 - coeff_determination: -0.1670"
          ]
        },
        {
          "output_type": "stream",
          "name": "stderr",
          "text": [
            "WARNING:tensorflow:Early stopping conditioned on metric `val_loss` which is not available. Available metrics are: loss,rmse,mae,smape,coeff_determination\n"
          ]
        },
        {
          "output_type": "stream",
          "name": "stdout",
          "text": [
            "\n",
            "Epoch 69: loss improved from 1104894.75000 to 1102450.62500, saving model to checkpoint/Transformer.best20032023_08:09:13.hdf5\n",
            "5/5 [==============================] - 0s 57ms/step - loss: 1102450.6250 - rmse: 1018.6188 - mae: 487.3307 - smape: 98.9145 - coeff_determination: -0.1493\n",
            "Epoch 70/200\n",
            "4/5 [=======================>......] - ETA: 0s - loss: 1101838.5000 - rmse: 1044.2930 - mae: 494.2469 - smape: 98.8064 - coeff_determination: -0.1647"
          ]
        },
        {
          "output_type": "stream",
          "name": "stderr",
          "text": [
            "WARNING:tensorflow:Early stopping conditioned on metric `val_loss` which is not available. Available metrics are: loss,rmse,mae,smape,coeff_determination\n"
          ]
        },
        {
          "output_type": "stream",
          "name": "stdout",
          "text": [
            "\n",
            "Epoch 70: loss improved from 1102450.62500 to 1098937.12500, saving model to checkpoint/Transformer.best20032023_08:09:13.hdf5\n",
            "5/5 [==============================] - 0s 59ms/step - loss: 1098937.1250 - rmse: 1040.3168 - mae: 489.7298 - smape: 98.8440 - coeff_determination: -0.1516\n",
            "Epoch 71/200\n",
            "4/5 [=======================>......] - ETA: 0s - loss: 1116283.1250 - rmse: 1052.2308 - mae: 500.8122 - smape: 98.7589 - coeff_determination: -0.1627"
          ]
        },
        {
          "output_type": "stream",
          "name": "stderr",
          "text": [
            "WARNING:tensorflow:Early stopping conditioned on metric `val_loss` which is not available. Available metrics are: loss,rmse,mae,smape,coeff_determination\n"
          ]
        },
        {
          "output_type": "stream",
          "name": "stdout",
          "text": [
            "\n",
            "Epoch 71: loss improved from 1098937.12500 to 1097128.62500, saving model to checkpoint/Transformer.best20032023_08:09:13.hdf5\n",
            "5/5 [==============================] - 0s 61ms/step - loss: 1097128.6250 - rmse: 1017.3097 - mae: 492.0506 - smape: 98.7893 - coeff_determination: -0.1441\n",
            "Epoch 72/200\n",
            "4/5 [=======================>......] - ETA: 0s - loss: 1094252.0000 - rmse: 1043.9369 - mae: 493.1518 - smape: 98.7412 - coeff_determination: -0.1564"
          ]
        },
        {
          "output_type": "stream",
          "name": "stderr",
          "text": [
            "WARNING:tensorflow:Early stopping conditioned on metric `val_loss` which is not available. Available metrics are: loss,rmse,mae,smape,coeff_determination\n"
          ]
        },
        {
          "output_type": "stream",
          "name": "stdout",
          "text": [
            "\n",
            "Epoch 72: loss improved from 1097128.62500 to 1095488.62500, saving model to checkpoint/Transformer.best20032023_08:09:13.hdf5\n",
            "5/5 [==============================] - 0s 59ms/step - loss: 1095488.6250 - rmse: 1046.4875 - mae: 493.2867 - smape: 98.7366 - coeff_determination: -0.1532\n",
            "Epoch 73/200\n",
            "4/5 [=======================>......] - ETA: 0s - loss: 1070476.2500 - rmse: 1033.2358 - mae: 483.9258 - smape: 98.7350 - coeff_determination: -0.1420"
          ]
        },
        {
          "output_type": "stream",
          "name": "stderr",
          "text": [
            "WARNING:tensorflow:Early stopping conditioned on metric `val_loss` which is not available. Available metrics are: loss,rmse,mae,smape,coeff_determination\n"
          ]
        },
        {
          "output_type": "stream",
          "name": "stdout",
          "text": [
            "\n",
            "Epoch 73: loss improved from 1095488.62500 to 1092079.75000, saving model to checkpoint/Transformer.best20032023_08:09:13.hdf5\n",
            "5/5 [==============================] - 0s 59ms/step - loss: 1092079.7500 - rmse: 1068.3141 - mae: 496.0685 - smape: 98.6603 - coeff_determination: -0.1790\n",
            "Epoch 74/200\n",
            "4/5 [=======================>......] - ETA: 0s - loss: 1043999.0000 - rmse: 1021.4015 - mae: 482.0584 - smape: 98.6454 - coeff_determination: -0.1393"
          ]
        },
        {
          "output_type": "stream",
          "name": "stderr",
          "text": [
            "WARNING:tensorflow:Early stopping conditioned on metric `val_loss` which is not available. Available metrics are: loss,rmse,mae,smape,coeff_determination\n"
          ]
        },
        {
          "output_type": "stream",
          "name": "stdout",
          "text": [
            "\n",
            "Epoch 74: loss improved from 1092079.75000 to 1088823.37500, saving model to checkpoint/Transformer.best20032023_08:09:13.hdf5\n",
            "5/5 [==============================] - 0s 60ms/step - loss: 1088823.3750 - rmse: 1089.4316 - mae: 497.6166 - smape: 98.5960 - coeff_determination: -0.1722\n",
            "Epoch 75/200\n",
            "4/5 [=======================>......] - ETA: 0s - loss: 1032731.6875 - rmse: 1014.2646 - mae: 479.5504 - smape: 98.5883 - coeff_determination: -0.1373"
          ]
        },
        {
          "output_type": "stream",
          "name": "stderr",
          "text": [
            "WARNING:tensorflow:Early stopping conditioned on metric `val_loss` which is not available. Available metrics are: loss,rmse,mae,smape,coeff_determination\n"
          ]
        },
        {
          "output_type": "stream",
          "name": "stdout",
          "text": [
            "\n",
            "Epoch 75: loss improved from 1088823.37500 to 1087164.12500, saving model to checkpoint/Transformer.best20032023_08:09:13.hdf5\n",
            "5/5 [==============================] - 0s 59ms/step - loss: 1087164.1250 - rmse: 1095.3937 - mae: 499.0710 - smape: 98.5358 - coeff_determination: -0.1778\n",
            "Epoch 76/200\n",
            "4/5 [=======================>......] - ETA: 0s - loss: 1101822.2500 - rmse: 1048.4556 - mae: 507.3226 - smape: 98.4149 - coeff_determination: -0.1405"
          ]
        },
        {
          "output_type": "stream",
          "name": "stderr",
          "text": [
            "WARNING:tensorflow:Early stopping conditioned on metric `val_loss` which is not available. Available metrics are: loss,rmse,mae,smape,coeff_determination\n"
          ]
        },
        {
          "output_type": "stream",
          "name": "stdout",
          "text": [
            "\n",
            "Epoch 76: loss improved from 1087164.12500 to 1080197.25000, saving model to checkpoint/Transformer.best20032023_08:09:13.hdf5\n",
            "5/5 [==============================] - 0s 59ms/step - loss: 1080197.2500 - rmse: 1007.4214 - mae: 502.3795 - smape: 98.4075 - coeff_determination: -0.1351\n",
            "Epoch 77/200\n",
            "4/5 [=======================>......] - ETA: 0s - loss: 1093873.1250 - rmse: 1037.9432 - mae: 509.9795 - smape: 98.3387 - coeff_determination: -0.1385"
          ]
        },
        {
          "output_type": "stream",
          "name": "stderr",
          "text": [
            "WARNING:tensorflow:Early stopping conditioned on metric `val_loss` which is not available. Available metrics are: loss,rmse,mae,smape,coeff_determination\n"
          ]
        },
        {
          "output_type": "stream",
          "name": "stdout",
          "text": [
            "\n",
            "Epoch 77: loss improved from 1080197.25000 to 1077144.12500, saving model to checkpoint/Transformer.best20032023_08:09:13.hdf5\n",
            "5/5 [==============================] - 0s 59ms/step - loss: 1077144.1250 - rmse: 1008.3024 - mae: 506.0921 - smape: 98.3224 - coeff_determination: -0.1303\n",
            "Epoch 78/200\n",
            "4/5 [=======================>......] - ETA: 0s - loss: 1071288.5000 - rmse: 1031.9249 - mae: 503.7084 - smape: 98.3565 - coeff_determination: -0.1350"
          ]
        },
        {
          "output_type": "stream",
          "name": "stderr",
          "text": [
            "WARNING:tensorflow:Early stopping conditioned on metric `val_loss` which is not available. Available metrics are: loss,rmse,mae,smape,coeff_determination\n"
          ]
        },
        {
          "output_type": "stream",
          "name": "stdout",
          "text": [
            "\n",
            "Epoch 78: loss did not improve from 1077144.12500\n",
            "5/5 [==============================] - 0s 20ms/step - loss: 1077978.3750 - rmse: 1043.9114 - mae: 506.1111 - smape: 98.3227 - coeff_determination: -0.1372\n",
            "Epoch 79/200\n",
            "4/5 [=======================>......] - ETA: 0s - loss: 1044479.7500 - rmse: 1014.2035 - mae: 499.9846 - smape: 98.2213 - coeff_determination: -0.1259"
          ]
        },
        {
          "output_type": "stream",
          "name": "stderr",
          "text": [
            "WARNING:tensorflow:Early stopping conditioned on metric `val_loss` which is not available. Available metrics are: loss,rmse,mae,smape,coeff_determination\n"
          ]
        },
        {
          "output_type": "stream",
          "name": "stdout",
          "text": [
            "\n",
            "Epoch 79: loss improved from 1077144.12500 to 1072040.00000, saving model to checkpoint/Transformer.best20032023_08:09:13.hdf5\n",
            "5/5 [==============================] - 0s 59ms/step - loss: 1072040.0000 - rmse: 1059.7498 - mae: 510.5970 - smape: 98.1910 - coeff_determination: -0.1479\n",
            "Epoch 80/200\n",
            "4/5 [=======================>......] - ETA: 0s - loss: 1115622.1250 - rmse: 1042.6912 - mae: 530.3193 - smape: 98.0973 - coeff_determination: -0.1454"
          ]
        },
        {
          "output_type": "stream",
          "name": "stderr",
          "text": [
            "WARNING:tensorflow:Early stopping conditioned on metric `val_loss` which is not available. Available metrics are: loss,rmse,mae,smape,coeff_determination\n"
          ]
        },
        {
          "output_type": "stream",
          "name": "stdout",
          "text": [
            "\n",
            "Epoch 80: loss improved from 1072040.00000 to 1070556.75000, saving model to checkpoint/Transformer.best20032023_08:09:13.hdf5\n",
            "5/5 [==============================] - 0s 59ms/step - loss: 1070556.7500 - rmse: 943.9601 - mae: 512.9431 - smape: 98.1536 - coeff_determination: -0.1164\n",
            "Epoch 81/200\n",
            "4/5 [=======================>......] - ETA: 0s - loss: 1052226.8750 - rmse: 1024.6157 - mae: 511.2799 - smape: 98.1278 - coeff_determination: -0.1259"
          ]
        },
        {
          "output_type": "stream",
          "name": "stderr",
          "text": [
            "WARNING:tensorflow:Early stopping conditioned on metric `val_loss` which is not available. Available metrics are: loss,rmse,mae,smape,coeff_determination\n"
          ]
        },
        {
          "output_type": "stream",
          "name": "stdout",
          "text": [
            "\n",
            "Epoch 81: loss improved from 1070556.75000 to 1070025.25000, saving model to checkpoint/Transformer.best20032023_08:09:13.hdf5\n",
            "5/5 [==============================] - 0s 62ms/step - loss: 1070025.2500 - rmse: 1054.1096 - mae: 515.3591 - smape: 98.1286 - coeff_determination: -0.1305\n",
            "Epoch 82/200\n",
            "4/5 [=======================>......] - ETA: 0s - loss: 1075122.5000 - rmse: 1033.4595 - mae: 522.2582 - smape: 97.9818 - coeff_determination: -0.1279"
          ]
        },
        {
          "output_type": "stream",
          "name": "stderr",
          "text": [
            "WARNING:tensorflow:Early stopping conditioned on metric `val_loss` which is not available. Available metrics are: loss,rmse,mae,smape,coeff_determination\n"
          ]
        },
        {
          "output_type": "stream",
          "name": "stdout",
          "text": [
            "\n",
            "Epoch 82: loss improved from 1070025.25000 to 1066409.87500, saving model to checkpoint/Transformer.best20032023_08:09:13.hdf5\n",
            "5/5 [==============================] - 0s 75ms/step - loss: 1066409.8750 - rmse: 1018.3625 - mae: 518.9909 - smape: 97.9955 - coeff_determination: -0.1173\n",
            "Epoch 83/200\n",
            "3/5 [=================>............] - ETA: 0s - loss: 1045891.3125 - rmse: 1022.2366 - mae: 516.1951 - smape: 97.9031 - coeff_determination: -0.1139"
          ]
        },
        {
          "output_type": "stream",
          "name": "stderr",
          "text": [
            "WARNING:tensorflow:Early stopping conditioned on metric `val_loss` which is not available. Available metrics are: loss,rmse,mae,smape,coeff_determination\n"
          ]
        },
        {
          "output_type": "stream",
          "name": "stdout",
          "text": [
            "\n",
            "Epoch 83: loss improved from 1066409.87500 to 1056918.75000, saving model to checkpoint/Transformer.best20032023_08:09:13.hdf5\n",
            "5/5 [==============================] - 0s 79ms/step - loss: 1056918.7500 - rmse: 1041.3635 - mae: 519.9951 - smape: 97.8479 - coeff_determination: -0.1182\n",
            "Epoch 84/200\n",
            "4/5 [=======================>......] - ETA: 0s - loss: 1074610.5000 - rmse: 1025.1942 - mae: 528.7939 - smape: 97.8096 - coeff_determination: -0.1217"
          ]
        },
        {
          "output_type": "stream",
          "name": "stderr",
          "text": [
            "WARNING:tensorflow:Early stopping conditioned on metric `val_loss` which is not available. Available metrics are: loss,rmse,mae,smape,coeff_determination\n"
          ]
        },
        {
          "output_type": "stream",
          "name": "stdout",
          "text": [
            "\n",
            "Epoch 84: loss did not improve from 1056918.75000\n",
            "5/5 [==============================] - 0s 26ms/step - loss: 1058518.0000 - rmse: 997.2285 - mae: 523.1478 - smape: 97.8355 - coeff_determination: -0.1122\n",
            "Epoch 85/200\n",
            "4/5 [=======================>......] - ETA: 0s - loss: 1008369.0000 - rmse: 1001.4528 - mae: 513.5267 - smape: 97.7119 - coeff_determination: -0.1032"
          ]
        },
        {
          "output_type": "stream",
          "name": "stderr",
          "text": [
            "WARNING:tensorflow:Early stopping conditioned on metric `val_loss` which is not available. Available metrics are: loss,rmse,mae,smape,coeff_determination\n"
          ]
        },
        {
          "output_type": "stream",
          "name": "stdout",
          "text": [
            "\n",
            "Epoch 85: loss improved from 1056918.75000 to 1052232.75000, saving model to checkpoint/Transformer.best20032023_08:09:13.hdf5\n",
            "5/5 [==============================] - 0s 82ms/step - loss: 1052232.7500 - rmse: 1069.5530 - mae: 526.7693 - smape: 97.6868 - coeff_determination: -0.1257\n",
            "Epoch 86/200\n",
            "3/5 [=================>............] - ETA: 0s - loss: 1075224.3750 - rmse: 1036.1772 - mae: 540.0732 - smape: 97.6334 - coeff_determination: -0.1185"
          ]
        },
        {
          "output_type": "stream",
          "name": "stderr",
          "text": [
            "WARNING:tensorflow:Early stopping conditioned on metric `val_loss` which is not available. Available metrics are: loss,rmse,mae,smape,coeff_determination\n"
          ]
        },
        {
          "output_type": "stream",
          "name": "stdout",
          "text": [
            "\n",
            "Epoch 86: loss improved from 1052232.75000 to 1049902.12500, saving model to checkpoint/Transformer.best20032023_08:09:13.hdf5\n",
            "5/5 [==============================] - 0s 78ms/step - loss: 1049902.1250 - rmse: 1029.4822 - mae: 527.4102 - smape: 97.6958 - coeff_determination: -0.1043\n",
            "Epoch 87/200\n",
            "3/5 [=================>............] - ETA: 0s - loss: 1079145.3750 - rmse: 1038.2992 - mae: 547.1115 - smape: 97.3325 - coeff_determination: -0.1034"
          ]
        },
        {
          "output_type": "stream",
          "name": "stderr",
          "text": [
            "WARNING:tensorflow:Early stopping conditioned on metric `val_loss` which is not available. Available metrics are: loss,rmse,mae,smape,coeff_determination\n"
          ]
        },
        {
          "output_type": "stream",
          "name": "stdout",
          "text": [
            "\n",
            "Epoch 87: loss improved from 1049902.12500 to 1040154.00000, saving model to checkpoint/Transformer.best20032023_08:09:13.hdf5\n",
            "5/5 [==============================] - 0s 80ms/step - loss: 1040154.0000 - rmse: 968.7288 - mae: 530.5269 - smape: 97.4503 - coeff_determination: -0.0811\n",
            "Epoch 88/200\n",
            "5/5 [==============================] - ETA: 0s - loss: 1041332.1875 - rmse: 1009.1774 - mae: 533.9986 - smape: 97.4311 - coeff_determination: -0.0870"
          ]
        },
        {
          "output_type": "stream",
          "name": "stderr",
          "text": [
            "WARNING:tensorflow:Early stopping conditioned on metric `val_loss` which is not available. Available metrics are: loss,rmse,mae,smape,coeff_determination\n"
          ]
        },
        {
          "output_type": "stream",
          "name": "stdout",
          "text": [
            "\n",
            "Epoch 88: loss did not improve from 1040154.00000\n",
            "5/5 [==============================] - 0s 36ms/step - loss: 1041332.1875 - rmse: 1009.1774 - mae: 533.9986 - smape: 97.4311 - coeff_determination: -0.0870\n",
            "Epoch 89/200\n",
            "4/5 [=======================>......] - ETA: 0s - loss: 1092731.6250 - rmse: 1036.9038 - mae: 553.6302 - smape: 97.2687 - coeff_determination: -0.1096"
          ]
        },
        {
          "output_type": "stream",
          "name": "stderr",
          "text": [
            "WARNING:tensorflow:Early stopping conditioned on metric `val_loss` which is not available. Available metrics are: loss,rmse,mae,smape,coeff_determination\n"
          ]
        },
        {
          "output_type": "stream",
          "name": "stdout",
          "text": [
            "\n",
            "Epoch 89: loss did not improve from 1040154.00000\n",
            "5/5 [==============================] - 0s 29ms/step - loss: 1040419.1875 - rmse: 906.3657 - mae: 534.6014 - smape: 97.3648 - coeff_determination: -0.0972\n",
            "Epoch 90/200\n",
            "5/5 [==============================] - ETA: 0s - loss: 1032535.3750 - rmse: 1001.6608 - mae: 538.3718 - smape: 97.2013 - coeff_determination: -0.0962"
          ]
        },
        {
          "output_type": "stream",
          "name": "stderr",
          "text": [
            "WARNING:tensorflow:Early stopping conditioned on metric `val_loss` which is not available. Available metrics are: loss,rmse,mae,smape,coeff_determination\n"
          ]
        },
        {
          "output_type": "stream",
          "name": "stdout",
          "text": [
            "\n",
            "Epoch 90: loss improved from 1040154.00000 to 1032535.37500, saving model to checkpoint/Transformer.best20032023_08:09:13.hdf5\n",
            "5/5 [==============================] - 0s 88ms/step - loss: 1032535.3750 - rmse: 1001.6608 - mae: 538.3718 - smape: 97.2013 - coeff_determination: -0.0962\n",
            "Epoch 91/200\n",
            "4/5 [=======================>......] - ETA: 0s - loss: 1057684.6250 - rmse: 1027.9532 - mae: 553.6184 - smape: 97.0025 - coeff_determination: -0.0910"
          ]
        },
        {
          "output_type": "stream",
          "name": "stderr",
          "text": [
            "WARNING:tensorflow:Early stopping conditioned on metric `val_loss` which is not available. Available metrics are: loss,rmse,mae,smape,coeff_determination\n"
          ]
        },
        {
          "output_type": "stream",
          "name": "stdout",
          "text": [
            "\n",
            "Epoch 91: loss improved from 1032535.37500 to 1028351.31250, saving model to checkpoint/Transformer.best20032023_08:09:13.hdf5\n",
            "5/5 [==============================] - 0s 59ms/step - loss: 1028351.3125 - rmse: 967.6525 - mae: 541.2163 - smape: 97.0930 - coeff_determination: -0.0743\n",
            "Epoch 92/200\n",
            "4/5 [=======================>......] - ETA: 0s - loss: 1013877.1250 - rmse: 1000.4406 - mae: 539.9698 - smape: 96.9842 - coeff_determination: -0.0779"
          ]
        },
        {
          "output_type": "stream",
          "name": "stderr",
          "text": [
            "WARNING:tensorflow:Early stopping conditioned on metric `val_loss` which is not available. Available metrics are: loss,rmse,mae,smape,coeff_determination\n"
          ]
        },
        {
          "output_type": "stream",
          "name": "stdout",
          "text": [
            "\n",
            "Epoch 92: loss improved from 1028351.31250 to 1021851.50000, saving model to checkpoint/Transformer.best20032023_08:09:13.hdf5\n",
            "5/5 [==============================] - 0s 63ms/step - loss: 1021851.5000 - rmse: 1015.5685 - mae: 543.1896 - smape: 96.9882 - coeff_determination: -0.0837\n",
            "Epoch 93/200\n",
            "4/5 [=======================>......] - ETA: 0s - loss: 995788.7500 - rmse: 997.8768 - mae: 537.1935 - smape: 96.9931 - coeff_determination: -0.0714"
          ]
        },
        {
          "output_type": "stream",
          "name": "stderr",
          "text": [
            "WARNING:tensorflow:Early stopping conditioned on metric `val_loss` which is not available. Available metrics are: loss,rmse,mae,smape,coeff_determination\n"
          ]
        },
        {
          "output_type": "stream",
          "name": "stdout",
          "text": [
            "\n",
            "Epoch 93: loss did not improve from 1021851.50000\n",
            "5/5 [==============================] - 0s 20ms/step - loss: 1022383.3750 - rmse: 1041.3047 - mae: 547.8887 - smape: 96.9205 - coeff_determination: -0.0971\n",
            "Epoch 94/200\n",
            "4/5 [=======================>......] - ETA: 0s - loss: 1070245.1250 - rmse: 1032.3683 - mae: 568.0954 - smape: 96.8425 - coeff_determination: -0.0874"
          ]
        },
        {
          "output_type": "stream",
          "name": "stderr",
          "text": [
            "WARNING:tensorflow:Early stopping conditioned on metric `val_loss` which is not available. Available metrics are: loss,rmse,mae,smape,coeff_determination\n"
          ]
        },
        {
          "output_type": "stream",
          "name": "stdout",
          "text": [
            "\n",
            "Epoch 94: loss did not improve from 1021851.50000\n",
            "5/5 [==============================] - 0s 21ms/step - loss: 1023312.0625 - rmse: 920.1965 - mae: 552.1252 - smape: 96.9010 - coeff_determination: -0.0598\n",
            "Epoch 95/200\n",
            "4/5 [=======================>......] - ETA: 0s - loss: 1020463.6250 - rmse: 1010.0648 - mae: 558.0537 - smape: 96.6707 - coeff_determination: -0.0738"
          ]
        },
        {
          "output_type": "stream",
          "name": "stderr",
          "text": [
            "WARNING:tensorflow:Early stopping conditioned on metric `val_loss` which is not available. Available metrics are: loss,rmse,mae,smape,coeff_determination\n"
          ]
        },
        {
          "output_type": "stream",
          "name": "stdout",
          "text": [
            "\n",
            "Epoch 95: loss improved from 1021851.50000 to 1017030.50000, saving model to checkpoint/Transformer.best20032023_08:09:13.hdf5\n",
            "5/5 [==============================] - 0s 60ms/step - loss: 1017030.5000 - rmse: 1003.8516 - mae: 554.8984 - smape: 96.7168 - coeff_determination: -0.0666\n",
            "Epoch 96/200\n",
            "4/5 [=======================>......] - ETA: 0s - loss: 1044101.3750 - rmse: 1017.9091 - mae: 567.3818 - smape: 96.5906 - coeff_determination: -0.0748"
          ]
        },
        {
          "output_type": "stream",
          "name": "stderr",
          "text": [
            "WARNING:tensorflow:Early stopping conditioned on metric `val_loss` which is not available. Available metrics are: loss,rmse,mae,smape,coeff_determination\n"
          ]
        },
        {
          "output_type": "stream",
          "name": "stdout",
          "text": [
            "\n",
            "Epoch 96: loss improved from 1017030.50000 to 1014206.12500, saving model to checkpoint/Transformer.best20032023_08:09:13.hdf5\n",
            "5/5 [==============================] - 0s 61ms/step - loss: 1014206.1250 - rmse: 956.3123 - mae: 554.9724 - smape: 96.6870 - coeff_determination: -0.0675\n",
            "Epoch 97/200\n",
            "4/5 [=======================>......] - ETA: 0s - loss: 1015929.3750 - rmse: 1006.0685 - mae: 562.1847 - smape: 96.3761 - coeff_determination: -0.0582"
          ]
        },
        {
          "output_type": "stream",
          "name": "stderr",
          "text": [
            "WARNING:tensorflow:Early stopping conditioned on metric `val_loss` which is not available. Available metrics are: loss,rmse,mae,smape,coeff_determination\n"
          ]
        },
        {
          "output_type": "stream",
          "name": "stdout",
          "text": [
            "\n",
            "Epoch 97: loss improved from 1014206.12500 to 1001638.62500, saving model to checkpoint/Transformer.best20032023_08:09:13.hdf5\n",
            "5/5 [==============================] - 0s 58ms/step - loss: 1001638.6250 - rmse: 978.9517 - mae: 555.8676 - smape: 96.4462 - coeff_determination: -0.0520\n",
            "Epoch 98/200\n",
            "4/5 [=======================>......] - ETA: 0s - loss: 975161.8750 - rmse: 984.5108 - mae: 549.4575 - smape: 96.5223 - coeff_determination: -0.0498"
          ]
        },
        {
          "output_type": "stream",
          "name": "stderr",
          "text": [
            "WARNING:tensorflow:Early stopping conditioned on metric `val_loss` which is not available. Available metrics are: loss,rmse,mae,smape,coeff_determination\n"
          ]
        },
        {
          "output_type": "stream",
          "name": "stdout",
          "text": [
            "\n",
            "Epoch 98: loss improved from 1001638.62500 to 1000980.18750, saving model to checkpoint/Transformer.best20032023_08:09:13.hdf5\n",
            "5/5 [==============================] - 0s 58ms/step - loss: 1000980.1875 - rmse: 1027.7429 - mae: 559.7459 - smape: 96.3548 - coeff_determination: -0.0745\n",
            "Epoch 99/200\n",
            "4/5 [=======================>......] - ETA: 0s - loss: 1018251.0625 - rmse: 1005.7510 - mae: 573.7338 - smape: 96.1437 - coeff_determination: -0.0598"
          ]
        },
        {
          "output_type": "stream",
          "name": "stderr",
          "text": [
            "WARNING:tensorflow:Early stopping conditioned on metric `val_loss` which is not available. Available metrics are: loss,rmse,mae,smape,coeff_determination\n"
          ]
        },
        {
          "output_type": "stream",
          "name": "stdout",
          "text": [
            "\n",
            "Epoch 99: loss improved from 1000980.18750 to 998304.93750, saving model to checkpoint/Transformer.best20032023_08:09:13.hdf5\n",
            "5/5 [==============================] - 0s 61ms/step - loss: 998304.9375 - rmse: 966.8218 - mae: 563.1780 - smape: 96.2955 - coeff_determination: -0.0435\n",
            "Epoch 100/200\n",
            "4/5 [=======================>......] - ETA: 0s - loss: 990275.8750 - rmse: 991.6855 - mae: 563.5474 - smape: 96.0175 - coeff_determination: -0.0423  "
          ]
        },
        {
          "output_type": "stream",
          "name": "stderr",
          "text": [
            "WARNING:tensorflow:Early stopping conditioned on metric `val_loss` which is not available. Available metrics are: loss,rmse,mae,smape,coeff_determination\n"
          ]
        },
        {
          "output_type": "stream",
          "name": "stdout",
          "text": [
            "\n",
            "Epoch 100: loss improved from 998304.93750 to 986270.56250, saving model to checkpoint/Transformer.best20032023_08:09:13.hdf5\n",
            "5/5 [==============================] - 0s 60ms/step - loss: 986270.5625 - rmse: 984.9640 - mae: 560.9171 - smape: 96.0960 - coeff_determination: -0.0381\n",
            "Epoch 101/200\n",
            "4/5 [=======================>......] - ETA: 0s - loss: 1016984.3750 - rmse: 1006.5659 - mae: 577.1558 - smape: 96.0341 - coeff_determination: -0.0557"
          ]
        },
        {
          "output_type": "stream",
          "name": "stderr",
          "text": [
            "WARNING:tensorflow:Early stopping conditioned on metric `val_loss` which is not available. Available metrics are: loss,rmse,mae,smape,coeff_determination\n"
          ]
        },
        {
          "output_type": "stream",
          "name": "stdout",
          "text": [
            "\n",
            "Epoch 101: loss did not improve from 986270.56250\n",
            "5/5 [==============================] - 0s 21ms/step - loss: 996111.0000 - rmse: 965.2366 - mae: 570.2151 - smape: 96.1268 - coeff_determination: -0.0425\n",
            "Epoch 102/200\n",
            "4/5 [=======================>......] - ETA: 0s - loss: 997470.0625 - rmse: 993.0499 - mae: 575.9043 - smape: 95.7378 - coeff_determination: -0.0342"
          ]
        },
        {
          "output_type": "stream",
          "name": "stderr",
          "text": [
            "WARNING:tensorflow:Early stopping conditioned on metric `val_loss` which is not available. Available metrics are: loss,rmse,mae,smape,coeff_determination\n"
          ]
        },
        {
          "output_type": "stream",
          "name": "stdout",
          "text": [
            "\n",
            "Epoch 102: loss improved from 986270.56250 to 975497.68750, saving model to checkpoint/Transformer.best20032023_08:09:13.hdf5\n",
            "5/5 [==============================] - 0s 59ms/step - loss: 975497.6875 - rmse: 949.4242 - mae: 568.4209 - smape: 95.8050 - coeff_determination: -0.0306\n",
            "Epoch 103/200\n",
            "4/5 [=======================>......] - ETA: 0s - loss: 1003088.5000 - rmse: 995.2001 - mae: 577.7043 - smape: 95.7577 - coeff_determination: -0.0406"
          ]
        },
        {
          "output_type": "stream",
          "name": "stderr",
          "text": [
            "WARNING:tensorflow:Early stopping conditioned on metric `val_loss` which is not available. Available metrics are: loss,rmse,mae,smape,coeff_determination\n"
          ]
        },
        {
          "output_type": "stream",
          "name": "stdout",
          "text": [
            "\n",
            "Epoch 103: loss did not improve from 975497.68750\n",
            "5/5 [==============================] - 0s 19ms/step - loss: 981621.6250 - rmse: 953.0363 - mae: 571.9088 - smape: 95.7943 - coeff_determination: -0.0362\n",
            "Epoch 104/200\n",
            "4/5 [=======================>......] - ETA: 0s - loss: 958073.6250 - rmse: 971.5876 - mae: 569.7456 - smape: 95.6595 - coeff_determination: -0.0233  "
          ]
        },
        {
          "output_type": "stream",
          "name": "stderr",
          "text": [
            "WARNING:tensorflow:Early stopping conditioned on metric `val_loss` which is not available. Available metrics are: loss,rmse,mae,smape,coeff_determination\n"
          ]
        },
        {
          "output_type": "stream",
          "name": "stdout",
          "text": [
            "\n",
            "Epoch 104: loss improved from 975497.68750 to 971560.62500, saving model to checkpoint/Transformer.best20032023_08:09:13.hdf5\n",
            "5/5 [==============================] - 0s 63ms/step - loss: 971560.6250 - rmse: 996.5178 - mae: 572.9057 - smape: 95.6578 - coeff_determination: -0.0319\n",
            "Epoch 105/200\n",
            "4/5 [=======================>......] - ETA: 0s - loss: 946626.7500 - rmse: 967.2748 - mae: 565.6379 - smape: 95.4860 - coeff_determination: -0.0154  "
          ]
        },
        {
          "output_type": "stream",
          "name": "stderr",
          "text": [
            "WARNING:tensorflow:Early stopping conditioned on metric `val_loss` which is not available. Available metrics are: loss,rmse,mae,smape,coeff_determination\n"
          ]
        },
        {
          "output_type": "stream",
          "name": "stdout",
          "text": [
            "\n",
            "Epoch 105: loss improved from 971560.62500 to 961765.50000, saving model to checkpoint/Transformer.best20032023_08:09:13.hdf5\n",
            "5/5 [==============================] - 0s 60ms/step - loss: 961765.5000 - rmse: 994.7391 - mae: 567.6331 - smape: 95.5528 - coeff_determination: -0.0154\n",
            "Epoch 106/200\n",
            "4/5 [=======================>......] - ETA: 0s - loss: 969038.8125 - rmse: 984.0198 - mae: 576.5568 - smape: 95.4371 - coeff_determination: -0.0148"
          ]
        },
        {
          "output_type": "stream",
          "name": "stderr",
          "text": [
            "WARNING:tensorflow:Early stopping conditioned on metric `val_loss` which is not available. Available metrics are: loss,rmse,mae,smape,coeff_determination\n"
          ]
        },
        {
          "output_type": "stream",
          "name": "stdout",
          "text": [
            "\n",
            "Epoch 106: loss did not improve from 961765.50000\n",
            "5/5 [==============================] - 0s 23ms/step - loss: 963601.9375 - rmse: 973.8505 - mae: 576.0961 - smape: 95.4273 - coeff_determination: -0.0188\n",
            "Epoch 107/200\n",
            "4/5 [=======================>......] - ETA: 0s - loss: 927364.5625 - rmse: 958.8207 - mae: 566.6108 - smape: 95.4913 - coeff_determination: -0.0050"
          ]
        },
        {
          "output_type": "stream",
          "name": "stderr",
          "text": [
            "WARNING:tensorflow:Early stopping conditioned on metric `val_loss` which is not available. Available metrics are: loss,rmse,mae,smape,coeff_determination\n"
          ]
        },
        {
          "output_type": "stream",
          "name": "stdout",
          "text": [
            "\n",
            "Epoch 107: loss improved from 961765.50000 to 957367.18750, saving model to checkpoint/Transformer.best20032023_08:09:13.hdf5\n",
            "5/5 [==============================] - 0s 59ms/step - loss: 957367.1875 - rmse: 1009.4952 - mae: 579.5380 - smape: 95.3050 - coeff_determination: -0.0309\n",
            "Epoch 108/200\n",
            "4/5 [=======================>......] - ETA: 0s - loss: 1006599.1250 - rmse: 1002.3690 - mae: 599.7216 - smape: 95.2271 - coeff_determination: -0.0244"
          ]
        },
        {
          "output_type": "stream",
          "name": "stderr",
          "text": [
            "WARNING:tensorflow:Early stopping conditioned on metric `val_loss` which is not available. Available metrics are: loss,rmse,mae,smape,coeff_determination\n"
          ]
        },
        {
          "output_type": "stream",
          "name": "stdout",
          "text": [
            "\n",
            "Epoch 108: loss did not improve from 957367.18750\n",
            "5/5 [==============================] - 0s 21ms/step - loss: 965093.0000 - rmse: 903.2306 - mae: 585.4791 - smape: 95.3194 - coeff_determination: -0.0043\n",
            "Epoch 109/200\n",
            "4/5 [=======================>......] - ETA: 0s - loss: 921199.3125 - rmse: 956.5660 - mae: 570.4575 - smape: 94.9977 - coeff_determination: 0.0094"
          ]
        },
        {
          "output_type": "stream",
          "name": "stderr",
          "text": [
            "WARNING:tensorflow:Early stopping conditioned on metric `val_loss` which is not available. Available metrics are: loss,rmse,mae,smape,coeff_determination\n"
          ]
        },
        {
          "output_type": "stream",
          "name": "stdout",
          "text": [
            "\n",
            "Epoch 109: loss improved from 957367.18750 to 940145.62500, saving model to checkpoint/Transformer.best20032023_08:09:13.hdf5\n",
            "5/5 [==============================] - 0s 62ms/step - loss: 940145.6250 - rmse: 990.0634 - mae: 577.5215 - smape: 94.9037 - coeff_determination: 0.0013\n",
            "Epoch 110/200\n",
            "4/5 [=======================>......] - ETA: 0s - loss: 952506.7500 - rmse: 975.8092 - mae: 585.7650 - smape: 95.1250 - coeff_determination: -0.0029"
          ]
        },
        {
          "output_type": "stream",
          "name": "stderr",
          "text": [
            "WARNING:tensorflow:Early stopping conditioned on metric `val_loss` which is not available. Available metrics are: loss,rmse,mae,smape,coeff_determination\n"
          ]
        },
        {
          "output_type": "stream",
          "name": "stdout",
          "text": [
            "\n",
            "Epoch 110: loss did not improve from 940145.62500\n",
            "5/5 [==============================] - 0s 22ms/step - loss: 954152.8750 - rmse: 978.8641 - mae: 588.2265 - smape: 95.1001 - coeff_determination: -0.0105\n",
            "Epoch 111/200\n",
            "5/5 [==============================] - ETA: 0s - loss: 939520.4375 - rmse: 917.2739 - mae: 588.0406 - smape: 94.7993 - coeff_determination: -0.0094"
          ]
        },
        {
          "output_type": "stream",
          "name": "stderr",
          "text": [
            "WARNING:tensorflow:Early stopping conditioned on metric `val_loss` which is not available. Available metrics are: loss,rmse,mae,smape,coeff_determination\n"
          ]
        },
        {
          "output_type": "stream",
          "name": "stdout",
          "text": [
            "\n",
            "Epoch 111: loss improved from 940145.62500 to 939520.43750, saving model to checkpoint/Transformer.best20032023_08:09:13.hdf5\n",
            "5/5 [==============================] - 0s 59ms/step - loss: 939520.4375 - rmse: 917.2739 - mae: 588.0406 - smape: 94.7993 - coeff_determination: -0.0094\n",
            "Epoch 112/200\n",
            "4/5 [=======================>......] - ETA: 0s - loss: 941345.0000 - rmse: 967.1378 - mae: 587.8566 - smape: 94.5650 - coeff_determination: 0.0173"
          ]
        },
        {
          "output_type": "stream",
          "name": "stderr",
          "text": [
            "WARNING:tensorflow:Early stopping conditioned on metric `val_loss` which is not available. Available metrics are: loss,rmse,mae,smape,coeff_determination\n"
          ]
        },
        {
          "output_type": "stream",
          "name": "stdout",
          "text": [
            "\n",
            "Epoch 112: loss improved from 939520.43750 to 928748.62500, saving model to checkpoint/Transformer.best20032023_08:09:13.hdf5\n",
            "5/5 [==============================] - 0s 58ms/step - loss: 928748.6250 - rmse: 942.6802 - mae: 581.1672 - smape: 94.6591 - coeff_determination: 0.0272\n",
            "Epoch 113/200\n",
            "4/5 [=======================>......] - ETA: 0s - loss: 921907.9375 - rmse: 955.6078 - mae: 581.6044 - smape: 94.7933 - coeff_determination: 0.0165"
          ]
        },
        {
          "output_type": "stream",
          "name": "stderr",
          "text": [
            "WARNING:tensorflow:Early stopping conditioned on metric `val_loss` which is not available. Available metrics are: loss,rmse,mae,smape,coeff_determination\n"
          ]
        },
        {
          "output_type": "stream",
          "name": "stdout",
          "text": [
            "\n",
            "Epoch 113: loss improved from 928748.62500 to 923363.62500, saving model to checkpoint/Transformer.best20032023_08:09:13.hdf5\n",
            "5/5 [==============================] - 0s 61ms/step - loss: 923363.6250 - rmse: 959.2381 - mae: 587.1236 - smape: 94.4451 - coeff_determination: 0.0286\n",
            "Epoch 114/200\n",
            "4/5 [=======================>......] - ETA: 0s - loss: 941932.5625 - rmse: 966.9828 - mae: 600.0690 - smape: 94.2502 - coeff_determination: 0.0140   "
          ]
        },
        {
          "output_type": "stream",
          "name": "stderr",
          "text": [
            "WARNING:tensorflow:Early stopping conditioned on metric `val_loss` which is not available. Available metrics are: loss,rmse,mae,smape,coeff_determination\n"
          ]
        },
        {
          "output_type": "stream",
          "name": "stdout",
          "text": [
            "\n",
            "Epoch 114: loss did not improve from 923363.62500\n",
            "5/5 [==============================] - 0s 21ms/step - loss: 924881.1250 - rmse: 932.8182 - mae: 592.3643 - smape: 94.4233 - coeff_determination: 0.0261\n",
            "Epoch 115/200\n",
            "4/5 [=======================>......] - ETA: 0s - loss: 919135.7500 - rmse: 951.9097 - mae: 593.6477 - smape: 94.3020 - coeff_determination: 0.0264"
          ]
        },
        {
          "output_type": "stream",
          "name": "stderr",
          "text": [
            "WARNING:tensorflow:Early stopping conditioned on metric `val_loss` which is not available. Available metrics are: loss,rmse,mae,smape,coeff_determination\n"
          ]
        },
        {
          "output_type": "stream",
          "name": "stdout",
          "text": [
            "\n",
            "Epoch 115: loss improved from 923363.62500 to 919249.18750, saving model to checkpoint/Transformer.best20032023_08:09:13.hdf5\n",
            "5/5 [==============================] - 0s 59ms/step - loss: 919249.1875 - rmse: 953.4845 - mae: 593.2002 - smape: 94.3219 - coeff_determination: 0.0289\n",
            "Epoch 116/200\n",
            "4/5 [=======================>......] - ETA: 0s - loss: 892977.5000 - rmse: 943.7512 - mae: 583.2288 - smape: 94.2198 - coeff_determination: 0.0450"
          ]
        },
        {
          "output_type": "stream",
          "name": "stderr",
          "text": [
            "WARNING:tensorflow:Early stopping conditioned on metric `val_loss` which is not available. Available metrics are: loss,rmse,mae,smape,coeff_determination\n"
          ]
        },
        {
          "output_type": "stream",
          "name": "stdout",
          "text": [
            "\n",
            "Epoch 116: loss improved from 919249.18750 to 907324.31250, saving model to checkpoint/Transformer.best20032023_08:09:13.hdf5\n",
            "5/5 [==============================] - 0s 58ms/step - loss: 907324.3125 - rmse: 969.6799 - mae: 589.5126 - smape: 94.1020 - coeff_determination: 0.0321\n",
            "Epoch 117/200\n",
            "4/5 [=======================>......] - ETA: 0s - loss: 908420.8125 - rmse: 950.1436 - mae: 588.1284 - smape: 94.1441 - coeff_determination: 0.0317 "
          ]
        },
        {
          "output_type": "stream",
          "name": "stderr",
          "text": [
            "WARNING:tensorflow:Early stopping conditioned on metric `val_loss` which is not available. Available metrics are: loss,rmse,mae,smape,coeff_determination\n"
          ]
        },
        {
          "output_type": "stream",
          "name": "stdout",
          "text": [
            "\n",
            "Epoch 117: loss did not improve from 907324.31250\n",
            "5/5 [==============================] - 0s 20ms/step - loss: 914085.8750 - rmse: 961.1888 - mae: 589.1078 - smape: 94.2140 - coeff_determination: 0.0286\n",
            "Epoch 118/200\n",
            "4/5 [=======================>......] - ETA: 0s - loss: 911105.0000 - rmse: 948.5978 - mae: 602.1852 - smape: 93.7463 - coeff_determination: 0.0436   "
          ]
        },
        {
          "output_type": "stream",
          "name": "stderr",
          "text": [
            "WARNING:tensorflow:Early stopping conditioned on metric `val_loss` which is not available. Available metrics are: loss,rmse,mae,smape,coeff_determination\n"
          ]
        },
        {
          "output_type": "stream",
          "name": "stdout",
          "text": [
            "\n",
            "Epoch 118: loss improved from 907324.31250 to 904601.87500, saving model to checkpoint/Transformer.best20032023_08:09:13.hdf5\n",
            "5/5 [==============================] - 0s 63ms/step - loss: 904601.8750 - rmse: 937.0483 - mae: 598.2099 - smape: 93.9612 - coeff_determination: 0.0286\n",
            "Epoch 119/200\n",
            "4/5 [=======================>......] - ETA: 0s - loss: 934101.0000 - rmse: 960.7611 - mae: 604.3492 - smape: 93.7089 - coeff_determination: 0.0416  "
          ]
        },
        {
          "output_type": "stream",
          "name": "stderr",
          "text": [
            "WARNING:tensorflow:Early stopping conditioned on metric `val_loss` which is not available. Available metrics are: loss,rmse,mae,smape,coeff_determination\n"
          ]
        },
        {
          "output_type": "stream",
          "name": "stdout",
          "text": [
            "\n",
            "Epoch 119: loss improved from 904601.87500 to 902569.56250, saving model to checkpoint/Transformer.best20032023_08:09:13.hdf5\n",
            "5/5 [==============================] - 0s 60ms/step - loss: 902569.5625 - rmse: 889.3455 - mae: 593.4318 - smape: 93.9260 - coeff_determination: -0.0046\n",
            "Epoch 120/200\n",
            "4/5 [=======================>......] - ETA: 0s - loss: 934465.7500 - rmse: 965.8731 - mae: 605.9023 - smape: 93.8835 - coeff_determination: 0.0426  "
          ]
        },
        {
          "output_type": "stream",
          "name": "stderr",
          "text": [
            "WARNING:tensorflow:Early stopping conditioned on metric `val_loss` which is not available. Available metrics are: loss,rmse,mae,smape,coeff_determination\n"
          ]
        },
        {
          "output_type": "stream",
          "name": "stdout",
          "text": [
            "\n",
            "Epoch 120: loss did not improve from 902569.56250\n",
            "5/5 [==============================] - 0s 21ms/step - loss: 906774.0000 - rmse: 904.4814 - mae: 597.6422 - smape: 93.9859 - coeff_determination: 0.0411\n",
            "Epoch 121/200\n",
            "4/5 [=======================>......] - ETA: 0s - loss: 900676.3750 - rmse: 941.4752 - mae: 601.7643 - smape: 93.7284 - coeff_determination: 0.0361  "
          ]
        },
        {
          "output_type": "stream",
          "name": "stderr",
          "text": [
            "WARNING:tensorflow:Early stopping conditioned on metric `val_loss` which is not available. Available metrics are: loss,rmse,mae,smape,coeff_determination\n"
          ]
        },
        {
          "output_type": "stream",
          "name": "stdout",
          "text": [
            "\n",
            "Epoch 121: loss improved from 902569.56250 to 896186.25000, saving model to checkpoint/Transformer.best20032023_08:09:13.hdf5\n",
            "5/5 [==============================] - 0s 61ms/step - loss: 896186.2500 - rmse: 934.2388 - mae: 600.0047 - smape: 93.7045 - coeff_determination: 0.0507\n",
            "Epoch 122/200\n",
            "4/5 [=======================>......] - ETA: 0s - loss: 901007.1250 - rmse: 942.5285 - mae: 595.2191 - smape: 93.5524 - coeff_determination: 0.0569"
          ]
        },
        {
          "output_type": "stream",
          "name": "stderr",
          "text": [
            "WARNING:tensorflow:Early stopping conditioned on metric `val_loss` which is not available. Available metrics are: loss,rmse,mae,smape,coeff_determination\n"
          ]
        },
        {
          "output_type": "stream",
          "name": "stdout",
          "text": [
            "\n",
            "Epoch 122: loss improved from 896186.25000 to 886169.75000, saving model to checkpoint/Transformer.best20032023_08:09:13.hdf5\n",
            "5/5 [==============================] - 0s 65ms/step - loss: 886169.7500 - rmse: 913.1385 - mae: 590.4926 - smape: 93.6084 - coeff_determination: 0.0613\n",
            "Epoch 123/200\n",
            "4/5 [=======================>......] - ETA: 0s - loss: 868057.3750 - rmse: 925.2788 - mae: 592.6143 - smape: 93.3134 - coeff_determination: 0.0800"
          ]
        },
        {
          "output_type": "stream",
          "name": "stderr",
          "text": [
            "WARNING:tensorflow:Early stopping conditioned on metric `val_loss` which is not available. Available metrics are: loss,rmse,mae,smape,coeff_determination\n"
          ]
        },
        {
          "output_type": "stream",
          "name": "stdout",
          "text": [
            "\n",
            "Epoch 123: loss improved from 886169.75000 to 882627.75000, saving model to checkpoint/Transformer.best20032023_08:09:13.hdf5\n",
            "5/5 [==============================] - 0s 60ms/step - loss: 882627.7500 - rmse: 952.9479 - mae: 596.7479 - smape: 93.4487 - coeff_determination: 0.0532\n",
            "Epoch 124/200\n",
            "4/5 [=======================>......] - ETA: 0s - loss: 884118.1250 - rmse: 939.3288 - mae: 597.6301 - smape: 93.1125 - coeff_determination: 0.0723"
          ]
        },
        {
          "output_type": "stream",
          "name": "stderr",
          "text": [
            "WARNING:tensorflow:Early stopping conditioned on metric `val_loss` which is not available. Available metrics are: loss,rmse,mae,smape,coeff_determination\n"
          ]
        },
        {
          "output_type": "stream",
          "name": "stdout",
          "text": [
            "\n",
            "Epoch 124: loss improved from 882627.75000 to 879368.00000, saving model to checkpoint/Transformer.best20032023_08:09:13.hdf5\n",
            "5/5 [==============================] - 0s 61ms/step - loss: 879368.0000 - rmse: 930.1581 - mae: 592.5764 - smape: 93.3437 - coeff_determination: 0.0510\n",
            "Epoch 125/200\n",
            "4/5 [=======================>......] - ETA: 0s - loss: 867968.5000 - rmse: 931.0886 - mae: 591.5609 - smape: 93.0676 - coeff_determination: 0.0818"
          ]
        },
        {
          "output_type": "stream",
          "name": "stderr",
          "text": [
            "WARNING:tensorflow:Early stopping conditioned on metric `val_loss` which is not available. Available metrics are: loss,rmse,mae,smape,coeff_determination\n"
          ]
        },
        {
          "output_type": "stream",
          "name": "stdout",
          "text": [
            "\n",
            "Epoch 125: loss improved from 879368.00000 to 869552.31250, saving model to checkpoint/Transformer.best20032023_08:09:13.hdf5\n",
            "5/5 [==============================] - 0s 58ms/step - loss: 869552.3125 - rmse: 934.2469 - mae: 593.2589 - smape: 93.1525 - coeff_determination: 0.0719\n",
            "Epoch 126/200\n",
            "4/5 [=======================>......] - ETA: 0s - loss: 896633.8750 - rmse: 945.2017 - mae: 606.4166 - smape: 93.2040 - coeff_determination: 0.0670"
          ]
        },
        {
          "output_type": "stream",
          "name": "stderr",
          "text": [
            "WARNING:tensorflow:Early stopping conditioned on metric `val_loss` which is not available. Available metrics are: loss,rmse,mae,smape,coeff_determination\n"
          ]
        },
        {
          "output_type": "stream",
          "name": "stdout",
          "text": [
            "\n",
            "Epoch 126: loss did not improve from 869552.31250\n",
            "5/5 [==============================] - 0s 21ms/step - loss: 887471.7500 - rmse: 927.1707 - mae: 602.4099 - smape: 93.4178 - coeff_determination: 0.0432\n",
            "Epoch 127/200\n",
            "4/5 [=======================>......] - ETA: 0s - loss: 876755.2500 - rmse: 933.6066 - mae: 606.7125 - smape: 92.9367 - coeff_determination: 0.0766  "
          ]
        },
        {
          "output_type": "stream",
          "name": "stderr",
          "text": [
            "WARNING:tensorflow:Early stopping conditioned on metric `val_loss` which is not available. Available metrics are: loss,rmse,mae,smape,coeff_determination\n"
          ]
        },
        {
          "output_type": "stream",
          "name": "stdout",
          "text": [
            "\n",
            "Epoch 127: loss did not improve from 869552.31250\n",
            "5/5 [==============================] - 0s 22ms/step - loss: 875023.6250 - rmse: 930.7842 - mae: 605.4754 - smape: 93.0449 - coeff_determination: 0.0698\n",
            "Epoch 128/200\n",
            "4/5 [=======================>......] - ETA: 0s - loss: 892772.5000 - rmse: 944.5745 - mae: 612.6991 - smape: 93.0679 - coeff_determination: 0.0713"
          ]
        },
        {
          "output_type": "stream",
          "name": "stderr",
          "text": [
            "WARNING:tensorflow:Early stopping conditioned on metric `val_loss` which is not available. Available metrics are: loss,rmse,mae,smape,coeff_determination\n"
          ]
        },
        {
          "output_type": "stream",
          "name": "stdout",
          "text": [
            "\n",
            "Epoch 128: loss did not improve from 869552.31250\n",
            "5/5 [==============================] - 0s 23ms/step - loss: 875591.6875 - rmse: 908.2863 - mae: 606.0425 - smape: 93.1252 - coeff_determination: 0.0677\n",
            "Epoch 129/200\n",
            "4/5 [=======================>......] - ETA: 0s - loss: 847835.1250 - rmse: 917.1240 - mae: 595.4963 - smape: 92.5711 - coeff_determination: 0.1091  "
          ]
        },
        {
          "output_type": "stream",
          "name": "stderr",
          "text": [
            "WARNING:tensorflow:Early stopping conditioned on metric `val_loss` which is not available. Available metrics are: loss,rmse,mae,smape,coeff_determination\n"
          ]
        },
        {
          "output_type": "stream",
          "name": "stdout",
          "text": [
            "\n",
            "Epoch 129: loss improved from 869552.31250 to 848079.25000, saving model to checkpoint/Transformer.best20032023_08:09:13.hdf5\n",
            "5/5 [==============================] - 0s 66ms/step - loss: 848079.2500 - rmse: 918.3334 - mae: 593.6162 - smape: 92.7186 - coeff_determination: 0.0940\n",
            "Epoch 130/200\n",
            "4/5 [=======================>......] - ETA: 0s - loss: 868000.3750 - rmse: 930.4266 - mae: 613.2887 - smape: 92.5342 - coeff_determination: 0.0903"
          ]
        },
        {
          "output_type": "stream",
          "name": "stderr",
          "text": [
            "WARNING:tensorflow:Early stopping conditioned on metric `val_loss` which is not available. Available metrics are: loss,rmse,mae,smape,coeff_determination\n"
          ]
        },
        {
          "output_type": "stream",
          "name": "stdout",
          "text": [
            "\n",
            "Epoch 130: loss did not improve from 848079.25000\n",
            "5/5 [==============================] - 0s 22ms/step - loss: 861169.1250 - rmse: 916.9197 - mae: 605.8727 - smape: 92.8550 - coeff_determination: 0.0729\n",
            "Epoch 131/200\n",
            "4/5 [=======================>......] - ETA: 0s - loss: 852306.1250 - rmse: 916.4541 - mae: 599.0189 - smape: 92.8581 - coeff_determination: 0.0893  "
          ]
        },
        {
          "output_type": "stream",
          "name": "stderr",
          "text": [
            "WARNING:tensorflow:Early stopping conditioned on metric `val_loss` which is not available. Available metrics are: loss,rmse,mae,smape,coeff_determination\n"
          ]
        },
        {
          "output_type": "stream",
          "name": "stdout",
          "text": [
            "\n",
            "Epoch 131: loss improved from 848079.25000 to 847901.56250, saving model to checkpoint/Transformer.best20032023_08:09:13.hdf5\n",
            "5/5 [==============================] - 0s 61ms/step - loss: 847901.5625 - rmse: 908.9735 - mae: 599.9198 - smape: 92.6471 - coeff_determination: 0.1154\n",
            "Epoch 132/200\n",
            "4/5 [=======================>......] - ETA: 0s - loss: 858566.6250 - rmse: 925.8397 - mae: 601.9782 - smape: 92.8584 - coeff_determination: 0.0940"
          ]
        },
        {
          "output_type": "stream",
          "name": "stderr",
          "text": [
            "WARNING:tensorflow:Early stopping conditioned on metric `val_loss` which is not available. Available metrics are: loss,rmse,mae,smape,coeff_determination\n"
          ]
        },
        {
          "output_type": "stream",
          "name": "stdout",
          "text": [
            "\n",
            "Epoch 132: loss did not improve from 847901.56250\n",
            "5/5 [==============================] - 0s 24ms/step - loss: 855334.0625 - rmse: 919.5757 - mae: 600.2979 - smape: 92.8312 - coeff_determination: 0.0994\n",
            "Epoch 133/200\n",
            "4/5 [=======================>......] - ETA: 0s - loss: 854970.5000 - rmse: 919.5508 - mae: 602.4924 - smape: 92.4473 - coeff_determination: 0.1054  "
          ]
        },
        {
          "output_type": "stream",
          "name": "stderr",
          "text": [
            "WARNING:tensorflow:Early stopping conditioned on metric `val_loss` which is not available. Available metrics are: loss,rmse,mae,smape,coeff_determination\n"
          ]
        },
        {
          "output_type": "stream",
          "name": "stdout",
          "text": [
            "\n",
            "Epoch 133: loss improved from 847901.56250 to 845482.75000, saving model to checkpoint/Transformer.best20032023_08:09:13.hdf5\n",
            "5/5 [==============================] - 0s 59ms/step - loss: 845482.7500 - rmse: 900.9959 - mae: 599.7651 - smape: 92.4570 - coeff_determination: 0.1057\n",
            "Epoch 134/200\n",
            "4/5 [=======================>......] - ETA: 0s - loss: 835574.1875 - rmse: 912.1467 - mae: 593.2111 - smape: 92.8112 - coeff_determination: 0.1081"
          ]
        },
        {
          "output_type": "stream",
          "name": "stderr",
          "text": [
            "WARNING:tensorflow:Early stopping conditioned on metric `val_loss` which is not available. Available metrics are: loss,rmse,mae,smape,coeff_determination\n"
          ]
        },
        {
          "output_type": "stream",
          "name": "stdout",
          "text": [
            "\n",
            "Epoch 134: loss did not improve from 845482.75000\n",
            "5/5 [==============================] - 0s 21ms/step - loss: 846818.9375 - rmse: 933.5536 - mae: 600.4117 - smape: 92.5204 - coeff_determination: 0.1048\n",
            "Epoch 135/200\n",
            "4/5 [=======================>......] - ETA: 0s - loss: 847166.5625 - rmse: 917.4018 - mae: 603.5593 - smape: 92.2208 - coeff_determination: 0.1249"
          ]
        },
        {
          "output_type": "stream",
          "name": "stderr",
          "text": [
            "WARNING:tensorflow:Early stopping conditioned on metric `val_loss` which is not available. Available metrics are: loss,rmse,mae,smape,coeff_determination\n"
          ]
        },
        {
          "output_type": "stream",
          "name": "stdout",
          "text": [
            "\n",
            "Epoch 135: loss improved from 845482.75000 to 836810.18750, saving model to checkpoint/Transformer.best20032023_08:09:13.hdf5\n",
            "5/5 [==============================] - 0s 61ms/step - loss: 836810.1875 - rmse: 896.4098 - mae: 600.4301 - smape: 92.3282 - coeff_determination: 0.1001\n",
            "Epoch 136/200\n",
            "4/5 [=======================>......] - ETA: 0s - loss: 816944.6250 - rmse: 899.6212 - mae: 591.6143 - smape: 92.4311 - coeff_determination: 0.1118"
          ]
        },
        {
          "output_type": "stream",
          "name": "stderr",
          "text": [
            "WARNING:tensorflow:Early stopping conditioned on metric `val_loss` which is not available. Available metrics are: loss,rmse,mae,smape,coeff_determination\n"
          ]
        },
        {
          "output_type": "stream",
          "name": "stdout",
          "text": [
            "\n",
            "Epoch 136: loss improved from 836810.18750 to 834790.87500, saving model to checkpoint/Transformer.best20032023_08:09:13.hdf5\n",
            "5/5 [==============================] - 0s 75ms/step - loss: 834790.8750 - rmse: 933.1792 - mae: 596.8340 - smape: 92.3217 - coeff_determination: 0.1046\n",
            "Epoch 137/200\n",
            "4/5 [=======================>......] - ETA: 0s - loss: 852360.1250 - rmse: 922.2732 - mae: 615.1050 - smape: 91.8391 - coeff_determination: 0.1249"
          ]
        },
        {
          "output_type": "stream",
          "name": "stderr",
          "text": [
            "WARNING:tensorflow:Early stopping conditioned on metric `val_loss` which is not available. Available metrics are: loss,rmse,mae,smape,coeff_determination\n"
          ]
        },
        {
          "output_type": "stream",
          "name": "stdout",
          "text": [
            "\n",
            "Epoch 137: loss did not improve from 834790.87500\n",
            "5/5 [==============================] - 0s 27ms/step - loss: 836699.8125 - rmse: 888.7397 - mae: 610.1538 - smape: 92.1048 - coeff_determination: 0.0307\n",
            "Epoch 138/200\n",
            "4/5 [=======================>......] - ETA: 0s - loss: 802218.6875 - rmse: 893.5164 - mae: 590.7609 - smape: 92.4356 - coeff_determination: 0.1163"
          ]
        },
        {
          "output_type": "stream",
          "name": "stderr",
          "text": [
            "WARNING:tensorflow:Early stopping conditioned on metric `val_loss` which is not available. Available metrics are: loss,rmse,mae,smape,coeff_determination\n"
          ]
        },
        {
          "output_type": "stream",
          "name": "stdout",
          "text": [
            "\n",
            "Epoch 138: loss improved from 834790.87500 to 833180.43750, saving model to checkpoint/Transformer.best20032023_08:09:13.hdf5\n",
            "5/5 [==============================] - 0s 76ms/step - loss: 833180.4375 - rmse: 948.1879 - mae: 602.7767 - smape: 92.1087 - coeff_determination: 0.1064\n",
            "Epoch 139/200\n",
            "4/5 [=======================>......] - ETA: 0s - loss: 822920.0000 - rmse: 906.4329 - mae: 595.4832 - smape: 92.2721 - coeff_determination: 0.1238"
          ]
        },
        {
          "output_type": "stream",
          "name": "stderr",
          "text": [
            "WARNING:tensorflow:Early stopping conditioned on metric `val_loss` which is not available. Available metrics are: loss,rmse,mae,smape,coeff_determination\n"
          ]
        },
        {
          "output_type": "stream",
          "name": "stdout",
          "text": [
            "\n",
            "Epoch 139: loss improved from 833180.43750 to 824653.31250, saving model to checkpoint/Transformer.best20032023_08:09:13.hdf5\n",
            "5/5 [==============================] - 0s 78ms/step - loss: 824653.3125 - rmse: 909.9959 - mae: 596.7354 - smape: 92.0496 - coeff_determination: 0.1379\n",
            "Epoch 140/200\n",
            "5/5 [==============================] - ETA: 0s - loss: 820031.1250 - rmse: 849.8563 - mae: 600.8070 - smape: 91.8440 - coeff_determination: 0.0764"
          ]
        },
        {
          "output_type": "stream",
          "name": "stderr",
          "text": [
            "WARNING:tensorflow:Early stopping conditioned on metric `val_loss` which is not available. Available metrics are: loss,rmse,mae,smape,coeff_determination\n"
          ]
        },
        {
          "output_type": "stream",
          "name": "stdout",
          "text": [
            "\n",
            "Epoch 140: loss improved from 824653.31250 to 820031.12500, saving model to checkpoint/Transformer.best20032023_08:09:13.hdf5\n",
            "5/5 [==============================] - 0s 82ms/step - loss: 820031.1250 - rmse: 849.8563 - mae: 600.8070 - smape: 91.8440 - coeff_determination: 0.0764\n",
            "Epoch 141/200\n",
            "5/5 [==============================] - ETA: 0s - loss: 833625.7500 - rmse: 854.8241 - mae: 606.7121 - smape: 91.9252 - coeff_determination: 0.0485"
          ]
        },
        {
          "output_type": "stream",
          "name": "stderr",
          "text": [
            "WARNING:tensorflow:Early stopping conditioned on metric `val_loss` which is not available. Available metrics are: loss,rmse,mae,smape,coeff_determination\n"
          ]
        },
        {
          "output_type": "stream",
          "name": "stdout",
          "text": [
            "\n",
            "Epoch 141: loss did not improve from 820031.12500\n",
            "5/5 [==============================] - 0s 29ms/step - loss: 833625.7500 - rmse: 854.8241 - mae: 606.7121 - smape: 91.9252 - coeff_determination: 0.0485\n",
            "Epoch 142/200\n",
            "4/5 [=======================>......] - ETA: 0s - loss: 829240.5000 - rmse: 908.6149 - mae: 606.8107 - smape: 91.6458 - coeff_determination: 0.1286"
          ]
        },
        {
          "output_type": "stream",
          "name": "stderr",
          "text": [
            "WARNING:tensorflow:Early stopping conditioned on metric `val_loss` which is not available. Available metrics are: loss,rmse,mae,smape,coeff_determination\n"
          ]
        },
        {
          "output_type": "stream",
          "name": "stdout",
          "text": [
            "\n",
            "Epoch 142: loss improved from 820031.12500 to 813876.93750, saving model to checkpoint/Transformer.best20032023_08:09:13.hdf5\n",
            "5/5 [==============================] - 0s 79ms/step - loss: 813876.9375 - rmse: 875.4412 - mae: 598.7228 - smape: 91.7383 - coeff_determination: 0.1478\n",
            "Epoch 143/200\n",
            "4/5 [=======================>......] - ETA: 0s - loss: 792707.1875 - rmse: 881.9645 - mae: 589.4865 - smape: 91.8275 - coeff_determination: 0.1548  "
          ]
        },
        {
          "output_type": "stream",
          "name": "stderr",
          "text": [
            "WARNING:tensorflow:Early stopping conditioned on metric `val_loss` which is not available. Available metrics are: loss,rmse,mae,smape,coeff_determination\n"
          ]
        },
        {
          "output_type": "stream",
          "name": "stdout",
          "text": [
            "\n",
            "Epoch 143: loss did not improve from 813876.93750\n",
            "5/5 [==============================] - 0s 29ms/step - loss: 817266.3125 - rmse: 927.9594 - mae: 597.6956 - smape: 91.8365 - coeff_determination: 0.1168\n",
            "Epoch 144/200\n",
            "4/5 [=======================>......] - ETA: 0s - loss: 807811.0000 - rmse: 894.5095 - mae: 598.3813 - smape: 91.3070 - coeff_determination: 0.1599"
          ]
        },
        {
          "output_type": "stream",
          "name": "stderr",
          "text": [
            "WARNING:tensorflow:Early stopping conditioned on metric `val_loss` which is not available. Available metrics are: loss,rmse,mae,smape,coeff_determination\n"
          ]
        },
        {
          "output_type": "stream",
          "name": "stdout",
          "text": [
            "\n",
            "Epoch 144: loss improved from 813876.93750 to 805810.56250, saving model to checkpoint/Transformer.best20032023_08:09:13.hdf5\n",
            "5/5 [==============================] - 0s 88ms/step - loss: 805810.5625 - rmse: 891.2970 - mae: 598.6795 - smape: 91.3949 - coeff_determination: 0.1437\n",
            "Epoch 145/200\n",
            "5/5 [==============================] - ETA: 0s - loss: 826453.2500 - rmse: 909.8283 - mae: 604.1890 - smape: 91.7467 - coeff_determination: 0.1282"
          ]
        },
        {
          "output_type": "stream",
          "name": "stderr",
          "text": [
            "WARNING:tensorflow:Early stopping conditioned on metric `val_loss` which is not available. Available metrics are: loss,rmse,mae,smape,coeff_determination\n"
          ]
        },
        {
          "output_type": "stream",
          "name": "stdout",
          "text": [
            "\n",
            "Epoch 145: loss did not improve from 805810.56250\n",
            "5/5 [==============================] - 0s 29ms/step - loss: 826453.2500 - rmse: 909.8283 - mae: 604.1890 - smape: 91.7467 - coeff_determination: 0.1282\n",
            "Epoch 146/200\n",
            "4/5 [=======================>......] - ETA: 0s - loss: 826416.8750 - rmse: 907.2252 - mae: 601.7266 - smape: 91.7181 - coeff_determination: 0.1323"
          ]
        },
        {
          "output_type": "stream",
          "name": "stderr",
          "text": [
            "WARNING:tensorflow:Early stopping conditioned on metric `val_loss` which is not available. Available metrics are: loss,rmse,mae,smape,coeff_determination\n"
          ]
        },
        {
          "output_type": "stream",
          "name": "stdout",
          "text": [
            "\n",
            "Epoch 146: loss did not improve from 805810.56250\n",
            "5/5 [==============================] - 0s 20ms/step - loss: 818871.3750 - rmse: 891.9240 - mae: 598.0413 - smape: 91.8107 - coeff_determination: 0.1369\n",
            "Epoch 147/200\n",
            "4/5 [=======================>......] - ETA: 0s - loss: 847929.7500 - rmse: 920.0950 - mae: 617.2717 - smape: 91.6583 - coeff_determination: 0.1139"
          ]
        },
        {
          "output_type": "stream",
          "name": "stderr",
          "text": [
            "WARNING:tensorflow:Early stopping conditioned on metric `val_loss` which is not available. Available metrics are: loss,rmse,mae,smape,coeff_determination\n"
          ]
        },
        {
          "output_type": "stream",
          "name": "stdout",
          "text": [
            "\n",
            "Epoch 147: loss did not improve from 805810.56250\n",
            "5/5 [==============================] - 0s 20ms/step - loss: 841604.6875 - rmse: 907.3835 - mae: 611.9269 - smape: 91.7477 - coeff_determination: 0.1132\n",
            "Epoch 148/200\n",
            "4/5 [=======================>......] - ETA: 0s - loss: 790336.3750 - rmse: 886.4296 - mae: 597.1420 - smape: 91.1989 - coeff_determination: 0.1540"
          ]
        },
        {
          "output_type": "stream",
          "name": "stderr",
          "text": [
            "WARNING:tensorflow:Early stopping conditioned on metric `val_loss` which is not available. Available metrics are: loss,rmse,mae,smape,coeff_determination\n"
          ]
        },
        {
          "output_type": "stream",
          "name": "stdout",
          "text": [
            "\n",
            "Epoch 148: loss did not improve from 805810.56250\n",
            "5/5 [==============================] - 0s 20ms/step - loss: 809949.5000 - rmse: 923.1232 - mae: 603.9200 - smape: 91.3021 - coeff_determination: 0.1140\n",
            "Epoch 149/200\n",
            "4/5 [=======================>......] - ETA: 0s - loss: 837866.3750 - rmse: 914.3138 - mae: 615.5452 - smape: 91.3924 - coeff_determination: 0.1260"
          ]
        },
        {
          "output_type": "stream",
          "name": "stderr",
          "text": [
            "WARNING:tensorflow:Early stopping conditioned on metric `val_loss` which is not available. Available metrics are: loss,rmse,mae,smape,coeff_determination\n"
          ]
        },
        {
          "output_type": "stream",
          "name": "stdout",
          "text": [
            "\n",
            "Epoch 149: loss did not improve from 805810.56250\n",
            "5/5 [==============================] - 0s 19ms/step - loss: 819604.5000 - rmse: 873.9901 - mae: 607.4462 - smape: 91.7248 - coeff_determination: 0.0862\n",
            "Epoch 150/200\n",
            "4/5 [=======================>......] - ETA: 0s - loss: 800014.7500 - rmse: 887.0937 - mae: 592.5651 - smape: 91.5595 - coeff_determination: 0.1310"
          ]
        },
        {
          "output_type": "stream",
          "name": "stderr",
          "text": [
            "WARNING:tensorflow:Early stopping conditioned on metric `val_loss` which is not available. Available metrics are: loss,rmse,mae,smape,coeff_determination\n"
          ]
        },
        {
          "output_type": "stream",
          "name": "stdout",
          "text": [
            "\n",
            "Epoch 150: loss improved from 805810.56250 to 798589.62500, saving model to checkpoint/Transformer.best20032023_08:09:13.hdf5\n",
            "5/5 [==============================] - 0s 63ms/step - loss: 798589.6250 - rmse: 885.6599 - mae: 594.5558 - smape: 91.2717 - coeff_determination: 0.1705\n",
            "Epoch 151/200\n",
            "4/5 [=======================>......] - ETA: 0s - loss: 830064.0000 - rmse: 908.7241 - mae: 606.1611 - smape: 91.3717 - coeff_determination: 0.1230"
          ]
        },
        {
          "output_type": "stream",
          "name": "stderr",
          "text": [
            "WARNING:tensorflow:Early stopping conditioned on metric `val_loss` which is not available. Available metrics are: loss,rmse,mae,smape,coeff_determination\n"
          ]
        },
        {
          "output_type": "stream",
          "name": "stdout",
          "text": [
            "\n",
            "Epoch 151: loss did not improve from 798589.62500\n",
            "5/5 [==============================] - 0s 22ms/step - loss: 819024.0625 - rmse: 885.8011 - mae: 603.9893 - smape: 91.5134 - coeff_determination: 0.1189\n",
            "Epoch 152/200\n",
            "4/5 [=======================>......] - ETA: 0s - loss: 818413.8125 - rmse: 903.6345 - mae: 603.7798 - smape: 91.9874 - coeff_determination: 0.1051"
          ]
        },
        {
          "output_type": "stream",
          "name": "stderr",
          "text": [
            "WARNING:tensorflow:Early stopping conditioned on metric `val_loss` which is not available. Available metrics are: loss,rmse,mae,smape,coeff_determination\n"
          ]
        },
        {
          "output_type": "stream",
          "name": "stdout",
          "text": [
            "\n",
            "Epoch 152: loss did not improve from 798589.62500\n",
            "5/5 [==============================] - 0s 21ms/step - loss: 822133.9375 - rmse: 911.1229 - mae: 605.3918 - smape: 91.5080 - coeff_determination: 0.1498\n",
            "Epoch 153/200\n",
            "4/5 [=======================>......] - ETA: 0s - loss: 778872.8125 - rmse: 880.3167 - mae: 592.9597 - smape: 91.0493 - coeff_determination: 0.1496"
          ]
        },
        {
          "output_type": "stream",
          "name": "stderr",
          "text": [
            "WARNING:tensorflow:Early stopping conditioned on metric `val_loss` which is not available. Available metrics are: loss,rmse,mae,smape,coeff_determination\n"
          ]
        },
        {
          "output_type": "stream",
          "name": "stdout",
          "text": [
            "\n",
            "Epoch 153: loss did not improve from 798589.62500\n",
            "5/5 [==============================] - 0s 22ms/step - loss: 808230.8125 - rmse: 933.1004 - mae: 603.4067 - smape: 91.0544 - coeff_determination: 0.1052\n",
            "Epoch 154/200\n",
            "4/5 [=======================>......] - ETA: 0s - loss: 816334.1250 - rmse: 900.3550 - mae: 607.1357 - smape: 91.3028 - coeff_determination: 0.1359"
          ]
        },
        {
          "output_type": "stream",
          "name": "stderr",
          "text": [
            "WARNING:tensorflow:Early stopping conditioned on metric `val_loss` which is not available. Available metrics are: loss,rmse,mae,smape,coeff_determination\n"
          ]
        },
        {
          "output_type": "stream",
          "name": "stdout",
          "text": [
            "\n",
            "Epoch 154: loss did not improve from 798589.62500\n",
            "5/5 [==============================] - 0s 21ms/step - loss: 822089.3750 - rmse: 912.1499 - mae: 608.7777 - smape: 91.3594 - coeff_determination: 0.1385\n",
            "Epoch 155/200\n",
            "4/5 [=======================>......] - ETA: 0s - loss: 814118.3750 - rmse: 902.2297 - mae: 609.0386 - smape: 90.7392 - coeff_determination: 0.1492"
          ]
        },
        {
          "output_type": "stream",
          "name": "stderr",
          "text": [
            "WARNING:tensorflow:Early stopping conditioned on metric `val_loss` which is not available. Available metrics are: loss,rmse,mae,smape,coeff_determination\n"
          ]
        },
        {
          "output_type": "stream",
          "name": "stdout",
          "text": [
            "\n",
            "Epoch 155: loss did not improve from 798589.62500\n",
            "5/5 [==============================] - 0s 22ms/step - loss: 805174.5000 - rmse: 883.3426 - mae: 603.2578 - smape: 91.0804 - coeff_determination: 0.1215\n",
            "Epoch 156/200\n",
            "4/5 [=======================>......] - ETA: 0s - loss: 757283.5625 - rmse: 869.3899 - mae: 585.3895 - smape: 91.1684 - coeff_determination: 0.1623"
          ]
        },
        {
          "output_type": "stream",
          "name": "stderr",
          "text": [
            "WARNING:tensorflow:Early stopping conditioned on metric `val_loss` which is not available. Available metrics are: loss,rmse,mae,smape,coeff_determination\n"
          ]
        },
        {
          "output_type": "stream",
          "name": "stdout",
          "text": [
            "\n",
            "Epoch 156: loss improved from 798589.62500 to 795609.62500, saving model to checkpoint/Transformer.best20032023_08:09:13.hdf5\n",
            "5/5 [==============================] - 0s 62ms/step - loss: 795609.6250 - rmse: 936.3195 - mae: 597.8285 - smape: 91.1184 - coeff_determination: 0.1327\n",
            "Epoch 157/200\n",
            "4/5 [=======================>......] - ETA: 0s - loss: 773939.9375 - rmse: 878.4974 - mae: 585.2905 - smape: 91.2810 - coeff_determination: 0.1683"
          ]
        },
        {
          "output_type": "stream",
          "name": "stderr",
          "text": [
            "WARNING:tensorflow:Early stopping conditioned on metric `val_loss` which is not available. Available metrics are: loss,rmse,mae,smape,coeff_determination\n"
          ]
        },
        {
          "output_type": "stream",
          "name": "stdout",
          "text": [
            "\n",
            "Epoch 157: loss did not improve from 795609.62500\n",
            "5/5 [==============================] - 0s 26ms/step - loss: 799070.5625 - rmse: 924.4253 - mae: 595.0694 - smape: 91.0382 - coeff_determination: 0.1303\n",
            "Epoch 158/200\n",
            "4/5 [=======================>......] - ETA: 0s - loss: 798259.1875 - rmse: 893.0717 - mae: 596.1981 - smape: 90.8779 - coeff_determination: 0.1434"
          ]
        },
        {
          "output_type": "stream",
          "name": "stderr",
          "text": [
            "WARNING:tensorflow:Early stopping conditioned on metric `val_loss` which is not available. Available metrics are: loss,rmse,mae,smape,coeff_determination\n"
          ]
        },
        {
          "output_type": "stream",
          "name": "stdout",
          "text": [
            "\n",
            "Epoch 158: loss did not improve from 795609.62500\n",
            "5/5 [==============================] - 0s 22ms/step - loss: 803162.4375 - rmse: 902.8021 - mae: 599.9099 - smape: 90.7738 - coeff_determination: 0.1639\n",
            "Epoch 159/200\n",
            "4/5 [=======================>......] - ETA: 0s - loss: 811447.1250 - rmse: 896.8138 - mae: 604.3702 - smape: 90.9353 - coeff_determination: 0.1561  "
          ]
        },
        {
          "output_type": "stream",
          "name": "stderr",
          "text": [
            "WARNING:tensorflow:Early stopping conditioned on metric `val_loss` which is not available. Available metrics are: loss,rmse,mae,smape,coeff_determination\n"
          ]
        },
        {
          "output_type": "stream",
          "name": "stdout",
          "text": [
            "\n",
            "Epoch 159: loss did not improve from 795609.62500\n",
            "5/5 [==============================] - 0s 20ms/step - loss: 797728.5625 - rmse: 867.5975 - mae: 600.0059 - smape: 90.9999 - coeff_determination: 0.1648\n",
            "Epoch 160/200\n",
            "4/5 [=======================>......] - ETA: 0s - loss: 810161.1875 - rmse: 895.8764 - mae: 599.6653 - smape: 90.5746 - coeff_determination: 0.1592"
          ]
        },
        {
          "output_type": "stream",
          "name": "stderr",
          "text": [
            "WARNING:tensorflow:Early stopping conditioned on metric `val_loss` which is not available. Available metrics are: loss,rmse,mae,smape,coeff_determination\n"
          ]
        },
        {
          "output_type": "stream",
          "name": "stdout",
          "text": [
            "\n",
            "Epoch 160: loss did not improve from 795609.62500\n",
            "5/5 [==============================] - 0s 21ms/step - loss: 797614.6250 - rmse: 869.4738 - mae: 595.3471 - smape: 90.9346 - coeff_determination: 0.0654\n",
            "Epoch 161/200\n",
            "4/5 [=======================>......] - ETA: 0s - loss: 800147.0000 - rmse: 888.1575 - mae: 595.3313 - smape: 90.7069 - coeff_determination: 0.1464"
          ]
        },
        {
          "output_type": "stream",
          "name": "stderr",
          "text": [
            "WARNING:tensorflow:Early stopping conditioned on metric `val_loss` which is not available. Available metrics are: loss,rmse,mae,smape,coeff_determination\n"
          ]
        },
        {
          "output_type": "stream",
          "name": "stdout",
          "text": [
            "\n",
            "Epoch 161: loss did not improve from 795609.62500\n",
            "5/5 [==============================] - 0s 21ms/step - loss: 803777.5000 - rmse: 896.6160 - mae: 598.5225 - smape: 90.8326 - coeff_determination: 0.1111\n",
            "Epoch 162/200\n",
            "4/5 [=======================>......] - ETA: 0s - loss: 811814.5000 - rmse: 897.1426 - mae: 598.5415 - smape: 90.7379 - coeff_determination: 0.1615"
          ]
        },
        {
          "output_type": "stream",
          "name": "stderr",
          "text": [
            "WARNING:tensorflow:Early stopping conditioned on metric `val_loss` which is not available. Available metrics are: loss,rmse,mae,smape,coeff_determination\n"
          ]
        },
        {
          "output_type": "stream",
          "name": "stdout",
          "text": [
            "\n",
            "Epoch 162: loss improved from 795609.62500 to 785903.81250, saving model to checkpoint/Transformer.best20032023_08:09:13.hdf5\n",
            "5/5 [==============================] - 0s 59ms/step - loss: 785903.8125 - rmse: 834.9651 - mae: 586.6964 - smape: 90.9887 - coeff_determination: 0.1736\n",
            "Epoch 163/200\n",
            "4/5 [=======================>......] - ETA: 0s - loss: 779857.4375 - rmse: 880.5652 - mae: 589.3140 - smape: 90.7064 - coeff_determination: 0.1780"
          ]
        },
        {
          "output_type": "stream",
          "name": "stderr",
          "text": [
            "WARNING:tensorflow:Early stopping conditioned on metric `val_loss` which is not available. Available metrics are: loss,rmse,mae,smape,coeff_determination\n"
          ]
        },
        {
          "output_type": "stream",
          "name": "stdout",
          "text": [
            "\n",
            "Epoch 163: loss improved from 785903.81250 to 784624.18750, saving model to checkpoint/Transformer.best20032023_08:09:13.hdf5\n",
            "5/5 [==============================] - 0s 62ms/step - loss: 784624.1875 - rmse: 890.5679 - mae: 592.3002 - smape: 90.8623 - coeff_determination: 0.1293\n",
            "Epoch 164/200\n",
            "4/5 [=======================>......] - ETA: 0s - loss: 790727.4375 - rmse: 883.7852 - mae: 598.5331 - smape: 90.6603 - coeff_determination: 0.1136 "
          ]
        },
        {
          "output_type": "stream",
          "name": "stderr",
          "text": [
            "WARNING:tensorflow:Early stopping conditioned on metric `val_loss` which is not available. Available metrics are: loss,rmse,mae,smape,coeff_determination\n"
          ]
        },
        {
          "output_type": "stream",
          "name": "stdout",
          "text": [
            "\n",
            "Epoch 164: loss did not improve from 784624.18750\n",
            "5/5 [==============================] - 0s 22ms/step - loss: 789596.9375 - rmse: 882.5620 - mae: 597.4897 - smape: 90.8800 - coeff_determination: 0.1194\n",
            "Epoch 165/200\n",
            "4/5 [=======================>......] - ETA: 0s - loss: 775932.5625 - rmse: 879.7303 - mae: 583.8778 - smape: 90.9202 - coeff_determination: 0.1673"
          ]
        },
        {
          "output_type": "stream",
          "name": "stderr",
          "text": [
            "WARNING:tensorflow:Early stopping conditioned on metric `val_loss` which is not available. Available metrics are: loss,rmse,mae,smape,coeff_determination\n"
          ]
        },
        {
          "output_type": "stream",
          "name": "stdout",
          "text": [
            "\n",
            "Epoch 165: loss did not improve from 784624.18750\n",
            "5/5 [==============================] - 0s 20ms/step - loss: 793702.9375 - rmse: 913.2584 - mae: 592.4396 - smape: 90.7605 - coeff_determination: 0.1459\n",
            "Epoch 166/200\n",
            "4/5 [=======================>......] - ETA: 0s - loss: 790720.9375 - rmse: 886.4783 - mae: 599.7339 - smape: 90.8191 - coeff_determination: 0.1630"
          ]
        },
        {
          "output_type": "stream",
          "name": "stderr",
          "text": [
            "WARNING:tensorflow:Early stopping conditioned on metric `val_loss` which is not available. Available metrics are: loss,rmse,mae,smape,coeff_determination\n"
          ]
        },
        {
          "output_type": "stream",
          "name": "stdout",
          "text": [
            "\n",
            "Epoch 166: loss did not improve from 784624.18750\n",
            "5/5 [==============================] - 0s 21ms/step - loss: 795944.6250 - rmse: 897.3417 - mae: 600.5289 - smape: 90.8355 - coeff_determination: 0.1430\n",
            "Epoch 167/200\n",
            "4/5 [=======================>......] - ETA: 0s - loss: 806051.9375 - rmse: 894.9344 - mae: 588.2582 - smape: 91.1231 - coeff_determination: 0.1558"
          ]
        },
        {
          "output_type": "stream",
          "name": "stderr",
          "text": [
            "WARNING:tensorflow:Early stopping conditioned on metric `val_loss` which is not available. Available metrics are: loss,rmse,mae,smape,coeff_determination\n"
          ]
        },
        {
          "output_type": "stream",
          "name": "stdout",
          "text": [
            "\n",
            "Epoch 167: loss did not improve from 784624.18750\n",
            "5/5 [==============================] - 0s 21ms/step - loss: 794841.3125 - rmse: 871.3198 - mae: 586.6881 - smape: 91.0221 - coeff_determination: 0.1602\n",
            "Epoch 168/200\n",
            "4/5 [=======================>......] - ETA: 0s - loss: 809795.0000 - rmse: 896.5375 - mae: 599.3243 - smape: 90.7512 - coeff_determination: 0.1605  "
          ]
        },
        {
          "output_type": "stream",
          "name": "stderr",
          "text": [
            "WARNING:tensorflow:Early stopping conditioned on metric `val_loss` which is not available. Available metrics are: loss,rmse,mae,smape,coeff_determination\n"
          ]
        },
        {
          "output_type": "stream",
          "name": "stdout",
          "text": [
            "\n",
            "Epoch 168: loss did not improve from 784624.18750\n",
            "5/5 [==============================] - 0s 21ms/step - loss: 795885.1250 - rmse: 866.6943 - mae: 591.9238 - smape: 90.9569 - coeff_determination: 0.1455\n",
            "Epoch 169/200\n",
            "4/5 [=======================>......] - ETA: 0s - loss: 812598.4375 - rmse: 899.3374 - mae: 591.8095 - smape: 90.4449 - coeff_determination: 0.1710"
          ]
        },
        {
          "output_type": "stream",
          "name": "stderr",
          "text": [
            "WARNING:tensorflow:Early stopping conditioned on metric `val_loss` which is not available. Available metrics are: loss,rmse,mae,smape,coeff_determination\n"
          ]
        },
        {
          "output_type": "stream",
          "name": "stdout",
          "text": [
            "\n",
            "Epoch 169: loss did not improve from 784624.18750\n",
            "5/5 [==============================] - 0s 21ms/step - loss: 793274.8125 - rmse: 855.6294 - mae: 584.0959 - smape: 90.9205 - coeff_determination: -0.0306\n",
            "Epoch 170/200\n",
            "4/5 [=======================>......] - ETA: 0s - loss: 801330.6250 - rmse: 892.5049 - mae: 595.4084 - smape: 90.4704 - coeff_determination: 0.1567"
          ]
        },
        {
          "output_type": "stream",
          "name": "stderr",
          "text": [
            "WARNING:tensorflow:Early stopping conditioned on metric `val_loss` which is not available. Available metrics are: loss,rmse,mae,smape,coeff_determination\n"
          ]
        },
        {
          "output_type": "stream",
          "name": "stdout",
          "text": [
            "\n",
            "Epoch 170: loss improved from 784624.18750 to 783508.87500, saving model to checkpoint/Transformer.best20032023_08:09:13.hdf5\n",
            "5/5 [==============================] - 0s 63ms/step - loss: 783508.8750 - rmse: 852.4743 - mae: 586.4271 - smape: 90.6589 - coeff_determination: 0.1693\n",
            "Epoch 171/200\n",
            "4/5 [=======================>......] - ETA: 0s - loss: 761674.5000 - rmse: 871.6587 - mae: 579.6503 - smape: 90.7731 - coeff_determination: 0.1687"
          ]
        },
        {
          "output_type": "stream",
          "name": "stderr",
          "text": [
            "WARNING:tensorflow:Early stopping conditioned on metric `val_loss` which is not available. Available metrics are: loss,rmse,mae,smape,coeff_determination\n"
          ]
        },
        {
          "output_type": "stream",
          "name": "stdout",
          "text": [
            "\n",
            "Epoch 171: loss did not improve from 783508.87500\n",
            "5/5 [==============================] - 0s 22ms/step - loss: 801277.7500 - rmse: 940.4050 - mae: 595.6978 - smape: 90.7698 - coeff_determination: 0.1093\n",
            "Epoch 172/200\n",
            "4/5 [=======================>......] - ETA: 0s - loss: 799836.3750 - rmse: 891.3279 - mae: 590.7075 - smape: 90.8051 - coeff_determination: 0.1267"
          ]
        },
        {
          "output_type": "stream",
          "name": "stderr",
          "text": [
            "WARNING:tensorflow:Early stopping conditioned on metric `val_loss` which is not available. Available metrics are: loss,rmse,mae,smape,coeff_determination\n"
          ]
        },
        {
          "output_type": "stream",
          "name": "stdout",
          "text": [
            "\n",
            "Epoch 172: loss did not improve from 783508.87500\n",
            "5/5 [==============================] - 0s 22ms/step - loss: 808483.8125 - rmse: 908.6198 - mae: 594.8018 - smape: 90.9176 - coeff_determination: 0.1282\n",
            "Epoch 173/200\n",
            "4/5 [=======================>......] - ETA: 0s - loss: 818047.1250 - rmse: 897.2919 - mae: 595.1715 - smape: 91.1887 - coeff_determination: 0.1438"
          ]
        },
        {
          "output_type": "stream",
          "name": "stderr",
          "text": [
            "WARNING:tensorflow:Early stopping conditioned on metric `val_loss` which is not available. Available metrics are: loss,rmse,mae,smape,coeff_determination\n"
          ]
        },
        {
          "output_type": "stream",
          "name": "stdout",
          "text": [
            "\n",
            "Epoch 173: loss did not improve from 783508.87500\n",
            "5/5 [==============================] - 0s 21ms/step - loss: 811088.6250 - rmse: 884.2463 - mae: 594.2920 - smape: 91.0260 - coeff_determination: 0.1596\n",
            "Epoch 174/200\n",
            "4/5 [=======================>......] - ETA: 0s - loss: 803591.2500 - rmse: 892.4679 - mae: 590.4857 - smape: 90.7851 - coeff_determination: 0.1502"
          ]
        },
        {
          "output_type": "stream",
          "name": "stderr",
          "text": [
            "WARNING:tensorflow:Early stopping conditioned on metric `val_loss` which is not available. Available metrics are: loss,rmse,mae,smape,coeff_determination\n"
          ]
        },
        {
          "output_type": "stream",
          "name": "stdout",
          "text": [
            "\n",
            "Epoch 174: loss did not improve from 783508.87500\n",
            "5/5 [==============================] - 0s 24ms/step - loss: 790991.2500 - rmse: 865.7572 - mae: 586.9814 - smape: 91.0003 - coeff_determination: 0.1288\n",
            "Epoch 175/200\n",
            "4/5 [=======================>......] - ETA: 0s - loss: 791599.8750 - rmse: 887.6816 - mae: 581.8621 - smape: 90.9737 - coeff_determination: 0.1525"
          ]
        },
        {
          "output_type": "stream",
          "name": "stderr",
          "text": [
            "WARNING:tensorflow:Early stopping conditioned on metric `val_loss` which is not available. Available metrics are: loss,rmse,mae,smape,coeff_determination\n"
          ]
        },
        {
          "output_type": "stream",
          "name": "stdout",
          "text": [
            "\n",
            "Epoch 175: loss did not improve from 783508.87500\n",
            "5/5 [==============================] - 0s 21ms/step - loss: 795135.8750 - rmse: 895.1301 - mae: 583.8657 - smape: 90.9297 - coeff_determination: 0.1519\n",
            "Epoch 176/200\n",
            "4/5 [=======================>......] - ETA: 0s - loss: 812885.1875 - rmse: 900.0632 - mae: 592.8064 - smape: 91.5131 - coeff_determination: 0.1293"
          ]
        },
        {
          "output_type": "stream",
          "name": "stderr",
          "text": [
            "WARNING:tensorflow:Early stopping conditioned on metric `val_loss` which is not available. Available metrics are: loss,rmse,mae,smape,coeff_determination\n"
          ]
        },
        {
          "output_type": "stream",
          "name": "stdout",
          "text": [
            "\n",
            "Epoch 176: loss did not improve from 783508.87500\n",
            "5/5 [==============================] - 0s 21ms/step - loss: 820415.3125 - rmse: 914.8765 - mae: 599.3282 - smape: 91.2848 - coeff_determination: 0.0992\n",
            "Epoch 177/200\n",
            "4/5 [=======================>......] - ETA: 0s - loss: 818104.0000 - rmse: 898.5136 - mae: 591.2734 - smape: 91.6467 - coeff_determination: 0.1333"
          ]
        },
        {
          "output_type": "stream",
          "name": "stderr",
          "text": [
            "WARNING:tensorflow:Early stopping conditioned on metric `val_loss` which is not available. Available metrics are: loss,rmse,mae,smape,coeff_determination\n"
          ]
        },
        {
          "output_type": "stream",
          "name": "stdout",
          "text": [
            "\n",
            "Epoch 177: loss did not improve from 783508.87500\n",
            "5/5 [==============================] - 0s 20ms/step - loss: 819362.5625 - rmse: 902.2057 - mae: 591.5226 - smape: 91.2108 - coeff_determination: 0.1446\n",
            "Epoch 178/200\n",
            "4/5 [=======================>......] - ETA: 0s - loss: 826395.8750 - rmse: 908.0447 - mae: 594.9841 - smape: 91.0341 - coeff_determination: 0.1457"
          ]
        },
        {
          "output_type": "stream",
          "name": "stderr",
          "text": [
            "WARNING:tensorflow:Early stopping conditioned on metric `val_loss` which is not available. Available metrics are: loss,rmse,mae,smape,coeff_determination\n"
          ]
        },
        {
          "output_type": "stream",
          "name": "stdout",
          "text": [
            "\n",
            "Epoch 178: loss did not improve from 783508.87500\n",
            "5/5 [==============================] - 0s 22ms/step - loss: 804367.9375 - rmse: 857.3441 - mae: 588.6026 - smape: 91.1663 - coeff_determination: 0.0953\n",
            "Epoch 179/200\n",
            "4/5 [=======================>......] - ETA: 0s - loss: 817641.7500 - rmse: 904.0197 - mae: 592.6920 - smape: 91.2211 - coeff_determination: 0.1469"
          ]
        },
        {
          "output_type": "stream",
          "name": "stderr",
          "text": [
            "WARNING:tensorflow:Early stopping conditioned on metric `val_loss` which is not available. Available metrics are: loss,rmse,mae,smape,coeff_determination\n"
          ]
        },
        {
          "output_type": "stream",
          "name": "stdout",
          "text": [
            "\n",
            "Epoch 179: loss did not improve from 783508.87500\n",
            "5/5 [==============================] - 0s 22ms/step - loss: 797567.1875 - rmse: 858.1173 - mae: 585.1123 - smape: 91.1951 - coeff_determination: 0.1922\n",
            "Epoch 180/200\n",
            "4/5 [=======================>......] - ETA: 0s - loss: 799600.3750 - rmse: 893.0943 - mae: 587.8375 - smape: 91.3224 - coeff_determination: 0.1408"
          ]
        },
        {
          "output_type": "stream",
          "name": "stderr",
          "text": [
            "WARNING:tensorflow:Early stopping conditioned on metric `val_loss` which is not available. Available metrics are: loss,rmse,mae,smape,coeff_determination\n"
          ]
        },
        {
          "output_type": "stream",
          "name": "stdout",
          "text": [
            "\n",
            "Epoch 180: loss did not improve from 783508.87500\n",
            "5/5 [==============================] - 0s 21ms/step - loss: 806339.3750 - rmse: 906.4495 - mae: 590.0837 - smape: 91.1443 - coeff_determination: 0.1652\n",
            "Epoch 181/200\n",
            "4/5 [=======================>......] - ETA: 0s - loss: 818702.2500 - rmse: 902.0844 - mae: 596.1081 - smape: 90.7657 - coeff_determination: 0.1506"
          ]
        },
        {
          "output_type": "stream",
          "name": "stderr",
          "text": [
            "WARNING:tensorflow:Early stopping conditioned on metric `val_loss` which is not available. Available metrics are: loss,rmse,mae,smape,coeff_determination\n"
          ]
        },
        {
          "output_type": "stream",
          "name": "stdout",
          "text": [
            "\n",
            "Epoch 181: loss did not improve from 783508.87500\n",
            "5/5 [==============================] - 0s 20ms/step - loss: 798159.6875 - rmse: 855.4684 - mae: 588.5738 - smape: 90.9269 - coeff_determination: 0.1189\n",
            "Epoch 182/200\n",
            "4/5 [=======================>......] - ETA: 0s - loss: 808862.2500 - rmse: 889.0775 - mae: 594.2694 - smape: 90.7000 - coeff_determination: 0.1478"
          ]
        },
        {
          "output_type": "stream",
          "name": "stderr",
          "text": [
            "WARNING:tensorflow:Early stopping conditioned on metric `val_loss` which is not available. Available metrics are: loss,rmse,mae,smape,coeff_determination\n"
          ]
        },
        {
          "output_type": "stream",
          "name": "stdout",
          "text": [
            "\n",
            "Epoch 182: loss did not improve from 783508.87500\n",
            "5/5 [==============================] - 0s 21ms/step - loss: 802783.3750 - rmse: 878.4788 - mae: 587.3175 - smape: 91.1062 - coeff_determination: 0.1190\n",
            "Epoch 183/200\n",
            "4/5 [=======================>......] - ETA: 0s - loss: 788032.1875 - rmse: 882.7153 - mae: 585.4259 - smape: 91.0593 - coeff_determination: 0.1625"
          ]
        },
        {
          "output_type": "stream",
          "name": "stderr",
          "text": [
            "WARNING:tensorflow:Early stopping conditioned on metric `val_loss` which is not available. Available metrics are: loss,rmse,mae,smape,coeff_determination\n"
          ]
        },
        {
          "output_type": "stream",
          "name": "stdout",
          "text": [
            "\n",
            "Epoch 183: loss did not improve from 783508.87500\n",
            "5/5 [==============================] - 0s 21ms/step - loss: 810794.4375 - rmse: 925.1946 - mae: 592.0710 - smape: 91.1447 - coeff_determination: 0.0980\n",
            "Epoch 184/200\n",
            "4/5 [=======================>......] - ETA: 0s - loss: 806361.8125 - rmse: 896.8762 - mae: 583.9777 - smape: 91.0142 - coeff_determination: 0.1665"
          ]
        },
        {
          "output_type": "stream",
          "name": "stderr",
          "text": [
            "WARNING:tensorflow:Early stopping conditioned on metric `val_loss` which is not available. Available metrics are: loss,rmse,mae,smape,coeff_determination\n"
          ]
        },
        {
          "output_type": "stream",
          "name": "stdout",
          "text": [
            "\n",
            "Epoch 184: loss did not improve from 783508.87500\n",
            "5/5 [==============================] - 0s 23ms/step - loss: 815897.3125 - rmse: 915.3530 - mae: 592.6390 - smape: 91.1516 - coeff_determination: 0.0199\n",
            "Epoch 185/200\n",
            "4/5 [=======================>......] - ETA: 0s - loss: 806168.5000 - rmse: 892.4962 - mae: 586.6304 - smape: 90.7624 - coeff_determination: 0.1539  "
          ]
        },
        {
          "output_type": "stream",
          "name": "stderr",
          "text": [
            "WARNING:tensorflow:Early stopping conditioned on metric `val_loss` which is not available. Available metrics are: loss,rmse,mae,smape,coeff_determination\n"
          ]
        },
        {
          "output_type": "stream",
          "name": "stdout",
          "text": [
            "\n",
            "Epoch 185: loss did not improve from 783508.87500\n",
            "5/5 [==============================] - 0s 22ms/step - loss: 789416.0000 - rmse: 855.9135 - mae: 579.8806 - smape: 91.0713 - coeff_determination: 0.1133\n",
            "Epoch 186/200\n",
            "4/5 [=======================>......] - ETA: 0s - loss: 799585.2500 - rmse: 891.9655 - mae: 588.1247 - smape: 91.5711 - coeff_determination: 0.1518"
          ]
        },
        {
          "output_type": "stream",
          "name": "stderr",
          "text": [
            "WARNING:tensorflow:Early stopping conditioned on metric `val_loss` which is not available. Available metrics are: loss,rmse,mae,smape,coeff_determination\n"
          ]
        },
        {
          "output_type": "stream",
          "name": "stdout",
          "text": [
            "\n",
            "Epoch 186: loss did not improve from 783508.87500\n",
            "5/5 [==============================] - 0s 23ms/step - loss: 791827.3750 - rmse: 875.9825 - mae: 588.3019 - smape: 91.1026 - coeff_determination: 0.1898\n",
            "Epoch 187/200\n",
            "4/5 [=======================>......] - ETA: 0s - loss: 790844.0000 - rmse: 885.5529 - mae: 582.6396 - smape: 91.1404 - coeff_determination: 0.1522"
          ]
        },
        {
          "output_type": "stream",
          "name": "stderr",
          "text": [
            "WARNING:tensorflow:Early stopping conditioned on metric `val_loss` which is not available. Available metrics are: loss,rmse,mae,smape,coeff_determination\n"
          ]
        },
        {
          "output_type": "stream",
          "name": "stdout",
          "text": [
            "\n",
            "Epoch 187: loss did not improve from 783508.87500\n",
            "5/5 [==============================] - 0s 24ms/step - loss: 792748.7500 - rmse: 890.1296 - mae: 586.6720 - smape: 90.8590 - coeff_determination: 0.1845\n",
            "Epoch 188/200\n",
            "4/5 [=======================>......] - ETA: 0s - loss: 807920.0000 - rmse: 897.5781 - mae: 580.3868 - smape: 90.6651 - coeff_determination: 0.1756"
          ]
        },
        {
          "output_type": "stream",
          "name": "stderr",
          "text": [
            "WARNING:tensorflow:Early stopping conditioned on metric `val_loss` which is not available. Available metrics are: loss,rmse,mae,smape,coeff_determination\n"
          ]
        },
        {
          "output_type": "stream",
          "name": "stdout",
          "text": [
            "\n",
            "Epoch 188: loss did not improve from 783508.87500\n",
            "5/5 [==============================] - 0s 21ms/step - loss: 792364.8125 - rmse: 863.2368 - mae: 577.2438 - smape: 91.0420 - coeff_determination: 0.0024\n",
            "Epoch 189/200\n",
            "4/5 [=======================>......] - ETA: 0s - loss: 824442.1875 - rmse: 906.1816 - mae: 591.2567 - smape: 91.7065 - coeff_determination: 0.1318 "
          ]
        },
        {
          "output_type": "stream",
          "name": "stderr",
          "text": [
            "WARNING:tensorflow:Early stopping conditioned on metric `val_loss` which is not available. Available metrics are: loss,rmse,mae,smape,coeff_determination\n"
          ]
        },
        {
          "output_type": "stream",
          "name": "stdout",
          "text": [
            "\n",
            "Epoch 189: loss did not improve from 783508.87500\n",
            "5/5 [==============================] - 0s 21ms/step - loss: 815051.1875 - rmse: 886.7819 - mae: 590.2883 - smape: 91.3980 - coeff_determination: 0.1541\n",
            "Epoch 190/200\n",
            "4/5 [=======================>......] - ETA: 0s - loss: 833881.1250 - rmse: 911.6678 - mae: 598.8975 - smape: 91.1510 - coeff_determination: 0.1451"
          ]
        },
        {
          "output_type": "stream",
          "name": "stderr",
          "text": [
            "WARNING:tensorflow:Early stopping conditioned on metric `val_loss` which is not available. Available metrics are: loss,rmse,mae,smape,coeff_determination\n"
          ]
        },
        {
          "output_type": "stream",
          "name": "stdout",
          "text": [
            "\n",
            "Epoch 190: loss did not improve from 783508.87500\n",
            "5/5 [==============================] - 0s 22ms/step - loss: 807218.0625 - rmse: 848.0219 - mae: 588.8547 - smape: 91.2237 - coeff_determination: 0.1666\n",
            "Epoch 191/200\n",
            "4/5 [=======================>......] - ETA: 0s - loss: 809763.0000 - rmse: 899.3503 - mae: 586.3300 - smape: 91.3552 - coeff_determination: 0.1455"
          ]
        },
        {
          "output_type": "stream",
          "name": "stderr",
          "text": [
            "WARNING:tensorflow:Early stopping conditioned on metric `val_loss` which is not available. Available metrics are: loss,rmse,mae,smape,coeff_determination\n"
          ]
        },
        {
          "output_type": "stream",
          "name": "stdout",
          "text": [
            "\n",
            "Epoch 191: loss did not improve from 783508.87500\n",
            "5/5 [==============================] - 0s 21ms/step - loss: 808817.0000 - rmse: 897.5446 - mae: 585.8607 - smape: 91.4345 - coeff_determination: 0.1288\n",
            "Epoch 192/200\n",
            "4/5 [=======================>......] - ETA: 0s - loss: 789292.5625 - rmse: 887.5136 - mae: 575.5189 - smape: 91.7062 - coeff_determination: 0.1322"
          ]
        },
        {
          "output_type": "stream",
          "name": "stderr",
          "text": [
            "WARNING:tensorflow:Early stopping conditioned on metric `val_loss` which is not available. Available metrics are: loss,rmse,mae,smape,coeff_determination\n"
          ]
        },
        {
          "output_type": "stream",
          "name": "stdout",
          "text": [
            "\n",
            "Epoch 192: loss did not improve from 783508.87500\n",
            "5/5 [==============================] - 0s 22ms/step - loss: 801857.4375 - rmse: 911.6341 - mae: 584.3482 - smape: 91.1215 - coeff_determination: 0.1570\n",
            "Epoch 193/200\n",
            "4/5 [=======================>......] - ETA: 0s - loss: 829665.0000 - rmse: 904.1194 - mae: 595.8210 - smape: 91.2344 - coeff_determination: 0.1412"
          ]
        },
        {
          "output_type": "stream",
          "name": "stderr",
          "text": [
            "WARNING:tensorflow:Early stopping conditioned on metric `val_loss` which is not available. Available metrics are: loss,rmse,mae,smape,coeff_determination\n"
          ]
        },
        {
          "output_type": "stream",
          "name": "stdout",
          "text": [
            "\n",
            "Epoch 193: loss did not improve from 783508.87500\n",
            "5/5 [==============================] - 0s 22ms/step - loss: 815862.0000 - rmse: 875.6491 - mae: 589.4003 - smape: 91.3997 - coeff_determination: 0.1477\n",
            "Epoch 194/200\n",
            "4/5 [=======================>......] - ETA: 0s - loss: 838207.1250 - rmse: 913.0126 - mae: 594.0159 - smape: 91.1579 - coeff_determination: 0.1088"
          ]
        },
        {
          "output_type": "stream",
          "name": "stderr",
          "text": [
            "WARNING:tensorflow:Early stopping conditioned on metric `val_loss` which is not available. Available metrics are: loss,rmse,mae,smape,coeff_determination\n"
          ]
        },
        {
          "output_type": "stream",
          "name": "stdout",
          "text": [
            "\n",
            "Epoch 194: loss did not improve from 783508.87500\n",
            "5/5 [==============================] - 0s 21ms/step - loss: 829728.4375 - rmse: 895.9426 - mae: 592.2155 - smape: 91.2603 - coeff_determination: 0.0969\n",
            "Epoch 195/200\n",
            "4/5 [=======================>......] - ETA: 0s - loss: 839736.0000 - rmse: 910.0678 - mae: 601.8773 - smape: 90.6679 - coeff_determination: 0.1337  "
          ]
        },
        {
          "output_type": "stream",
          "name": "stderr",
          "text": [
            "WARNING:tensorflow:Early stopping conditioned on metric `val_loss` which is not available. Available metrics are: loss,rmse,mae,smape,coeff_determination\n"
          ]
        },
        {
          "output_type": "stream",
          "name": "stdout",
          "text": [
            "\n",
            "Epoch 195: loss did not improve from 783508.87500\n",
            "5/5 [==============================] - 0s 20ms/step - loss: 815959.0625 - rmse: 856.1428 - mae: 591.1750 - smape: 91.0637 - coeff_determination: 0.1088\n",
            "Epoch 196/200\n",
            "4/5 [=======================>......] - ETA: 0s - loss: 797892.1250 - rmse: 892.0780 - mae: 587.8369 - smape: 90.5378 - coeff_determination: 0.1685"
          ]
        },
        {
          "output_type": "stream",
          "name": "stderr",
          "text": [
            "WARNING:tensorflow:Early stopping conditioned on metric `val_loss` which is not available. Available metrics are: loss,rmse,mae,smape,coeff_determination\n"
          ]
        },
        {
          "output_type": "stream",
          "name": "stdout",
          "text": [
            "\n",
            "Epoch 196: loss did not improve from 783508.87500\n",
            "5/5 [==============================] - 0s 23ms/step - loss: 784513.9375 - rmse: 862.8192 - mae: 581.3567 - smape: 90.8593 - coeff_determination: 0.1330\n",
            "Epoch 197/200\n",
            "4/5 [=======================>......] - ETA: 0s - loss: 812298.8125 - rmse: 894.3309 - mae: 593.6631 - smape: 90.7915 - coeff_determination: 0.1408"
          ]
        },
        {
          "output_type": "stream",
          "name": "stderr",
          "text": [
            "WARNING:tensorflow:Early stopping conditioned on metric `val_loss` which is not available. Available metrics are: loss,rmse,mae,smape,coeff_determination\n"
          ]
        },
        {
          "output_type": "stream",
          "name": "stdout",
          "text": [
            "\n",
            "Epoch 197: loss did not improve from 783508.87500\n",
            "5/5 [==============================] - 0s 22ms/step - loss: 798121.6875 - rmse: 864.6178 - mae: 587.9443 - smape: 90.8559 - coeff_determination: 0.1594\n",
            "Epoch 198/200\n",
            "4/5 [=======================>......] - ETA: 0s - loss: 767500.4375 - rmse: 875.3344 - mae: 576.6671 - smape: 90.8154 - coeff_determination: 0.1642"
          ]
        },
        {
          "output_type": "stream",
          "name": "stderr",
          "text": [
            "WARNING:tensorflow:Early stopping conditioned on metric `val_loss` which is not available. Available metrics are: loss,rmse,mae,smape,coeff_determination\n"
          ]
        },
        {
          "output_type": "stream",
          "name": "stdout",
          "text": [
            "\n",
            "Epoch 198: loss did not improve from 783508.87500\n",
            "5/5 [==============================] - 0s 21ms/step - loss: 792832.8125 - rmse: 921.6425 - mae: 586.0428 - smape: 90.7710 - coeff_determination: 0.1456\n",
            "Epoch 199/200\n",
            "4/5 [=======================>......] - ETA: 0s - loss: 773409.8125 - rmse: 875.9854 - mae: 572.1400 - smape: 91.3279 - coeff_determination: 0.1326"
          ]
        },
        {
          "output_type": "stream",
          "name": "stderr",
          "text": [
            "WARNING:tensorflow:Early stopping conditioned on metric `val_loss` which is not available. Available metrics are: loss,rmse,mae,smape,coeff_determination\n"
          ]
        },
        {
          "output_type": "stream",
          "name": "stdout",
          "text": [
            "\n",
            "Epoch 199: loss did not improve from 783508.87500\n",
            "5/5 [==============================] - 0s 20ms/step - loss: 806126.7500 - rmse: 934.4115 - mae: 587.5839 - smape: 90.7065 - coeff_determination: 0.1221\n",
            "Epoch 200/200\n",
            "4/5 [=======================>......] - ETA: 0s - loss: 782716.5000 - rmse: 883.3501 - mae: 583.4291 - smape: 90.8099 - coeff_determination: 0.1579"
          ]
        },
        {
          "output_type": "stream",
          "name": "stderr",
          "text": [
            "WARNING:tensorflow:Early stopping conditioned on metric `val_loss` which is not available. Available metrics are: loss,rmse,mae,smape,coeff_determination\n"
          ]
        },
        {
          "output_type": "stream",
          "name": "stdout",
          "text": [
            "\n",
            "Epoch 200: loss did not improve from 783508.87500\n",
            "5/5 [==============================] - 0s 22ms/step - loss: 790637.0625 - rmse: 899.1185 - mae: 585.0224 - smape: 90.5396 - coeff_determination: 0.1663\n",
            "3/3 [==============================] - 1s 13ms/step\n",
            "3/3 [==============================] - 1s 11ms/step - loss: 454534.6250 - rmse: 622.9648 - mae: 431.4471 - smape: 98.5603 - coeff_determination: -0.0405\n",
            "Result \n",
            " RMSE = 622.96 [kWh] \n",
            " MAE = 431.45 [kWh]\n",
            " R2 = -4.2 [%]\n"
          ]
        }
      ]
    }
  ],
  "metadata": {
    "colab": {
      "provenance": [],
      "collapsed_sections": [
        "SVoLINF2A91-"
      ]
    },
    "gpuClass": "standard",
    "kernelspec": {
      "display_name": "Python 3",
      "language": "python",
      "name": "python3"
    },
    "language_info": {
      "codemirror_mode": {
        "name": "ipython",
        "version": 3
      },
      "file_extension": ".py",
      "mimetype": "text/x-python",
      "name": "python",
      "nbconvert_exporter": "python",
      "pygments_lexer": "ipython3",
      "version": "3.8.8"
    },
    "accelerator": "GPU"
  },
  "nbformat": 4,
  "nbformat_minor": 5
}