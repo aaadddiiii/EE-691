{
 "cells": [
  {
   "cell_type": "code",
   "execution_count": null,
   "id": "c9f21f22-f4f0-4f28-9ecf-a759ca7c7fce",
   "metadata": {},
   "outputs": [],
   "source": []
  },
  {
   "cell_type": "code",
   "execution_count": 1,
   "id": "112218aa-3bc8-4d8b-a00b-91bfc44caa8d",
   "metadata": {},
   "outputs": [
    {
     "name": "stdout",
     "output_type": "stream",
     "text": [
      "Impulse response (Analysis DT filt.):\n",
      " [0.48296291314453416, 0.8365163037378079, 0.2241438680420134, -0.12940952255126037]\n",
      " [-0.12940952255126037, -0.2241438680420134, 0.8365163037378079, -0.48296291314453416],\n",
      "\n",
      "Impulse response (Synthesis DT filt.):\n",
      " [-0.12940952255126037, 0.2241438680420134, 0.8365163037378079, 0.48296291314453416]\n",
      " [-0.48296291314453416, 0.8365163037378079, -0.2241438680420134, -0.12940952255126037],\n",
      "\n"
     ]
    },
    {
     "data": {
      "text/plain": [
       "'\\n    from get_dwt_filters_g_h import get_filters_g_h\\n    h0_old, h1_old = get_filters_g_h(mother_wavelet)\\n    print(h0n == h0_old)\\n    print(h1n == h1_old)\\n'"
      ]
     },
     "execution_count": 1,
     "metadata": {},
     "output_type": "execute_result"
    }
   ],
   "source": [
    "import pywt\n",
    "class ImpulseRespones2BPRFB:\n",
    "    \"\"\"Get h, g, h_rec, g_rec wavelet filters from pywt --reverse order\n",
    "        [!!] ORTHOGONAL wavelets only\n",
    "    --@k\n",
    "    \"\"\"\n",
    "\n",
    "    def __init__(self, mother_wavelet: str):\n",
    "        # DWT Filter characteristics\n",
    "        # mother_wavelet = 'coif1'  # <<----\n",
    "        #import pywt\n",
    "        w = pywt.Wavelet(mother_wavelet)\n",
    "        type(w)\n",
    "        # self.h0n , self.h1n, self.g0n, self.g1n\n",
    "        # = pass\n",
    "        # , pass, pass, pass\n",
    "        [self.h0n, self.h1n, self.g0n, self.g1n] = w.filter_bank\n",
    "        [self.h0n[::-1], self.h1n[::-1], self.g0n[::-1], self.g1n[::-1]] = [self.h0n, self.h1n, self.g0n, self.g1n]\n",
    "        # h0n = np.array(h0n)[::-1]\n",
    "        # h1n = np.array(h1n)[::-1]\n",
    "\n",
    "    def analysis(self):\n",
    "        \"\"\"Return Analysis filters\"\"\"\n",
    "        print(f'Impulse response (Analysis DT filt.):\\n {self.h0n}\\n {self.h1n},\\n')\n",
    "        return self.h0n, self.h1n\n",
    "\n",
    "    def synthesis(self):\n",
    "        \"\"\"Return Synthesis filters\"\"\"\n",
    "        print(f'Impulse response (Synthesis DT filt.):\\n {self.g0n}\\n {self.g1n},\\n')\n",
    "        return self.g0n, self.g1n\n",
    "\n",
    "\"\"\"\n",
    "if __name__ == '__main__':\n",
    "    import pywt\n",
    "    mother_wavelet = 'db2'\n",
    "    w = ImpulseRespones2BPRFB(mother_wavelet)\n",
    "    h0n, h1n = w.analysis()\n",
    "    g0n, g1n = w.synthesis()\n",
    "\n",
    "    from get_dwt_filters_g_h import get_filters_g_h\n",
    "    h0_old, h1_old = get_filters_g_h(mother_wavelet)\n",
    "    print(h0n == h0_old)\n",
    "    print(h1n == h1_old)\n",
    "\"\"\""
   ]
  },
  {
   "cell_type": "code",
   "execution_count": null,
   "id": "93a6696f-bf78-462f-92c6-aeabc5affce2",
   "metadata": {},
   "outputs": [],
   "source": []
  }
 ],
 "metadata": {
  "kernelspec": {
   "display_name": "wmml",
   "language": "python",
   "name": "wmml"
  },
  "language_info": {
   "codemirror_mode": {
    "name": "ipython",
    "version": 3
   },
   "file_extension": ".py",
   "mimetype": "text/x-python",
   "name": "python",
   "nbconvert_exporter": "python",
   "pygments_lexer": "ipython3",
   "version": "3.8.12"
  }
 },
 "nbformat": 4,
 "nbformat_minor": 5
}
