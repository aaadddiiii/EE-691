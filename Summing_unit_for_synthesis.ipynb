{
 "cells": [
  {
   "cell_type": "markdown",
   "id": "d8dc2a81-cd71-40da-91e1-ce0604c69d0d",
   "metadata": {},
   "source": [
    "# $\\sum$ for synthesis side of 2BPRFB\n",
    "- Add \n",
    "- Removes padding\n",
    "\n",
    "---\n",
    "Kishore Kr. Tarafdar, --@k 25/09/2022\n",
    "\n",
    "<br />\n",
    "<br />"
   ]
  },
  {
   "cell_type": "code",
   "execution_count": 2,
   "id": "c5d7afff-6e05-4e96-ba7b-a6cbf5ad454d",
   "metadata": {},
   "outputs": [
    {
     "name": "stderr",
     "output_type": "stream",
     "text": [
      "2022-09-26 08:11:03.421344: W tensorflow/stream_executor/platform/default/dso_loader.cc:64] Could not load dynamic library 'libcudart.so.11.0'; dlerror: libcudart.so.11.0: cannot open shared object file: No such file or directory\n",
      "2022-09-26 08:11:03.421381: I tensorflow/stream_executor/cuda/cudart_stub.cc:29] Ignore above cudart dlerror if you do not have a GPU set up on your machine.\n"
     ]
    }
   ],
   "source": [
    "import tensorflow as tf\n",
    "import tensorflow.keras as keras\n",
    "import keras.layers as layers\n",
    "from keras.layers import Lambda"
   ]
  },
  {
   "cell_type": "code",
   "execution_count": 3,
   "id": "2067dc05-0cee-4943-8e63-e4a8ce888b3f",
   "metadata": {
    "tags": []
   },
   "outputs": [],
   "source": [
    "class Add1D(keras.layers.Layer):\n",
    "    \"\"\"Add subbands and removes padding --@k\"\"\"\n",
    "    def __init__(self, hn:list): \n",
    "        super(Add1D, self).__init__() \n",
    "        self.filt_len = len(hn)\n",
    "       \n",
    "    def call(self, inputs):\n",
    "        # Add\n",
    "        x = tf.keras.layers.Add()(inputs)\n",
    "        \n",
    "        # REMOVE PADDING\n",
    "        a = self.filt_len-1\n",
    "        x = Lambda(lambda x: x[:,a-1:-a,:])(x) \n",
    "        return x"
   ]
  }
 ],
 "metadata": {
  "kernelspec": {
   "display_name": "wmml",
   "language": "python",
   "name": "wmml"
  },
  "language_info": {
   "codemirror_mode": {
    "name": "ipython",
    "version": 3
   },
   "file_extension": ".py",
   "mimetype": "text/x-python",
   "name": "python",
   "nbconvert_exporter": "python",
   "pygments_lexer": "ipython3",
   "version": "3.8.12"
  }
 },
 "nbformat": 4,
 "nbformat_minor": 5
}
