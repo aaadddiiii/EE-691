{
 "cells": [
  {
   "cell_type": "markdown",
   "id": "ccf516ba-86a6-45e1-ba06-f59d3f8d1e57",
   "metadata": {},
   "source": [
    "# DWT (1D): DT ANALYSIS FILTER $\\rightarrow \\downarrow 2$\n",
    "- **Keras**\n",
    "\n",
    "[=] $IN_{rank3tensor}\\rightarrow$ DWT ANALYSIS FILTER $\\rightarrow \\downarrow2$  $\\rightarrow OUT_{rank3tensor}$ \n",
    "\n",
    "[=]  Forward Transform Layer for a rank 3 tensor\n",
    "\n",
    "[+]  Rank 3 INPUT TENSOR $B\\times N\\times 1$ (batch_size:b, input_len=N, channels:1)\n",
    "\n",
    "[=]  $h_{0}[n]$, $h_{1}[n]$ realization for tensor procssing\n",
    "\n",
    "[+]  1D CONVOLUTION: USING 1D DWT ANALYSIS FILTER impulse responses \n",
    "\n",
    "[+]  OTHOGONAL WAVELET FAMILES (db/sym/coif)\n",
    "\n",
    "[=]  For DWT of vectors (1D)\n",
    "\n",
    "[?]  $B\\times N\\times ?channel$  -do-            (batch_size:$B$, input_len=$N$, channels:$?multiple!!$)\n",
    "\n",
    "<br />\n",
    "    \n",
    "--- \n",
    "Kishore Kr. Tarafdar, --@k 10/07/2022\n",
    "\n",
    "<br />\n",
    "<br />\n",
    "\n",
    "COMPATIBLE WAVELETS:"
   ]
  },
  {
   "cell_type": "raw",
   "id": "db8caa5a",
   "metadata": {},
   "source": [
    "haar family: haar\n",
    "\n",
    "db family: db1, db2, db3, db4, db5, db6, db7, db8, db9, db10, db11, db12, db13, db14, db15, db16, db17, db18, db19, db20, db21, db22, db23, db24, db25, db26, db27, db28, db29, db30, db31, db32, db33, db34, db35, db36, db37, db38\n",
    "\n",
    "sym family: sym2, sym3, sym4, sym5, sym6, sym7, sym8, sym9, sym10, sym11, sym12, sym13, sym14, sym15, sym16, sym17, sym18, sym19, sym20\n",
    "\n",
    "coif family: coif1, coif2, coif3, coif4, coif5, coif6, coif7, coif8, coif9, coif10, coif11, coif12, coif13, coif14, coif15, coif16, coif17"
   ]
  },
  {
   "cell_type": "markdown",
   "id": "0b55b61f-84e8-43d2-b390-f06465446fe2",
   "metadata": {},
   "source": [
    "<br />\n",
    "<br />\n",
    "<br />\n",
    "<br />\n",
    "\n",
    "---"
   ]
  },
  {
   "cell_type": "code",
   "execution_count": 1,
   "id": "3defbe18",
   "metadata": {},
   "outputs": [
    {
     "name": "stderr",
     "output_type": "stream",
     "text": [
      "2022-09-26 03:33:53.879162: W tensorflow/stream_executor/platform/default/dso_loader.cc:64] Could not load dynamic library 'libcudart.so.11.0'; dlerror: libcudart.so.11.0: cannot open shared object file: No such file or directory\n",
      "2022-09-26 03:33:53.879204: I tensorflow/stream_executor/cuda/cudart_stub.cc:29] Ignore above cudart dlerror if you do not have a GPU set up on your machine.\n"
     ]
    }
   ],
   "source": [
    "import tensorflow as tf\n",
    "import tensorflow.keras as keras\n",
    "import keras.layers as layers\n",
    "from keras.layers import Lambda\n",
    "import numpy as np\n",
    "import import_ipynb"
   ]
  },
  {
   "cell_type": "code",
   "execution_count": 2,
   "id": "40ef6af9-3357-4991-b321-3b095c1f431e",
   "metadata": {},
   "outputs": [],
   "source": [
    "## List of Lists to a List \n",
    "LOL2L = lambda LOL:np.array([_ for sublist in LOL for _ in sublist])\n",
    "\n",
    "## Relative error: Assign True as 1 and False as 0 in a list, sum up and divide by length of list\n",
    "err = lambda p: np.sum([1 if _==False else 0 for _ in list(p)])/len(p) "
   ]
  },
  {
   "cell_type": "raw",
   "id": "1b167493-5a5b-4c25-920c-d80889a59a4a",
   "metadata": {},
   "source": [
    "pwd"
   ]
  },
  {
   "cell_type": "markdown",
   "id": "59e91ea9-8d74-4ade-8524-a382bc692d90",
   "metadata": {
    "tags": []
   },
   "source": [
    "<br />\n",
    "<br />\n",
    "\n",
    "## 1D Conv. layer\n",
    "- DT filter layer\n",
    "$$\\rightarrow h[n] \\rightarrow$$ "
   ]
  },
  {
   "cell_type": "code",
   "execution_count": 3,
   "id": "c8597f32",
   "metadata": {},
   "outputs": [],
   "source": [
    "class DWTConv1DLayer(layers.Conv1D):\n",
    "    \"\"\"DWT (1D) conv. layer, filtering only --@k\"\"\"\n",
    "    def convolution_op(self, inputs, kernel):\n",
    "        return tf.nn.conv1d(inputs,\n",
    "            kernel,\n",
    "            padding=\"VALID\",\n",
    "            stride=list(self.strides),\n",
    "            name=self.__class__.__name__,\n",
    "        )"
   ]
  },
  {
   "cell_type": "markdown",
   "id": "cd6e0f79",
   "metadata": {},
   "source": [
    "## 2BPRFB Analysis branch (DWT)\n",
    "- Filter and downsample by 2 layer\n",
    "\n",
    "$$\\rightarrow h[n] \\rightarrow \\downarrow 2 \\rightarrow $$"
   ]
  },
  {
   "cell_type": "code",
   "execution_count": 4,
   "id": "612dadd9",
   "metadata": {},
   "outputs": [],
   "source": [
    "# Filter and downsample by 2 ---all in 1\n",
    "class AnalysisBranch1D(keras.layers.Layer):\n",
    "    \"\"\"DWT analysis branch: DT Filter and downsample by 2 --@k\"\"\"\n",
    "    def __init__(self, hn:list): \n",
    "        super(AnalysisBranch1D, self).__init__()\n",
    "        \n",
    "        filt_len = len(hn)\n",
    "        paddings = tf.constant([[0,0], [filt_len - 1, filt_len - 1],[0,0]])\n",
    "        \n",
    "        #filter: kernel initializer\n",
    "        self.h = tf.keras.initializers.Constant(hn)\n",
    "        \n",
    "        #layers\n",
    "        self.pad = Lambda(lambda x: tf.pad(x, paddings, \"SYMMETRIC\"))\n",
    "        self.dwt_filter = DWTConv1DLayer(1, kernel_size=filt_len, kernel_initializer=self.h, trainable=False) \n",
    "        self.downsample2 = Lambda(lambda x: x[:,1::2])\n",
    "\n",
    "    def call(self, inputs):\n",
    "        x = self.pad(inputs)\n",
    "        x = self.dwt_filter(x)\n",
    "        x = self.downsample2(x)\n",
    "        return x#self.downsample(x)"
   ]
  }
 ],
 "metadata": {
  "kernelspec": {
   "display_name": "Python 3",
   "language": "python",
   "name": "python3"
  },
  "language_info": {
   "codemirror_mode": {
    "name": "ipython",
    "version": 3
   },
   "file_extension": ".py",
   "mimetype": "text/x-python",
   "name": "python",
   "nbconvert_exporter": "python",
   "pygments_lexer": "ipython3",
   "version": "3.8.8"
  },
  "varInspector": {
   "cols": {
    "lenName": 16,
    "lenType": 16,
    "lenVar": 40
   },
   "kernels_config": {
    "python": {
     "delete_cmd_postfix": "",
     "delete_cmd_prefix": "del ",
     "library": "var_list.py",
     "varRefreshCmd": "print(var_dic_list())"
    },
    "r": {
     "delete_cmd_postfix": ") ",
     "delete_cmd_prefix": "rm(",
     "library": "var_list.r",
     "varRefreshCmd": "cat(var_dic_list()) "
    }
   },
   "types_to_exclude": [
    "module",
    "function",
    "builtin_function_or_method",
    "instance",
    "_Feature"
   ],
   "window_display": false
  }
 },
 "nbformat": 4,
 "nbformat_minor": 5
}
