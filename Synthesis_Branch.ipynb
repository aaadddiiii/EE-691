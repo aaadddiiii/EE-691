{
 "cells": [
  {
   "cell_type": "markdown",
   "id": "4be48e54",
   "metadata": {},
   "source": [
    "# IDWT (1D): $\\uparrow 2 \\rightarrow$ DT SYNTHESIS FILTER \n",
    "- **Keras**\n",
    "\n",
    "[=] $IN_{rank3tensor}\\rightarrow \\uparrow 2 \\rightarrow$ DWT DT SYNTHESIS FILTER $\\rightarrow OUT_{rank3tensor}$ \n",
    "\n",
    "[=] 1D Reconstruction/ DECODER/ SYNTHESIS filter (input rank 3 tensor) \n",
    "\n",
    "[=]  Inverse Transform Layer for a rank 3 tensor\n",
    "\n",
    "[+]  Rank 3 INPUT TENSOR $B\\times N\\times 1$ (bs:B, vec_dim:N, ch:1)\n",
    "\n",
    "[=]  $g_{0}[n]$, $g_{1}[n]$ realization for $B\\times N\\times 1$ tensor procssing\n",
    "\n",
    "[+]  1D CONVOLUTION: USING 1D DWT ANALYSIS FILTER impulse responses \n",
    "\n",
    "[+]  OTHOGONAL WAVELET FAMILES (db/sym/coif)\n",
    "\n",
    "[=]  For IDWT of vectors (1D)\n",
    "\n",
    "[?]  $B\\times N\\times ?$  -do-                 (batch_size:$B$, image_dim=$N$, channels:$multiple !!$)\n",
    "\n",
    "<br />\n",
    "\n",
    "--- \n",
    "Kishore Kr. Tarafdar, \n",
    "--@k 17/07/2022\n",
    "\n",
    "COMPATIBLE WAVELETS:"
   ]
  },
  {
   "cell_type": "raw",
   "id": "db8caa5a",
   "metadata": {},
   "source": [
    "haar family: haar\n",
    "\n",
    "db family: db1, db2, db3, db4, db5, db6, db7, db8, db9, db10, db11, db12, db13, db14, db15, db16, db17, db18, db19, db20, db21, db22, db23, db24, db25, db26, db27, db28, db29, db30, db31, db32, db33, db34, db35, db36, db37, db38\n",
    "\n",
    "sym family: sym2, sym3, sym4, sym5, sym6, sym7, sym8, sym9, sym10, sym11, sym12, sym13, sym14, sym15, sym16, sym17, sym18, sym19, sym20\n",
    "\n",
    "coif family: coif1, coif2, coif3, coif4, coif5, coif6, coif7, coif8, coif9, coif10, coif11, coif12, coif13, coif14, coif15, coif16, coif17"
   ]
  },
  {
   "cell_type": "markdown",
   "id": "9624a991-0fee-4952-ba12-c7bab938660a",
   "metadata": {},
   "source": [
    "<br />\n",
    "<br />\n",
    "<br />\n",
    "<br />\n",
    "\n",
    "---"
   ]
  },
  {
   "cell_type": "code",
   "execution_count": 1,
   "id": "3defbe18",
   "metadata": {},
   "outputs": [
    {
     "name": "stderr",
     "output_type": "stream",
     "text": [
      "2022-09-26 04:04:10.487633: W tensorflow/stream_executor/platform/default/dso_loader.cc:64] Could not load dynamic library 'libcudart.so.11.0'; dlerror: libcudart.so.11.0: cannot open shared object file: No such file or directory\n",
      "2022-09-26 04:04:10.487671: I tensorflow/stream_executor/cuda/cudart_stub.cc:29] Ignore above cudart dlerror if you do not have a GPU set up on your machine.\n"
     ]
    }
   ],
   "source": [
    "import tensorflow as tf\n",
    "import tensorflow.keras as keras\n",
    "import keras.layers as layers\n",
    "from keras.layers import Conv1D\n",
    "import numpy as np\n",
    "from keras.layers import Lambda\n",
    "import import_ipynb"
   ]
  },
  {
   "cell_type": "markdown",
   "id": "be646bb7",
   "metadata": {},
   "source": [
    "<br />\n",
    "<br />\n",
    "<br />\n",
    "<br />\n",
    "\n",
    "----\n",
    "## 2BPRFB Synthesis branch (IDWT)\n",
    "- Upsample by 2 and Filter layer\n",
    "\n",
    "$$ \\rightarrow \\uparrow 2 \\rightarrow g[n] \\rightarrow $$"
   ]
  },
  {
   "cell_type": "code",
   "execution_count": 2,
   "id": "6a14fea4",
   "metadata": {},
   "outputs": [],
   "source": [
    "import tensorflow as tf\n",
    "#from keras.layers import UpSampling1D\n",
    "#from keras.layers import Multiply\n",
    "class SynthesisBranch1D(keras.layers.Layer):\n",
    "    \"\"\"1D IDWT/ Synthesis Layer ---upsample2 (zerostuffing) + FILTER --@k\"\"\"\n",
    "    def __init__(self, hn:list): \n",
    "        super(SynthesisBranch1D, self).__init__()\n",
    "        \n",
    "        filt_len = len(hn)\n",
    "        paddings = tf.constant([[0,0], [filt_len - 1, filt_len - 1],[0,0]])\n",
    "        \n",
    "        #+idwt filter: kernel initializer\n",
    "        self.h = tf.keras.initializers.Constant(hn)\n",
    "        \n",
    "        #+ Padding + Conv. layers\n",
    "        self.pad = Lambda(lambda x: tf.pad(x, paddings, \"SYMMETRIC\"))\n",
    "        #self.idwt_filter = DWTConv1DLayer(1, kernel_size=filt_len, kernel_initializer=self.h, trainable=False) \n",
    "        self.idwt_filter = Conv1D(1, kernel_size=filt_len, kernel_initializer=self.h, trainable=False) #same\n",
    "        \n",
    "\n",
    "    def call(self, inputs):\n",
    "        \n",
    "        #+ UPSAMPLE\n",
    "        x = tf.keras.layers.UpSampling1D(size=2)(inputs)\n",
    "        print(x.shape[1], type(x.shape[1]),'ups+')\n",
    "               \n",
    "        #+ ZERO STUFFING LAYER\n",
    "        c = tf.constant([[1] if i%2==0 else [0] for i in range(x.shape[1])],dtype=tf.float32)\n",
    "        print(c.shape, x.shape) \n",
    "        x = Lambda(lambda x: x * c)(x)\n",
    "        print(x.shape, '<')\n",
    "        \n",
    "        # symmetric pad (+pywt compatible) and filter 'x'\n",
    "        x = self.pad(x)\n",
    "        y = self.idwt_filter(x)\n",
    "        \n",
    "        return y#self.downsample(x)\n"
   ]
  }
 ],
 "metadata": {
  "kernelspec": {
   "display_name": "Python 3",
   "language": "python",
   "name": "python3"
  },
  "language_info": {
   "codemirror_mode": {
    "name": "ipython",
    "version": 3
   },
   "file_extension": ".py",
   "mimetype": "text/x-python",
   "name": "python",
   "nbconvert_exporter": "python",
   "pygments_lexer": "ipython3",
   "version": "3.8.8"
  },
  "varInspector": {
   "cols": {
    "lenName": 16,
    "lenType": 16,
    "lenVar": 40
   },
   "kernels_config": {
    "python": {
     "delete_cmd_postfix": "",
     "delete_cmd_prefix": "del ",
     "library": "var_list.py",
     "varRefreshCmd": "print(var_dic_list())"
    },
    "r": {
     "delete_cmd_postfix": ") ",
     "delete_cmd_prefix": "rm(",
     "library": "var_list.r",
     "varRefreshCmd": "cat(var_dic_list()) "
    }
   },
   "types_to_exclude": [
    "module",
    "function",
    "builtin_function_or_method",
    "instance",
    "_Feature"
   ],
   "window_display": false
  }
 },
 "nbformat": 4,
 "nbformat_minor": 5
}
