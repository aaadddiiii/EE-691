{
 "cells": [
  {
   "cell_type": "markdown",
   "id": "57d5ee09-27cd-4fd1-9483-08188d12b1fe",
   "metadata": {},
   "source": [
    "# Convoltion (1D), Batch Normalization and Mish activation \n",
    "- Keras Layer (3 operations)\n",
    "\n",
    "---\n",
    "\n",
    "Kishore Kr. Tarafdar, --@k 23/06/2022\n",
    "\n",
    "<br />\n",
    "<br />"
   ]
  },
  {
   "cell_type": "code",
   "execution_count": 1,
   "id": "2ebfc793-9e31-42f4-931f-295a896f73a8",
   "metadata": {},
   "outputs": [
    {
     "name": "stderr",
     "output_type": "stream",
     "text": [
      "2022-09-26 08:55:50.434195: W tensorflow/stream_executor/platform/default/dso_loader.cc:64] Could not load dynamic library 'libcudart.so.11.0'; dlerror: libcudart.so.11.0: cannot open shared object file: No such file or directory\n",
      "2022-09-26 08:55:50.434233: I tensorflow/stream_executor/cuda/cudart_stub.cc:29] Ignore above cudart dlerror if you do not have a GPU set up on your machine.\n"
     ]
    }
   ],
   "source": [
    "import tensorflow as tf\n",
    "import tensorflow.keras as keras\n",
    "import keras.layers as layers\n",
    "#from keras.layers import Lambda\n",
    "#import numpy as np\n",
    "import import_ipynb"
   ]
  },
  {
   "cell_type": "code",
   "execution_count": 2,
   "id": "6840c5fa-8a14-402a-b2bb-aa4f75218576",
   "metadata": {},
   "outputs": [
    {
     "name": "stdout",
     "output_type": "stream",
     "text": [
      "importing Jupyter notebook from Mish.ipynb\n"
     ]
    }
   ],
   "source": [
    "from keras.layers import Conv1D\n",
    "from keras.layers import BatchNormalization\n",
    "from Mish import Mish"
   ]
  },
  {
   "cell_type": "code",
   "execution_count": 3,
   "id": "f268ba53-d795-4489-8caa-7451959ce487",
   "metadata": {},
   "outputs": [],
   "source": [
    "## 1D CONV -> BN -> ACTIVATION \n",
    "class Conv1DBNMish(keras.layers.Layer):\n",
    "    \"\"\"1D convolution, Batch Normalization and Mish activation Layers --@k\"\"\"\n",
    "    def __init__(self, filters, kernel_size):\n",
    "        super(Conv1DBNMish, self).__init__()\n",
    "        \n",
    "        # layers\n",
    "        self.conv1D = Conv1D(filters=filters, kernel_size=kernel_size, padding='same')#, name='conv_1')\n",
    "        self.BN = BatchNormalization()#(name='norm_1')\n",
    "        self.Mish = Mish()\n",
    "\n",
    "    def call(self, inputs):\n",
    "        x = self.conv1D(inputs)\n",
    "        x = self.BN(x)\n",
    "        return self.Mish(x)"
   ]
  },
  {
   "cell_type": "code",
   "execution_count": 4,
   "id": "e27ada66-d773-4da3-aae5-30da564e9e3f",
   "metadata": {},
   "outputs": [
    {
     "name": "stdout",
     "output_type": "stream",
     "text": [
      "Model: \"Conv1D_BN_Mish\"\n",
      "_________________________________________________________________\n",
      " Layer (type)                Output Shape              Param #   \n",
      "=================================================================\n",
      " conv1dbn_mish (Conv1DBNMish  (None, 512, 32)          256       \n",
      " )                                                               \n",
      "                                                                 \n",
      " conv1dbn_mish_1 (Conv1DBNMi  (None, 512, 16)          1616      \n",
      " sh)                                                             \n",
      "                                                                 \n",
      "=================================================================\n",
      "Total params: 1,872\n",
      "Trainable params: 1,776\n",
      "Non-trainable params: 96\n",
      "_________________________________________________________________\n"
     ]
    },
    {
     "name": "stderr",
     "output_type": "stream",
     "text": [
      "2022-09-26 08:55:54.153758: W tensorflow/stream_executor/platform/default/dso_loader.cc:64] Could not load dynamic library 'libcuda.so.1'; dlerror: libcuda.so.1: cannot open shared object file: No such file or directory\n",
      "2022-09-26 08:55:54.153808: W tensorflow/stream_executor/cuda/cuda_driver.cc:269] failed call to cuInit: UNKNOWN ERROR (303)\n",
      "2022-09-26 08:55:54.153848: I tensorflow/stream_executor/cuda/cuda_diagnostics.cc:156] kernel driver does not appear to be running on this host (L3460): /proc/driver/nvidia/version does not exist\n",
      "2022-09-26 08:55:54.154328: I tensorflow/core/platform/cpu_feature_guard.cc:151] This TensorFlow binary is optimized with oneAPI Deep Neural Network Library (oneDNN) to use the following CPU instructions in performance-critical operations:  AVX2 FMA\n",
      "To enable them in other operations, rebuild TensorFlow with the appropriate compiler flags.\n"
     ]
    }
   ],
   "source": [
    "if __name__=='__main__':\n",
    "    input_shape = (512,1)\n",
    "    T = keras.Sequential(\n",
    "        [\n",
    "            keras.layers.InputLayer(input_shape=input_shape),\n",
    "            Conv1DBNMish(filters=32, kernel_size=3), \n",
    "            Conv1DBNMish(filters=16, kernel_size=3) \n",
    "        ], name='Conv1D_BN_Mish')\n",
    "    T.summary()"
   ]
  }
 ],
 "metadata": {
  "kernelspec": {
   "display_name": "Python 3",
   "language": "python",
   "name": "python3"
  },
  "language_info": {
   "codemirror_mode": {
    "name": "ipython",
    "version": 3
   },
   "file_extension": ".py",
   "mimetype": "text/x-python",
   "name": "python",
   "nbconvert_exporter": "python",
   "pygments_lexer": "ipython3",
   "version": "3.8.8"
  }
 },
 "nbformat": 4,
 "nbformat_minor": 5
}
